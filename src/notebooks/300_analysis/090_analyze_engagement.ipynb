{
 "cells": [
  {
   "cell_type": "markdown",
   "metadata": {},
   "source": [
    "# Analysis SUSO outreach letters\n",
    "\n",
    "This notebook analyzes the automated letters sent to a random assignment of SUSO-eligible families increase the rate at which those families engage with SUSO CBOs. \n",
    "\n",
    "**Dependent variables. **\n",
    "The dependent variable is the binary flag in ETO indicating whether a CBO has obtained written consent to “engage” a family in order to provide support. Engagement occurs when a guardian in a family provides written consent for CBO assistance. The engagement rate across the entire SUSO program was 7.4% in 2016. \n",
    "\n",
    "**Primary Hypotheses.  **\n",
    "The primary hypothesis is that families who receive a letter will be more likely to “engage” with the CBO to seek services than those who do not receive a letter.  \n",
    "\n",
    "**Statistical analysis. **\n",
    "We will employ a standard Bayesian analysis to test the hypothesis that subjects in the treatment arm (receiving a letter) are more likely to engage with CBOs than subjects in the control arm (not receiving a letter). This analysis is described in Appendix B. We will also estimate the size of the effect including the distribution of uncertainty around that effect size. We will estimate the range of odds of our model being correct across 10,000 simulations from the posterior. See Appendix B. \n",
    "\n",
    "**Secondary Analyses/Exploratory Analyses. **\n",
    "There may be heterogeneous treatment effects across CBOs and schools. Although the sample is likely too small, we will attempt to assess such effects. \n",
    "\n",
    "If attendance data becomes available over the course of the pilot, we will add attendance as another dependent variable. \n",
    "\n",
    "See OSF registration here: https://docs.google.com/document/d/1RiiKCyvuKdHwQCh4UuodwT8DFwJ4_szHAT7IeHISckI/edit#heading=h.v7amrmv0sovo\n"
   ]
  },
  {
   "cell_type": "code",
   "execution_count": null,
   "metadata": {},
   "outputs": [],
   "source": [
    "import geopandas as gpd\n",
    "import numpy as np\n",
    "import pandas as pd\n",
    "import seaborn as sns\n",
    "from matplotlib import pyplot as plt\n",
    "from pyproj import CRS\n",
    "from scipy import stats\n",
    "\n",
    "%matplotlib inline\n",
    "\n",
    "pd.set_option(\"display.max_rows\", 500)\n",
    "\n",
    "from suso import ab_test\n",
    "from suso.utils import here"
   ]
  },
  {
   "cell_type": "code",
   "execution_count": null,
   "metadata": {},
   "outputs": [],
   "source": [
    "DATA_DIR = here(\"data\")\n",
    "OUTPUT_DIR = here(\"output\")"
   ]
  },
  {
   "cell_type": "markdown",
   "metadata": {},
   "source": [
    "# load data\n",
    "\n",
    "Load prior to analysis"
   ]
  },
  {
   "cell_type": "code",
   "execution_count": null,
   "metadata": {},
   "outputs": [],
   "source": [
    "df = pd.read_csv(DATA_DIR / \"data_for_analysis.csv\")\n",
    "bounced = pd.read_csv(DATA_DIR / \"returned_letters.csv\")\n",
    "bounced = bounced.drop_duplicates(\"CLID\", keep=\"first\")"
   ]
  },
  {
   "cell_type": "code",
   "execution_count": null,
   "metadata": {},
   "outputs": [],
   "source": [
    "suso = pd.read_csv(DATA_DIR / \"suso_participants.csv\")\n",
    "suso[\"in_suso\"] = True"
   ]
  },
  {
   "cell_type": "code",
   "execution_count": null,
   "metadata": {},
   "outputs": [],
   "source": [
    "df_suso = df.merge(\n",
    "    suso[[\"CLID\", \"DateEngaged\", \"DateNotEngaged\", \"in_suso\"]], how=\"left\", on=\"CLID\"\n",
    ")\n",
    "print(df_suso.DateEngaged.notnull().sum() / df_suso.shape[0])\n",
    "print(df_suso.DateNotEngaged.notnull().sum() / df_suso.shape[0])"
   ]
  },
  {
   "cell_type": "code",
   "execution_count": null,
   "metadata": {},
   "outputs": [],
   "source": [
    "print(suso.CurrentReferralStatus.value_counts(normalize=True))"
   ]
  },
  {
   "cell_type": "code",
   "execution_count": null,
   "metadata": {},
   "outputs": [],
   "source": [
    "df_suso[\"engaged_full\"] = df_suso.DateEngaged.notnull() | df_suso.engaged"
   ]
  },
  {
   "cell_type": "code",
   "execution_count": null,
   "metadata": {},
   "outputs": [],
   "source": [
    "df_suso[\"referral_dt\"] = pd.to_datetime(df_suso.referral_date)\n",
    "df_suso[\"engaged_dt\"] = pd.to_datetime(df_suso.DateEngaged)"
   ]
  },
  {
   "cell_type": "code",
   "execution_count": null,
   "metadata": {},
   "outputs": [],
   "source": [
    "df_suso[\"days_to_engage\"] = (df_suso.engaged_dt - df_suso.referral_dt).dt.days\n",
    "df_suso[\"engaged_14days\"] = (df_suso.days_to_engage >= -1) & (\n",
    "    df_suso.days_to_engage <= 14\n",
    ")\n",
    "\n",
    "print(df_suso[\"engaged\"].sum())\n",
    "print(df_suso[\"engaged_14days\"].sum())\n",
    "print(df_suso[\"engaged\"].sum() / df_suso.shape[0])\n",
    "print(df_suso[\"engaged_14days\"].sum() / df_suso.shape[0])"
   ]
  },
  {
   "cell_type": "markdown",
   "metadata": {},
   "source": [
    "## Test for effect of the letters with strict ITT"
   ]
  },
  {
   "cell_type": "code",
   "execution_count": null,
   "metadata": {},
   "outputs": [],
   "source": [
    "def perform_analysis(control_df, treatment_df, analysis_col):\n",
    "    control_outcome = control_df[analysis_col]\n",
    "    treatment_outcome = treatment_df[analysis_col]\n",
    "\n",
    "    print(\"Number in control:\", len(control_outcome))\n",
    "    print(\"Number in treatment:\", len(treatment_outcome))\n",
    "\n",
    "    successes_a = control_outcome.sum()\n",
    "    failures_a = len(control_outcome) - successes_a\n",
    "    successes_b = treatment_outcome.sum()\n",
    "    failures_b = len(treatment_outcome) - successes_b\n",
    "\n",
    "    base_rate = successes_a / len(control_outcome)\n",
    "    treatment_rate = successes_b / len(treatment_outcome)\n",
    "\n",
    "    num_participants = len(df_suso)\n",
    "\n",
    "    print(ab_test.degree_of_certainty(successes_a, failures_a, successes_b, failures_b))\n",
    "\n",
    "    print(\"Number control engaged:\", successes_a)\n",
    "    print(\"Number treatment engaged:\", successes_b)\n",
    "\n",
    "    print(\"Percent control engaged:\", base_rate)\n",
    "    print(\"Percent treatment engaged:\", treatment_rate)\n",
    "\n",
    "    return successes_a, failures_a, successes_b, failures_b"
   ]
  },
  {
   "cell_type": "code",
   "execution_count": null,
   "metadata": {},
   "outputs": [],
   "source": [
    "perform_analysis(\n",
    "    df_suso[df_suso.is_treatment == False],\n",
    "    df_suso[df_suso.is_treatment == True],\n",
    "    \"engaged_full\",\n",
    ")"
   ]
  },
  {
   "cell_type": "code",
   "execution_count": null,
   "metadata": {},
   "outputs": [],
   "source": [
    "successes_a, failures_a, successes_b, failures_b = perform_analysis(\n",
    "    df_suso[df_suso.is_treatment == False],\n",
    "    df_suso[df_suso.is_treatment == True],\n",
    "    \"engaged_14days\",\n",
    ")\n",
    "\n",
    "size = 100000\n",
    "beta_c = np.random.beta(successes_a, failures_a, size=size)\n",
    "beta_t = np.random.beta(successes_b, failures_b, size=size)\n",
    "\n",
    "posterior = beta_t - beta_c\n",
    "posterior.sort()\n",
    "\n",
    "ci95 = posterior[int(len(posterior) * 0.9)]\n",
    "ci05 = posterior[0]\n",
    "print(ci05, ci95)\n",
    "\n",
    "bins = np.linspace(posterior[0], posterior[-1], 101)\n",
    "bottom95 = bins[:-1] < ci95\n",
    "top95 = bins[:-1] > ci05\n",
    "ci_mask = top95 & bottom95\n",
    "\n",
    "hist, edges = np.histogram(posterior, bins=bins)\n",
    "plt.plot(bins[:-1], hist, color=\"blue\")\n",
    "plt.fill_between(\n",
    "    np.linspace(ci05, ci95, len(hist[ci_mask])),\n",
    "    np.zeros(len(hist[ci_mask])),\n",
    "    hist[ci_mask],\n",
    "    facecolor=\"blue\",\n",
    "    alpha=0.5,\n",
    ")\n",
    "plt.axvline(x=0, linestyle=\"--\", color=\"black\")\n",
    "plt.ylim([0, 4000])\n",
    "plt.yticks([])\n",
    "plt.title(\"SUSO Outreach Letter Treatment Effect\")\n",
    "plt.savefig(OUTPUT_DIR / \"posterior.png\", bbox_inches=\"tight\")"
   ]
  },
  {
   "cell_type": "code",
   "execution_count": null,
   "metadata": {},
   "outputs": [],
   "source": [
    "plt.boxplot([beta_c, beta_t], showfliers=False)\n",
    "plt.xticks([1, 2], [\"No Letter\", \"Letter\"])\n",
    "plt.title(\"Engagement Rates for SUSO-Eligible Families\")\n",
    "plt.ylabel(\"Percent Engaged in SUSO\")\n",
    "plt.savefig(OUTPUT_DIR / \"engagement_boxplot.png\", bbox_inches=\"tight\")"
   ]
  },
  {
   "cell_type": "code",
   "execution_count": null,
   "metadata": {},
   "outputs": [],
   "source": [
    "plt.plot([0.2, 0.8], [np.mean(beta_c), np.mean(beta_t)], \"o\", color=\"black\")\n",
    "plt.plot(\n",
    "    [0.2, 0.2],\n",
    "    [pd.Series(beta_c).mean(), pd.Series(beta_c).quantile(0.975)],\n",
    "    color=\"black\",\n",
    ")\n",
    "plt.plot(\n",
    "    [0.2, 0.2],\n",
    "    [pd.Series(beta_c).mean(), pd.Series(beta_c).quantile(0.025)],\n",
    "    color=\"black\",\n",
    ")\n",
    "plt.plot(\n",
    "    [0.8, 0.8],\n",
    "    [pd.Series(beta_t).mean(), pd.Series(beta_t).quantile(0.975)],\n",
    "    color=\"black\",\n",
    ")\n",
    "plt.plot(\n",
    "    [0.8, 0.8],\n",
    "    [pd.Series(beta_t).mean(), pd.Series(beta_t).quantile(0.025)],\n",
    "    color=\"black\",\n",
    ")\n",
    "plt.xlim(0, 1)\n",
    "plt.xticks([0.2, 0.8], [\"No Letter\", \"Letter\"])\n",
    "plt.title(\"Engagement Rates for SUSO-Eligible Families\")\n",
    "plt.ylabel(\"Percent Engaged in SUSO\")\n",
    "plt.savefig(OUTPUT_DIR / \"engagement_rate.png\", bbox_inches=\"tight\")"
   ]
  },
  {
   "cell_type": "markdown",
   "metadata": {},
   "source": [
    "## Taking bounced into consideration"
   ]
  },
  {
   "cell_type": "code",
   "execution_count": null,
   "metadata": {},
   "outputs": [],
   "source": [
    "bounced[\"bounced\"] = True\n",
    "df_bounced = df_suso.merge(bounced, how=\"left\", on=\"CLID\")\n",
    "print(len(df_suso))\n",
    "print(len(df_bounced))"
   ]
  },
  {
   "cell_type": "code",
   "execution_count": null,
   "metadata": {},
   "outputs": [],
   "source": [
    "# We just exclude bounced letters from the treatment\n",
    "perform_analysis(\n",
    "    df_bounced[df_bounced.is_treatment == False],\n",
    "    df_bounced[(df_bounced.is_treatment == True) & (df_bounced.bounced != True)],\n",
    "    \"engaged_14days\",\n",
    ")"
   ]
  },
  {
   "cell_type": "markdown",
   "metadata": {},
   "source": [
    "## Taking Mailing Status into Account"
   ]
  },
  {
   "cell_type": "code",
   "execution_count": null,
   "metadata": {},
   "outputs": [],
   "source": [
    "perform_analysis(\n",
    "    df_suso[df_suso.is_treatment == False],\n",
    "    df_suso[(df_suso.status == \"USPS Indicated Delivered\") & df.is_treatment == True],\n",
    "    \"engaged_14days\",\n",
    ")"
   ]
  },
  {
   "cell_type": "markdown",
   "metadata": {},
   "source": [
    "# ouch!\n",
    "\n",
    "So it looks like there is a very good chance that the letters actually harmed the CBOs ability to engage families. True, the rate is 8.7% v 12.0%, but that's pretty important. Why? There are a bunch of possible explanations, and we should probably explore them each a little for OSF.  Some are just good science checks -- did we get good blocking by CBO?  We'd assume so, since we were trying to block by school.  If we didn't that would be bad. "
   ]
  },
  {
   "cell_type": "markdown",
   "metadata": {},
   "source": [
    "# Explore delivery dates"
   ]
  },
  {
   "cell_type": "code",
   "execution_count": null,
   "metadata": {},
   "outputs": [],
   "source": [
    "df_suso[\"delivery_date\"] = pd.to_datetime(df_suso[\"status_datetime\"]).dt.round(\"D\")\n",
    "df_suso[\"eligibility_date\"] = pd.to_datetime(df_suso[\"referral_date\"]).dt.round(\"D\")\n",
    "df_suso[\"timeliness\"] = df_suso[\"delivery_date\"] - df_suso[\"eligibility_date\"]"
   ]
  },
  {
   "cell_type": "code",
   "execution_count": null,
   "metadata": {},
   "outputs": [],
   "source": [
    "toolate_mask = df_suso.timeliness > pd.Timedelta(days=14)\n",
    "timewarp_mask = df_suso.timeliness < pd.Timedelta(days=0)\n",
    "delivered_mask = df_suso.status == \"USPS Indicated Delivered\""
   ]
  },
  {
   "cell_type": "code",
   "execution_count": null,
   "metadata": {},
   "outputs": [],
   "source": [
    "df_suso.loc[toolate_mask, \"timeliness\"] = pd.Timedelta(days=15)\n",
    "df_suso.loc[timewarp_mask, \"timeliness\"] = pd.Timedelta(days=15)"
   ]
  },
  {
   "cell_type": "code",
   "execution_count": null,
   "metadata": {},
   "outputs": [],
   "source": [
    "(df_suso.loc[delivered_mask, \"timeliness\"] / pd.Timedelta(hours=24)).hist(\n",
    "    bins=np.arange(0, 17, 1)\n",
    ")"
   ]
  },
  {
   "cell_type": "code",
   "execution_count": null,
   "metadata": {},
   "outputs": [],
   "source": [
    "# If your letter arrived too late, just assume you're not part of the treatment\n",
    "df.loc[timewarp_mask | toolate_mask, \"is_treatment\"] = False"
   ]
  },
  {
   "cell_type": "code",
   "execution_count": null,
   "metadata": {},
   "outputs": [],
   "source": [
    "print(\n",
    "    df_suso[\n",
    "        (df_suso.timeliness.dt.days <= 14)\n",
    "        & (df_suso.status == \"USPS Indicated Delivered\")\n",
    "    ].engaged_14days.mean()\n",
    ")\n",
    "print(df_suso[df_suso.is_treatment == True].engaged_14days.mean())"
   ]
  },
  {
   "cell_type": "code",
   "execution_count": null,
   "metadata": {},
   "outputs": [],
   "source": [
    "(\n",
    "    df_suso[df_suso.status == \"USPS Indicated Delivered\"].timeliness\n",
    "    / pd.Timedelta(hours=24)\n",
    ").hist(bins=np.arange(0, 17, 1))"
   ]
  },
  {
   "cell_type": "code",
   "execution_count": null,
   "metadata": {},
   "outputs": [],
   "source": [
    "control = df_suso[\n",
    "    (df_suso.is_treatment == False) & (df_suso.days_to_engage.between(0, 14))\n",
    "]\n",
    "pct_engaged = (\n",
    "    100 * control.groupby(\"days_to_engage\").days_to_engage.count() / control.shape[0]\n",
    ")\n",
    "ax = sns.barplot(x=pct_engaged.index, y=pct_engaged.values, color=\"blue\")\n",
    "ax.set_title(\"Control: Days to Engage\")\n",
    "plt.savefig(OUTPUT_DIR / \"control-days-to-engage.png\", bbox_inches=\"tight\")"
   ]
  },
  {
   "cell_type": "code",
   "execution_count": null,
   "metadata": {},
   "outputs": [],
   "source": [
    "treatment = df_suso[\n",
    "    (df_suso.is_treatment == True) & (df_suso.days_to_engage.between(0, 14))\n",
    "]\n",
    "pct_engaged = (\n",
    "    100\n",
    "    * treatment.groupby(\"days_to_engage\").days_to_engage.count()\n",
    "    / treatment.shape[0]\n",
    ")\n",
    "ax = sns.barplot(x=pct_engaged.index, y=pct_engaged.values, color=\"blue\")\n",
    "ax.set_title(\"Treatment: Days to Engage\")\n",
    "plt.savefig(OUTPUT_DIR / \"treatment-days-to-engage.png\", bbox_inches=\"tight\")"
   ]
  },
  {
   "cell_type": "code",
   "execution_count": null,
   "metadata": {},
   "outputs": [],
   "source": [
    "for site in np.sort(df_suso[df_suso.is_treatment.notnull()].site_name.unique()):\n",
    "    n_gaged = (\n",
    "        df_suso[(df_suso.site_name == site) & (df_suso.engaged_14days)]\n",
    "        .groupby(\"days_to_engage\")\n",
    "        .CLID.count()\n",
    "    )\n",
    "    ax = sns.barplot(x=n_gaged.index, y=n_gaged.values, color=\"blue\")\n",
    "    ax.set_title(site + \": Days to Engage\")\n",
    "    plt.savefig(\n",
    "        OUTPUT_DIR / (site.replace(\"/\", \"\") + \"-days-to-engage.png\"),\n",
    "        bbox_inches=\"tight\",\n",
    "    )\n",
    "    plt.show()"
   ]
  },
  {
   "cell_type": "markdown",
   "metadata": {},
   "source": [
    "# Explore case management"
   ]
  },
  {
   "cell_type": "code",
   "execution_count": null,
   "metadata": {},
   "outputs": [],
   "source": [
    "size = 10000\n",
    "group = \"site_name\"\n",
    "outcome = \"engaged_14days\"\n",
    "\n",
    "d = {}\n",
    "\n",
    "for site in df_suso[df_suso.is_treatment.notnull()][group].unique():\n",
    "    print(\"\\n\" + site)\n",
    "    df_site = df_suso[df_suso[group] == site].copy()\n",
    "\n",
    "    cntrl = df_site[df_site.is_treatment == False]\n",
    "    trtmt = df_site[df_site.is_treatment == True]\n",
    "\n",
    "    cntrl_a = cntrl[outcome].sum() + 1\n",
    "    cntrl_b = (len(cntrl) - cntrl_a) + 1\n",
    "    trtmt_a = trtmt[outcome].sum() + 1\n",
    "    trtmt_b = (len(trtmt) - trtmt_a) + 1\n",
    "\n",
    "    print(\"Number in control:\", len(cntrl))\n",
    "    print(\"Successes in control:\", cntrl_a)\n",
    "    print(\"Failures in control:\", cntrl_b)\n",
    "    print(\"Number in treatment:\", len(trtmt))\n",
    "    print(\"Successes in treatment:\", trtmt_a)\n",
    "    print(\"Failures in treatment:\", trtmt_b)\n",
    "\n",
    "    cbeta = np.random.beta(cntrl_a, cntrl_b, size=size)\n",
    "    tbeta = np.random.beta(trtmt_a, trtmt_b, size=size)\n",
    "\n",
    "    d[site] = tbeta - cbeta\n",
    "\n",
    "stats.f_oneway(*d.values())"
   ]
  },
  {
   "cell_type": "code",
   "execution_count": null,
   "metadata": {},
   "outputs": [],
   "source": [
    "group = \"site_name\"\n",
    "outcome = \"engaged_14days\"\n",
    "\n",
    "d = dict()\n",
    "\n",
    "for site in df_suso[df_suso.is_treatment.notnull()][group].unique():\n",
    "    print(\"\\n\" + site)\n",
    "    df_site = df_suso[df_suso[group] == site]\n",
    "    perform_analysis(\n",
    "        df_site[df_site.is_treatment == False],\n",
    "        df_site[df_site.is_treatment == True],\n",
    "        outcome,\n",
    "    )"
   ]
  },
  {
   "cell_type": "markdown",
   "metadata": {},
   "source": [
    "## Mapping Site Schools"
   ]
  },
  {
   "cell_type": "code",
   "execution_count": null,
   "metadata": {},
   "outputs": [],
   "source": [
    "public_schools = gpd.read_file(\n",
    "    DATA_DIR / \"Public_Schools.geojson\", crs=CRS(\"epsg:4326\")\n",
    ")[[\"NAME\", \"ADDRESS\", \"geometry\"]]\n",
    "charter_schools = gpd.read_file(\n",
    "    DATA_DIR / \"Charter_Schools.geojson\", crs=CRS(\"epsg:4326\")\n",
    ")[[\"NAME\", \"ADDRESS\", \"geometry\"]]\n",
    "schools = pd.concat((public_schools, charter_schools), axis=0)\n",
    "schools = schools.to_crs(epsg=2248)"
   ]
  },
  {
   "cell_type": "code",
   "execution_count": null,
   "metadata": {},
   "outputs": [],
   "source": [
    "school_locations = pd.read_csv(DATA_DIR / \"school_locations.csv\")\n",
    "school_locations = schools.merge(\n",
    "    school_locations, how=\"inner\", left_on=\"ADDRESS\", right_on=\"address\"\n",
    ")"
   ]
  },
  {
   "cell_type": "code",
   "execution_count": null,
   "metadata": {},
   "outputs": [],
   "source": [
    "df_site_eng = df_suso.groupby([\"site_name\"]).engaged_14days.mean().reset_index()\n",
    "df_sites = df_suso[[\"site_name\", \"school_name\"]].drop_duplicates()\n",
    "df_sites = df_sites.merge(df_site_eng, how=\"left\", on=\"site_name\")\n",
    "geo_sites = school_locations.merge(df_sites, how=\"left\", on=\"school_name\")\n",
    "\n",
    "wards = gpd.read_file(DATA_DIR / \"wards.geojson\", crs=CRS(\"epsg:4326\"))\n",
    "wards = wards.to_crs(epsg=2248)\n",
    "\n",
    "fig, (ax, ax2) = plt.subplots(1, 2, figsize=(20, 10))\n",
    "wards.plot(ax=ax, color=\"lightgrey\", edgecolor=\"black\")\n",
    "geo_sites.plot(\"site_name\", ax=ax)\n",
    "ax.set_aspect(\"equal\")\n",
    "ax.set_xticks([])\n",
    "ax.set_yticks([])\n",
    "\n",
    "wards.plot(ax=ax2, color=\"lightgrey\", edgecolor=\"black\")\n",
    "geo_sites[geo_sites.site_name != \"Boys Town\"].plot(\n",
    "    \"engaged_14days\", cmap=\"hot_r\", ax=ax2\n",
    ")\n",
    "ax2.set_aspect(\"equal\")\n",
    "ax2.set_xticks([])\n",
    "ax2.set_yticks([])\n",
    "\n",
    "cax = fig.add_axes([0.9, 0.2, 0.01, 0.6])\n",
    "sm = plt.cm.ScalarMappable(\n",
    "    cmap=\"hot_r\",\n",
    "    norm=plt.Normalize(\n",
    "        vmin=geo_sites.engaged_14days.min(), vmax=geo_sites.engaged_14days.max()\n",
    "    ),\n",
    ")\n",
    "sm._A = []\n",
    "fig.colorbar(sm, cax=cax)\n",
    "cax.tick_params(labelsize=10)"
   ]
  },
  {
   "cell_type": "code",
   "execution_count": null,
   "metadata": {},
   "outputs": [],
   "source": [
    "df_site_eng = (\n",
    "    df_suso.groupby([\"site_name\", \"school_name\"]).engaged_14days.mean().reset_index()\n",
    ")\n",
    "school_counts = (\n",
    "    pd.DataFrame(df_suso.groupby([\"site_name\", \"school_name\"]).engaged_14days.count())\n",
    "    .reset_index()\n",
    "    .rename(columns={\"engaged_14days\": \"counts\"})\n",
    ")\n",
    "df_sites = df_suso[[\"site_name\", \"school_name\"]].drop_duplicates()\n",
    "df_sites = df_sites.merge(df_site_eng, how=\"left\", on=[\"site_name\", \"school_name\"])\n",
    "df_sites = df_sites.merge(school_counts, how=\"left\", on=[\"site_name\", \"school_name\"])\n",
    "geo_sites = school_locations.merge(df_sites, how=\"left\", on=\"school_name\")\n",
    "\n",
    "wards = gpd.read_file(DATA_DIR / \"wards.geojson\", crs=CRS(\"epsg:4326\"))\n",
    "wards = wards.to_crs(epsg=2248)\n",
    "\n",
    "to_plot = geo_sites[geo_sites.counts > 2]\n",
    "fig, (ax, ax2) = plt.subplots(1, 2, figsize=(20, 10))\n",
    "wards.plot(ax=ax, color=\"lightgrey\", edgecolor=\"black\")\n",
    "to_plot.plot(\"site_name\", ax=ax)\n",
    "ax.set_aspect(\"equal\")\n",
    "ax.set_xticks([])\n",
    "ax.set_yticks([])\n",
    "\n",
    "wards.plot(ax=ax2, color=\"lightgrey\", edgecolor=\"black\")\n",
    "to_plot.plot(\"engaged_14days\", cmap=\"hot_r\", ax=ax2)\n",
    "ax2.set_aspect(\"equal\")\n",
    "ax2.set_xticks([])\n",
    "ax2.set_yticks([])\n",
    "\n",
    "cax = fig.add_axes([0.9, 0.2, 0.01, 0.6])\n",
    "sm = plt.cm.ScalarMappable(\n",
    "    cmap=\"hot_r\",\n",
    "    norm=plt.Normalize(\n",
    "        vmin=to_plot.engaged_14days.min(), vmax=to_plot.engaged_14days.max()\n",
    "    ),\n",
    ")\n",
    "sm._A = []\n",
    "fig.colorbar(sm, cax=cax)\n",
    "cax.tick_params(labelsize=10)"
   ]
  },
  {
   "cell_type": "code",
   "execution_count": null,
   "metadata": {},
   "outputs": [],
   "source": []
  }
 ],
 "metadata": {
  "kernelspec": {
   "display_name": "Python 3 (ipykernel)",
   "language": "python",
   "name": "python3"
  },
  "language_info": {
   "codemirror_mode": {
    "name": "ipython",
    "version": 3
   },
   "file_extension": ".py",
   "mimetype": "text/x-python",
   "name": "python",
   "nbconvert_exporter": "python",
   "pygments_lexer": "ipython3",
   "version": "3.8.6"
  }
 },
 "nbformat": 4,
 "nbformat_minor": 2
}
