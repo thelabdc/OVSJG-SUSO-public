{
 "cells": [
  {
   "cell_type": "code",
   "execution_count": null,
   "source": [
    "import warnings\n",
    "\n",
    "import numpy as np\n",
    "import pandas as pd\n",
    "\n",
    "## graphing\n",
    "from plotnine import *\n",
    "\n",
    "from suso import abtesting\n",
    "from suso.plotting_themes import standard_background\n",
    "from suso.utils import here\n",
    "\n",
    "warnings.filterwarnings(\"ignore\")"
   ],
   "outputs": [],
   "metadata": {}
  },
  {
   "cell_type": "code",
   "execution_count": null,
   "source": [
    "DATA_DIR = here(\"data\")\n",
    "OUTPUT_DIR = here(\"output\")"
   ],
   "outputs": [],
   "metadata": {}
  },
  {
   "cell_type": "code",
   "execution_count": null,
   "source": [
    "def create_plot_ofcertainty(\n",
    "    probs_alldraws,\n",
    "    single_draw_value,\n",
    "    scale_y,\n",
    "    direction,\n",
    "    outcome,\n",
    "    adjust_x=-0.05,\n",
    "    treatment_color=\"#2B4888\",\n",
    "    control_color=\"#444444\",\n",
    "):\n",
    "    prob_df = pd.DataFrame({\"certainty\": probs_alldraws})\n",
    "    plot = (\n",
    "        ggplot(prob_df, aes(x=\"certainty\"))\n",
    "        + geom_density(fill=\"white\", color=treatment_color)\n",
    "        + standard_background\n",
    "        + ylab(\"Density of draws\")\n",
    "        + scale_fill_gradient(low=\"white\", high=\"gray\")\n",
    "        + scale_x_continuous(breaks=np.arange(0, 1, 0.1))\n",
    "        + annotate(\n",
    "            \"text\",\n",
    "            x=single_draw_value + adjust_x,\n",
    "            y=(scale_y / 4) * 3.8,\n",
    "            label=\"Observed degree\\nof certainty:\\n{}\".format(\n",
    "                round(single_draw_value, 3)\n",
    "            ),\n",
    "        )\n",
    "        + xlab(\n",
    "            \"Degree of certainty that treatment students\\nhad {direction} {outcome} than control students\".format(\n",
    "                direction=direction, outcome=outcome\n",
    "            )\n",
    "        )\n",
    "    )\n",
    "    return plot"
   ],
   "outputs": [],
   "metadata": {}
  },
  {
   "cell_type": "markdown",
   "source": [
    "# 1. Load data"
   ],
   "metadata": {}
  },
  {
   "cell_type": "code",
   "execution_count": null,
   "source": [
    "attendance_analytic = pd.read_pickle(DATA_DIR / \"attendance_readyforAB.pkl\")\n",
    "attendance_analytic.head()\n",
    "\n",
    "treat_data = attendance_analytic[attendance_analytic.is_treatment == True].copy()\n",
    "control_data = attendance_analytic[attendance_analytic.is_treatment == False].copy()"
   ],
   "outputs": [],
   "metadata": {}
  },
  {
   "cell_type": "markdown",
   "source": [
    "# 2. A/B testing of binary year-end attendance outcomes"
   ],
   "metadata": {}
  },
  {
   "cell_type": "markdown",
   "source": [
    "## 2.1 Truancy"
   ],
   "metadata": {}
  },
  {
   "cell_type": "markdown",
   "source": [
    "### 2.1.1 One draw version"
   ],
   "metadata": {}
  },
  {
   "cell_type": "code",
   "execution_count": null,
   "source": [
    "outcome_varname = \"truant_indicator\""
   ],
   "outputs": [],
   "metadata": {}
  },
  {
   "cell_type": "code",
   "execution_count": null,
   "source": [
    "successes_treatment = treat_data.usi[treat_data[outcome_varname] == 1].nunique()\n",
    "failures_treatment = treat_data.usi[treat_data[outcome_varname] == 0].nunique()\n",
    "successes_control = control_data.usi[control_data[outcome_varname] == 1].nunique()\n",
    "failures_control = control_data.usi[control_data[outcome_varname] == 0].nunique()\n",
    "\n",
    "truancy_prob_txgreaterthancontrol = abtesting.degree_of_certainty(\n",
    "    successes_control, failures_control, successes_treatment, failures_treatment\n",
    ")\n",
    "truancy_prob_txlessthancontrol = 1 - truancy_prob_txgreaterthancontrol\n",
    "\n",
    "outcome = \"truant\"\n",
    "direction = \"LOWER\"\n",
    "print(f\"Count {outcome} in treatment group {successes_treatment}\")\n",
    "print(\n",
    "    f\"Percent {outcome} in treatment group {successes_treatment / (successes_treatment + failures_treatment) * 100}\"\n",
    ")\n",
    "print(f\"Count {outcome} in control group {successes_control}\")\n",
    "print(\n",
    "    \"Percent {} in control group \".format(outcome)\n",
    "    + str(successes_control / (successes_control + failures_control) * 100)\n",
    ")\n",
    "print(\"--------------------------------\")\n",
    "print(\n",
    "    f\"A/B test single draw prob. that treatment group had {direction} rate than control group: {truancy_prob_txlessthancontrol}\"\n",
    ")"
   ],
   "outputs": [],
   "metadata": {}
  },
  {
   "cell_type": "code",
   "execution_count": null,
   "source": [
    "num_treatment = successes_treatment + failures_treatment\n",
    "num_control = successes_control + failures_control\n",
    "base_rate = successes_control / num_control\n",
    "treatment_rate = successes_treatment / num_treatment\n",
    "\n",
    "(\n",
    "    truancy_prob_txlessthancontrol_perc,\n",
    "    truancy_prob_txlessthancontrol_alldraws,\n",
    "    truancy_posterior,\n",
    ") = abtesting.degree_of_certainty_draws_forwriteup(\n",
    "    base_rate=base_rate,\n",
    "    treatment_rate=treatment_rate,\n",
    "    successes_control=successes_control,\n",
    "    successes_treatment=successes_treatment,\n",
    "    failures_control=failures_control,\n",
    "    failures_treatment=failures_treatment,\n",
    "    num_control=num_control,\n",
    "    num_treatment=num_treatment,\n",
    "    num_draws=10000,\n",
    "    tx_greater=False,\n",
    ")"
   ],
   "outputs": [],
   "metadata": {}
  },
  {
   "cell_type": "code",
   "execution_count": null,
   "source": [
    "certainty_truancy = create_plot_ofcertainty(\n",
    "    probs_alldraws=truancy_prob_txlessthancontrol_alldraws,\n",
    "    single_draw_value=truancy_prob_txlessthancontrol,\n",
    "    scale_y=2,\n",
    "    direction=\"lower\",\n",
    "    outcome=\"year-end truancy\",\n",
    ")\n",
    "ggsave(\n",
    "    certainty_truancy,\n",
    "    OUTPUT_DIR / \"certainty_truancy.pdf\",\n",
    "    width=12,\n",
    "    height=8,\n",
    ")"
   ],
   "outputs": [],
   "metadata": {}
  },
  {
   "cell_type": "markdown",
   "source": [
    "## 2.2 Chronic absenteeism"
   ],
   "metadata": {}
  },
  {
   "cell_type": "markdown",
   "source": [
    "### 2.2.1 One draw version"
   ],
   "metadata": {}
  },
  {
   "cell_type": "code",
   "execution_count": null,
   "source": [
    "outcome_varname = \"chronicabsent_indicator\""
   ],
   "outputs": [],
   "metadata": {}
  },
  {
   "cell_type": "code",
   "execution_count": null,
   "source": [
    "successes_treatment = len(treat_data.usi[treat_data[outcome_varname] == 1].unique())\n",
    "failures_treatment = len(treat_data.usi[treat_data[outcome_varname] == 0].unique())\n",
    "successes_control = len(control_data.usi[control_data[outcome_varname] == 1].unique())\n",
    "failures_control = len(control_data.usi[control_data[outcome_varname] == 0].unique())\n",
    "\n",
    "ca_prob_txgreaterthancontrol = abtesting.degree_of_certainty(\n",
    "    successes_control, failures_control, successes_treatment, failures_treatment\n",
    ")\n",
    "\n",
    "outcome = \"chronically absent\"\n",
    "direction = \"LOWER\"\n",
    "print(\"Count {} in treatment group \".format(outcome) + str(successes_treatment))\n",
    "print(\n",
    "    \"Percent {} in treatment group \".format(outcome)\n",
    "    + str(successes_treatment / (successes_treatment + failures_treatment) * 100)\n",
    ")\n",
    "print(\"Count {} in control group \".format(outcome) + str(successes_control))\n",
    "print(\n",
    "    \"Percent {} in control group \".format(outcome)\n",
    "    + str(successes_control / (successes_control + failures_control) * 100)\n",
    ")\n",
    "print(\"--------------------------------\")\n",
    "print(\n",
    "    \"A/B test single draw prob. that treatment group had {} rate than control group: \".format(\n",
    "        direction\n",
    "    )\n",
    "    + str(1 - ca_prob_txgreaterthancontrol)\n",
    ")"
   ],
   "outputs": [],
   "metadata": {}
  },
  {
   "cell_type": "markdown",
   "source": [
    "### 2.2.2 Many draw version"
   ],
   "metadata": {}
  },
  {
   "cell_type": "code",
   "execution_count": null,
   "source": [
    "num_treatment = successes_treatment + failures_treatment\n",
    "num_control = successes_control + failures_control\n",
    "base_rate = successes_control / num_control\n",
    "treatment_rate = successes_treatment / num_treatment\n",
    "\n",
    "(\n",
    "    ca_prob_txlessthancontrol_perc,\n",
    "    ca_prob_txlessthancontrol_alldraws,\n",
    "    ca_posterior,\n",
    ") = abtesting.degree_of_certainty_draws_forwriteup(\n",
    "    base_rate=base_rate,\n",
    "    treatment_rate=treatment_rate,\n",
    "    successes_control=successes_control,\n",
    "    successes_treatment=successes_treatment,\n",
    "    failures_control=failures_control,\n",
    "    failures_treatment=failures_treatment,\n",
    "    num_control=num_control,\n",
    "    num_treatment=num_treatment,\n",
    "    num_draws=10000,\n",
    "    tx_greater=False,\n",
    ")"
   ],
   "outputs": [],
   "metadata": {}
  },
  {
   "cell_type": "code",
   "execution_count": null,
   "source": [
    "certainty_ca = create_plot_ofcertainty(\n",
    "    probs_alldraws=ca_prob_txlessthancontrol_alldraws,\n",
    "    single_draw_value=(1 - ca_prob_txgreaterthancontrol),\n",
    "    scale_y=2,\n",
    "    direction=\"lower\",\n",
    "    outcome=\"year-end chronic absenteeism\",\n",
    ")"
   ],
   "outputs": [],
   "metadata": {}
  },
  {
   "cell_type": "markdown",
   "source": [
    "# 3. A/B testing: count outcomes \n",
    "\n",
    "Repeat same process for count outcomes"
   ],
   "metadata": {}
  },
  {
   "cell_type": "markdown",
   "source": [
    "## 3.1 unexcused in two week period: median delivery date"
   ],
   "metadata": {}
  },
  {
   "cell_type": "markdown",
   "source": [
    "### 3.1.1: single draws"
   ],
   "metadata": {}
  },
  {
   "cell_type": "code",
   "execution_count": null,
   "source": [
    "##\n",
    "outcome_varname = \"diff_unexcused_mediandelivery\"\n",
    "exposure_varname = \"diff_schooldays_mediandelivery\"\n",
    "events_treatment = np.sum(treat_data[outcome_varname])\n",
    "exposure_treatment = np.sum(treat_data[exposure_varname])\n",
    "events_control = np.sum(control_data[outcome_varname])\n",
    "exposure_control = np.sum(control_data[exposure_varname])\n",
    "\n",
    "\n",
    "## single draw test\n",
    "unex_mediandelivery_prob_txgreaterthancontrol = abtesting.degree_of_certainty_counts(\n",
    "    events_control=events_control,\n",
    "    exposure_control=exposure_control,\n",
    "    events_tx=events_treatment,\n",
    "    exposure_tx=exposure_treatment,\n",
    ")\n",
    "\n",
    "unex_mediandelivery_prob_txlessthancontrol = (\n",
    "    1 - unex_mediandelivery_prob_txgreaterthancontrol\n",
    ")\n",
    "\n",
    "outcome = \"of unexcused absences in two weeks after letter (median delivery day)\"\n",
    "direction = \"lower\"\n",
    "print(\"Count {} in treatment group \".format(outcome) + str(events_treatment))\n",
    "print(\n",
    "    \"Rate {} in treatment group \".format(outcome)\n",
    "    + str(events_treatment / (exposure_treatment))\n",
    ")\n",
    "print(\"Count {} in control group \".format(outcome) + str(events_control))\n",
    "print(\n",
    "    \"Rate {} in control group \".format(outcome)\n",
    "    + str(events_control / (exposure_control))\n",
    ")\n",
    "print(\"--------------------------------\")\n",
    "print(\n",
    "    \"A/B test single draw prob. that treatment group had {} count than control group: \".format(\n",
    "        direction\n",
    "    )\n",
    "    + str(unex_mediandelivery_prob_txlessthancontrol)\n",
    ")"
   ],
   "outputs": [],
   "metadata": {}
  },
  {
   "cell_type": "markdown",
   "source": [
    "### 3.1.2 multiple draws"
   ],
   "metadata": {}
  },
  {
   "cell_type": "code",
   "execution_count": null,
   "source": [
    "(\n",
    "    unex_mediandelivery_perc,\n",
    "    unex_mediandelivery_alldraws,\n",
    "    unex_mediandelivery_posterior,\n",
    ") = abtesting.degree_of_certainty_count_draws_forwriteup(\n",
    "    control_events=events_control,\n",
    "    treatment_events=events_treatment,\n",
    "    control_exposure=exposure_control,\n",
    "    treatment_exposure=exposure_treatment,\n",
    "    num_draws=10000,\n",
    "    tx_greater=False,\n",
    ")"
   ],
   "outputs": [],
   "metadata": {}
  },
  {
   "cell_type": "code",
   "execution_count": null,
   "source": [
    "unex_mediandelivery_alldraws"
   ],
   "outputs": [],
   "metadata": {}
  },
  {
   "cell_type": "code",
   "execution_count": null,
   "source": [
    "certainty_unex_itt = create_plot_ofcertainty(\n",
    "    probs_alldraws=unex_mediandelivery_alldraws,\n",
    "    single_draw_value=unex_mediandelivery_prob_txlessthancontrol,\n",
    "    scale_y=40,\n",
    "    direction=\"lower\",\n",
    "    outcome=\"count of unexcused absencesover two weeks\\n(assume 7 day delivery timeline)\\n\",\n",
    "    adjust_x=-0.15,\n",
    ")\n",
    "\n",
    "ggsave(\n",
    "    certainty_unex_itt,\n",
    "    OUTPUT_DIR / \"certainty_unex_itt.pdf\",\n",
    "    width=12,\n",
    "    height=8,\n",
    ")"
   ],
   "outputs": [],
   "metadata": {}
  },
  {
   "cell_type": "markdown",
   "source": [
    "## 3.2 unexcused in two week period: observed delivery"
   ],
   "metadata": {}
  },
  {
   "cell_type": "code",
   "execution_count": null,
   "source": [
    "outcome_varname = \"diff_unexcused_observeddelivery\"\n",
    "exposure_varname = \"diff_schooldays_observeddelivery\"\n",
    "events_treatment = np.sum(treat_data[outcome_varname])\n",
    "exposure_treatment = np.sum(treat_data[exposure_varname])\n",
    "events_control = np.sum(control_data[outcome_varname])\n",
    "exposure_control = np.sum(control_data[exposure_varname])\n",
    "\n",
    "\n",
    "## single draw test\n",
    "unex_obsdelivery_prob_txgreaterthancontrol = abtesting.degree_of_certainty_counts(\n",
    "    events_control=events_control,\n",
    "    exposure_control=exposure_control,\n",
    "    events_tx=events_treatment,\n",
    "    exposure_tx=exposure_treatment,\n",
    ")\n",
    "\n",
    "unex_obsdelivery_prob_txlessthancontrol = 1 - unex_obsdelivery_prob_txgreaterthancontrol\n",
    "\n",
    "outcome = \"of unexcused absences in two weeks after letter (observed delivery day)\"\n",
    "direction = \"lower\"\n",
    "print(\"Count {} in treatment group \".format(outcome) + str(events_treatment))\n",
    "print(\"Exposure {} in treatment group \".format(outcome) + str(exposure_treatment))\n",
    "print(\n",
    "    \"Rate {} in treatment group \".format(outcome)\n",
    "    + str(events_treatment / (exposure_treatment))\n",
    ")\n",
    "print(\"Count {} in control group \".format(outcome) + str(events_control))\n",
    "print(\"Exposure {} in control group \".format(outcome) + str(exposure_control))\n",
    "print(\n",
    "    \"Rate {} in control group \".format(outcome)\n",
    "    + str(events_control / (exposure_control))\n",
    ")\n",
    "print(\"--------------------------------\")\n",
    "print(\n",
    "    \"A/B test single draw prob. that treatment group had {} count than control group: \".format(\n",
    "        direction\n",
    "    )\n",
    "    + str(unex_obsdelivery_prob_txlessthancontrol)\n",
    ")"
   ],
   "outputs": [],
   "metadata": {}
  },
  {
   "cell_type": "code",
   "execution_count": null,
   "source": [
    "(\n",
    "    unex_obsdelivery_perc,\n",
    "    unex_obsdelivery_alldraws,\n",
    "    unex_obsdelivery_posterior,\n",
    ") = abtesting.degree_of_certainty_count_draws_forwriteup(\n",
    "    control_events=events_control,\n",
    "    treatment_events=events_treatment,\n",
    "    control_exposure=exposure_control,\n",
    "    treatment_exposure=exposure_treatment,\n",
    "    num_draws=10000,\n",
    "    tx_greater=False,\n",
    ")\n",
    "\n",
    "certainty_unex_observed = create_plot_ofcertainty(\n",
    "    probs_alldraws=unex_obsdelivery_alldraws,\n",
    "    single_draw_value=unex_obsdelivery_prob_txlessthancontrol,\n",
    "    scale_y=20,\n",
    "    direction=\"lower\",\n",
    "    outcome=\"count of unexcused absences over two weeks\\n(using observed delivery date)\\n\",\n",
    "    adjust_x=-0.15,\n",
    ")\n",
    "\n",
    "ggsave(\n",
    "    certainty_unex_observed,\n",
    "    OUTPUT_DIR / \"certainty_unex_observed.pdf\",\n",
    "    width=12,\n",
    "    height=8,\n",
    ")"
   ],
   "outputs": [],
   "metadata": {}
  },
  {
   "cell_type": "markdown",
   "source": [
    "## 3.3 unexcused and excused in two-week period: median delivery date\n"
   ],
   "metadata": {}
  },
  {
   "cell_type": "code",
   "execution_count": null,
   "source": [
    "outcome_varname = \"diff_excusedorunexcused_mediandelivery\"\n",
    "exposure_varname = \"diff_schooldays_mediandelivery\"\n",
    "events_treatment = np.sum(treat_data[outcome_varname])\n",
    "exposure_treatment = np.sum(treat_data[exposure_varname])\n",
    "events_control = np.sum(control_data[outcome_varname])\n",
    "exposure_control = np.sum(control_data[exposure_varname])\n",
    "\n",
    "\n",
    "## single draw test\n",
    "unexandex_mediandelivery_prob_txgreaterthancontrol = (\n",
    "    abtesting.degree_of_certainty_counts(\n",
    "        events_control=events_control,\n",
    "        exposure_control=exposure_control,\n",
    "        events_tx=events_treatment,\n",
    "        exposure_tx=exposure_treatment,\n",
    "    )\n",
    ")\n",
    "\n",
    "unexandex_mediandelivery_prob_txlessthancontrol = (\n",
    "    1 - unexandex_mediandelivery_prob_txgreaterthancontrol\n",
    ")\n",
    "\n",
    "outcome = \"of unexcused absences in two weeks after letter (observed delivery day)\"\n",
    "direction = \"lower\"\n",
    "print(\"Count {} in treatment group \".format(outcome) + str(events_treatment))\n",
    "print(\n",
    "    \"Rate {} in treatment group \".format(outcome)\n",
    "    + str(events_treatment / (exposure_treatment))\n",
    ")\n",
    "print(\"Count {} in control group \".format(outcome) + str(events_control))\n",
    "print(\n",
    "    \"Rate {} in control group \".format(outcome)\n",
    "    + str(events_control / (exposure_control))\n",
    ")\n",
    "print(\"--------------------------------\")\n",
    "print(\n",
    "    \"A/B test single draw prob. that treatment group had {} count than control group: \".format(\n",
    "        direction\n",
    "    )\n",
    "    + str(unexandex_mediandelivery_prob_txlessthancontrol)\n",
    ")"
   ],
   "outputs": [],
   "metadata": {}
  },
  {
   "cell_type": "code",
   "execution_count": null,
   "source": [
    "(\n",
    "    unexandex_mediandelivery_perc,\n",
    "    unexandex_mediandelivery_alldraws,\n",
    "    unexandex_mediandelivery_posterior,\n",
    ") = abtesting.degree_of_certainty_count_draws_forwriteup(\n",
    "    control_events=events_control,\n",
    "    treatment_events=events_treatment,\n",
    "    control_exposure=exposure_control,\n",
    "    treatment_exposure=exposure_treatment,\n",
    "    num_draws=10000,\n",
    "    tx_greater=False,\n",
    ")"
   ],
   "outputs": [],
   "metadata": {}
  },
  {
   "cell_type": "code",
   "execution_count": null,
   "source": [
    "certainty_both_itt = create_plot_ofcertainty(\n",
    "    probs_alldraws=unexandex_mediandelivery_alldraws,\n",
    "    single_draw_value=unexandex_mediandelivery_prob_txlessthancontrol,\n",
    "    scale_y=1.5,\n",
    "    direction=\"lower\",\n",
    "    outcome=\"count of unexcused OR excused absences over two weeks\\n(assume 7 day delivery timeline)\\n\",\n",
    "    adjust_x=-0.15,\n",
    ")\n",
    "\n",
    "ggsave(\n",
    "    certainty_both_itt,\n",
    "    OUTPUT_DIR / \"certainty_both_itt.pdf\",\n",
    "    width=12,\n",
    "    height=8,\n",
    ")"
   ],
   "outputs": [],
   "metadata": {}
  },
  {
   "cell_type": "markdown",
   "source": [
    "## 3.4 unexcused and excused in two-week period: observed delivery"
   ],
   "metadata": {}
  },
  {
   "cell_type": "code",
   "execution_count": null,
   "source": [
    "outcome_varname = \"diff_excusedorunexcused_observeddelivery\"\n",
    "exposure_varname = \"diff_schooldays_observeddelivery\"\n",
    "events_treatment = np.sum(treat_data[outcome_varname])\n",
    "exposure_treatment = np.sum(treat_data[exposure_varname])\n",
    "events_control = np.sum(control_data[outcome_varname])\n",
    "exposure_control = np.sum(control_data[exposure_varname])\n",
    "\n",
    "\n",
    "## single draw test\n",
    "unexandex_obsdelivery_prob_txgreaterthancontrol = abtesting.degree_of_certainty_counts(\n",
    "    events_control=events_control,\n",
    "    exposure_control=exposure_control,\n",
    "    events_tx=events_treatment,\n",
    "    exposure_tx=exposure_treatment,\n",
    ")\n",
    "\n",
    "unexandex_obsdelivery_prob_txlessthancontrol = (\n",
    "    1 - unexandex_obsdelivery_prob_txgreaterthancontrol\n",
    ")\n",
    "\n",
    "outcome = \"of unexcused absences in two weeks after letter (observed delivery day)\"\n",
    "direction = \"lower\"\n",
    "print(\"Count {} in treatment group \".format(outcome) + str(events_treatment))\n",
    "print(\"Exposure {} in treatment group \".format(outcome) + str(exposure_treatment))\n",
    "print(\n",
    "    \"Rate {} in treatment group \".format(outcome)\n",
    "    + str(events_treatment / (exposure_treatment))\n",
    ")\n",
    "print(\"Count {} in control group \".format(outcome) + str(events_control))\n",
    "print(\"Exposure {} in control group \".format(outcome) + str(exposure_control))\n",
    "print(\n",
    "    \"Rate {} in control group \".format(outcome)\n",
    "    + str(events_control / (exposure_control))\n",
    ")\n",
    "print(\"--------------------------------\")\n",
    "print(\n",
    "    \"A/B test single draw prob. that treatment group had {} count than control group: \".format(\n",
    "        direction\n",
    "    )\n",
    "    + str(unexandex_obsdelivery_prob_txlessthancontrol)\n",
    ")"
   ],
   "outputs": [],
   "metadata": {}
  },
  {
   "cell_type": "code",
   "execution_count": null,
   "source": [
    "(\n",
    "    unexandex_obsdelivery_perc,\n",
    "    unexandex_obsdelivery_alldraws,\n",
    "    unexandex_obsdelivery_posterior,\n",
    ") = abtesting.degree_of_certainty_count_draws_forwriteup(\n",
    "    control_events=events_control,\n",
    "    treatment_events=events_treatment,\n",
    "    control_exposure=exposure_control,\n",
    "    treatment_exposure=exposure_treatment,\n",
    "    num_draws=10000,\n",
    "    tx_greater=False,\n",
    ")"
   ],
   "outputs": [],
   "metadata": {}
  },
  {
   "cell_type": "code",
   "execution_count": null,
   "source": [
    "certainty_both_obs = create_plot_ofcertainty(\n",
    "    probs_alldraws=unexandex_mediandelivery_alldraws,\n",
    "    single_draw_value=unexandex_mediandelivery_prob_txlessthancontrol,\n",
    "    scale_y=1.5,\n",
    "    direction=\"lower\",\n",
    "    outcome=\"count of unexcused OR excused absences over two weeks\\n(using observed delivery date)\\n\",\n",
    "    adjust_x=-0.15,\n",
    ")\n",
    "\n",
    "ggsave(\n",
    "    certainty_both_obs,\n",
    "    OUTPUT_DIR / \"certainty_both_obs.pdf\",\n",
    "    width=12,\n",
    "    height=8,\n",
    ")"
   ],
   "outputs": [],
   "metadata": {}
  },
  {
   "cell_type": "markdown",
   "source": [
    "# 4. Engagement in 14 days (rerunning here to standardize)"
   ],
   "metadata": {}
  },
  {
   "cell_type": "code",
   "execution_count": null,
   "source": [
    "%%capture\n",
    "\n",
    "engage_df = pd.read_csv(DATA_DIR / \"engage_forAB.csv\")\n",
    "engage_df[\"engaged_binary\"] = np.where(engage_df.engaged_14days == False, 0, 1)\n",
    "treat_data = engage_df.loc[engage_df.is_treatment == True].copy()\n",
    "control_data = engage_df.loc[engage_df.is_treatment == False].copy()\n",
    "outcome_varname = \"engaged_binary\"\n",
    "engage_df.head()"
   ],
   "outputs": [],
   "metadata": {}
  },
  {
   "cell_type": "code",
   "execution_count": null,
   "source": [
    "successes_treatment = len(\n",
    "    treat_data.student_id[treat_data[outcome_varname] == 1].unique()\n",
    ")\n",
    "failures_treatment = len(\n",
    "    treat_data.student_id[treat_data[outcome_varname] == 0].unique()\n",
    ")\n",
    "successes_control = len(\n",
    "    control_data.student_id[control_data[outcome_varname] == 1].unique()\n",
    ")\n",
    "failures_control = len(\n",
    "    control_data.student_id[control_data[outcome_varname] == 0].unique()\n",
    ")\n",
    "\n",
    "engaged_prob_txgreaterthancontrol = abtesting.degree_of_certainty(\n",
    "    successes_control, failures_control, successes_treatment, failures_treatment\n",
    ")\n",
    "engaged_prob_txlessthancontrol = 1 - truancy_prob_txgreaterthancontrol\n",
    "\n",
    "outcome = \"engaged\"\n",
    "direction = \"LOWER\"\n",
    "print(\"Count {} in treatment group \".format(outcome) + str(successes_treatment))\n",
    "print(\n",
    "    \"Percent {} in treatment group \".format(outcome)\n",
    "    + str(successes_treatment / (successes_treatment + failures_treatment) * 100)\n",
    ")\n",
    "print(\"Count {} in control group \".format(outcome) + str(successes_control))\n",
    "print(\n",
    "    \"Percent {} in control group \".format(outcome)\n",
    "    + str(successes_control / (successes_control + failures_control) * 100)\n",
    ")\n",
    "print(\"--------------------------------\")\n",
    "print(\n",
    "    \"A/B test single draw prob. that treatment group had {} rate than control group: \".format(\n",
    "        direction\n",
    "    )\n",
    "    + str(engaged_prob_txgreaterthancontrol)\n",
    ")"
   ],
   "outputs": [],
   "metadata": {}
  },
  {
   "cell_type": "code",
   "execution_count": null,
   "source": [
    "## many draw version\n",
    "num_treatment = successes_treatment + failures_treatment\n",
    "num_control = successes_control + failures_control\n",
    "base_rate = successes_control / num_control\n",
    "treatment_rate = successes_treatment / num_treatment\n",
    "\n",
    "(\n",
    "    engaged_prob_txlessthancontrol_perc,\n",
    "    engaged_prob_txlessthancontrol_alldraws,\n",
    "    engaged_posterior,\n",
    ") = abtesting.degree_of_certainty_draws_forwriteup(\n",
    "    base_rate=base_rate,\n",
    "    treatment_rate=treatment_rate,\n",
    "    successes_control=successes_control,\n",
    "    successes_treatment=successes_treatment,\n",
    "    failures_control=failures_control,\n",
    "    failures_treatment=failures_treatment,\n",
    "    num_control=num_control,\n",
    "    num_treatment=num_treatment,\n",
    "    num_draws=10000,\n",
    "    tx_greater=False,\n",
    ")\n",
    "\n",
    "certainty_engaged = create_plot_ofcertainty(\n",
    "    probs_alldraws=engaged_prob_txlessthancontrol_alldraws,\n",
    "    single_draw_value=engaged_prob_txlessthancontrol,\n",
    "    scale_y=1.5,\n",
    "    direction=\"lower\",\n",
    "    outcome=\"engagement rate\",\n",
    "    adjust_x=-0.15,\n",
    ")\n",
    "\n",
    "certainty_engaged\n",
    "\n",
    "ggsave(\n",
    "    certainty_engaged,\n",
    "    OUTPUT_DIR / \"certainty_engaged.pdf\",\n",
    "    width=12,\n",
    "    height=8,\n",
    ")"
   ],
   "outputs": [],
   "metadata": {}
  },
  {
   "cell_type": "markdown",
   "source": [
    "# 4. Export posteriors to plot in R"
   ],
   "metadata": {}
  },
  {
   "cell_type": "code",
   "execution_count": null,
   "source": [
    "## create df with all posteriors\n",
    "posterior_arrays = [\n",
    "    truancy_posterior,\n",
    "    ca_posterior,\n",
    "    unex_obsdelivery_posterior,\n",
    "    unex_mediandelivery_posterior,\n",
    "    unexandex_obsdelivery_posterior,\n",
    "    unexandex_mediandelivery_posterior,\n",
    "    engaged_posterior,\n",
    "]"
   ],
   "outputs": [],
   "metadata": {}
  },
  {
   "cell_type": "code",
   "execution_count": null,
   "source": [
    "posterior_array_df_list = [pd.DataFrame(x) for x in posterior_arrays]\n",
    "posterior_array_df = pd.concat(posterior_array_df_list, axis=1)\n",
    "posterior_array_df.columns = [\n",
    "    \"truancy\",\n",
    "    \"ca\",\n",
    "    \"unex_obs\",\n",
    "    \"unex_median\",\n",
    "    \"unexandex_obs\",\n",
    "    \"unexandex_median\",\n",
    "    \"engagement\",\n",
    "]\n",
    "posterior_array_df.head()"
   ],
   "outputs": [],
   "metadata": {}
  },
  {
   "cell_type": "code",
   "execution_count": null,
   "source": [
    "posterior_array_df.to_csv(\n",
    "    DATA_DIR / \"attendanceandengageoutcomes_posteriors_toplot.csv\", index=False\n",
    ")"
   ],
   "outputs": [],
   "metadata": {}
  },
  {
   "cell_type": "code",
   "execution_count": null,
   "source": [],
   "outputs": [],
   "metadata": {}
  }
 ],
 "metadata": {
  "kernelspec": {
   "display_name": "Python 3 (ipykernel)",
   "language": "python",
   "name": "python3"
  },
  "language_info": {
   "codemirror_mode": {
    "name": "ipython",
    "version": 3
   },
   "file_extension": ".py",
   "mimetype": "text/x-python",
   "name": "python",
   "nbconvert_exporter": "python",
   "pygments_lexer": "ipython3",
   "version": "3.8.6"
  }
 },
 "nbformat": 4,
 "nbformat_minor": 2
}
