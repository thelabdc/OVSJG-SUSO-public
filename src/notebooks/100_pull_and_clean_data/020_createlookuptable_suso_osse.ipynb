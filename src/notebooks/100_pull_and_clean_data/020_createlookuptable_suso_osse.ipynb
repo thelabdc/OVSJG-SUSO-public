{
 "cells": [
  {
   "cell_type": "markdown",
   "metadata": {},
   "source": [
    "# Create lookup table between SUSO and OSSE\n",
    "\n",
    "Takes in: \n",
    "\n",
    "- Data on SUSO participants\n",
    "- OSSE student attributes to use for matching\n",
    "\n",
    "What it does: exact and fuzzy matching on the basis of name, DOB, and school attended\n",
    "\n",
    "Outputs: lookup table to get usi's (OSSE identifiers) for students in SUSO sample"
   ]
  },
  {
   "cell_type": "code",
   "execution_count": null,
   "metadata": {},
   "outputs": [],
   "source": [
    "import re\n",
    "from pathlib import Path\n",
    "\n",
    "import numpy as np\n",
    "import pandas as pd\n",
    "import recordlinkage\n",
    "from IPython.core.interactiveshell import InteractiveShell\n",
    "\n",
    "from suso.utils import PICKLE_PROTOCOL, here\n",
    "\n",
    "InteractiveShell.ast_node_interactivity = \"all\""
   ]
  },
  {
   "cell_type": "code",
   "execution_count": null,
   "metadata": {},
   "outputs": [],
   "source": [
    "DATA_DIR = here(\"data\")"
   ]
  },
  {
   "cell_type": "markdown",
   "metadata": {},
   "source": [
    "# 1: Load data\n",
    "\n"
   ]
  },
  {
   "cell_type": "markdown",
   "metadata": {},
   "source": [
    "## 1.1 Load SUSO outreach data"
   ]
  },
  {
   "cell_type": "code",
   "execution_count": null,
   "metadata": {},
   "outputs": [],
   "source": [
    "df = pd.read_csv(DATA_DIR / \"data_for_analysis.csv\")\n",
    "bounced = pd.read_csv(DATA_DIR / \"returned_letters.csv\")\n",
    "bounced = bounced.drop_duplicates(\"CLID\", keep=\"first\")"
   ]
  },
  {
   "cell_type": "code",
   "execution_count": null,
   "metadata": {},
   "outputs": [],
   "source": [
    "suso = pd.read_csv(DATA_DIR / \"suso_participants.csv\")\n",
    "suso[\"in_suso\"] = True"
   ]
  },
  {
   "cell_type": "code",
   "execution_count": null,
   "metadata": {},
   "outputs": [],
   "source": [
    "df_suso = df.merge(\n",
    "    suso[[\"CLID\", \"DateEngaged\", \"DateNotEngaged\", \"in_suso\", \"DateOfBirthNew\"]],\n",
    "    how=\"left\",\n",
    "    on=\"CLID\",\n",
    ")\n",
    "\n",
    "df_suso.to_csv(DATA_DIR / \"df_suso_merged.csv\")"
   ]
  },
  {
   "cell_type": "markdown",
   "metadata": {},
   "source": [
    "## 1.3 Load credentials and pull student identifiers from OSSE database"
   ]
  },
  {
   "cell_type": "code",
   "execution_count": null,
   "metadata": {},
   "outputs": [],
   "source": [
    "def read_attendance_data(path: Path) -> pd.DataFrame:\n",
    "    return (\n",
    "        pd.read_parquet(\n",
    "            path,\n",
    "            columns=[\n",
    "                \"usi\",\n",
    "                \"firstname\",\n",
    "                \"lastname\",\n",
    "                \"StudentLocalID\",\n",
    "                \"dateofbirth\",\n",
    "                \"GradeLevel\",\n",
    "                \"gender\",\n",
    "                \"race\",\n",
    "                \"Enr_SchoolID\",\n",
    "                \"Enr_SchoolName\",\n",
    "                \"AttendanceDate\",\n",
    "            ],\n",
    "        )\n",
    "        .sort_values(by=[\"usi\", \"AttendanceDate\"])\n",
    "        .drop_duplicates(\"usi\", keep=\"first\")\n",
    "        .drop(columns=\"AttendanceDate\")\n",
    "    )"
   ]
  },
  {
   "cell_type": "code",
   "execution_count": null,
   "metadata": {},
   "outputs": [],
   "source": [
    "entities_public = read_attendance_data(\n",
    "    DATA_DIR / \"SY1718_DCPS_Attendance_Data_cleaned.parquet\"\n",
    ")\n",
    "entities_public.to_pickle(DATA_DIR / \"entities_public.pkl\", protocol=PICKLE_PROTOCOL)"
   ]
  },
  {
   "cell_type": "code",
   "execution_count": null,
   "metadata": {},
   "outputs": [],
   "source": [
    "entities_charter = read_attendance_data(\n",
    "    DATA_DIR / \"SY1718_Charter_Sector_Attendance_cleaned.parquet\"\n",
    ")\n",
    "entities_charter.to_pickle(DATA_DIR / \"entities_charter.pkl\", protocol=PICKLE_PROTOCOL)"
   ]
  },
  {
   "cell_type": "code",
   "execution_count": null,
   "metadata": {},
   "outputs": [],
   "source": [
    "## merge charter and public school into one df\n",
    "entities = pd.concat([entities_public, entities_charter])\n",
    "entities.to_pickle(DATA_DIR / \"entities_charterpublic.pkl\", protocol=PICKLE_PROTOCOL)"
   ]
  },
  {
   "cell_type": "code",
   "execution_count": null,
   "metadata": {},
   "outputs": [],
   "source": [
    "## dx\n",
    "print(\"Total number of rows is: \" + str(entities.shape[0]))\n",
    "print(\"Number of unique student identifiers is: \" + str(len(entities.usi.unique())))"
   ]
  },
  {
   "cell_type": "markdown",
   "metadata": {},
   "source": [
    "# 2: identify exact matches using name and DOB"
   ]
  },
  {
   "cell_type": "code",
   "execution_count": null,
   "metadata": {},
   "outputs": [],
   "source": [
    "osse_matchcols = [\n",
    "    \"firstname\",\n",
    "    \"lastname\",\n",
    "    \"dateofbirth\",\n",
    "    \"GradeLevel\",\n",
    "    \"Enr_SchoolName\",\n",
    "]\n",
    "suso_matchcols = [\n",
    "    \"FName\",\n",
    "    \"FamilyNames\",\n",
    "    \"LName\",\n",
    "    \"guardian_firstname\",\n",
    "    \"guardian_lastname\",\n",
    "    \"school_name\",\n",
    "    \"DateOfBirthNew\",\n",
    "    \"grade\",\n",
    "]"
   ]
  },
  {
   "cell_type": "code",
   "execution_count": null,
   "metadata": {},
   "outputs": [],
   "source": [
    "%%capture\n",
    "\n",
    "df_suso[suso_matchcols].head()"
   ]
  },
  {
   "cell_type": "code",
   "execution_count": null,
   "metadata": {},
   "outputs": [],
   "source": [
    "%%capture\n",
    "\n",
    "entities[osse_matchcols].head()"
   ]
  },
  {
   "cell_type": "markdown",
   "metadata": {},
   "source": [
    "##  2.1: convert names and birth date to same format in each dataset"
   ]
  },
  {
   "cell_type": "code",
   "execution_count": null,
   "metadata": {},
   "outputs": [],
   "source": [
    "## capitalize names in suso and remove whitespace\n",
    "df_suso[\"studentfirstname_suso\"] = df_suso.FName.str.upper().str.strip()\n",
    "df_suso[\"studentlastname_suso\"] = df_suso.LName.str.upper().str.strip()"
   ]
  },
  {
   "cell_type": "code",
   "execution_count": null,
   "metadata": {},
   "outputs": [],
   "source": [
    "## remove whitespace from osse names\n",
    "entities[\"studentfirstname_osse\"] = entities.firstname.str.strip()\n",
    "entities[\"studentlastname_osse\"] = entities.lastname.str.strip()"
   ]
  },
  {
   "cell_type": "code",
   "execution_count": null,
   "metadata": {},
   "outputs": [],
   "source": [
    "## dob as datetime in each\n",
    "df_suso[\"dob_suso\"] = pd.to_datetime(df_suso.DateOfBirthNew)\n",
    "entities[\"dob_osse\"] = pd.to_datetime(entities.dateofbirth)"
   ]
  },
  {
   "cell_type": "code",
   "execution_count": null,
   "metadata": {},
   "outputs": [],
   "source": [
    "## create single identifier\n",
    "df_suso[\"name_dob\"] = (\n",
    "    df_suso.studentfirstname_suso\n",
    "    + \"_\"\n",
    "    + df_suso.studentlastname_suso\n",
    "    + \"_\"\n",
    "    + df_suso.dob_suso.astype(str)\n",
    ")"
   ]
  },
  {
   "cell_type": "code",
   "execution_count": null,
   "metadata": {},
   "outputs": [],
   "source": [
    "entities[\"name_dob\"] = (\n",
    "    entities.studentfirstname_osse\n",
    "    + \"_\"\n",
    "    + entities.studentlastname_osse\n",
    "    + \"_\"\n",
    "    + entities.dob_osse.astype(str)\n",
    ")"
   ]
  },
  {
   "cell_type": "markdown",
   "metadata": {},
   "source": [
    "##  2.2: look for exact matches"
   ]
  },
  {
   "cell_type": "code",
   "execution_count": null,
   "metadata": {},
   "outputs": [],
   "source": [
    "unique_suso_namedob = set(df_suso.name_dob)\n",
    "unique_osse_namedob = set(entities.name_dob)"
   ]
  },
  {
   "cell_type": "code",
   "execution_count": null,
   "metadata": {},
   "outputs": [],
   "source": [
    "exact_match = unique_suso_namedob.intersection(unique_osse_namedob)"
   ]
  },
  {
   "cell_type": "code",
   "execution_count": null,
   "metadata": {},
   "outputs": [],
   "source": [
    "## Update\n",
    "print(\n",
    "    \"Able to merge \" + str(len(exact_match)) + \" students with exact name and DOB match\"\n",
    ")\n",
    "print(\n",
    "    \"This represents \"\n",
    "    + str(round(len(exact_match) / len(unique_suso_namedob), 3) * 100)\n",
    "    + \" percent of the SUSO sample\"\n",
    ")"
   ]
  },
  {
   "cell_type": "markdown",
   "metadata": {},
   "source": [
    "##  2.3: construct lookup table with those exact matches and then subset to unmatched students"
   ]
  },
  {
   "cell_type": "code",
   "execution_count": null,
   "metadata": {},
   "outputs": [],
   "source": [
    "%%capture\n",
    "\n",
    "matched_suso = df_suso.copy()\n",
    "matched_suso[\"suso_id\"] = matched_suso.student_id\n",
    "matched_suso_tomerge = matched_suso[[\"suso_id\", \"name_dob\"]]\n",
    "matched_suso_tomerge.head()\n",
    "suso_lookup_exactmatch = pd.merge(\n",
    "    matched_suso_tomerge,\n",
    "    entities[[\"usi\", \"name_dob\"]].drop_duplicates(),\n",
    "    on=\"name_dob\",\n",
    "    how=\"inner\",\n",
    ")"
   ]
  },
  {
   "cell_type": "code",
   "execution_count": null,
   "metadata": {},
   "outputs": [],
   "source": [
    "## subset to students with no exact match\n",
    "suso_noexactmatch = (\n",
    "    matched_suso.loc[~matched_suso.suso_id.isin(suso_lookup_exactmatch.suso_id)]\n",
    "    .copy()\n",
    "    .reset_index()\n",
    ")\n",
    "\n",
    "\n",
    "osse_noexactmatch = (\n",
    "    entities.loc[~entities.usi.isin(suso_lookup_exactmatch.usi)].copy().reset_index()\n",
    ")"
   ]
  },
  {
   "cell_type": "markdown",
   "metadata": {},
   "source": [
    "##  2.4: use fuzzy string matching to try to match next round"
   ]
  },
  {
   "cell_type": "markdown",
   "metadata": {},
   "source": [
    "### Convert school names to similar format to have another fuzzy matching variable"
   ]
  },
  {
   "cell_type": "code",
   "execution_count": null,
   "metadata": {},
   "outputs": [],
   "source": [
    "## source: https://stackoverflow.com/questions/6116978/how-to-replace-multiple-substrings-of-a-string\n",
    "def multiple_replace(string, rep_dict):\n",
    "    pattern = re.compile(\n",
    "        \"|\".join([re.escape(k) for k in sorted(rep_dict, key=len, reverse=True)]),\n",
    "        flags=re.DOTALL,\n",
    "    )\n",
    "    return pattern.sub(lambda x: rep_dict[x.group(0)], string)"
   ]
  },
  {
   "cell_type": "code",
   "execution_count": null,
   "metadata": {},
   "outputs": [],
   "source": [
    "school_replace_dict = {\n",
    "    \"Elementary School\": \"ES\",\n",
    "    \"Education Campus\": \"EC\",\n",
    "    \"Middle School\": \"MS\",\n",
    "    \"High School\": \"HS\",\n",
    "}"
   ]
  },
  {
   "cell_type": "code",
   "execution_count": null,
   "metadata": {},
   "outputs": [],
   "source": [
    "## convert school name to similar format\n",
    "osse_noexactmatch[\"schoolname_tomerge_1\"] = osse_noexactmatch.Enr_SchoolName.astype(\n",
    "    str\n",
    ").apply(multiple_replace, rep_dict=school_replace_dict)\n",
    "osse_noexactmatch[\n",
    "    \"schoolname_tomerge_osse\"\n",
    "] = osse_noexactmatch.schoolname_tomerge_1.str.upper()"
   ]
  },
  {
   "cell_type": "code",
   "execution_count": null,
   "metadata": {},
   "outputs": [],
   "source": [
    "suso_noexactmatch[\"schoolname_tomerge_suso\"] = suso_noexactmatch.school_name.str.upper()"
   ]
  },
  {
   "cell_type": "markdown",
   "metadata": {},
   "source": [
    "### Use fuzzy string matching on student and school name to match"
   ]
  },
  {
   "cell_type": "markdown",
   "metadata": {},
   "source": [
    "#### Create matched pairs"
   ]
  },
  {
   "cell_type": "code",
   "execution_count": null,
   "metadata": {},
   "outputs": [],
   "source": [
    "def fm_createpairs(data_1, data_2, blocking_variable, matching_dictionary):\n",
    "\n",
    "    ## first initialize an indexer\n",
    "    indexer = recordlinkage.Index()\n",
    "    indexer.block(blocking_variable)\n",
    "\n",
    "    ## then, feed the indexer the two datasets (both must have the blocking variable)\n",
    "    candidate_links = indexer.index(data_1, data_2)\n",
    "\n",
    "    ## then, start comparison\n",
    "    c = recordlinkage.Compare()\n",
    "\n",
    "    ## iterate through variables to do matching on\n",
    "    for key, value in matching_dictionary.items():\n",
    "        c.string(value[0], value[1], method=value[2], threshold=value[3])\n",
    "\n",
    "    ## use those variables to create feature vectors\n",
    "    feature_vectors = c.compute(candidate_links, data_1, data_2)\n",
    "\n",
    "    ## now, uses unsupervised clustering algorithm to create matches\n",
    "    ## could generalize function to include other algorithms\n",
    "    ecm = recordlinkage.ECMClassifier()\n",
    "    predicted_matches_ecm = list(ecm.fit_predict(feature_vectors))\n",
    "    return predicted_matches_ecm"
   ]
  },
  {
   "cell_type": "code",
   "execution_count": null,
   "metadata": {},
   "outputs": [],
   "source": [
    "## create common key\n",
    "suso_noexactmatch[\"dob\"] = suso_noexactmatch.dob_suso\n",
    "osse_noexactmatch[\"dob\"] = osse_noexactmatch.dob_osse"
   ]
  },
  {
   "cell_type": "code",
   "execution_count": null,
   "metadata": {},
   "outputs": [],
   "source": [
    "## apply function\n",
    "matching_dictionary = {\n",
    "    \"first_var\": [\"studentfirstname_suso\", \"studentfirstname_osse\", \"jarowinkler\", 0.8],\n",
    "    \"second_var\": [\"studentlastname_suso\", \"studentlastname_osse\", \"jarowinkler\", 0.8],\n",
    "    \"third_var\": [\n",
    "        \"schoolname_tomerge_suso\",\n",
    "        \"schoolname_tomerge_osse\",\n",
    "        \"jarowinkler\",\n",
    "        0.8,\n",
    "    ],\n",
    "}\n",
    "matched_pairs = fm_createpairs(\n",
    "    suso_noexactmatch, osse_noexactmatch, \"dob\", matching_dictionary\n",
    ")"
   ]
  },
  {
   "cell_type": "markdown",
   "metadata": {},
   "source": [
    "#### Retrieve matched pairs"
   ]
  },
  {
   "cell_type": "code",
   "execution_count": null,
   "metadata": {},
   "outputs": [],
   "source": [
    "suso_indices = [x[0] for x in matched_pairs]\n",
    "osse_indices = [x[1] for x in matched_pairs]"
   ]
  },
  {
   "cell_type": "code",
   "execution_count": null,
   "metadata": {},
   "outputs": [],
   "source": [
    "suso_osse_matchdf = pd.DataFrame(\n",
    "    {\"suso_indices\": suso_indices, \"osse_indices\": osse_indices}\n",
    ").sort_values(by=\"suso_indices\")"
   ]
  },
  {
   "cell_type": "code",
   "execution_count": null,
   "metadata": {},
   "outputs": [],
   "source": [
    "suso_noexactmatch[\"suso_indices\"] = suso_noexactmatch.index\n",
    "osse_noexactmatch[\"osse_indices\"] = osse_noexactmatch.index"
   ]
  },
  {
   "cell_type": "code",
   "execution_count": null,
   "metadata": {},
   "outputs": [],
   "source": [
    "## merge cols\n",
    "suso_mergecols = [\n",
    "    \"suso_indices\",\n",
    "    \"suso_id\",\n",
    "    \"studentfirstname_suso\",\n",
    "    \"studentlastname_suso\",\n",
    "    \"schoolname_tomerge_suso\",\n",
    "    \"dob_suso\",\n",
    "    \"name_dob\",\n",
    "]\n",
    "osse_mergecols = [\n",
    "    \"osse_indices\",\n",
    "    \"usi\",\n",
    "    \"StudentLocalID\",\n",
    "    \"studentfirstname_osse\",\n",
    "    \"studentlastname_osse\",\n",
    "    \"schoolname_tomerge_osse\",\n",
    "    \"dob_osse\",\n",
    "]"
   ]
  },
  {
   "cell_type": "code",
   "execution_count": null,
   "metadata": {},
   "outputs": [],
   "source": [
    "## merge relevant records\n",
    "suso_osse_matchdf_withsusoid = suso_osse_matchdf.merge(\n",
    "    suso_noexactmatch[suso_mergecols], how=\"left\", on=\"suso_indices\"\n",
    ")\n",
    "suso_osse_matchdf_withboth = suso_osse_matchdf_withsusoid.merge(\n",
    "    osse_noexactmatch[osse_mergecols], how=\"left\", on=\"osse_indices\"\n",
    ")"
   ]
  },
  {
   "cell_type": "code",
   "execution_count": null,
   "metadata": {},
   "outputs": [],
   "source": [
    "## for duplicate ids (multiple matches in OSSE, take first match (highestprob))\n",
    "suso_ossematchdf_withboth_dedup = suso_osse_matchdf_withboth.drop_duplicates(\n",
    "    subset=[\"suso_id\"], keep=\"first\"\n",
    ")"
   ]
  },
  {
   "cell_type": "code",
   "execution_count": null,
   "metadata": {},
   "outputs": [],
   "source": [
    "## write to data to manually inspect\n",
    "suso_ossematchdf_withboth_dedup.to_csv(\n",
    "    DATA_DIR / \"suso_osse_fuzzymatches.csv\", index=False\n",
    ")"
   ]
  },
  {
   "cell_type": "markdown",
   "metadata": {},
   "source": [
    "## 2.5 Visually inspect random sample and then subset to final vars"
   ]
  },
  {
   "cell_type": "code",
   "execution_count": null,
   "metadata": {},
   "outputs": [],
   "source": [
    "%%capture\n",
    "\n",
    "suso_ossematchdf_withboth_dedup.sample(frac=0.1)"
   ]
  },
  {
   "cell_type": "code",
   "execution_count": null,
   "metadata": {},
   "outputs": [],
   "source": [
    "%%capture\n",
    "\n",
    "suso_lookup_fuzzymatch = suso_ossematchdf_withboth_dedup[[\"suso_id\", \"name_dob\", \"usi\"]]\n",
    "\n",
    "suso_lookup_fuzzymatch.head()\n",
    "print(\n",
    "    \"Able to merge \"\n",
    "    + str(suso_lookup_fuzzymatch.shape[0])\n",
    "    + \" additional students with exact DOB and fuzzy name/school name match\"\n",
    ")"
   ]
  },
  {
   "cell_type": "markdown",
   "metadata": {},
   "source": [
    "## 2.6  Merge lookup table with pairs from first round"
   ]
  },
  {
   "cell_type": "code",
   "execution_count": null,
   "metadata": {},
   "outputs": [],
   "source": [
    "## before merging, add indicator for whether it was an exact or\n",
    "## fuzzy match\n",
    "suso_lookup_exactmatch[\"type_of_match\"] = \"exact\"\n",
    "suso_lookup_fuzzymatch[\"type_of_match\"] = \"fuzzy\""
   ]
  },
  {
   "cell_type": "code",
   "execution_count": null,
   "metadata": {},
   "outputs": [],
   "source": [
    "suso_exactandfuzzy = pd.concat([suso_lookup_exactmatch, suso_lookup_fuzzymatch])"
   ]
  },
  {
   "cell_type": "code",
   "execution_count": null,
   "metadata": {},
   "outputs": [],
   "source": [
    "## restrict to students with valid treatment status (some students were referred to suso but never got assigned treatment)\n",
    "valid_tx_suso = df_suso.student_id[df_suso.is_treatment.notnull()]\n",
    "\n",
    "suso_exactandfuzzy_validtx = suso_exactandfuzzy[\n",
    "    suso_exactandfuzzy.suso_id.isin(valid_tx_suso)\n",
    "].copy()\n",
    "suso_exactandfuzzy_validtx.shape"
   ]
  },
  {
   "cell_type": "code",
   "execution_count": null,
   "metadata": {},
   "outputs": [],
   "source": [
    "print(\n",
    "    \"Able to merge \"\n",
    "    + str(suso_exactandfuzzy.shape[0])\n",
    "    + \" referred students after 1) exact match, and 2) fuzzy match with high threshold\"\n",
    ")\n",
    "print(\n",
    "    \"This represents \"\n",
    "    + str(round(suso_exactandfuzzy.shape[0] / len(unique_suso_namedob), 3) * 100)\n",
    "    + \" percent of those referred\"\n",
    ")\n",
    "\n",
    "print(\n",
    "    \"Able to merge \"\n",
    "    + str(suso_exactandfuzzy_validtx.shape[0])\n",
    "    + \" students w/ valid tx status after 1) exact match, and 2) fuzzy match with high threshold\"\n",
    ")\n",
    "print(\n",
    "    \"This represents \"\n",
    "    + str(round(suso_exactandfuzzy_validtx.shape[0] / len(valid_tx_suso), 3) * 100)\n",
    "    + \" percent of those with valid tx status\"\n",
    ")"
   ]
  },
  {
   "cell_type": "code",
   "execution_count": null,
   "metadata": {},
   "outputs": [],
   "source": [
    "## write those referred to suso\n",
    "suso_exactandfuzzy.to_pickle(\n",
    "    DATA_DIR / \"suso_osse_lookup.pkl\", protocol=PICKLE_PROTOCOL\n",
    ")"
   ]
  }
 ],
 "metadata": {
  "kernelspec": {
   "display_name": "Python 3 (ipykernel)",
   "language": "python",
   "name": "python3"
  },
  "language_info": {
   "codemirror_mode": {
    "name": "ipython",
    "version": 3
   },
   "file_extension": ".py",
   "mimetype": "text/x-python",
   "name": "python",
   "nbconvert_exporter": "python",
   "pygments_lexer": "ipython3",
   "version": "3.8.6"
  }
 },
 "nbformat": 4,
 "nbformat_minor": 2
}
