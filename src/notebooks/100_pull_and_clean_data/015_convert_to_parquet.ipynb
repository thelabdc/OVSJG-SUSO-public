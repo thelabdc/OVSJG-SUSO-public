{
 "cells": [
  {
   "cell_type": "markdown",
   "id": "bbb1ffda",
   "metadata": {},
   "source": [
    "## Convert CSVs to Parquet\n",
    "\n",
    "To make working with files locally easier, convert all the files we received from OSSE to a parquet format."
   ]
  },
  {
   "cell_type": "code",
   "execution_count": null,
   "id": "3c147917",
   "metadata": {},
   "outputs": [],
   "source": [
    "from pathlib import Path\n",
    "\n",
    "import pandas as pd\n",
    "\n",
    "from suso.utils import here"
   ]
  },
  {
   "cell_type": "code",
   "execution_count": null,
   "id": "e41c0166",
   "metadata": {},
   "outputs": [],
   "source": [
    "DATA_DIR = here(\"data\")"
   ]
  },
  {
   "cell_type": "code",
   "execution_count": null,
   "id": "6d23531e",
   "metadata": {},
   "outputs": [],
   "source": [
    "def read_attendance_data(path: Path) -> pd.DataFrame:\n",
    "    df = pd.read_csv(path, encoding=\"latin1\")\n",
    "\n",
    "    # Standardize column names\n",
    "    df.rename(\n",
    "        columns={\n",
    "            \"homeless_indicator\": \"HomelessIndicatorOSSE\",\n",
    "            \"at_risk_indicator\": \"AtRiskIndicator\",\n",
    "            \"overage_indicator\": \"OverageIndicator\",\n",
    "            \"Withdrawal_date\": \"fixed_withdrawal_date\",\n",
    "            \"farms\": \"FarmsStatusSISdesc\",\n",
    "            \"local_id\": \"StudentLocalID\",\n",
    "            \"grade\": \"GradeLevel\",\n",
    "            \"race_ethnicity\": \"race\",\n",
    "            \"schoolcode\": \"Enr_SchoolID\",\n",
    "            \"schoolname\": \"Enr_SchoolName\",\n",
    "            \"Attendance StatusCode Description\": \"Attendance_Status_Desc\",\n",
    "            \"school_cep_status\": \"School_CEP_Status\",\n",
    "            \"economically_disadvantaged\": \"Economically_Disadvantaged\",\n",
    "            \"english_learner\": \"LEPIndicator\",\n",
    "        },\n",
    "        inplace=True,\n",
    "    )\n",
    "\n",
    "    # Drop unused columns\n",
    "    for col in [\"SISID\"]:\n",
    "        if col in df.columns:\n",
    "            df.drop(columns=col, inplace=True)\n",
    "\n",
    "    # Convert booleans\n",
    "    for col in [\n",
    "        \"HomelessIndicatorOSSE\",\n",
    "        \"AtRiskIndicator\",\n",
    "        \"OverageIndicator\",\n",
    "        \"LEPIndicator\",\n",
    "        \"Economically_Disadvantaged\",\n",
    "        \"School_CEP_Status\",\n",
    "    ]:\n",
    "        if col in df.columns:\n",
    "            # Some columns only available in one year or the other\n",
    "            df[col] = df[col].fillna(\"NO\")\n",
    "            df[col] = df[col].str.strip().str.upper() == \"YES\"\n",
    "\n",
    "    # Subset to relevant grades\n",
    "    df = df[~df[\"GradeLevel\"].isin([\"09\", \"10\", \"11\", \"12]\"])]\n",
    "\n",
    "    # Convert dates\n",
    "    df[\"AttendanceDate\"] = pd.to_datetime(df[\"AttendanceDate\"])\n",
    "    df[\"enroll_date\"] = pd.to_datetime(df[\"enroll_date\"])\n",
    "    df[\"fixed_withdrawal_date\"] = pd.to_datetime(df[\"fixed_withdrawal_date\"])\n",
    "\n",
    "    # StudentLocalID should be treated as a string due to Charter School ids\n",
    "    df[\"StudentLocalID\"] = df[\"StudentLocalID\"].astype(str)\n",
    "\n",
    "    return df"
   ]
  },
  {
   "cell_type": "code",
   "execution_count": null,
   "id": "3af61581",
   "metadata": {},
   "outputs": [],
   "source": [
    "df = read_attendance_data(DATA_DIR / \"SY1718_DCPS_Attendance_Data_cleaned.csv.gz\")\n",
    "df.to_parquet(DATA_DIR / \"SY1718_DCPS_Attendance_Data_cleaned.parquet\")"
   ]
  },
  {
   "cell_type": "code",
   "execution_count": null,
   "id": "ef4ebb09",
   "metadata": {},
   "outputs": [],
   "source": [
    "df = read_attendance_data(DATA_DIR / \"SY1718_Charter_Sector_Attendance_cleaned.csv.gz\")\n",
    "df.to_parquet(DATA_DIR / \"SY1718_Charter_Sector_Attendance_cleaned.parquet\")"
   ]
  },
  {
   "cell_type": "code",
   "execution_count": null,
   "id": "c1fb12f7",
   "metadata": {},
   "outputs": [],
   "source": [
    "df = read_attendance_data(DATA_DIR / \"redacted_SY1617_DCPS_Sector_Attendance.csv.gz\")\n",
    "df.to_parquet(DATA_DIR / \"redacted_SY1617_DCPS_Sector_Attendance.parquet\")"
   ]
  },
  {
   "cell_type": "code",
   "execution_count": null,
   "id": "28cd3993",
   "metadata": {},
   "outputs": [],
   "source": [
    "df = read_attendance_data(DATA_DIR / \"redacted_SY1617_Charter_Sector_Attendance.csv.gz\")\n",
    "df.to_parquet(DATA_DIR / \"redacted_SY1617_Charter_Sector_Attendance.parquet\")"
   ]
  },
  {
   "cell_type": "code",
   "execution_count": null,
   "id": "b075772f",
   "metadata": {},
   "outputs": [],
   "source": []
  }
 ],
 "metadata": {
  "kernelspec": {
   "display_name": "Python 3 (ipykernel)",
   "language": "python",
   "name": "python3"
  },
  "language_info": {
   "codemirror_mode": {
    "name": "ipython",
    "version": 3
   },
   "file_extension": ".py",
   "mimetype": "text/x-python",
   "name": "python",
   "nbconvert_exporter": "python",
   "pygments_lexer": "ipython3",
   "version": "3.8.6"
  }
 },
 "nbformat": 4,
 "nbformat_minor": 5
}
