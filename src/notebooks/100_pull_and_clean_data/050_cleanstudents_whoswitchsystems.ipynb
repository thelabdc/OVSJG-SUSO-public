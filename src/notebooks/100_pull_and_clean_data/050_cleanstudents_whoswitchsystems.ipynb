{
 "cells": [
  {
   "cell_type": "markdown",
   "metadata": {},
   "source": [
    "# More data cleaning for present school year: cleaning up outcomes for students who switch school systems\n",
    "\n",
    "SQL script 3 separately tallies absences with the DCPS and PCS tables, which are too large to easily be combined when they contain all students\n",
    "\n",
    "In turn, there are different types of student migration between schools:\n",
    "\n",
    "1. A student migrates to a school within DCPS or within PCS-- e.g., the student attends one charter school and then switches to another\n",
    "2. A student who migrates between the DCPS system and the PCS system\n",
    "\n",
    "The SQL script handles (1) fine-- attendances are aggregated by ID so switching is not a problem. For students in group (2), the present script identifies those students and makes sure that their absence tally does not restart when they switch between a school system."
   ]
  },
  {
   "cell_type": "code",
   "execution_count": null,
   "metadata": {},
   "outputs": [],
   "source": [
    "from pathlib import Path\n",
    "\n",
    "import numpy as np\n",
    "import pandas as pd\n",
    "from IPython.core.interactiveshell import InteractiveShell\n",
    "\n",
    "from suso.utils import here\n",
    "\n",
    "InteractiveShell.ast_node_interactivity = \"all\"\n",
    "pd.set_option(\"display.max_columns\", None)  # or 1000\n",
    "pd.set_option(\"display.max_rows\", None)  # or 1000\n",
    "pd.set_option(\"display.max_colwidth\", None)"
   ]
  },
  {
   "cell_type": "code",
   "execution_count": null,
   "metadata": {},
   "outputs": [],
   "source": [
    "DATA_DIR = here(\"data\")"
   ]
  },
  {
   "cell_type": "markdown",
   "metadata": {},
   "source": [
    "# 1: Remaining data cleaning"
   ]
  },
  {
   "cell_type": "markdown",
   "metadata": {},
   "source": [
    "## 1.1: initialize db connection and load SUSO data/attendance outcomes"
   ]
  },
  {
   "cell_type": "code",
   "execution_count": null,
   "metadata": {},
   "outputs": [],
   "source": [
    "public_attendance = pd.read_parquet(\n",
    "    DATA_DIR / \"dcps_sy1718_attendanceoutcomes_suso.parquet\"\n",
    ")"
   ]
  },
  {
   "cell_type": "code",
   "execution_count": null,
   "metadata": {},
   "outputs": [],
   "source": [
    "charter_attendance = pd.read_parquet(\n",
    "    DATA_DIR / \"charter_sy1718_attendanceoutcomes_suso.parquet\"\n",
    ")"
   ]
  },
  {
   "cell_type": "code",
   "execution_count": null,
   "metadata": {},
   "outputs": [],
   "source": [
    "## add indicators and write to pickle\n",
    "public_attendance[\"type_school\"] = \"DCPS\"\n",
    "charter_attendance[\"type_school\"] = \"PCS\""
   ]
  },
  {
   "cell_type": "markdown",
   "metadata": {},
   "source": [
    "## 1.2: create lookup table for students who switch between DCPS and charter\n",
    "\n",
    "Because the cumulative sums in SQL were done separately for DCPS and public charter schools (because they use separate attendance codes and due to data size), students who switch between school systems have their absence clocks restarted in the new system (this came up as well in Clarice's analysis)\n",
    "\n",
    "Here, I find those students and write lookup table to reconstruct outcomes "
   ]
  },
  {
   "cell_type": "code",
   "execution_count": null,
   "metadata": {},
   "outputs": [],
   "source": [
    "## find students whose usi is present in both public and charter\n",
    "usi_both = set(public_attendance.usi).intersection(set(charter_attendance.usi))\n",
    "print(\n",
    "    str(len(usi_both))\n",
    "    + \" students present in both dcps and pcs over the course of\\nthe 2017-2018 school year\"\n",
    ")"
   ]
  },
  {
   "cell_type": "code",
   "execution_count": null,
   "metadata": {},
   "outputs": [],
   "source": [
    "attendance_both_clean = pd.read_parquet(DATA_DIR / \"attendance_both_clean.parquet\")"
   ]
  },
  {
   "cell_type": "markdown",
   "metadata": {},
   "source": [
    "## 1.4: Sanity checks"
   ]
  },
  {
   "cell_type": "markdown",
   "metadata": {},
   "source": [
    "### Sanity check one: how many school days are students observed for?\n",
    "\n",
    "Should ideally be close to 180 for students"
   ]
  },
  {
   "cell_type": "code",
   "execution_count": null,
   "metadata": {},
   "outputs": [],
   "source": [
    "days_perstudent = pd.DataFrame(\n",
    "    attendance_both_clean.groupby(\"usi\").agg({\"total_schooldays\": np.max})\n",
    ").reset_index()\n",
    "print(\n",
    "    \"The mean number of observed school days per student is: \"\n",
    "    + str(round(np.mean(days_perstudent.total_schooldays), 2))\n",
    "    + \" school days\"\n",
    ")\n",
    "print(\n",
    "    \"The max number of observed school days per student is: \"\n",
    "    + str(round(np.max(days_perstudent.total_schooldays), 2))\n",
    "    + \" school days\"\n",
    ")\n",
    "print(\n",
    "    \"The min number of observed school days per student is: \"\n",
    "    + str(round(np.min(days_perstudent.total_schooldays), 2))\n",
    "    + \" school days\"\n",
    ")\n",
    "\n",
    "## see google doc for confirmation that the low count is correct for those\n",
    "## students"
   ]
  },
  {
   "cell_type": "markdown",
   "metadata": {},
   "source": [
    "### Sanity check two: is the count of unexcused + excused always larger than unexcused only?\n",
    "\n",
    "See below that total unexcused is always either less than or less than/equal to excused"
   ]
  },
  {
   "cell_type": "code",
   "execution_count": null,
   "metadata": {},
   "outputs": [],
   "source": [
    "np.unique(\n",
    "    np.where(\n",
    "        attendance_both_clean.total_unexcused\n",
    "        <= attendance_both_clean.total_excusedorunexcused,\n",
    "        1,\n",
    "        0,\n",
    "    ),\n",
    "    return_counts=True,\n",
    ")"
   ]
  },
  {
   "cell_type": "code",
   "execution_count": null,
   "metadata": {},
   "outputs": [],
   "source": []
  }
 ],
 "metadata": {
  "kernelspec": {
   "display_name": "Python 3 (ipykernel)",
   "language": "python",
   "name": "python3"
  },
  "language_info": {
   "codemirror_mode": {
    "name": "ipython",
    "version": 3
   },
   "file_extension": ".py",
   "mimetype": "text/x-python",
   "name": "python",
   "nbconvert_exporter": "python",
   "pygments_lexer": "ipython3",
   "version": "3.8.6"
  }
 },
 "nbformat": 4,
 "nbformat_minor": 2
}
