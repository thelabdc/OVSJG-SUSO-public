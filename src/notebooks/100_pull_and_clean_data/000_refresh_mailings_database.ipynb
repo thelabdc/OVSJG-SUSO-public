{
 "cells": [
  {
   "cell_type": "markdown",
   "metadata": {},
   "source": [
    "# Refresh Data on Mailings\n",
    "\n",
    "Grab the latest data from the Click2Mail database on delivery of mail."
   ]
  },
  {
   "cell_type": "code",
   "execution_count": 1,
   "metadata": {
    "collapsed": true
   },
   "outputs": [],
   "source": [
    "import json\n",
    "import time\n",
    "from collections import defaultdict\n",
    "from datetime import datetime\n",
    "from pathlib import Path\n",
    "\n",
    "import yaml\n",
    "from bs4 import BeautifulSoup\n",
    "\n",
    "from suso import click2mail, database"
   ]
  },
  {
   "cell_type": "code",
   "execution_count": null,
   "metadata": {},
   "outputs": [],
   "source": [
    "CREDENTIALS_FILE = Path.cwd() / \"..\" / \"..\" / \"..\" / \"config.yml\""
   ]
  },
  {
   "cell_type": "code",
   "execution_count": null,
   "metadata": {},
   "outputs": [],
   "source": [
    "with open(CREDENTIALS_FILE) as f:\n",
    "    config = yaml.load(f)"
   ]
  },
  {
   "cell_type": "code",
   "execution_count": 2,
   "metadata": {
    "collapsed": true
   },
   "outputs": [],
   "source": [
    "client = click2mail.Click2MailClient(is_production=True)\n",
    "client.login(config[\"click2mail\"][\"username\"], config[\"click2mail\"][\"password\"])"
   ]
  },
  {
   "cell_type": "code",
   "execution_count": 5,
   "metadata": {
    "collapsed": true
   },
   "outputs": [],
   "source": [
    "r = client._post(\"account\", \"authorize\")"
   ]
  },
  {
   "cell_type": "code",
   "execution_count": 7,
   "metadata": {},
   "outputs": [
    {
     "name": "stdout",
     "output_type": "stream",
     "text": [
      "2018-03-26 15:01:50.0\n",
      "2018-03-22 15:04:07.0\n",
      "2018-03-22 15:01:10.0\n",
      "2018-03-20 15:02:04.0\n",
      "2018-03-19 15:01:37.0\n",
      "2018-03-15 18:00:49.0\n",
      "2018-03-13 15:02:16.0\n",
      "2018-03-12 15:02:21.0\n",
      "2018-03-09 14:02:06.0\n",
      "2018-03-08 15:01:39.0\n",
      "2018-03-06 15:00:41.0\n",
      "2018-03-01 14:02:02.0\n",
      "2018-02-28 14:01:30.0\n",
      "2018-02-28 09:17:59.0\n",
      "2018-02-28 09:15:07.0\n",
      "2018-02-28 09:12:30.0\n",
      "2018-02-26 16:00:57.0\n",
      "2018-02-22 18:20:09.0\n",
      "2018-02-20 14:49:46.0\n",
      "2018-02-15 16:01:32.0\n",
      "2018-02-14 15:19:09.0\n",
      "2018-02-13 12:56:17.0\n",
      "2018-02-12 16:12:09.0\n",
      "2018-02-12 10:53:00.0\n",
      "2018-02-09 12:34:34.0\n",
      "2018-02-08 14:49:21.0\n",
      "2018-02-08 13:50:30.0\n",
      "2018-02-08 13:46:10.0\n",
      "2018-02-06 14:41:20.0\n",
      "2018-02-05 16:51:31.0\n",
      "2018-02-05 14:40:50.0\n",
      "2018-02-02 15:49:46.0\n",
      "2018-02-01 16:19:42.0\n",
      "2018-01-31 16:19:49.0\n",
      "2018-01-31 10:08:31.0\n",
      "2018-01-30 16:20:03.0\n",
      "2018-01-30 10:26:05.0\n",
      "2018-01-30 10:23:13.0\n",
      "2018-01-26 16:57:11.0\n",
      "2018-01-26 16:54:16.0\n",
      "2018-01-26 16:52:01.0\n",
      "2018-01-26 16:30:09.0\n",
      "2018-01-26 16:27:03.0\n",
      "2018-01-19 09:56:00.0\n",
      "2018-01-19 09:39:37.0\n",
      "2018-01-17 16:58:51.0\n",
      "2018-01-16 14:57:16.0\n",
      "2018-01-12 16:08:12.0\n",
      "2018-01-12 13:37:56.0\n",
      "2018-01-11 13:34:50.0\n",
      "2018-01-11 13:21:49.0\n",
      "2018-01-08 19:02:37.0\n",
      "2018-01-04 18:15:52.0\n",
      "2018-01-03 16:43:42.0\n"
     ]
    }
   ],
   "source": [
    "document_ids = []\n",
    "\n",
    "offset = 0\n",
    "\n",
    "while True:\n",
    "    r = client._get(\"documents\", query={\"offset\": offset, \"numberOfDocuments\": 10})\n",
    "    soup = BeautifulSoup(r.content, \"xml\")\n",
    "    docs = soup.find(\"documents\")\n",
    "\n",
    "    # Quit if we have a bad status\n",
    "    if int(docs.find(\"status\").text) != 0:\n",
    "        break\n",
    "    doc_list = docs.find(\"documentList\").findAll(\"document\")\n",
    "    document_ids.extend(int(doc.find(\"id\").text) for doc in doc_list)\n",
    "\n",
    "    # Quit if there are few than 10 documents returned\n",
    "    if len(doc_list) < 10:\n",
    "        break\n",
    "\n",
    "    offset += 10\n",
    "    print(doc_list[0].find(\"lastUpdated\").text)\n",
    "    time.sleep(1)"
   ]
  },
  {
   "cell_type": "code",
   "execution_count": 15,
   "metadata": {
    "collapsed": true
   },
   "outputs": [],
   "source": [
    "conn = database.get_connection(config[\"db\"])\n",
    "curs = conn.cursor()\n",
    "\n",
    "curs.execute(\"\"\"SELECT student_id FROM jobs_new\"\"\")\n",
    "known_student_ids = [x[0] for x in curs.fetchall()]\n",
    "\n",
    "curs.close()\n",
    "conn.close()"
   ]
  },
  {
   "cell_type": "code",
   "execution_count": 14,
   "metadata": {},
   "outputs": [
    {
     "name": "stdout",
     "output_type": "stream",
     "text": [
      "Finished 10 / 541\n",
      "Finished 20 / 541\n",
      "Finished 30 / 541\n",
      "Finished 40 / 541\n",
      "Finished 50 / 541\n",
      "Finished 60 / 541\n",
      "Finished 70 / 541\n",
      "Finished 80 / 541\n",
      "Finished 90 / 541\n",
      "Finished 100 / 541\n",
      "Finished 110 / 541\n",
      "Finished 120 / 541\n",
      "Finished 130 / 541\n",
      "Finished 140 / 541\n",
      "Finished 150 / 541\n",
      "Finished 160 / 541\n",
      "Finished 170 / 541\n",
      "Finished 180 / 541\n",
      "Finished 190 / 541\n",
      "Finished 200 / 541\n",
      "Finished 210 / 541\n",
      "Finished 220 / 541\n",
      "Finished 230 / 541\n",
      "Finished 240 / 541\n",
      "Finished 250 / 541\n",
      "Finished 260 / 541\n",
      "Finished 270 / 541\n",
      "Finished 280 / 541\n",
      "Finished 290 / 541\n",
      "Finished 300 / 541\n",
      "Finished 310 / 541\n",
      "Finished 320 / 541\n",
      "Finished 330 / 541\n",
      "Finished 340 / 541\n",
      "Finished 350 / 541\n",
      "Finished 360 / 541\n",
      "Finished 370 / 541\n",
      "Finished 380 / 541\n",
      "Finished 390 / 541\n",
      "Finished 400 / 541\n",
      "Finished 410 / 541\n",
      "Finished 420 / 541\n",
      "Finished 430 / 541\n",
      "Finished 440 / 541\n",
      "Finished 450 / 541\n",
      "Finished 460 / 541\n",
      "Finished 470 / 541\n",
      "Finished 480 / 541\n",
      "Finished 490 / 541\n",
      "Finished 500 / 541\n",
      "Finished 510 / 541\n",
      "Finished 520 / 541\n",
      "Finished 540 / 541\n"
     ]
    }
   ],
   "source": [
    "job_to_name = defaultdict(list)\n",
    "document_ids = set(document_ids)\n",
    "\n",
    "for i, doc_id in enumerate(document_ids):\n",
    "    r = client._get(\"documents\", \"jobDocuments\", query={\"documentId\": doc_id})\n",
    "    soup = BeautifulSoup(r.content, \"xml\")\n",
    "\n",
    "    try:\n",
    "        job_id = int(soup.find(\"jobId\").text)\n",
    "        job_to_name[job_id].append(soup.find(\"document\").text)\n",
    "    except AttributeError:\n",
    "        continue\n",
    "\n",
    "    if i % 10 == 9:\n",
    "        print(f\"Finished {i + 1} / {len(document_ids)}\")\n",
    "    time.sleep(1)"
   ]
  },
  {
   "cell_type": "code",
   "execution_count": null,
   "metadata": {
    "collapsed": true
   },
   "outputs": [],
   "source": []
  },
  {
   "cell_type": "code",
   "execution_count": 19,
   "metadata": {
    "collapsed": true
   },
   "outputs": [],
   "source": [
    "answers = {\n",
    "    job_id: {x.split(\" \")[-1].split(\"_\")[0] for x in document_names}\n",
    "    for job_id, document_names in job_to_name.items()\n",
    "}"
   ]
  },
  {
   "cell_type": "code",
   "execution_count": 20,
   "metadata": {},
   "outputs": [
    {
     "data": {
      "text/plain": [
       "{1}"
      ]
     },
     "execution_count": 20,
     "metadata": {},
     "output_type": "execute_result"
    }
   ],
   "source": [
    "{len(v) for v in answers.values()}"
   ]
  },
  {
   "cell_type": "code",
   "execution_count": 21,
   "metadata": {
    "collapsed": true
   },
   "outputs": [],
   "source": [
    "answers = {k: int(list(v)[0]) for k, v in answers.items()}\n",
    "job_id_to_clid = answers\n",
    "len(job_id_to_clid)"
   ]
  },
  {
   "cell_type": "code",
   "execution_count": 25,
   "metadata": {
    "collapsed": true
   },
   "outputs": [],
   "source": [
    "job_id_to_status = {}"
   ]
  },
  {
   "cell_type": "code",
   "execution_count": 26,
   "metadata": {},
   "outputs": [
    {
     "name": "stdout",
     "output_type": "stream",
     "text": [
      "An attribute error occured for id 1775318\n",
      "An attribute error occured for id 1798000\n",
      "Finished 500 / 527\n",
      "Finished 510 / 527\n"
     ]
    }
   ],
   "source": [
    "for i, job_id in enumerate(job_id_to_clid):\n",
    "    if job_id in job_id_to_status:\n",
    "        continue\n",
    "    if job_id_to_clid[job_id] in known_student_ids:\n",
    "        continue\n",
    "    r = client._get(\"jobs\", str(job_id), \"tracking\", query={\"trackingType\": \"IMB\"})\n",
    "    soup = BeautifulSoup(r.content, \"xml\")\n",
    "    try:\n",
    "        piece = soup.find(\"tracking\").find(\"mailPiece\")\n",
    "        status = piece.find(\"status\").text\n",
    "        status_time = piece.find(\"dateTime\").text\n",
    "    except AttributeError:\n",
    "        print(f\"An attribute error occured for id {job_id}\")\n",
    "        continue\n",
    "    job_id_to_status[job_id] = (status, status_time)\n",
    "    if i % 10 == 9:\n",
    "        print(f\"Finished {i + 1} / {len(job_id_to_clid)}\")\n",
    "    time.sleep(1)"
   ]
  },
  {
   "cell_type": "code",
   "execution_count": 47,
   "metadata": {
    "collapsed": true
   },
   "outputs": [],
   "source": [
    "conn = database.get_connection(config[\"db\"])\n",
    "curs = conn.cursor()"
   ]
  },
  {
   "cell_type": "code",
   "execution_count": 49,
   "metadata": {
    "collapsed": true
   },
   "outputs": [],
   "source": [
    "curs.execute(\"\"\"SELECT id FROM students_new;\"\"\")\n",
    "all_student_ids = [x[0] for x in curs.fetchall()]"
   ]
  },
  {
   "cell_type": "code",
   "execution_count": 50,
   "metadata": {
    "collapsed": true
   },
   "outputs": [],
   "source": [
    "for job_id, student_id in job_id_to_clid.items():\n",
    "    if student_id in known_student_ids:\n",
    "        continue\n",
    "    if student_id not in all_student_ids:\n",
    "        continue\n",
    "    curs.execute(\n",
    "        \"\"\"\n",
    "        INSERT INTO jobs_new\n",
    "          (id, student_id)\n",
    "        VALUES\n",
    "          (?, ?)\n",
    "        \"\"\",\n",
    "        (job_id, student_id),\n",
    "    )"
   ]
  },
  {
   "cell_type": "code",
   "execution_count": 51,
   "metadata": {
    "collapsed": true
   },
   "outputs": [],
   "source": [
    "conn.commit()\n",
    "conn.close()"
   ]
  },
  {
   "cell_type": "code",
   "execution_count": 52,
   "metadata": {},
   "outputs": [
    {
     "data": {
      "text/plain": [
       "(1905207, ('USPS Indicated Delivered', '2018-01-13 10:25:07.0'))"
      ]
     },
     "execution_count": 52,
     "metadata": {},
     "output_type": "execute_result"
    }
   ],
   "source": [
    "list(job_id_to_status.items())[0]"
   ]
  },
  {
   "cell_type": "code",
   "execution_count": 7,
   "metadata": {
    "collapsed": true
   },
   "outputs": [],
   "source": [
    "conn = database.get_connection(config[\"db\"])\n",
    "curs = conn.cursor()\n",
    "\n",
    "curs.execute(\"SELECT id FROM jobs_new\")\n",
    "all_job_ids = [x[0] for x in curs.fetchall()]"
   ]
  },
  {
   "cell_type": "code",
   "execution_count": 10,
   "metadata": {},
   "outputs": [
    {
     "name": "stdout",
     "output_type": "stream",
     "text": [
      "Finished 10 / 676\n",
      "Finished 20 / 676\n",
      "Finished 30 / 676\n",
      "Finished 40 / 676\n",
      "Finished 50 / 676\n",
      "Finished 60 / 676\n",
      "Finished 70 / 676\n",
      "Finished 80 / 676\n",
      "Finished 90 / 676\n",
      "Finished 100 / 676\n",
      "Finished 110 / 676\n",
      "Finished 120 / 676\n",
      "Finished 130 / 676\n",
      "Finished 140 / 676\n",
      "Finished 150 / 676\n",
      "Finished 160 / 676\n",
      "Finished 170 / 676\n",
      "Finished 180 / 676\n",
      "Finished 190 / 676\n",
      "Finished 200 / 676\n",
      "Finished 210 / 676\n",
      "Finished 220 / 676\n",
      "Finished 230 / 676\n",
      "Finished 240 / 676\n",
      "Finished 250 / 676\n",
      "Finished 260 / 676\n",
      "Finished 270 / 676\n",
      "Finished 280 / 676\n",
      "Finished 290 / 676\n",
      "Finished 300 / 676\n",
      "Finished 310 / 676\n",
      "Finished 320 / 676\n",
      "Finished 330 / 676\n",
      "Finished 340 / 676\n",
      "Finished 350 / 676\n",
      "Finished 360 / 676\n",
      "Finished 370 / 676\n",
      "Finished 380 / 676\n",
      "Finished 390 / 676\n",
      "Finished 400 / 676\n",
      "Finished 410 / 676\n",
      "Finished 420 / 676\n",
      "Finished 430 / 676\n",
      "Finished 440 / 676\n",
      "Finished 450 / 676\n",
      "Finished 460 / 676\n",
      "Finished 470 / 676\n",
      "Finished 480 / 676\n",
      "Finished 490 / 676\n",
      "Finished 500 / 676\n",
      "Finished 510 / 676\n",
      "Finished 520 / 676\n",
      "Finished 530 / 676\n",
      "Finished 540 / 676\n",
      "An attribute error occured for id 1775318\n",
      "Finished 550 / 676\n",
      "Finished 560 / 676\n",
      "Finished 570 / 676\n",
      "Finished 580 / 676\n",
      "An attribute error occured for id 1980239\n",
      "An attribute error occured for id 1980243\n",
      "An attribute error occured for id 1980247\n",
      "An attribute error occured for id 1980252\n",
      "Finished 600 / 676\n",
      "Finished 610 / 676\n",
      "Finished 620 / 676\n",
      "Finished 630 / 676\n",
      "Finished 640 / 676\n",
      "Finished 650 / 676\n",
      "Finished 660 / 676\n",
      "Finished 670 / 676\n"
     ]
    }
   ],
   "source": [
    "set_job_ids = set(all_job_ids)\n",
    "job_id_to_status = {}\n",
    "for i, job_id in enumerate(set_job_ids):\n",
    "    r = client._get(\"jobs\", str(job_id), \"tracking\", query={\"trackingType\": \"IMB\"})\n",
    "    soup = BeautifulSoup(r.content, \"xml\")\n",
    "    try:\n",
    "        piece = soup.find(\"tracking\").find(\"mailPiece\")\n",
    "        status = piece.find(\"status\").text\n",
    "        status_time = piece.find(\"dateTime\").text\n",
    "    except AttributeError:\n",
    "        print(f\"An attribute error occured for id {job_id}\")\n",
    "        continue\n",
    "    job_id_to_status[job_id] = (status, status_time)\n",
    "    if i % 10 == 9:\n",
    "        print(f\"Finished {i + 1} / {len(set_job_ids)}\")\n",
    "    time.sleep(1)"
   ]
  },
  {
   "cell_type": "code",
   "execution_count": 11,
   "metadata": {
    "collapsed": true
   },
   "outputs": [],
   "source": [
    "conn = database.get_connection(config[\"db\"])\n",
    "curs = conn.cursor()\n",
    "for job_id, (status, status_datetime) in job_id_to_status.items():\n",
    "    if job_id not in all_job_ids:\n",
    "        continue\n",
    "    curs.execute(\n",
    "        \"\"\"\n",
    "        INSERT INTO mailings_new\n",
    "          (job_id, status, status_datetime)\n",
    "        VALUES\n",
    "          (?, ?, ?)\n",
    "        \"\"\",\n",
    "        (job_id, status, datetime.strptime(status_datetime[:-2], \"%Y-%m-%d %H:%M:%S\")),\n",
    "    )\n",
    "\n",
    "curs.close()\n",
    "conn.commit()\n",
    "conn.close()"
   ]
  }
 ],
 "metadata": {
  "kernelspec": {
   "display_name": "Python 3 (ipykernel)",
   "language": "python",
   "name": "python3"
  },
  "language_info": {
   "codemirror_mode": {
    "name": "ipython",
    "version": 3
   },
   "file_extension": ".py",
   "mimetype": "text/x-python",
   "name": "python",
   "nbconvert_exporter": "python",
   "pygments_lexer": "ipython3",
   "version": "3.8.6"
  }
 },
 "nbformat": 4,
 "nbformat_minor": 2
}
