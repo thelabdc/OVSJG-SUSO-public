{
 "cells": [
  {
   "cell_type": "markdown",
   "metadata": {},
   "source": [
    "# Evaluating the SUSO outreach letters\n",
    "\n",
    "This notebook gathers data about the automated letters sent to a random assignment of SUSO-eligible families increase the rate at which those families engage with SUSO CBOs. It does not merge or otherwise analyze the data.  "
   ]
  },
  {
   "cell_type": "code",
   "execution_count": 1,
   "metadata": {
    "collapsed": true
   },
   "outputs": [],
   "source": [
    "import sys\n",
    "\n",
    "sys.path.append(\"..\")\n",
    "\n",
    "import copy\n",
    "import os\n",
    "from datetime import datetime\n",
    "\n",
    "import numpy as np\n",
    "import pandas as pd\n",
    "import pyodbc\n",
    "import yaml\n",
    "\n",
    "from suso import eto"
   ]
  },
  {
   "cell_type": "markdown",
   "metadata": {},
   "source": [
    "# Obtain secrets\n",
    "Secrets for the various data sources must be stored in a config.yml file before conducting any analyses. "
   ]
  },
  {
   "cell_type": "code",
   "execution_count": 2,
   "metadata": {
    "collapsed": true
   },
   "outputs": [],
   "source": [
    "DATA_DIR = os.path.join(\"..\", \"data\")\n",
    "\n",
    "CONFIG_FILE = \"config.yml\"\n",
    "\n",
    "with open(CONFIG_FILE) as f:\n",
    "    config = yaml.load(f)"
   ]
  },
  {
   "cell_type": "markdown",
   "metadata": {},
   "source": [
    "# Connect to Lab SUSO Database\n",
    "\n",
    "All of the data we need is contained in the MS SQL Server database created specifically for this purpose. "
   ]
  },
  {
   "cell_type": "code",
   "execution_count": 3,
   "metadata": {
    "collapsed": true
   },
   "outputs": [],
   "source": [
    "def get_connection(config):\n",
    "    config = copy.copy(config)\n",
    "    config[\"uid\"] = config[\"username\"]\n",
    "    config[\"pwd\"] = config[\"password\"]\n",
    "    del config[\"username\"]\n",
    "    del config[\"password\"]\n",
    "    return pyodbc.connect(**config)"
   ]
  },
  {
   "cell_type": "markdown",
   "metadata": {},
   "source": [
    "get tables"
   ]
  },
  {
   "cell_type": "code",
   "execution_count": 5,
   "metadata": {
    "collapsed": true
   },
   "outputs": [],
   "source": [
    "def table_to_df(table_name):\n",
    "    conn = get_connection(config[\"db\"])\n",
    "    cursor = conn.cursor()\n",
    "    cursor.execute(f\"\"\"SELECT * FROM {table_name}_new\"\"\")\n",
    "    column_list = [column[0] for column in cursor.description]\n",
    "    df = pd.DataFrame.from_records(cursor.fetchall(), columns=column_list)\n",
    "    cursor.close()\n",
    "    df_to_csv(df, table_name)\n",
    "    globals()[table_name] = df\n",
    "    return df\n",
    "\n",
    "\n",
    "def df_to_csv(df, table_name):\n",
    "    file_name = table_name + \"\"\".csv\"\"\"\n",
    "    file_path = os.path.join(DATA_DIR, file_name)\n",
    "    df.to_csv(file_path, encoding=\"utf-8\")\n",
    "\n",
    "\n",
    "tables = [\"students\", \"randomizer\", \"jobs\", \"mailings\", \"status\"]\n",
    "for table_name in tables:\n",
    "    table_to_df(table_name)"
   ]
  },
  {
   "cell_type": "markdown",
   "metadata": {},
   "source": [
    "# Connect to ETO db\n"
   ]
  },
  {
   "cell_type": "code",
   "execution_count": 6,
   "metadata": {
    "collapsed": true
   },
   "outputs": [],
   "source": [
    "api = eto.ApiHandler()\n",
    "api.login(config[\"eto\"][\"username\"], config[\"eto\"][\"password\"])"
   ]
  },
  {
   "cell_type": "markdown",
   "metadata": {},
   "source": [
    "This is very slow, so we'll check for data first. "
   ]
  },
  {
   "cell_type": "code",
   "execution_count": 7,
   "metadata": {
    "collapsed": true
   },
   "outputs": [],
   "source": [
    "begin_date = \"2018-01-04\"\n",
    "end_date = datetime.now().strftime(\"%Y-%m-%d\")\n",
    "\n",
    "data_file = os.path.join(DATA_DIR, \"eto_data.csv\")\n",
    "\n",
    "get_data = False\n",
    "if get_data:\n",
    "    if os.path.isfile(data_file):\n",
    "        existing_data = pd.read_csv(data_file)\n",
    "        begin_date = (\n",
    "            pd.to_datetime(existing_data[\"start_date\"]).max().strftime(\"%Y-%m-%d\")\n",
    "        )\n",
    "        new_data = api.get_all_participants(begin_date, end_date)\n",
    "        if len(new_data) < 2:\n",
    "            eto_data = existing_data\n",
    "        else:\n",
    "            eto_data = pd.concat([existing_data, new_data])\n",
    "        eto_data.to_csv(data_file, index=False)\n",
    "    else:\n",
    "        eto_data = api.get_all_participants(begin_date, end_date)\n",
    "        eto_data.to_csv(data_file, index=False)\n",
    "else:\n",
    "    eto_data = pd.read_csv(data_file)"
   ]
  },
  {
   "cell_type": "code",
   "execution_count": 8,
   "metadata": {
    "collapsed": true
   },
   "outputs": [],
   "source": [
    "eto_data[\"start_delta\"] = (\n",
    "    pd.to_datetime(end_date) - pd.to_datetime(eto_data.start_date)\n",
    ").dt.days\n",
    "eto_data[\"two_weeks_up\"] = [(x > 14) for x in eto_data[\"DaysInProgram\"]]"
   ]
  },
  {
   "cell_type": "code",
   "execution_count": 9,
   "metadata": {},
   "outputs": [
    {
     "data": {
      "text/html": [
       "<div>\n",
       "<style>\n",
       "    .dataframe thead tr:only-child th {\n",
       "        text-align: right;\n",
       "    }\n",
       "\n",
       "    .dataframe thead th {\n",
       "        text-align: left;\n",
       "    }\n",
       "\n",
       "    .dataframe tbody tr th {\n",
       "        vertical-align: top;\n",
       "    }\n",
       "</style>\n",
       "<table border=\"1\" class=\"dataframe\">\n",
       "  <thead>\n",
       "    <tr style=\"text-align: right;\">\n",
       "      <th></th>\n",
       "      <th>start_delta</th>\n",
       "      <th>DaysInProgram</th>\n",
       "    </tr>\n",
       "  </thead>\n",
       "  <tbody>\n",
       "    <tr>\n",
       "      <th>count</th>\n",
       "      <td>2315.000000</td>\n",
       "      <td>2315.000000</td>\n",
       "    </tr>\n",
       "    <tr>\n",
       "      <th>mean</th>\n",
       "      <td>152.017279</td>\n",
       "      <td>45.256156</td>\n",
       "    </tr>\n",
       "    <tr>\n",
       "      <th>std</th>\n",
       "      <td>39.368696</td>\n",
       "      <td>43.985644</td>\n",
       "    </tr>\n",
       "    <tr>\n",
       "      <th>min</th>\n",
       "      <td>63.000000</td>\n",
       "      <td>0.000000</td>\n",
       "    </tr>\n",
       "    <tr>\n",
       "      <th>25%</th>\n",
       "      <td>114.000000</td>\n",
       "      <td>12.000000</td>\n",
       "    </tr>\n",
       "    <tr>\n",
       "      <th>50%</th>\n",
       "      <td>156.000000</td>\n",
       "      <td>26.000000</td>\n",
       "    </tr>\n",
       "    <tr>\n",
       "      <th>75%</th>\n",
       "      <td>189.000000</td>\n",
       "      <td>77.000000</td>\n",
       "    </tr>\n",
       "    <tr>\n",
       "      <th>max</th>\n",
       "      <td>209.000000</td>\n",
       "      <td>150.000000</td>\n",
       "    </tr>\n",
       "  </tbody>\n",
       "</table>\n",
       "</div>"
      ],
      "text/plain": [
       "       start_delta  DaysInProgram\n",
       "count  2315.000000    2315.000000\n",
       "mean    152.017279      45.256156\n",
       "std      39.368696      43.985644\n",
       "min      63.000000       0.000000\n",
       "25%     114.000000      12.000000\n",
       "50%     156.000000      26.000000\n",
       "75%     189.000000      77.000000\n",
       "max     209.000000     150.000000"
      ]
     },
     "execution_count": 9,
     "metadata": {},
     "output_type": "execute_result"
    }
   ],
   "source": [
    "eto_data[[\"start_delta\", \"DaysInProgram\", \"two_weeks_up\"]].describe()"
   ]
  },
  {
   "cell_type": "code",
   "execution_count": 10,
   "metadata": {
    "collapsed": true
   },
   "outputs": [],
   "source": [
    "def parse_date(datestring):  # for .Net json tic crappiness\n",
    "    timepart = datestring.split(\"(\")[1].split(\")\")[0]\n",
    "    milliseconds = int(timepart[:-5])\n",
    "    hours = int(timepart[-5:]) / 100\n",
    "    time = milliseconds / 1000\n",
    "    dt = pd.to_datetime(datetime.utcfromtimestamp(time + hours * 3600))\n",
    "    return dt\n",
    "\n",
    "\n",
    "eto_data[\"start_date\"] = eto_data.ProgramStartDate.apply(parse_date)"
   ]
  },
  {
   "cell_type": "code",
   "execution_count": 11,
   "metadata": {
    "collapsed": true
   },
   "outputs": [],
   "source": [
    "eto_data.drop([\"CustomFields\", \"youth_club1\", \"youth_club2\"], axis=1, inplace=True)"
   ]
  },
  {
   "cell_type": "code",
   "execution_count": 12,
   "metadata": {
    "collapsed": true
   },
   "outputs": [],
   "source": [
    "eto_data.to_csv(data_file, encoding=\"utf-8\", index=False)"
   ]
  }
 ],
 "metadata": {
  "kernelspec": {
   "display_name": "Python 3",
   "language": "python",
   "name": "python3"
  },
  "language_info": {
   "codemirror_mode": {
    "name": "ipython",
    "version": 3
   },
   "file_extension": ".py",
   "mimetype": "text/x-python",
   "name": "python",
   "nbconvert_exporter": "python",
   "pygments_lexer": "ipython3",
   "version": "3.6.6"
  }
 },
 "nbformat": 4,
 "nbformat_minor": 2
}
