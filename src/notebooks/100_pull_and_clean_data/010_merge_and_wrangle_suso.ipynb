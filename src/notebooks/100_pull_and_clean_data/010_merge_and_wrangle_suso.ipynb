{
 "cells": [
  {
   "cell_type": "markdown",
   "metadata": {},
   "source": [
    "# Evaluating the SUSO outreach letters\n",
    "\n",
    "This script pulls data from several sources and analyzes them using Kevin Wilson's bayesian AB testing script. The question it seeks to answer is: do the automated letters sent to a random assignment of SUSO-eligible families increase the rate at which those families engage with SUSO CBOs. \n",
    "\n",
    "For more information on the project, see: [github link]"
   ]
  },
  {
   "cell_type": "code",
   "execution_count": 1,
   "metadata": {
    "collapsed": true
   },
   "outputs": [],
   "source": [
    "import sys\n",
    "\n",
    "sys.path.append(\"..\")\n",
    "\n",
    "import os\n",
    "from datetime import datetime\n",
    "\n",
    "import numpy as np\n",
    "import pandas as pd"
   ]
  },
  {
   "cell_type": "markdown",
   "metadata": {},
   "source": [
    "# load data\n",
    "\n",
    "We're going to read in a bunch of data before merging it.  "
   ]
  },
  {
   "cell_type": "code",
   "execution_count": 2,
   "metadata": {
    "collapsed": true
   },
   "outputs": [],
   "source": [
    "def read_df(df_name):\n",
    "    data_source = os.path.join(\"..\", \"data\", df_name + \".csv\")\n",
    "    df = pd.read_csv(data_source)\n",
    "    return df\n",
    "\n",
    "\n",
    "students = read_df(\"students\")\n",
    "randomizer = read_df(\"randomizer\")\n",
    "jobs = read_df(\"jobs\")\n",
    "mailings = read_df(\"mailings\")\n",
    "eto_data = read_df(\"eto_data\")"
   ]
  },
  {
   "cell_type": "markdown",
   "metadata": {},
   "source": [
    "# merge all the data about the experiment\n",
    "merge students & randomizer data"
   ]
  },
  {
   "cell_type": "code",
   "execution_count": 3,
   "metadata": {},
   "outputs": [
    {
     "data": {
      "text/plain": [
       "22527    1\n",
       "23090    1\n",
       "23081    1\n",
       "23082    1\n",
       "18987    1\n",
       "Name: student_id, dtype: int64"
      ]
     },
     "execution_count": 3,
     "metadata": {},
     "output_type": "execute_result"
    }
   ],
   "source": [
    "columns = [\"id\", \"guardian_firstname\", \"guardian_lastname\"]\n",
    "df = pd.merge(\n",
    "    students[columns], randomizer, how=\"left\", left_on=\"id\", right_on=\"student_id\"\n",
    ")\n",
    "df.drop([\"student_id\", \"created_at\"], axis=1, inplace=True)\n",
    "df = df.rename(columns={\"id\": \"student_id\"})\n",
    "df.student_id.value_counts().head()"
   ]
  },
  {
   "cell_type": "code",
   "execution_count": 4,
   "metadata": {},
   "outputs": [
    {
     "data": {
      "text/plain": [
       "True     683\n",
       "False    653\n",
       "Name: is_treatment, dtype: int64"
      ]
     },
     "execution_count": 4,
     "metadata": {},
     "output_type": "execute_result"
    }
   ],
   "source": [
    "df.is_treatment.value_counts()"
   ]
  },
  {
   "cell_type": "markdown",
   "metadata": {},
   "source": [
    "dedupe add jobs data"
   ]
  },
  {
   "cell_type": "code",
   "execution_count": 5,
   "metadata": {},
   "outputs": [
    {
     "name": "stdout",
     "output_type": "stream",
     "text": [
      "Number of treated students without an associated job_id: 19\n",
      "Number of rows: 1492\n"
     ]
    }
   ],
   "source": [
    "jobs_deduped = jobs.sort_values([\"student_id\", \"created_at\"]).drop_duplicates(\n",
    "    \"student_id\", keep=\"last\"\n",
    ")\n",
    "df = pd.merge(df, jobs_deduped, how=\"left\", on=\"student_id\")\n",
    "df.drop([\"created_at\"], axis=1, inplace=True)\n",
    "df = df.rename(columns={\"id\": \"job_id\"})\n",
    "\n",
    "print(\n",
    "    \"Number of treated students without an associated job_id: \"\n",
    "    + str(df[df.is_treatment == True].job_id.isnull().sum())\n",
    ")\n",
    "print(\"Number of rows:\", len(df))"
   ]
  },
  {
   "cell_type": "markdown",
   "metadata": {},
   "source": [
    "Add Mailings data.  "
   ]
  },
  {
   "cell_type": "code",
   "execution_count": 6,
   "metadata": {
    "scrolled": false
   },
   "outputs": [
    {
     "name": "stdout",
     "output_type": "stream",
     "text": [
      "Number of treated students without an associated job_id: 19\n",
      "Number of rows: 1492\n"
     ]
    },
    {
     "data": {
      "text/plain": [
       "22527    1\n",
       "23090    1\n",
       "23081    1\n",
       "23082    1\n",
       "18987    1\n",
       "Name: student_id, dtype: int64"
      ]
     },
     "execution_count": 6,
     "metadata": {},
     "output_type": "execute_result"
    }
   ],
   "source": [
    "mailings_deduped = mailings.sort_values([\"job_id\", \"status_datetime\"]).drop_duplicates(\n",
    "    \"job_id\", keep=\"last\"\n",
    ")\n",
    "df = pd.merge(df, mailings_deduped, how=\"left\", left_on=\"job_id\", right_on=\"job_id\")\n",
    "df.drop([\"id\", \"created_at\"], axis=1, inplace=True)\n",
    "df.head()\n",
    "status = df\n",
    "print(\n",
    "    \"Number of treated students without an associated job_id: \"\n",
    "    + str(df[df.is_treatment == True].job_id.isnull().sum())\n",
    ")\n",
    "print(\"Number of rows: \" + str(df.shape[0]))\n",
    "df.student_id.value_counts().head()"
   ]
  },
  {
   "cell_type": "code",
   "execution_count": 7,
   "metadata": {},
   "outputs": [
    {
     "name": "stdout",
     "output_type": "stream",
     "text": [
      "Number unassigned: 156\n"
     ]
    },
    {
     "data": {
      "text/plain": [
       "True     683\n",
       "False    653\n",
       "Name: is_treatment, dtype: int64"
      ]
     },
     "execution_count": 7,
     "metadata": {},
     "output_type": "execute_result"
    }
   ],
   "source": [
    "print(\"Number unassigned:\", df.is_treatment.isnull().sum())\n",
    "df.is_treatment.value_counts()"
   ]
  },
  {
   "cell_type": "markdown",
   "metadata": {},
   "source": [
    "# merge data about the experiment with ETO data\n",
    "Now that we have all the data about the experiment in a single data frame, we can combine it with data from ETO. "
   ]
  },
  {
   "cell_type": "code",
   "execution_count": 8,
   "metadata": {
    "collapsed": true
   },
   "outputs": [],
   "source": [
    "eto_deduped = eto_data.sort_values(\"referral_date\").drop_duplicates(\n",
    "    [\"CLID\"], keep=\"last\"\n",
    ")\n",
    "df = df.drop(\n",
    "    [\"guardian_firstname\", \"guardian_lastname\"], axis=1\n",
    ")  # bc it will be present in both and is duplicative with id\n",
    "df = df.merge(\n",
    "    eto_deduped, how=\"left\", left_on=\"student_id\", right_on=\"CLID\", copy=False\n",
    ")"
   ]
  },
  {
   "cell_type": "code",
   "execution_count": 9,
   "metadata": {},
   "outputs": [
    {
     "name": "stdout",
     "output_type": "stream",
     "text": [
      "1426 0.105189340813\n"
     ]
    }
   ],
   "source": [
    "df = df[\n",
    "    df.current_referral_status.notnull()\n",
    "]  ## Restrict sample to students with a current referral status\n",
    "df[\"engaged\"] = df.current_referral_status == \"Engaged\"\n",
    "df[\"fullname\"] = df[\"guardian_firstname\"] + \" \" + df[\"guardian_lastname\"]\n",
    "print(len(df), df.engaged.mean())"
   ]
  },
  {
   "cell_type": "code",
   "execution_count": 10,
   "metadata": {
    "collapsed": true
   },
   "outputs": [],
   "source": [
    "df.to_csv(\"../data/data_for_analysis.csv\", encoding=\"utf-8\", index=False)"
   ]
  }
 ],
 "metadata": {
  "kernelspec": {
   "display_name": "Python 3 (ipykernel)",
   "language": "python",
   "name": "python3"
  },
  "language_info": {
   "codemirror_mode": {
    "name": "ipython",
    "version": 3
   },
   "file_extension": ".py",
   "mimetype": "text/x-python",
   "name": "python",
   "nbconvert_exporter": "python",
   "pygments_lexer": "ipython3",
   "version": "3.7.11"
  }
 },
 "nbformat": 4,
 "nbformat_minor": 2
}
