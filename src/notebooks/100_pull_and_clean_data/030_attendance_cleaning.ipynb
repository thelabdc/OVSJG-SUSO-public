{
 "cells": [
  {
   "cell_type": "code",
   "execution_count": null,
   "id": "c16a74dc",
   "metadata": {},
   "outputs": [],
   "source": [
    "from pathlib import Path\n",
    "from typing import List, Optional, Union\n",
    "\n",
    "import pandas as pd\n",
    "\n",
    "from suso.utils import here"
   ]
  },
  {
   "cell_type": "code",
   "execution_count": null,
   "id": "877daab7",
   "metadata": {},
   "outputs": [],
   "source": [
    "DATA_DIR = here(\"data\")"
   ]
  },
  {
   "cell_type": "code",
   "execution_count": null,
   "id": "ac88db7e",
   "metadata": {},
   "outputs": [],
   "source": [
    "lookup_df = pd.read_pickle(DATA_DIR / \"suso_osse_lookup.pkl\")"
   ]
  },
  {
   "cell_type": "code",
   "execution_count": null,
   "id": "c0cbdd37",
   "metadata": {},
   "outputs": [],
   "source": [
    "def attendance_outcomes(\n",
    "    path: Union[List[Path], Path],\n",
    "    unexcused_names: List[str],\n",
    "    excused_names: List[str],\n",
    "    present_names: Optional[List[str]] = None,\n",
    "    non_school_day_names: Optional[List[str]] = None,\n",
    ") -> pd.DataFrame:\n",
    "\n",
    "    if isinstance(path, Path):\n",
    "        df = pd.read_parquet(\n",
    "            path,\n",
    "            columns=[\n",
    "                \"usi\",\n",
    "                \"AttendanceDate\",\n",
    "                \"StudentLocalID\",\n",
    "                \"Attendance_Status_Desc\",\n",
    "                \"Weekday_Name\",\n",
    "                \"Enr_SchoolName\",\n",
    "            ],\n",
    "        )\n",
    "    else:\n",
    "        df = pd.concat(\n",
    "            [\n",
    "                pd.read_parquet(\n",
    "                    pth,\n",
    "                    columns=[\n",
    "                        \"usi\",\n",
    "                        \"AttendanceDate\",\n",
    "                        \"StudentLocalID\",\n",
    "                        \"Attendance_Status_Desc\",\n",
    "                        \"Weekday_Name\",\n",
    "                        \"Enr_SchoolName\",\n",
    "                    ],\n",
    "                )\n",
    "                for pth in path\n",
    "            ]\n",
    "        )\n",
    "\n",
    "    print(\"The attendance status codes:\")\n",
    "    print(df[\"Attendance_Status_Desc\"].value_counts(dropna=False))\n",
    "\n",
    "    df[\"is_unexcused\"] = df[\"Attendance_Status_Desc\"].isin(unexcused_names)\n",
    "    df[\"is_excusedorunexcused\"] = df[\"Attendance_Status_Desc\"].isin(\n",
    "        unexcused_names + excused_names\n",
    "    )\n",
    "    if present_names:\n",
    "        df[\"is_schooldays\"] = df[\"Attendance_Status_Desc\"].isin(\n",
    "            unexcused_names + excused_names + present_names\n",
    "        )\n",
    "    else:\n",
    "        df[\"is_schooldays\"] = ~df[\"Attendance_Status_Desc\"].isin(non_school_day_names)\n",
    "\n",
    "    df = df.sort_values(by=[\"usi\", \"AttendanceDate\"])\n",
    "\n",
    "    cum_df = df.groupby(\"usi\")[\n",
    "        [\"is_unexcused\", \"is_excusedorunexcused\", \"is_schooldays\"]\n",
    "    ].cumsum()\n",
    "    cum_df.rename(\n",
    "        columns={col: f\"total_{col[3:]}\" for col in cum_df.columns}, inplace=True\n",
    "    )\n",
    "\n",
    "    df = pd.concat([df, cum_df], axis=1)\n",
    "\n",
    "    df[\"truant_indicator\"] = (df[\"total_unexcused\"] >= 10).astype(int)\n",
    "    df[\"chronicabsent_ratio\"] = df[\"total_excusedorunexcused\"] / df[\"total_schooldays\"]\n",
    "    df[\"chronicabsent_indicator\"] = (df[\"chronicabsent_ratio\"] >= 0.1).astype(int)\n",
    "\n",
    "    df = df.drop_duplicates()\n",
    "\n",
    "    df = df[df[\"usi\"].isin(lookup_df[\"usi\"])].copy()\n",
    "\n",
    "    return df"
   ]
  },
  {
   "cell_type": "code",
   "execution_count": null,
   "id": "8342feb5",
   "metadata": {},
   "outputs": [],
   "source": [
    "dcps_1718 = attendance_outcomes(\n",
    "    DATA_DIR / \"SY1718_DCPS_Attendance_Data_cleaned.parquet\",\n",
    "    unexcused_names=[\"Absent Fully Unexcused\"],\n",
    "    excused_names=[\"Absent Excused Suspension\"],\n",
    "    present_names=[\"Present Full\"],\n",
    ")\n",
    "\n",
    "dcps_1718.to_parquet(DATA_DIR / \"dcps_sy1718_attendanceoutcomes_suso.parquet\")"
   ]
  },
  {
   "cell_type": "code",
   "execution_count": null,
   "id": "78f1aa5e",
   "metadata": {},
   "outputs": [],
   "source": [
    "charter_1718 = attendance_outcomes(\n",
    "    DATA_DIR / \"SY1718_Charter_Sector_Attendance_cleaned.parquet\",\n",
    "    unexcused_names=[\"Absent Fully Unexcused\", \"Absent Partial Unexcused\"],\n",
    "    excused_names=[\"Absent Fully Excused\", \"Absent Partial Excused\"],\n",
    "    non_school_day_names=[\"Non-School Day\"],\n",
    ")\n",
    "\n",
    "charter_1718.to_parquet(DATA_DIR / \"charter_sy1718_attendanceoutcomes_suso.parquet\")"
   ]
  },
  {
   "cell_type": "code",
   "execution_count": null,
   "id": "60bd7d6c",
   "metadata": {},
   "outputs": [],
   "source": [
    "dcps_1617 = attendance_outcomes(\n",
    "    DATA_DIR / \"redacted_SY1617_DCPS_Sector_Attendance.parquet\",\n",
    "    unexcused_names=[\"Absent Fully Unexcused\"],\n",
    "    excused_names=[\"Absent Excused Suspension\", \"Absent Fully Excused\"],\n",
    "    non_school_day_names=[\"Non-School Day\"],\n",
    ")\n",
    "\n",
    "dcps_1617.to_parquet(DATA_DIR / \"dcps_sy1617_attendanceoutcomes_suso.parquet\")"
   ]
  },
  {
   "cell_type": "code",
   "execution_count": null,
   "id": "cf677188",
   "metadata": {},
   "outputs": [],
   "source": [
    "charter_1617 = attendance_outcomes(\n",
    "    DATA_DIR / \"redacted_SY1617_Charter_Sector_Attendance.parquet\",\n",
    "    unexcused_names=[\"Absent Fully Unexcused\", \"Absent Partial Unexcused\"],\n",
    "    excused_names=[\n",
    "        \"Absent Fully Excused\",\n",
    "        \"Absent Partial Excused\",\n",
    "        \"Absent - Out of School Suspension\",\n",
    "    ],\n",
    "    non_school_day_names=[\"Non-School Day\"],\n",
    ")\n",
    "charter_1617.to_parquet(DATA_DIR / \"charter_sy1617_attendanceoutcomes_suso.parquet\")"
   ]
  },
  {
   "cell_type": "code",
   "execution_count": null,
   "id": "dc51b0aa",
   "metadata": {},
   "outputs": [],
   "source": [
    "attendance_both_clean = attendance_outcomes(\n",
    "    [\n",
    "        DATA_DIR / \"SY1718_DCPS_Attendance_Data_cleaned.parquet\",\n",
    "        DATA_DIR / \"SY1718_Charter_Sector_Attendance_cleaned.parquet\",\n",
    "    ],\n",
    "    unexcused_names=[\"Absent Fully Unexcused\", \"Absent Partial Unexcused\"],\n",
    "    excused_names=[\n",
    "        \"Absent Excused Suspension\",\n",
    "        \"Absent Partial Excused\",\n",
    "        \"Absent Fully Excused\",\n",
    "    ],\n",
    "    non_school_day_names=[\"Non-School Day\"],\n",
    ")\n",
    "attendance_both_clean.to_parquet(DATA_DIR / \"attendance_both_clean.parquet\")"
   ]
  },
  {
   "cell_type": "code",
   "execution_count": null,
   "id": "36354b43",
   "metadata": {},
   "outputs": [],
   "source": []
  }
 ],
 "metadata": {
  "kernelspec": {
   "display_name": "Python 3 (ipykernel)",
   "language": "python",
   "name": "python3"
  },
  "language_info": {
   "codemirror_mode": {
    "name": "ipython",
    "version": 3
   },
   "file_extension": ".py",
   "mimetype": "text/x-python",
   "name": "python",
   "nbconvert_exporter": "python",
   "pygments_lexer": "ipython3",
   "version": "3.8.6"
  }
 },
 "nbformat": 4,
 "nbformat_minor": 5
}
