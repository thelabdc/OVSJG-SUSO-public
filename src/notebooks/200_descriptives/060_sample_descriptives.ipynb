{
 "cells": [
  {
   "cell_type": "markdown",
   "source": [
    "# Calculate descriptives regarding who's in the sample/balance"
   ],
   "metadata": {}
  },
  {
   "cell_type": "code",
   "execution_count": null,
   "source": [
    "import warnings\n",
    "\n",
    "import numpy as np\n",
    "import pandas as pd\n",
    "from plotnine import *\n",
    "\n",
    "from suso.utils import PICKLE_PROTOCOL, here\n",
    "\n",
    "warnings.filterwarnings(\"ignore\")"
   ],
   "outputs": [],
   "metadata": {}
  },
  {
   "cell_type": "code",
   "execution_count": null,
   "source": [
    "DATA_DIR = here(\"data\")\n",
    "OUTPUT_DIR = here(\"output\")"
   ],
   "outputs": [],
   "metadata": {}
  },
  {
   "cell_type": "markdown",
   "source": [
    "# Step 0: define postgres functions\n",
    "\n",
    "For now, just copied postgres functions from other script before making into a module"
   ],
   "metadata": {}
  },
  {
   "cell_type": "code",
   "execution_count": null,
   "source": [
    "def data_startofyear_outcomes(data: pd.DataFrame) -> pd.DataFrame:\n",
    "    \"\"\"\n",
    "    Get the first entry for each studenty by day\n",
    "    \"\"\"\n",
    "    return data.sort_values(by=[\"usi\", \"AttendanceDate\"]).drop_duplicates(\n",
    "        [\"usi\"], keep=\"first\"\n",
    "    )\n",
    "\n",
    "\n",
    "def data_endofyear_outcomes(data: pd.DataFrame) -> pd.DataFrame:\n",
    "    \"\"\"\n",
    "    Get the last entry for each studenty by day\n",
    "    \"\"\"\n",
    "    return data.sort_values(by=[\"usi\", \"AttendanceDate\"]).drop_duplicates(\n",
    "        [\"usi\"], keep=\"last\"\n",
    "    )\n",
    "\n",
    "\n",
    "## plotting themes\n",
    "standard_background_rotatex = theme(\n",
    "    panel_background=element_blank(),\n",
    "    panel_grid_major_y=element_blank(),\n",
    "    axis_text_x=element_text(color=\"black\", angle=90, hjust=1, size=12),\n",
    "    axis_text_y=element_text(color=\"black\", size=12),\n",
    "    legend_text=element_text(color=\"black\", size=10),\n",
    "    legend_title=element_text(color=\"black\", size=12),\n",
    "    axis_title=element_text(size=12),\n",
    "    strip_text_x=element_text(size=12),\n",
    "    legend_background=element_blank(),\n",
    "    legend_key=element_blank(),\n",
    "    panel_grid_major=element_blank(),\n",
    "    panel_grid_minor=element_blank(),\n",
    "    axis_ticks=element_blank(),\n",
    ")\n",
    "\n",
    "facet_background = theme(\n",
    "    panel_background=element_blank(),\n",
    "    panel_grid_major_y=element_blank(),\n",
    "    axis_text_x=element_blank(),\n",
    "    axis_text_y=element_text(color=\"black\", size=6),\n",
    "    legend_text=element_text(color=\"black\", size=10),\n",
    "    legend_title=element_text(color=\"black\", size=12),\n",
    "    axis_title=element_text(size=6),\n",
    "    strip_text_x=element_text(size=6),\n",
    "    legend_background=element_blank(),\n",
    "    legend_key=element_blank(),\n",
    "    panel_grid_major=element_blank(),\n",
    "    panel_grid_minor=element_blank(),\n",
    "    axis_ticks=element_blank(),\n",
    ")"
   ],
   "outputs": [],
   "metadata": {}
  },
  {
   "cell_type": "markdown",
   "source": [
    "# 1: Descriptives "
   ],
   "metadata": {}
  },
  {
   "cell_type": "markdown",
   "source": [
    "Run the helper script to generate student attributes: 6helper_summarize_studentattributes.sql"
   ],
   "metadata": {}
  },
  {
   "cell_type": "markdown",
   "source": [
    "## 1.1: Who's in the sample?\n",
    "\n"
   ],
   "metadata": {}
  },
  {
   "cell_type": "code",
   "execution_count": null,
   "source": [
    "## read in student attributes and merge\n",
    "student_attributes_public = data_startofyear_outcomes(\n",
    "    pd.read_parquet(\n",
    "        DATA_DIR / \"SY1718_DCPS_Attendance_Data_cleaned.parquet\",\n",
    "        columns=[\n",
    "            \"usi\",\n",
    "            \"AttendanceDate\",\n",
    "            \"gender\",\n",
    "            \"race\",\n",
    "            \"Enr_SchoolID\",\n",
    "            \"Enr_SchoolName\",\n",
    "            \"SEDSSPEDLEvel\",\n",
    "            \"enroll_date\",\n",
    "            \"fixed_withdrawal_date\",\n",
    "            \"LEPIndicator\",\n",
    "            \"FarmsStatusSISdesc\",\n",
    "            \"School_CEP_Status\",\n",
    "            \"Economically_Disadvantaged\",\n",
    "            \"HomelessIndicatorOSSE\",\n",
    "            \"OverageIndicator\",\n",
    "            \"AtRiskIndicator\",\n",
    "        ],\n",
    "    )\n",
    ").drop(columns=[\"AttendanceDate\"])\n",
    "\n",
    "student_attributes_charter = data_startofyear_outcomes(\n",
    "    pd.read_parquet(\n",
    "        DATA_DIR / \"SY1718_Charter_Sector_Attendance_cleaned.parquet\",\n",
    "        columns=[\n",
    "            \"usi\",\n",
    "            \"AttendanceDate\",\n",
    "            \"gender\",\n",
    "            \"race\",\n",
    "            \"Enr_SchoolID\",\n",
    "            \"Enr_SchoolName\",\n",
    "            \"SEDSSPEDLEvel\",\n",
    "            \"enroll_date\",\n",
    "            \"fixed_withdrawal_date\",\n",
    "            \"LEPIndicator\",\n",
    "            \"FarmsStatusSISdesc\",\n",
    "            \"School_CEP_Status\",\n",
    "            \"Economically_Disadvantaged\",\n",
    "            \"HomelessIndicatorOSSE\",\n",
    "            \"OverageIndicator\",\n",
    "            \"AtRiskIndicator\",\n",
    "        ],\n",
    "    )\n",
    ").drop(columns=[\"AttendanceDate\"])"
   ],
   "outputs": [],
   "metadata": {}
  },
  {
   "cell_type": "code",
   "execution_count": null,
   "source": [
    "student_attributes_all = pd.concat(\n",
    "    [student_attributes_public, student_attributes_charter]\n",
    ").drop_duplicates()"
   ],
   "outputs": [],
   "metadata": {}
  },
  {
   "cell_type": "markdown",
   "source": [
    "### 1.1.1 Create indicator for which students individually in sample or not"
   ],
   "metadata": {}
  },
  {
   "cell_type": "markdown",
   "source": [
    "Defining in sample as referred even if no valid treatment status"
   ],
   "metadata": {}
  },
  {
   "cell_type": "code",
   "execution_count": null,
   "source": [
    "## read in lookup table\n",
    "lookup_suso_attendance = pd.read_pickle(DATA_DIR / \"suso_osse_lookup.pkl\")\n",
    "df_suso = pd.read_csv(DATA_DIR / \"df_suso_merged.csv\")\n",
    "\n",
    "## suso ids of those with valid treatment status\n",
    "susoids_ref_and_treat = list(\n",
    "    set(lookup_suso_attendance.suso_id).intersection(\n",
    "        set(df_suso.student_id[df_suso.is_treatment.notnull()])\n",
    "    )\n",
    ")\n",
    "susoids_ref_or_treat = list(\n",
    "    set(lookup_suso_attendance.suso_id).intersection(set(df_suso.student_id))\n",
    ")\n",
    "\n",
    "usis_ref_and_treat = lookup_suso_attendance.usi[\n",
    "    lookup_suso_attendance.suso_id.isin(susoids_ref_and_treat)\n",
    "]\n",
    "usis_ref_or_treat = lookup_suso_attendance.usi[\n",
    "    lookup_suso_attendance.suso_id.isin(susoids_ref_or_treat)\n",
    "]"
   ],
   "outputs": [],
   "metadata": {}
  },
  {
   "cell_type": "code",
   "execution_count": null,
   "source": [
    "## create flags for in suso or not\n",
    "student_attributes_all[\"in_sample\"] = np.where(\n",
    "    student_attributes_all.usi.isin(usis_ref_or_treat), 1, 0\n",
    ")"
   ],
   "outputs": [],
   "metadata": {}
  },
  {
   "cell_type": "markdown",
   "source": [
    "### 1.1.2 Create indicator for which students are in schools that are present in the sample \n",
    "### (conservative measure of which schools are eligible for SUSO)"
   ],
   "metadata": {}
  },
  {
   "cell_type": "code",
   "execution_count": null,
   "source": [
    "schools_wsuso_students = student_attributes_all.Enr_SchoolName[\n",
    "    student_attributes_all.usi.isin(usis_ref_or_treat)\n",
    "].tolist()\n",
    "print(str(len(set(schools_wsuso_students))) + \" schools, out of \")\n",
    "print(\n",
    "    str(len(student_attributes_all.Enr_SchoolName.unique()))\n",
    "    + \" schools total have students in the sample\"\n",
    ")"
   ],
   "outputs": [],
   "metadata": {}
  },
  {
   "cell_type": "code",
   "execution_count": null,
   "source": [
    "student_attributes_all[\"in_sample_school\"] = np.where(\n",
    "    student_attributes_all.Enr_SchoolName.isin(schools_wsuso_students), 1, 0\n",
    ")"
   ],
   "outputs": [],
   "metadata": {}
  },
  {
   "cell_type": "code",
   "execution_count": null,
   "source": [
    "student_attributes_all[\"sample_and_schoolstatus\"] = np.where(\n",
    "    (student_attributes_all.in_sample == 1)\n",
    "    & (student_attributes_all.in_sample_school == 1),\n",
    "    \"In sample and\\nin SUSO-eligible school\",\n",
    "    np.where(\n",
    "        (student_attributes_all.in_sample == 0)\n",
    "        & (student_attributes_all.in_sample_school == 1),\n",
    "        \"Not in sample but\\nin SUSO-eligible school\",\n",
    "        \"Not in sample and not\\nin SUSO-eligible school\",\n",
    "    ),\n",
    ")"
   ],
   "outputs": [],
   "metadata": {}
  },
  {
   "cell_type": "markdown",
   "source": [
    "### 1.1.3: Clean student attributes"
   ],
   "metadata": {}
  },
  {
   "cell_type": "code",
   "execution_count": null,
   "source": [
    "## code races into broader cats using dictionary\n",
    "race_remap_dictionary = {\n",
    "    \"B\": \"Black\",\n",
    "    \"BL\": \"Black\",\n",
    "    \"HI\": \"Hispanic\",\n",
    "    \"H\": \"Hispanic\",\n",
    "    \"WH\": \"White\",\n",
    "    \"W\": \"White\",\n",
    "}\n",
    "student_attributes_all[\"race_nows\"] = student_attributes_all.race.str.strip()\n",
    "student_attributes_all[\n",
    "    \"race_broadercat_init\"\n",
    "] = student_attributes_all.race_nows.replace(race_remap_dictionary, inplace=False)\n",
    "student_attributes_all[\"race_broadercat\"] = np.where(\n",
    "    ~student_attributes_all.race_broadercat_init.isin([\"White\", \"Black\", \"Hispanic\"]),\n",
    "    \"Other\",\n",
    "    student_attributes_all.race_broadercat_init,\n",
    ")"
   ],
   "outputs": [],
   "metadata": {}
  },
  {
   "cell_type": "code",
   "execution_count": null,
   "source": [
    "## iterate over attributes, find\n",
    "## mean, and plot comparisons between suso\n",
    "## and not suso\n",
    "\n",
    "student_attributes_toexamine = [\n",
    "    \"LEPIndicator\",\n",
    "    \"FarmsStatusSISdesc\",\n",
    "    \"School_CEP_Status\",\n",
    "    \"Economically_Disadvantaged\",\n",
    "    \"HomelessIndicatorOSSE\",\n",
    "    \"OverageIndicator\",\n",
    "    \"AtRiskIndicator\",\n",
    "    \"gender\",\n",
    "    \"race_broadercat\",\n",
    "]\n",
    "\n",
    "student_attributes_categorical = pd.get_dummies(\n",
    "    student_attributes_all[student_attributes_toexamine]\n",
    ")\n",
    "student_attributes_categorical_names = student_attributes_categorical.columns.tolist()"
   ],
   "outputs": [],
   "metadata": {}
  },
  {
   "cell_type": "code",
   "execution_count": null,
   "source": [
    "## Dummies doesn't create a new column when there's just a True/False value\n",
    "## So we will explicitly create it\n",
    "student_attributes_categorical.columns = [\n",
    "    name if name not in student_attributes_toexamine else f\"{name}_True\"\n",
    "    for name in student_attributes_categorical_names\n",
    "]\n",
    "\n",
    "## merge back dummies with original\n",
    "student_attributes_withcat = pd.concat(\n",
    "    [student_attributes_categorical, student_attributes_all], axis=1\n",
    ")\n",
    "\n",
    "## within-suso comparison\n",
    "for_summary_morecat = student_attributes_categorical_names + [\"sample_and_schoolstatus\"]"
   ],
   "outputs": [],
   "metadata": {}
  },
  {
   "cell_type": "markdown",
   "source": [
    "# 2: Find mean of student attributes for students in suso schools but not sample, in suso schools + in sample, or not in suso schools"
   ],
   "metadata": {}
  },
  {
   "cell_type": "markdown",
   "source": [
    "## 2.1 Calculate"
   ],
   "metadata": {}
  },
  {
   "cell_type": "code",
   "execution_count": null,
   "source": [
    "mean_whetherinsuso_morecat = (\n",
    "    student_attributes_withcat[for_summary_morecat]\n",
    "    .groupby(\"sample_and_schoolstatus\")\n",
    "    .mean()\n",
    "    .T.reset_index()\n",
    ")"
   ],
   "outputs": [],
   "metadata": {}
  },
  {
   "cell_type": "code",
   "execution_count": null,
   "source": [
    "newcolnames = [\n",
    "    \"attribute_name\" if col == \"index\" else col for col in mean_whetherinsuso_morecat\n",
    "]"
   ],
   "outputs": [],
   "metadata": {}
  },
  {
   "cell_type": "code",
   "execution_count": null,
   "source": [
    "mean_whetherinsuso_morecat.columns = newcolnames"
   ],
   "outputs": [],
   "metadata": {}
  },
  {
   "cell_type": "code",
   "execution_count": null,
   "source": [
    "mean_whetherinsuso_clean_morecat = mean_whetherinsuso_morecat.loc[\n",
    "    ~mean_whetherinsuso_morecat.attribute_name.str.contains(\"Missing\")\n",
    "].copy()\n",
    "mean_whetherinsuso_clean_long_morecat = pd.melt(\n",
    "    mean_whetherinsuso_clean_morecat, id_vars=\"attribute_name\"\n",
    ")"
   ],
   "outputs": [],
   "metadata": {}
  },
  {
   "cell_type": "code",
   "execution_count": null,
   "source": [
    "## clean up attribute name\n",
    "mean_whetherinsuso_clean_long_morecat[\"attribute_name_clean\"] = (\n",
    "    mean_whetherinsuso_clean_long_morecat.attribute_name.str.replace(\"OSSE\", \"\")\n",
    "    .str.replace(\"race\\\\_broadercat\\\\_\", \"\")\n",
    "    .str.replace(\"gender\\\\_\", \"\")\n",
    "    .str.replace(\"True\", \"Yes\")\n",
    "    .str.replace(\"False\", \"No\")\n",
    ")"
   ],
   "outputs": [],
   "metadata": {}
  },
  {
   "cell_type": "code",
   "execution_count": null,
   "source": [
    "dem_vars = [\n",
    "    \"F\",\n",
    "    \"M\",\n",
    "    \"Black\",\n",
    "    \"White\",\n",
    "    \"Hispanic\",\n",
    "    \"Other\",\n",
    "    \"OverageIndicator_True\",\n",
    "    \"OverageIndicator_False\",\n",
    "    \"LEPIndicator_False\",\n",
    "    \"LEPIndicator_True\",\n",
    "]\n",
    "other_vars = [\n",
    "    var\n",
    "    for var in mean_whetherinsuso_clean_long_morecat.attribute_name_clean.unique()\n",
    "    if var not in dem_vars\n",
    "]\n",
    "all_vars = dem_vars + other_vars\n",
    "whichgroups = mean_whetherinsuso_clean_long_morecat.variable.unique()\n",
    "whichgroups_order = [\n",
    "    \"In sample and\\nin SUSO-eligible school\",\n",
    "    \"Not in sample but\\nin SUSO-eligible school\",\n",
    "    \"Not in sample and not\\nin SUSO-eligible school\",\n",
    "]"
   ],
   "outputs": [],
   "metadata": {}
  },
  {
   "cell_type": "code",
   "execution_count": null,
   "source": [
    "## order levels of category\n",
    "mean_whetherinsuso_clean_long_morecat[\"attributes_ordered\"] = pd.Categorical(\n",
    "    mean_whetherinsuso_clean_long_morecat.attribute_name_clean,\n",
    "    categories=all_vars,\n",
    "    ordered=True,\n",
    ")\n",
    "mean_whetherinsuso_clean_long_morecat[\"whichgroup_ordered\"] = pd.Categorical(\n",
    "    mean_whetherinsuso_clean_long_morecat.variable,\n",
    "    categories=whichgroups_order,\n",
    "    ordered=True,\n",
    ")"
   ],
   "outputs": [],
   "metadata": {}
  },
  {
   "cell_type": "markdown",
   "source": [
    "## 2.2: plot"
   ],
   "metadata": {}
  },
  {
   "cell_type": "code",
   "execution_count": null,
   "source": [
    "att_studycat = (\n",
    "    ggplot(\n",
    "        mean_whetherinsuso_clean_long_morecat[\n",
    "            mean_whetherinsuso_clean_long_morecat.attributes_ordered.isin(dem_vars)\n",
    "        ],\n",
    "        aes(x=\"factor(attributes_ordered)\", y=\"value\", fill=\"whichgroup_ordered\"),\n",
    "    )\n",
    "    + geom_bar(stat=\"identity\", position=\"dodge\", alpha=0.8)\n",
    "    + coord_flip()\n",
    "    + ylab(\"Percentage of students\\nin category\")\n",
    "    + xlab(\"Attribute\")\n",
    "    + standard_background_rotatex\n",
    "    + scale_fill_manual(values=(\"firebrick\", \"springgreen\", \"gray\"))\n",
    "    + theme(legend_position=(0.75, 0.7))\n",
    "    + labs(fill=\"Category\")\n",
    ")\n",
    "\n",
    "ggsave(att_studycat, OUTPUT_DIR / \"attributes_studycat.pdf\", width=12, height=8)\n",
    "\n",
    "moreatt_studycat = (\n",
    "    ggplot(\n",
    "        mean_whetherinsuso_clean_long_morecat[\n",
    "            mean_whetherinsuso_clean_long_morecat.attributes_ordered.isin(other_vars)\n",
    "        ],\n",
    "        aes(x=\"factor(attributes_ordered)\", y=\"value\", fill=\"whichgroup_ordered\"),\n",
    "    )\n",
    "    + geom_bar(stat=\"identity\", position=\"dodge\", alpha=0.8)\n",
    "    + coord_flip()\n",
    "    + ylab(\"Percentage of students\\nin category\")\n",
    "    + xlab(\"Attribute\")\n",
    "    + standard_background_rotatex\n",
    "    + scale_fill_manual(values=(\"firebrick\", \"springgreen\", \"gray\"))\n",
    "    + theme(legend_position=(0.75, 1), legend_text=element_text(size=8))\n",
    "    + labs(fill=\"Category\")\n",
    ")\n",
    "\n",
    "ggsave(\n",
    "    moreatt_studycat,\n",
    "    OUTPUT_DIR / \"moreattributes_studycat.pdf\",\n",
    "    width=12,\n",
    "    height=8,\n",
    ")"
   ],
   "outputs": [],
   "metadata": {}
  },
  {
   "cell_type": "markdown",
   "source": [
    "# 3: Check balance between the treatment and control group"
   ],
   "metadata": {}
  },
  {
   "cell_type": "markdown",
   "source": [
    "### Balance by school"
   ],
   "metadata": {}
  },
  {
   "cell_type": "markdown",
   "source": [
    "#### Engagement analytic sample"
   ],
   "metadata": {}
  },
  {
   "cell_type": "code",
   "execution_count": null,
   "source": [
    "## full data\n",
    "balance_fullsample = pd.crosstab(\n",
    "    df_suso.school_name, df_suso.is_treatment\n",
    ").reset_index()\n",
    "balance_fullsample_long = balance_fullsample.melt(id_vars=[\"school_name\"])\n",
    "balance_fullsample_long[\"group\"] = np.where(\n",
    "    balance_fullsample_long.is_treatment == False, \"Control\", \"Treatment\"\n",
    ")\n",
    "bal_byschool = (\n",
    "    ggplot(\n",
    "        balance_fullsample_long, aes(x=\"factor(group)\", y=\"value\", fill=\"factor(group)\")\n",
    "    )\n",
    "    + geom_bar(stat=\"identity\", position=\"dodge\", alpha=0.5)\n",
    "    + facet_background\n",
    "    + scale_y_continuous(breaks=(0, 25, 50))\n",
    "    + xlab(\"\")\n",
    "    + labs(fill=\"\")\n",
    "    + theme(legend_position=\"bottom\")\n",
    "    + scale_fill_manual(values=(\"#444444\", \"#2B4888\"))\n",
    "    + facet_wrap(\"~school_name\")\n",
    ")\n",
    "\n",
    "ggsave(bal_byschool, OUTPUT_DIR / \"bal_byschool.pdf\", device=\"pdf\", width=12, height=8)"
   ],
   "outputs": [],
   "metadata": {}
  },
  {
   "cell_type": "markdown",
   "source": [
    "#### Attendance analytic sample"
   ],
   "metadata": {}
  },
  {
   "cell_type": "code",
   "execution_count": null,
   "source": [
    "attendance_both_clean = pd.read_parquet(DATA_DIR / \"attendance_both_clean.parquet\")\n",
    "attendance_endofyear_sy1718 = data_endofyear_outcomes(data=attendance_both_clean)\n",
    "\n",
    "# The student attributes (which is anchored to the beginning of year) also has an\n",
    "# enrolled school. Since all other attributes are BOY, we keep that one\n",
    "attendance_endofyear_sy1718.drop(columns=[\"Enr_SchoolName\"], inplace=True)\n",
    "\n",
    "\n",
    "## merge with student attributes and subset\n",
    "## each to the usi's for which we know\n",
    "## treatment status (so not just referred)\n",
    "attendance_endofyear_sy1718_withattributes = pd.merge(\n",
    "    attendance_endofyear_sy1718[\n",
    "        attendance_endofyear_sy1718.usi.isin(usis_ref_and_treat)\n",
    "    ],\n",
    "    student_attributes_all,\n",
    "    on=\"usi\",\n",
    "    how=\"left\",\n",
    ").drop_duplicates(subset=[\"usi\"])\n",
    "\n",
    "\n",
    "## merge with tre\n",
    "attendance_eoy_wsusoid = pd.merge(\n",
    "    attendance_endofyear_sy1718_withattributes,\n",
    "    lookup_suso_attendance[[\"suso_id\", \"name_dob\", \"usi\", \"type_of_match\"]],\n",
    "    on=\"usi\",\n",
    "    how=\"left\",\n",
    ")\n",
    "df_suso_tomerge = df_suso[\n",
    "    [\n",
    "        \"is_treatment\",\n",
    "        \"status\",\n",
    "        \"status_datetime\",\n",
    "        \"student_id\",\n",
    "        \"site_id\",\n",
    "        \"site_name\",\n",
    "        \"referral_source\",\n",
    "        \"school_name\",\n",
    "    ]\n",
    "].copy()\n",
    "attendance_eoy_wsuso = pd.merge(\n",
    "    attendance_eoy_wsusoid,\n",
    "    df_suso_tomerge,\n",
    "    left_on=\"suso_id\",\n",
    "    right_on=\"student_id\",\n",
    "    how=\"left\",\n",
    ").drop_duplicates(subset=\"suso_id\", keep=\"first\")\n",
    "\n",
    "attendance_eoy_wsuso.to_pickle(\n",
    "    DATA_DIR / \"attendance_eoy_wsuso.pkl\", protocol=PICKLE_PROTOCOL\n",
    ")"
   ],
   "outputs": [],
   "metadata": {}
  },
  {
   "cell_type": "code",
   "execution_count": null,
   "source": [
    "## summarize attendance analytic sample\n",
    "attendance_eoy_wsuso = pd.read_pickle(DATA_DIR / \"attendance_eoy_wsuso.pkl\")\n",
    "balance_attendancesample = pd.crosstab(\n",
    "    attendance_eoy_wsuso.school_name, attendance_eoy_wsuso.is_treatment\n",
    ").reset_index()\n",
    "balance_attendancesample_long = balance_attendancesample.melt(id_vars=[\"school_name\"])\n",
    "balance_attendancesample_long[\"group\"] = np.where(\n",
    "    balance_attendancesample_long.is_treatment == False, \"Control\", \"Treatment\"\n",
    ")\n",
    "balance_attendancesample_long.head()\n",
    "\n",
    "att_balbyschool = (\n",
    "    ggplot(\n",
    "        balance_attendancesample_long,\n",
    "        aes(x=\"factor(group)\", y=\"value\", fill=\"factor(group)\"),\n",
    "    )\n",
    "    + geom_bar(stat=\"identity\", position=\"dodge\", alpha=0.5)\n",
    "    + facet_background\n",
    "    + scale_y_continuous(breaks=(0, 25, 50))\n",
    "    + xlab(\"\")\n",
    "    + labs(fill=\"\")\n",
    "    + theme(legend_position=\"bottom\")\n",
    "    + scale_fill_manual(values=(\"#444444\", \"#2B4888\"))\n",
    "    + facet_wrap(\"~school_name\")\n",
    ")\n",
    "\n",
    "ggsave(att_balbyschool, OUTPUT_DIR / \"attbal_byschool.pdf\", width=12, height=8)"
   ],
   "outputs": [],
   "metadata": {}
  },
  {
   "cell_type": "code",
   "execution_count": null,
   "source": [
    "balance_attendancesample.columns = [\"school_name\", \"Control\", \"Treatment\"]\n",
    "balance_attendancesample[\"total\"] = (\n",
    "    balance_attendancesample[\"Control\"] + balance_attendancesample[\"Treatment\"]\n",
    ")\n",
    "balance_attendancesample[\"prop_treat\"] = (\n",
    "    balance_attendancesample.Treatment / balance_attendancesample.total\n",
    ")\n",
    "balance_attendancesample[\"prop_control\"] = (\n",
    "    balance_attendancesample.Control / balance_attendancesample.total\n",
    ")\n",
    "balance_attendancesample[\"prop_treat_minus_control\"] = (\n",
    "    balance_attendancesample.prop_treat - balance_attendancesample.prop_control\n",
    ")\n",
    "\n",
    "\n",
    "balance_school_scatter = (\n",
    "    ggplot(balance_attendancesample, aes(x=\"total\", y=\"prop_treat_minus_control\"))\n",
    "    + geom_point()\n",
    "    + standard_background_rotatex\n",
    "    + xlab(\"Total students randomized from school\")\n",
    "    + ylab(\"Proportion in treatment group minus\\nproportion in control group\")\n",
    "    + geom_hline(yintercept=0, linetype=\"dashed\", color=\"red\")\n",
    ")\n",
    "\n",
    "ggsave(\n",
    "    balance_school_scatter,\n",
    "    OUTPUT_DIR / \"balance_school_scatter.pdf\",\n",
    "    width=12,\n",
    "    height=8,\n",
    ")"
   ],
   "outputs": [],
   "metadata": {}
  },
  {
   "cell_type": "markdown",
   "source": [
    "### Balance by demographic attributes"
   ],
   "metadata": {}
  },
  {
   "cell_type": "code",
   "execution_count": null,
   "source": [
    "## merge in treatment status indicator\n",
    "for_merge = student_attributes_categorical_names + [\"usi\"]\n",
    "student_attributes_withcat_withtx = pd.merge(\n",
    "    student_attributes_withcat[for_merge],\n",
    "    attendance_eoy_wsuso[[\"usi\", \"is_treatment\"]],\n",
    "    on=\"usi\",\n",
    "    how=\"inner\",\n",
    ")"
   ],
   "outputs": [],
   "metadata": {}
  },
  {
   "cell_type": "code",
   "execution_count": null,
   "source": [
    "vars_compare = [\n",
    "    var\n",
    "    for var in student_attributes_withcat_withtx.columns\n",
    "    if \"id\" not in var and \"usi\" not in var\n",
    "]\n",
    "mean_txstatus = (\n",
    "    student_attributes_withcat_withtx[vars_compare]\n",
    "    .groupby(\"is_treatment\")\n",
    "    .mean()\n",
    "    .T.reset_index()\n",
    ")\n",
    "mean_txstatus.columns = [\"attribute\", \"Control\", \"Treatment\"]\n",
    "mean_txstatus[\"txprop_minus_controlprop\"] = (\n",
    "    mean_txstatus.Treatment - mean_txstatus.Control\n",
    ")\n",
    "mean_txstatus_cleaned = pd.merge(\n",
    "    mean_txstatus,\n",
    "    mean_whetherinsuso_clean_long_morecat[\n",
    "        [\"attribute_name\", \"attributes_ordered\"]\n",
    "    ].drop_duplicates(),\n",
    "    right_on=\"attribute_name\",\n",
    "    left_on=\"attribute\",\n",
    "    how=\"inner\",\n",
    ")\n",
    "\n",
    "## merge clean attributes\n",
    "\n",
    "\n",
    "## plot by attribute\n",
    "bal_dem = (\n",
    "    ggplot(\n",
    "        mean_txstatus_cleaned,\n",
    "        aes(x=\"factor(attributes_ordered)\", y=\"txprop_minus_controlprop\"),\n",
    "    )\n",
    "    + geom_bar(stat=\"identity\", fill=\"yellow\", alpha=0.5, color=\"black\")\n",
    "    + xlab(\"Attribute\")\n",
    "    + ylab(\n",
    "        \"Treatment proportion\\nminus control group proportion\\n(positive = treatment group higher)\"\n",
    "    )\n",
    "    + standard_background_rotatex\n",
    "    + coord_flip()\n",
    ")\n",
    "\n",
    "ggsave(bal_dem, OUTPUT_DIR / \"bal_dem.pdf\", width=12, height=8)"
   ],
   "outputs": [],
   "metadata": {}
  },
  {
   "cell_type": "markdown",
   "source": [
    "# 3. Write files used in next script\n",
    "\n"
   ],
   "metadata": {}
  },
  {
   "cell_type": "code",
   "execution_count": null,
   "source": [
    "attendance_eoy_wsuso.to_pickle(\n",
    "    DATA_DIR / \"attendance_eoy_wsuso.pkl\", protocol=PICKLE_PROTOCOL\n",
    ")\n",
    "student_attributes_withcat_withtx.to_pickle(\n",
    "    DATA_DIR / \"student_attributes_withcat_withtx.pkl\", protocol=PICKLE_PROTOCOL\n",
    ")"
   ],
   "outputs": [],
   "metadata": {}
  }
 ],
 "metadata": {
  "interpreter": {
   "hash": "f810fb408179879954c0045dc47f9e7c9aa0477d9c8145b4c678eb0585172ed7"
  },
  "kernelspec": {
   "name": "python3",
   "display_name": "Python 3.8.6 64-bit ('.venv': poetry)"
  },
  "language_info": {
   "codemirror_mode": {
    "name": "ipython",
    "version": 3
   },
   "file_extension": ".py",
   "mimetype": "text/x-python",
   "name": "python",
   "nbconvert_exporter": "python",
   "pygments_lexer": "ipython3",
   "version": "3.8.6"
  }
 },
 "nbformat": 4,
 "nbformat_minor": 2
}
