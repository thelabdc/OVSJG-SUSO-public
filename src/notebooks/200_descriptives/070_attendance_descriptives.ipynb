{
 "cells": [
  {
   "cell_type": "markdown",
   "source": [
    "# Descriptives: attendance outcomes\n",
    "\n",
    "Involves constructing the short-duration attendance outcomes"
   ],
   "metadata": {}
  },
  {
   "cell_type": "code",
   "execution_count": null,
   "source": [
    "import warnings\n",
    "from datetime import timedelta\n",
    "\n",
    "import numpy as np\n",
    "import pandas as pd\n",
    "from plotnine import *\n",
    "\n",
    "from suso.plotting_themes import standard_background, standard_background_rotatex_nojust\n",
    "from suso.utils import PICKLE_PROTOCOL, here\n",
    "\n",
    "warnings.filterwarnings(\"ignore\")"
   ],
   "outputs": [],
   "metadata": {}
  },
  {
   "cell_type": "code",
   "execution_count": null,
   "source": [
    "DATA_DIR = here(\"data\")\n",
    "OUTPUT_DIR = here(\"output\")"
   ],
   "outputs": [],
   "metadata": {}
  },
  {
   "cell_type": "markdown",
   "source": [
    "# 1. Read in data"
   ],
   "metadata": {}
  },
  {
   "cell_type": "code",
   "execution_count": null,
   "source": [
    "attendance_eoy_wsuso = pd.read_pickle(DATA_DIR / \"attendance_eoy_wsuso.pkl\")\n",
    "df_suso = pd.read_csv(DATA_DIR / \"df_suso_merged.csv\")"
   ],
   "outputs": [],
   "metadata": {}
  },
  {
   "cell_type": "markdown",
   "source": [
    "# 2: Summarise end of year attendance outcomes descriptively\n",
    "\n",
    "- Construct\n",
    "- Find descriptives"
   ],
   "metadata": {}
  },
  {
   "cell_type": "code",
   "execution_count": null,
   "source": [
    "absence_meanbytreat = attendance_eoy_wsuso.groupby(\"is_treatment\")[\n",
    "    \"truant_indicator\", \"chronicabsent_indicator\"\n",
    "].mean()\n",
    "absence_meanbytreat[\"treatment\"] = absence_meanbytreat.index\n",
    "absence_meanbytreat[\"treatment_descriptive\"] = np.where(\n",
    "    absence_meanbytreat.treatment == True, \"Treatment\", \"Control\"\n",
    ")\n",
    "\n",
    "absence_meanbytreat_long = pd.melt(\n",
    "    absence_meanbytreat, id_vars=[\"treatment\", \"treatment_descriptive\"]\n",
    ")\n",
    "absence_meanbytreat_long[\"variable_descriptive\"] = np.where(\n",
    "    absence_meanbytreat_long.variable == \"truant_indicator\",\n",
    "    \"Truancy rate\",\n",
    "    \"Chronic absenteeism rate\",\n",
    ")\n",
    "absence_meanbytreat_long[\"value_rounded\"] = round(absence_meanbytreat_long.value, 3)\n",
    "\n",
    "yearend_rates = (\n",
    "    ggplot(\n",
    "        absence_meanbytreat_long,\n",
    "        aes(\n",
    "            x=\"factor(variable_descriptive)\",\n",
    "            y=\"value\",\n",
    "            fill=\"treatment_descriptive\",\n",
    "            group=\"factor(treatment_descriptive)\",\n",
    "        ),\n",
    "    )\n",
    "    + geom_bar(position=\"dodge\", stat=\"identity\")\n",
    "    + scale_fill_manual(values=(\"#444444\", \"#2B4888\"))\n",
    "    + geom_label(\n",
    "        aes(x=\"factor(variable_descriptive)\", y=\"value\", label=\"value_rounded\"),\n",
    "        position=position_dodge(width=1),\n",
    "        fill=\"white\",\n",
    "    )\n",
    "    + standard_background\n",
    "    + labs(fill=\"\")\n",
    "    + xlab(\"\")\n",
    "    + scale_fill_manual(values=(\"#444444\", \"#2B4888\"))\n",
    "    + ylab(\"Proportion of students\")\n",
    "    + theme(legend_position=\"bottom\")\n",
    ")\n",
    "\n",
    "yearend_rates"
   ],
   "outputs": [],
   "metadata": {}
  },
  {
   "cell_type": "code",
   "execution_count": null,
   "source": [
    "ggsave(yearend_rates, OUTPUT_DIR / \"yearend_rates.pdf\", width=12, height=8)"
   ],
   "outputs": [],
   "metadata": {}
  },
  {
   "cell_type": "markdown",
   "source": [
    "# 3: Constructing the different short duration attendance outcomes"
   ],
   "metadata": {}
  },
  {
   "cell_type": "markdown",
   "source": [
    "Two short duration attendance outcomes:\n",
    "\n",
    "- \"Observed delivery date\": \n",
    "    - Tx group: delivery date if observed; 7 days post referral if missing (25% of sample)\n",
    "    - Control group: find tx group member in their school with nearest referral date (before or after; so just minimize distance); assign them the delivery date of that minimum-distance treatment group members\n",
    "    \n",
    "- \"Median delivery date\":\n",
    "    - For both groups, assign them sample median length of delivery (7 days post referral)\n",
    "\n",
    "\n",
    "What counts as a delivery date? Two mailing statuses (relatively liberal; more conservative measure would only use USPS indicated delivered:\n",
    "\n",
    "1. status == \"USPS Indicated Delivered\"\n",
    "2. status == \"Arrived at Recipient PO\""
   ],
   "metadata": {}
  },
  {
   "cell_type": "markdown",
   "source": [
    "## 3.1: Find date to start clock for observed delivery date "
   ],
   "metadata": {}
  },
  {
   "cell_type": "markdown",
   "source": [
    "### 3.1.1 Load data on students, mailings, and referral date\n",
    "\n",
    "- Mailings has multiple rows to correspond with different updates to the mailing status\n",
    "- Job connects each mailing to a student id\n",
    "- Students has their treatment status and whether they had valid info to be randomized\n",
    "- df_suso (from ETO data/original data cleaning file) has information on referral date "
   ],
   "metadata": {}
  },
  {
   "cell_type": "code",
   "execution_count": null,
   "source": [
    "## get original enrolled date, school,\n",
    "## record status and id from students\n",
    "students = pd.read_csv(DATA_DIR / \"students.csv\")\n",
    "students_topair = students.loc[\n",
    "    students.id != 1, [\"id\", \"school\", \"enrolled_date\", \"is_good_record\"]\n",
    "]\n",
    "randomizer = pd.read_csv(DATA_DIR / \"randomizer.csv\")\n",
    "\n",
    "## left join randomizer to students\n",
    "students_topair_withtx = pd.merge(\n",
    "    students_topair, randomizer, left_on=\"id\", right_on=\"student_id\", how=\"left\"\n",
    ")\n",
    "students_topair_withtx_validrecords = students_topair_withtx.loc[\n",
    "    students_topair_withtx.is_good_record == True\n",
    "].copy()\n",
    "\n",
    "## merge in referral date\n",
    "refdate_tomerge = df_suso[[\"student_id\", \"referral_date\"]]\n",
    "students_topair_withtx_withrefdate = pd.merge(\n",
    "    students_topair_withtx_validrecords, refdate_tomerge, on=\"student_id\", how=\"left\"\n",
    ")\n",
    "\n",
    "\n",
    "## merge in delivery date for tx group students\n",
    "mailings = pd.read_csv(DATA_DIR / \"mailings.csv\")\n",
    "\n",
    "## deduplicate as according to original script\n",
    "mailings_deduped = mailings.sort_values([\"job_id\", \"status_datetime\"]).drop_duplicates(\n",
    "    \"job_id\", keep=\"last\"\n",
    ")\n",
    "jobs_deduped = (\n",
    "    pd.read_csv(DATA_DIR / \"jobs.csv\")\n",
    "    .sort_values(by=[\"student_id\", \"created_at\"])\n",
    "    .drop_duplicates(\"student_id\", keep=\"last\")\n",
    ")"
   ],
   "outputs": [],
   "metadata": {}
  },
  {
   "cell_type": "code",
   "execution_count": null,
   "source": [
    "mailings_deduped_withstudentid = pd.merge(\n",
    "    mailings_deduped[[\"job_id\", \"status\", \"status_datetime\"]],\n",
    "    jobs_deduped[[\"id\", \"student_id\"]],\n",
    "    left_on=\"job_id\",\n",
    "    right_on=\"id\",\n",
    "    how=\"inner\",\n",
    ")\n",
    "\n",
    "## subset to two values indicating delivery status (restricting it to USPS only leaves about 300 students)\n",
    "mailings_onlydelivery = mailings_deduped_withstudentid.loc[\n",
    "    (\n",
    "        (mailings_deduped_withstudentid.status == \"USPS Indicated Delivered\")\n",
    "        | (mailings_deduped_withstudentid.status == \"Arrived at Recipient PO\")\n",
    "    )\n",
    "    & (mailings_deduped_withstudentid.student_id.notnull()),\n",
    "    [\"student_id\", \"status_datetime\", \"status\"],\n",
    "].copy()"
   ],
   "outputs": [],
   "metadata": {}
  },
  {
   "cell_type": "markdown",
   "source": [
    "### 3.1.2 Merge information on delivery back with treatment status to check missingness for tx group students\n",
    "\n"
   ],
   "metadata": {}
  },
  {
   "cell_type": "code",
   "execution_count": null,
   "source": [
    "## merge the date onto the treatment status\n",
    "allstudents_withdelivery = pd.merge(\n",
    "    students_topair_withtx_withrefdate,\n",
    "    mailings_onlydelivery,\n",
    "    on=\"student_id\",\n",
    "    how=\"left\",\n",
    ")\n",
    "\n",
    "allstudents_withdelivery.head()\n",
    "\n",
    "print(\n",
    "    str(\n",
    "        allstudents_withdelivery.loc[\n",
    "            (allstudents_withdelivery.is_treatment == True)\n",
    "            & (allstudents_withdelivery.status_datetime.isnull())\n",
    "        ].shape[0]\n",
    "    )\n",
    "    + \" students out of \"\n",
    "    + str(\n",
    "        allstudents_withdelivery.loc[\n",
    "            (allstudents_withdelivery.is_treatment == True)\n",
    "        ].shape[0]\n",
    "    )\n",
    "    + \" treatment group members are missing a delivery date, or \"\n",
    "    + str(\n",
    "        (\n",
    "            allstudents_withdelivery.loc[\n",
    "                (allstudents_withdelivery.is_treatment == True)\n",
    "                & (allstudents_withdelivery.status_datetime.isnull())\n",
    "            ].shape[0]\n",
    "            / allstudents_withdelivery.loc[\n",
    "                (allstudents_withdelivery.is_treatment == True)\n",
    "            ].shape[0]\n",
    "        )\n",
    "        * 100\n",
    "    )\n",
    "    + \" percent of the sample\"\n",
    ")"
   ],
   "outputs": [],
   "metadata": {}
  },
  {
   "cell_type": "markdown",
   "source": [
    "### 3.1.3 Impute median delivery time for treatment students missing a delivery date and add flag for whether obs. versus imputed\n",
    "\n",
    "- Purpose of flag is to later do sensitivity checks with the results"
   ],
   "metadata": {}
  },
  {
   "cell_type": "code",
   "execution_count": null,
   "source": [
    "## first, convert to datetime and\n",
    "## get proper date of referral or eligibility\n",
    "allstudents_withdelivery[\"referral_date_dt\"] = pd.to_datetime(\n",
    "    allstudents_withdelivery.referral_date\n",
    ")\n",
    "allstudents_withdelivery[\"enrolled_date_dt\"] = pd.to_datetime(\n",
    "    allstudents_withdelivery.enrolled_date\n",
    ")\n",
    "allstudents_withdelivery[\"delivery_date_dt\"] = pd.to_datetime(\n",
    "    allstudents_withdelivery.status_datetime\n",
    ")\n",
    "\n",
    "## see whether date of referral = date of enrolled\n",
    "allstudents_withdelivery[\"referral_same_enrolled\"] = np.where(\n",
    "    allstudents_withdelivery.referral_date_dt\n",
    "    == allstudents_withdelivery.enrolled_date_dt,\n",
    "    1,\n",
    "    0,\n",
    ")\n",
    "\n",
    "## looked at students that have a different \"referral date\" than\n",
    "## enrolled date-- most have the same (and enrolled means enrolled in suso\n",
    "## rather than engaged by the cbo)\n",
    "## for ones that differ, it's because they're missing a value\n",
    "## for the referral date variable\n",
    "\n",
    "## for rest of script, use enrolled_date as the\n",
    "## date of referral"
   ],
   "outputs": [],
   "metadata": {}
  },
  {
   "cell_type": "code",
   "execution_count": null,
   "source": [
    "allstudents_withdelivery[\"time_to_delivery\"] = (\n",
    "    allstudents_withdelivery.delivery_date_dt\n",
    "    - allstudents_withdelivery.enrolled_date_dt\n",
    ")\n",
    "\n",
    "median_delivery = allstudents_withdelivery[\"time_to_delivery\"].describe()[\"50%\"]\n",
    "print(\"The median delivery time is: \" + str(median_delivery))\n",
    "\n",
    "\n",
    "## create indicator for which missing\n",
    "allstudents_withdelivery[\"delivery_date_imputation_indicator\"] = np.where(\n",
    "    (allstudents_withdelivery.delivery_date_dt.isnull())\n",
    "    & (allstudents_withdelivery.is_treatment == True),\n",
    "    \"treatment_imputed\",\n",
    "    np.where(\n",
    "        (allstudents_withdelivery.delivery_date_dt.notnull())\n",
    "        & (allstudents_withdelivery.is_treatment == True),\n",
    "        \"treatment_observed\",\n",
    "        \"control\",\n",
    "    ),\n",
    ")"
   ],
   "outputs": [],
   "metadata": {}
  },
  {
   "cell_type": "code",
   "execution_count": null,
   "source": [
    "## for treatment observations missing a delivery date,\n",
    "## add median time\n",
    "allstudents_withdelivery[\"delivery_date_imputed\"] = np.where(\n",
    "    allstudents_withdelivery.delivery_date_imputation_indicator == \"treatment_imputed\",\n",
    "    allstudents_withdelivery.enrolled_date_dt + median_delivery,\n",
    "    allstudents_withdelivery.delivery_date_dt,\n",
    ")"
   ],
   "outputs": [],
   "metadata": {}
  },
  {
   "cell_type": "code",
   "execution_count": null,
   "source": [
    "## clean the school string\n",
    "## to remove the (k-8) etc\n",
    "## because that causes issues\n",
    "## later with string matching\n",
    "allstudents_withdelivery[\n",
    "    \"school_cleaned\"\n",
    "] = allstudents_withdelivery.school.str.replace(\"\\\\(.*\\\\)$\", \"\")"
   ],
   "outputs": [],
   "metadata": {}
  },
  {
   "cell_type": "code",
   "execution_count": null,
   "source": [
    "## separate groups\n",
    "txstudents = allstudents_withdelivery.loc[\n",
    "    allstudents_withdelivery.is_treatment == True\n",
    "].copy()\n",
    "controlstudents = allstudents_withdelivery.loc[\n",
    "    allstudents_withdelivery.is_treatment == False\n",
    "].copy()\n",
    "\n",
    "## summarize\n",
    "print(\n",
    "    \"There are \"\n",
    "    + str(len(controlstudents.student_id.unique()))\n",
    "    + \" control students to match with \"\n",
    "    + str(len(txstudents.student_id.unique()))\n",
    "    + \" tx students in order to assign delivery dates\"\n",
    ")"
   ],
   "outputs": [],
   "metadata": {}
  },
  {
   "cell_type": "markdown",
   "source": [
    "### 3.1.4 assign control group students to treatment group student in their school with closest referral/eligibility date"
   ],
   "metadata": {}
  },
  {
   "cell_type": "code",
   "execution_count": null,
   "source": [
    "## get control students who are missing a school\n",
    "controlstudents_noschool_cantmatch = controlstudents.loc[\n",
    "    (controlstudents.school.isnull()) | (controlstudents.school == \"n.n\")\n",
    "].shape[0]\n",
    "print(\n",
    "    \"For this version of outcome variable, \"\n",
    "    + str(controlstudents_noschool_cantmatch)\n",
    "    + \" control students cant be matched to tx student bc they're missing a school in the SUSO data (so can't be matched within a school)\"\n",
    ")\n",
    "print(\"Later, might be able to look at OSSE data to find a school for these students\")"
   ],
   "outputs": [],
   "metadata": {}
  },
  {
   "cell_type": "code",
   "execution_count": null,
   "source": [
    "## subset to control students with ANY school\n",
    "controlstudents_wschool = controlstudents.loc[\n",
    "    (controlstudents.school.notnull()) & (controlstudents.school != \"n.n\")\n",
    "]\n",
    "\n",
    "##\n",
    "print(\"After removing control group students missing a school, there are\")\n",
    "print(\n",
    "    str(len(controlstudents_wschool.student_id.unique()))\n",
    "    + \" control students to match with \"\n",
    "    + str(len(txstudents.student_id.unique()))\n",
    "    + \" tx students in order to assign delivery dates\"\n",
    ")\n",
    "\n",
    "## make sure that for those students, there are some\n",
    "## tx group students with their school\n",
    "print(\"-----------------------------------------------------------------------\")\n",
    "print(\n",
    "    \"Of those \"\n",
    "    + str(len(controlstudents_wschool.student_id.unique()))\n",
    "    + \" control group students, \"\n",
    "    + str(\n",
    "        controlstudents_wschool[\n",
    "            controlstudents_wschool.school.isin(txstudents.school)\n",
    "        ].shape[0]\n",
    "    )\n",
    "    + \" are in schools with at least 1 tx group student\"\n",
    ")"
   ],
   "outputs": [],
   "metadata": {}
  },
  {
   "cell_type": "markdown",
   "source": [
    "### 3.1.5 define function to do matching for the purposes of assigning control group students a delivery date\n",
    "\n",
    "Function takes in:\n",
    "\n",
    "- A particular control student\n",
    "- Pool of tx students they could be matched with (use matching in the loose sense; not 1 to 1 but instead just assigning control students delivery date of the tx student in their school with the nearest referral date)\n",
    "\n",
    "What it does:\n",
    "\n",
    "- Subsets pool of treatment group students to those in the focal control student's school \n",
    "- Finds the referral dates for those treatment group students \n",
    "- Finds the referral date for the focal control group student\n",
    "- Finds the treatment student referral date closest to the focal control student's referral date \n",
    "- Subsets to treatment students with that nearest referral date-- it might be multiple since multiple students can be referred on the same day\n",
    "- Looks at the delivery date for those treatment students and finds two dates (using a version of the delivery date variable that contains the 75% observed delivery dates; 25% imputed to 7 days delivery dates)\n",
    "\n",
    "    - Minimum delivery date\n",
    "    - Maximum delivery date\n",
    "    \n",
    "Application: then apply using two pools of treatment group students\n",
    "\n",
    "    - For main results: treatment students are in pool regardless of whether their delivery date was observed or imputed to be 7 days post-referral\n",
    "    - For potential robustness later (don't currently use): treatment students are only in pool if we observe their delivery date\n",
    "    \n",
    "For now: code students to their minimum delivery date that comes from matching them with a student "
   ],
   "metadata": {}
  },
  {
   "cell_type": "code",
   "execution_count": null,
   "source": [
    "def find_inschool_matches(control_student, all_treatment_students):\n",
    "\n",
    "    ## construct pool as tx students at same school as control\n",
    "    controlschool = control_student.school_cleaned\n",
    "    txpool = all_treatment_students[\n",
    "        all_treatment_students.school_cleaned.str.match(controlschool) == True\n",
    "    ].copy()\n",
    "\n",
    "    ## for tx pool, create list of dates\n",
    "    dates_tosearch_in = txpool.enrolled_date_dt.tolist()\n",
    "\n",
    "    ## for control, get date\n",
    "    date_tosearch = control_student.enrolled_date_dt\n",
    "\n",
    "    ## nearest enrollment date\n",
    "    nearest = min(dates_tosearch_in, key=lambda x: abs(x - date_tosearch))\n",
    "\n",
    "    ## find the delivery info for that date\n",
    "    ## and return in a dataframe with other info\n",
    "    txpool_thatdate = txpool.loc[(txpool.enrolled_date_dt.isin([nearest]))]\n",
    "\n",
    "    ## create dataframe with max and min\n",
    "    summarize_matches = pd.DataFrame(\n",
    "        {\n",
    "            \"student_id\": control_student.student_id,\n",
    "            \"enrolled_date\": control_student.enrolled_date_dt,\n",
    "            \"nearest_enrolled_tx\": [nearest],\n",
    "            \"min_delivery_date\": np.min(txpool_thatdate.delivery_date_imputed),\n",
    "            \"max_delivery_date\": np.max(txpool_thatdate.delivery_date_imputed),\n",
    "        }\n",
    "    )\n",
    "\n",
    "    ## return\n",
    "    return summarize_matches"
   ],
   "outputs": [],
   "metadata": {}
  },
  {
   "cell_type": "markdown",
   "source": [
    "#### 3.1.5.1 Matching when we allow controls to be matched to treatment with imputed delivery date"
   ],
   "metadata": {}
  },
  {
   "cell_type": "code",
   "execution_count": null,
   "source": [
    "## loop through control students (did loop rather than\n",
    "## row-wise apply to allow for try except logic)\n",
    "all_matches = []\n",
    "for i in range(0, controlstudents_wschool.shape[0]):\n",
    "\n",
    "    control_student = controlstudents_wschool.iloc[i]\n",
    "    try:\n",
    "        matches_forcontrol = find_inschool_matches(control_student, txstudents)\n",
    "        all_matches.append(matches_forcontrol)\n",
    "    except:\n",
    "        pass"
   ],
   "outputs": [],
   "metadata": {}
  },
  {
   "cell_type": "code",
   "execution_count": null,
   "source": [
    "all_matches_df = pd.concat(all_matches)\n",
    "\n",
    "## write to pickle\n",
    "all_matches_df.to_pickle(\n",
    "    DATA_DIR / \"controlgroup_findingdeliverydate.pkl\", protocol=PICKLE_PROTOCOL\n",
    ")"
   ],
   "outputs": [],
   "metadata": {}
  },
  {
   "cell_type": "code",
   "execution_count": null,
   "source": [
    "print(\n",
    "    \"Out of \"\n",
    "    + str(len(controlstudents_wschool.student_id.unique()))\n",
    "    + \" control group students,\"\n",
    "    + \" matched delivery date for the following when we allow observed or imputed delivery: \"\n",
    "    + str(all_matches_df.shape[0])\n",
    ")"
   ],
   "outputs": [],
   "metadata": {}
  },
  {
   "cell_type": "markdown",
   "source": [
    "#### 3.1.5.2 Matching when we restrict matches to treatment w/ observed delivery date"
   ],
   "metadata": {}
  },
  {
   "cell_type": "code",
   "execution_count": null,
   "source": [
    "txstudents_observed = txstudents.loc[\n",
    "    txstudents.delivery_date_imputation_indicator == \"treatment_observed\"\n",
    "].copy()"
   ],
   "outputs": [],
   "metadata": {}
  },
  {
   "cell_type": "code",
   "execution_count": null,
   "source": [
    "all_matches_observed = []\n",
    "for i in range(0, controlstudents_wschool.shape[0]):\n",
    "\n",
    "    control_student = controlstudents_wschool.iloc[i]\n",
    "    try:\n",
    "        matches_forcontrol_observed = find_inschool_matches(\n",
    "            control_student, txstudents_observed\n",
    "        )\n",
    "        all_matches_observed.append(matches_forcontrol_observed)\n",
    "    except:\n",
    "        pass"
   ],
   "outputs": [],
   "metadata": {}
  },
  {
   "cell_type": "code",
   "execution_count": null,
   "source": [
    "all_matches_df_observed = pd.concat(all_matches_observed)\n",
    "\n",
    "print(\n",
    "    \"Out of \"\n",
    "    + str(len(controlstudents_wschool.student_id.unique()))\n",
    "    + \" control group students,\"\n",
    "    + \" matched delivery date for the following when we only allow observed delivery: \"\n",
    "    + str(all_matches_df_observed.shape[0])\n",
    ")\n",
    "\n",
    "## left join the two\n",
    "new_colnames = [\n",
    "    col + \"_onlymatchwobserved\" if \"delivery\" in col else col\n",
    "    for col in all_matches_df_observed.columns\n",
    "]\n",
    "all_matches_df_observed.columns = new_colnames\n",
    "\n",
    "all_matches_impute_or_observed = pd.merge(\n",
    "    all_matches_df,\n",
    "    all_matches_df_observed[\n",
    "        [\n",
    "            \"student_id\",\n",
    "            \"min_delivery_date_onlymatchwobserved\",\n",
    "            \"max_delivery_date_onlymatchwobserved\",\n",
    "        ]\n",
    "    ],\n",
    "    on=\"student_id\",\n",
    "    how=\"left\",\n",
    ")\n",
    "\n",
    "## for now, code final delivery date to the average of min and max delivery date\n",
    "## when allowing pairing with treatment students regardless of whether they're delivery date\n",
    "## is observed (75% of students) or imputed\n",
    "all_matches_impute_or_observed[\n",
    "    \"final_delivery_date\"\n",
    "] = all_matches_impute_or_observed.min_delivery_date + (\n",
    "    (\n",
    "        all_matches_impute_or_observed.max_delivery_date\n",
    "        - all_matches_impute_or_observed.min_delivery_date\n",
    "    )\n",
    "    / 2\n",
    ")"
   ],
   "outputs": [],
   "metadata": {}
  },
  {
   "cell_type": "markdown",
   "source": [
    "#### 3.1.6 Add back other two groups\n",
    "\n",
    "- Students from control group not matched bc missing school (NA for all values)\n",
    "- Treatment group students (NA for min and max; observed delivery date)"
   ],
   "metadata": {}
  },
  {
   "cell_type": "markdown",
   "source": [
    "##### Control students missing a school in suso data (so cant be matched within a school)"
   ],
   "metadata": {}
  },
  {
   "cell_type": "code",
   "execution_count": null,
   "source": [
    "empty_df = pd.DataFrame(\n",
    "    {\n",
    "        \"nearest_enrolled_tx\": [np.nan],\n",
    "        \"min_delivery_date\": [np.nan],\n",
    "        \"max_delivery_date\": [np.nan],\n",
    "        \"min_delivery_date_onlymatchwobserved\": [np.nan],\n",
    "        \"max_delivery_date_onlymatchwobserved\": [np.nan],\n",
    "        \"final_delivery_date\": [np.nan],\n",
    "    }\n",
    ")"
   ],
   "outputs": [],
   "metadata": {}
  },
  {
   "cell_type": "code",
   "execution_count": null,
   "source": [
    "controlstudents_noschool_toadd = controlstudents.loc[\n",
    "    (controlstudents.school.isnull()) | (controlstudents.school == \"n.n\"),\n",
    "    [\"student_id\", \"enrolled_date\"],\n",
    "]\n",
    "controlstudents_noschool_toadd_wcols = pd.concat(\n",
    "    [controlstudents_noschool_toadd, empty_df]\n",
    ")"
   ],
   "outputs": [],
   "metadata": {}
  },
  {
   "cell_type": "markdown",
   "source": [
    "##### Treatment students"
   ],
   "metadata": {}
  },
  {
   "cell_type": "code",
   "execution_count": null,
   "source": [
    "empty_df_tx = pd.DataFrame(\n",
    "    {\n",
    "        \"nearest_enrolled_tx\": [np.nan],\n",
    "        \"min_delivery_date\": [np.nan],\n",
    "        \"max_delivery_date\": [np.nan],\n",
    "        \"min_delivery_date_onlymatchwobserved\": [np.nan],\n",
    "        \"max_delivery_date_onlymatchwobserved\": [np.nan],\n",
    "    }\n",
    ")"
   ],
   "outputs": [],
   "metadata": {}
  },
  {
   "cell_type": "code",
   "execution_count": null,
   "source": [
    "txstudents_toadd = txstudents[[\"student_id\", \"enrolled_date\", \"delivery_date_imputed\"]]"
   ],
   "outputs": [],
   "metadata": {}
  },
  {
   "cell_type": "code",
   "execution_count": null,
   "source": [
    "txstudents_toadd.columns = [\n",
    "    \"final_delivery_date\" if col == \"delivery_date_imputed\" else col\n",
    "    for col in txstudents_toadd.columns\n",
    "]\n",
    "txstudents_toadd_wcols = pd.concat([txstudents_toadd, empty_df_tx])"
   ],
   "outputs": [],
   "metadata": {}
  },
  {
   "cell_type": "code",
   "execution_count": null,
   "source": [
    "allstudents_withdeliverydate = pd.concat(\n",
    "    [\n",
    "        txstudents_toadd_wcols,\n",
    "        controlstudents_noschool_toadd_wcols,\n",
    "        all_matches_impute_or_observed,\n",
    "    ],\n",
    "    axis=0,\n",
    ")\n",
    "allstudents_withdeliverydate = allstudents_withdeliverydate[\n",
    "    allstudents_withdeliverydate.student_id.notnull()\n",
    "]"
   ],
   "outputs": [],
   "metadata": {}
  },
  {
   "cell_type": "markdown",
   "source": [
    "## 3.2. Find date to start clock for 7 days post-referral date"
   ],
   "metadata": {}
  },
  {
   "cell_type": "code",
   "execution_count": null,
   "source": [
    "allstudents_withdeliverydate[\"enrolled_date_dt\"] = pd.to_datetime(\n",
    "    allstudents_withdeliverydate.enrolled_date\n",
    ")"
   ],
   "outputs": [],
   "metadata": {}
  },
  {
   "cell_type": "code",
   "execution_count": null,
   "source": [
    "allstudents_withdeliverydate[\n",
    "    \"final_enrolled_plus7days\"\n",
    "] = allstudents_withdeliverydate.enrolled_date_dt + timedelta(days=7)"
   ],
   "outputs": [],
   "metadata": {}
  },
  {
   "cell_type": "code",
   "execution_count": null,
   "source": [
    "(\n",
    "    ggplot(allstudents_withdeliverydate, aes(x=\"enrolled_date_dt\"))\n",
    "    + geom_histogram(bins=30, color=\"black\", fill=\"firebrick\", alpha=0.8)\n",
    "    + standard_background\n",
    "    + theme(axis_text_x=element_text(angle=90))\n",
    "    + ylab(\"Count of students referred\")\n",
    "    + xlab(\"Referral date\")\n",
    ")"
   ],
   "outputs": [],
   "metadata": {}
  },
  {
   "cell_type": "markdown",
   "source": [
    "# 4. Descriptives on absences at time of referral"
   ],
   "metadata": {}
  },
  {
   "cell_type": "markdown",
   "source": [
    "### 4.1 Pull all time-varying attendance outcomes from larger data"
   ],
   "metadata": {}
  },
  {
   "cell_type": "code",
   "execution_count": null,
   "source": [
    "## load cleaned attendance data\n",
    "attendance_both_clean = pd.read_parquet(DATA_DIR / \"attendance_both_clean.parquet\")\n",
    "\n",
    "## load lookup table\n",
    "lookup_suso_attendance = pd.read_pickle(DATA_DIR / \"suso_osse_lookup.pkl\")\n",
    "\n",
    "## different ID's (described in previous script)\n",
    "susoids_ref_and_treat = list(\n",
    "    set(lookup_suso_attendance.suso_id).intersection(\n",
    "        set(df_suso.student_id[df_suso.is_treatment.notnull()])\n",
    "    )\n",
    ")\n",
    "susoids_ref_or_treat = list(\n",
    "    set(lookup_suso_attendance.suso_id).intersection(set(df_suso.student_id))\n",
    ")\n",
    "\n",
    "usis_ref_and_treat = lookup_suso_attendance.usi[\n",
    "    lookup_suso_attendance.suso_id.isin(susoids_ref_and_treat)\n",
    "]\n",
    "usis_ref_or_treat = lookup_suso_attendance.usi[\n",
    "    lookup_suso_attendance.suso_id.isin(susoids_ref_or_treat)\n",
    "]\n",
    "\n",
    "## subset to time varying outcomes\n",
    "attendance_timevary = pd.merge(\n",
    "    attendance_both_clean[\n",
    "        [\n",
    "            \"AttendanceDate\",\n",
    "            \"Attendance_Status_Desc\",\n",
    "            \"Weekday_Name\",\n",
    "            \"total_excusedorunexcused\",\n",
    "            \"total_schooldays\",\n",
    "            \"total_unexcused\",\n",
    "            \"usi\",\n",
    "        ]\n",
    "    ],\n",
    "    lookup_suso_attendance[[\"suso_id\", \"usi\", \"type_of_match\"]],\n",
    "    on=\"usi\",\n",
    "    how=\"left\",\n",
    ")"
   ],
   "outputs": [],
   "metadata": {}
  },
  {
   "cell_type": "markdown",
   "source": [
    "### 4.2 Merge with delivery date info on the basis of suso id"
   ],
   "metadata": {}
  },
  {
   "cell_type": "code",
   "execution_count": null,
   "source": [
    "## subset to those we have treatment info for and merge\n",
    "attendance_timevary_withdeliv = pd.merge(\n",
    "    attendance_timevary[attendance_timevary.suso_id.isin(susoids_ref_and_treat)],\n",
    "    allstudents_withdeliverydate[\n",
    "        allstudents_withdeliverydate.student_id.isin(susoids_ref_and_treat)\n",
    "    ],\n",
    "    left_on=\"suso_id\",\n",
    "    right_on=\"student_id\",\n",
    "    how=\"left\",\n",
    ")\n",
    "\n",
    "## merge in treatment status\n",
    "othervars_tomerge = attendance_eoy_wsuso[\n",
    "    [\n",
    "        \"usi\",\n",
    "        \"school_name\",\n",
    "        \"is_treatment\",\n",
    "        \"chronicabsent_indicator\",\n",
    "        \"truant_indicator\",\n",
    "    ]\n",
    "].copy()\n",
    "\n",
    "attendance_timevary_toconstruct = pd.merge(\n",
    "    attendance_timevary_withdeliv, othervars_tomerge, on=\"usi\", how=\"left\"\n",
    ")"
   ],
   "outputs": [],
   "metadata": {}
  },
  {
   "cell_type": "code",
   "execution_count": null,
   "source": [
    "attendance_timevary_toconstruct[\"attendance_date_dt\"] = pd.to_datetime(\n",
    "    attendance_timevary_toconstruct.AttendanceDate\n",
    ")"
   ],
   "outputs": [],
   "metadata": {}
  },
  {
   "cell_type": "code",
   "execution_count": null,
   "source": [
    "### Subset to absence count when referred\n",
    "attendance_atenroll_subset = attendance_timevary_toconstruct.loc[\n",
    "    attendance_timevary_toconstruct.enrolled_date_dt\n",
    "    == attendance_timevary_toconstruct.attendance_date_dt\n",
    "].copy()"
   ],
   "outputs": [],
   "metadata": {}
  },
  {
   "cell_type": "code",
   "execution_count": null,
   "source": [
    "### plot the unexcused absences at enrollment count\n",
    "(\n",
    "    ggplot(attendance_atenroll_subset, aes(x=\"total_unexcused\"))\n",
    "    + geom_histogram(fill=\"gray\", color=\"black\")\n",
    "    + xlab(\"Count of unexcused absences at time of referral\")\n",
    "    + ylab(\"Count of students\")\n",
    "    + scale_x_continuous(breaks=(0, 5, 10, 15, 20, 25, 30, 35))\n",
    "    + standard_background\n",
    ")"
   ],
   "outputs": [],
   "metadata": {}
  },
  {
   "cell_type": "code",
   "execution_count": null,
   "source": [
    "(\n",
    "    ggplot(attendance_atenroll_subset, aes(x=\"enrolled_date_dt\", y=\"total_unexcused\"))\n",
    "    + geom_point(alpha=0.3)\n",
    "    + ylab(\"Count of unexcused absences\\nat time of referral\")\n",
    "    + xlab(\"Referral Date\")\n",
    "    + standard_background_rotatex_nojust\n",
    ")"
   ],
   "outputs": [],
   "metadata": {}
  },
  {
   "cell_type": "markdown",
   "source": [
    "# 5. Construct absences that accrue during 2 calendar weeks beginning with the different clocks computed in section 3"
   ],
   "metadata": {}
  },
  {
   "cell_type": "markdown",
   "source": [
    "## 5.1 Function\n",
    "\n",
    "\n",
    "Takes in:\n",
    "\n",
    "- data: pd.DataFrmae\n",
    "- start_date_varname: Name of the variable that starts the clock (e.g., median versus observed delivery)\n",
    "- time_increment: how many days we want to add to that start date-- passed to timedelta which adds that duration and rounds to nearest day\n",
    "- clock_name: string that helps us subset to the correct variables by using the suffix that indicates which clock corresponds to which var\n",
    "- date_cols: columns that give us information about referral and delivery dates\n",
    "\n",
    "Returns:\n",
    "\n",
    "- Dataframe with three differences in that time interval: unexcused abs., excused or unexcused abs., school attendance days"
   ],
   "metadata": {}
  },
  {
   "cell_type": "code",
   "execution_count": null,
   "source": [
    "def construct_wideformat_absencecounts(\n",
    "    data, start_date_varname, time_increment, clock_name, date_cols\n",
    "):\n",
    "\n",
    "    data[\"end_\" + clock_name] = data[start_date_varname] + timedelta(\n",
    "        days=time_increment\n",
    "    )\n",
    "\n",
    "    ## absences and school days at start\n",
    "    cols_topull = [\n",
    "        \"usi\",\n",
    "        \"suso_id\",\n",
    "        \"AttendanceDate\",\n",
    "        \"total_excusedorunexcused\",\n",
    "        \"total_schooldays\",\n",
    "        \"total_unexcused\",\n",
    "    ]\n",
    "    absence_count_start = data.loc[\n",
    "        data[start_date_varname] == attendance_timevary_toconstruct[\"AttendanceDate\"],\n",
    "        cols_topull,\n",
    "    ]\n",
    "    cols_toshield = [\"usi\", \"suso_id\"] + date_cols\n",
    "    absence_count_start.columns = [\n",
    "        col + \"_start\" + clock_name if col not in cols_toshield else col\n",
    "        for col in absence_count_start.columns\n",
    "    ]\n",
    "\n",
    "    ## absences and school days at end\n",
    "    absence_count_end = data.loc[\n",
    "        data[\"end_\" + clock_name] == data[\"AttendanceDate\"],\n",
    "        [\n",
    "            \"usi\",\n",
    "            \"AttendanceDate\",\n",
    "            \"total_excusedorunexcused\",\n",
    "            \"total_schooldays\",\n",
    "            \"total_unexcused\",\n",
    "        ],\n",
    "    ]\n",
    "    absence_count_end.columns = [\n",
    "        col + \"_end\" + clock_name if col not in [\"usi\"] else col\n",
    "        for col in absence_count_end.columns\n",
    "    ]\n",
    "\n",
    "    ## putting them together\n",
    "    static_cols = [\"usi\"] + date_cols\n",
    "    all_usis = pd.merge(\n",
    "        data[static_cols].drop_duplicates(), absence_count_start, on=\"usi\", how=\"left\"\n",
    "    )\n",
    "\n",
    "    absence_diff = pd.merge(all_usis, absence_count_end, on=\"usi\", how=\"left\")\n",
    "\n",
    "    ## calculate differences\n",
    "    absence_diff[\"diff_excusedorunexcused_\" + clock_name] = (\n",
    "        absence_diff[\"total_excusedorunexcused_end\" + clock_name]\n",
    "        - absence_diff[\"total_excusedorunexcused_start\" + clock_name]\n",
    "    )\n",
    "    absence_diff[\"diff_unexcused_\" + clock_name] = (\n",
    "        absence_diff[\"total_unexcused_end\" + clock_name]\n",
    "        - absence_diff[\"total_unexcused_start\" + clock_name]\n",
    "    )\n",
    "    absence_diff[\"diff_schooldays_\" + clock_name] = (\n",
    "        absence_diff[\"total_schooldays_end\" + clock_name]\n",
    "        - absence_diff[\"total_schooldays_start\" + clock_name]\n",
    "    )\n",
    "\n",
    "    return absence_diff"
   ],
   "outputs": [],
   "metadata": {}
  },
  {
   "cell_type": "markdown",
   "source": [
    "## 5.2: counts starting at median delivery date clock"
   ],
   "metadata": {}
  },
  {
   "cell_type": "code",
   "execution_count": null,
   "source": [
    "date_cols = [\n",
    "    col\n",
    "    for col in attendance_timevary_toconstruct.columns\n",
    "    if \"delivery\" in col or \"enrolled\" in col\n",
    "]\n",
    "date_cols"
   ],
   "outputs": [],
   "metadata": {}
  },
  {
   "cell_type": "code",
   "execution_count": null,
   "source": [
    "median_delivery_results = construct_wideformat_absencecounts(\n",
    "    attendance_timevary_toconstruct,\n",
    "    \"final_enrolled_plus7days\",\n",
    "    14,\n",
    "    \"mediandelivery\",\n",
    "    date_cols,\n",
    ")"
   ],
   "outputs": [],
   "metadata": {}
  },
  {
   "cell_type": "code",
   "execution_count": null,
   "source": [
    "## left join with treatment status indicator and visualize results\n",
    "cols_tojoin = [\n",
    "    col\n",
    "    for col in attendance_eoy_wsuso.columns\n",
    "    if col not in \"enroll_date\" and col not in \"suso_id\"\n",
    "]  # remove SCHOOL enrollment date column\n",
    "## to avoid confusion w/ suso enrollment date\n",
    "\n",
    "attendance_winitialshort = pd.merge(\n",
    "    attendance_eoy_wsuso[cols_tojoin], median_delivery_results, on=\"usi\", how=\"inner\"\n",
    ")"
   ],
   "outputs": [],
   "metadata": {}
  },
  {
   "cell_type": "code",
   "execution_count": null,
   "source": [
    "pd.options.display.float_format = \"{:.2f}\".format\n",
    "\n",
    "## plot differences in unexcused by group\n",
    "attendance_winitialshort[\"treatment_descriptive\"] = np.where(\n",
    "    attendance_winitialshort.is_treatment == True, \"Treatment\", \"Control\"\n",
    ")\n",
    "unex_itt = (\n",
    "    ggplot(\n",
    "        attendance_winitialshort,\n",
    "        aes(x=\"diff_unexcused_mediandelivery\", fill=\"factor(treatment_descriptive)\"),\n",
    "    )\n",
    "    + geom_histogram(bins=10, color=\"black\")\n",
    "    + standard_background\n",
    "    + facet_wrap(\"~treatment_descriptive\")\n",
    "    + scale_fill_manual(values=(\"#444444\", \"#2B4888\"))\n",
    "    + labs(fill=\"\")\n",
    "    + guides(fill=False)\n",
    "    + theme(legend_position=(0.8, 0.7))\n",
    "    + scale_x_continuous(breaks=np.arange(0, 9, 1))\n",
    "    + xlab(\n",
    "        \"Additional unexcused absences:\\nstart date: one calendar week post-referral\\nend date: two calendar weeks after that\"\n",
    "    )\n",
    ")\n",
    "\n",
    "\n",
    "both_itt = (\n",
    "    ggplot(\n",
    "        attendance_winitialshort,\n",
    "        aes(\n",
    "            x=\"diff_excusedorunexcused_mediandelivery\",\n",
    "            fill=\"factor(treatment_descriptive)\",\n",
    "        ),\n",
    "    )\n",
    "    + geom_histogram(bins=10, color=\"black\")\n",
    "    + standard_background\n",
    "    + facet_wrap(\"~treatment_descriptive\")\n",
    "    + scale_fill_manual(values=(\"#444444\", \"#2B4888\"))\n",
    "    + labs(fill=\"\")\n",
    "    + guides(fill=False)\n",
    "    + theme(legend_position=(0.8, 0.7))\n",
    "    + scale_x_continuous(breaks=np.arange(0, 9, 1))\n",
    "    + xlab(\n",
    "        \"Additional excused AND unexcused absences:\\nstart date: one calendar week post-referral\\nend date: two calendar weeks after that\"\n",
    "    )\n",
    ")\n",
    "\n",
    "ggsave(unex_itt, OUTPUT_DIR / \"unex_itt.pdf\", width=12, height=8)\n",
    "\n",
    "ggsave(both_itt, OUTPUT_DIR / \"both_itt.pdf\", width=12, height=8)"
   ],
   "outputs": [],
   "metadata": {}
  },
  {
   "cell_type": "markdown",
   "source": [
    "#### 5.2.1  diagnosing students who are missing data  on these short-term attendance outcomes"
   ],
   "metadata": {}
  },
  {
   "cell_type": "code",
   "execution_count": null,
   "source": [
    "## 9 students missing time-varying outcome\n",
    "## see that most of them were erroneously\n",
    "## marked as enrolled in suso in august\n",
    "students_missing_timevary = attendance_winitialshort.loc[\n",
    "    attendance_winitialshort.diff_unexcused_mediandelivery.isnull()\n",
    "].copy()\n",
    "students_missing_timevary[\n",
    "    [\n",
    "        \"usi\",\n",
    "        \"is_treatment\",\n",
    "        \"total_unexcused_startmediandelivery\",\n",
    "        \"total_unexcused_endmediandelivery\",\n",
    "        \"final_enrolled_plus7days\",\n",
    "    ]\n",
    "    + date_cols\n",
    "]\n",
    "\n",
    "print(\n",
    "    \"There are \"\n",
    "    + str(students_missing_timevary.shape[0])\n",
    "    + \" students missing these short-term attendance outcomes\"\n",
    ")\n",
    "\n",
    "## for the usis in original data, plot\n",
    "## attendance dates\n",
    "students_missing_timevary_dates = attendance_timevary_toconstruct.loc[\n",
    "    attendance_timevary_toconstruct.usi.isin(students_missing_timevary.usi),\n",
    "    [\"AttendanceDate\", \"enrolled_date_dt\", \"usi\", \"final_enrolled_plus7days\"],\n",
    "]\n",
    "\n",
    "## for each, subset to 1 week before and 3 weeks after for better graph\n",
    "students_missing_timevary_dates_smallerwindow = students_missing_timevary_dates[\n",
    "    (\n",
    "        students_missing_timevary_dates.AttendanceDate\n",
    "        >= students_missing_timevary_dates.final_enrolled_plus7days - timedelta(days=14)\n",
    "    )\n",
    "    & (\n",
    "        students_missing_timevary_dates.AttendanceDate\n",
    "        <= students_missing_timevary_dates.final_enrolled_plus7days + timedelta(days=21)\n",
    "    )\n",
    "].copy()\n",
    "\n",
    "\n",
    "students_missing_timevary_dates_smallerwindow[\n",
    "    \"twoweeks_later\"\n",
    "] = students_missing_timevary_dates_smallerwindow.final_enrolled_plus7days + timedelta(\n",
    "    days=14\n",
    ")"
   ],
   "outputs": [],
   "metadata": {}
  },
  {
   "cell_type": "code",
   "execution_count": null,
   "source": [
    "%%capture\n",
    "\n",
    "(\n",
    "    ggplot(students_missing_timevary_dates_smallerwindow, aes(x=\"AttendanceDate\"))\n",
    "    + geom_histogram(bins=40, fill=\"gray\", alpha=0.5, color=\"black\")\n",
    "    + geom_vline(aes(xintercept=\"final_enrolled_plus7days\"), color=\"red\")\n",
    "    + geom_vline(aes(xintercept=\"twoweeks_later\"), color=\"red\")\n",
    "    + facet_wrap(\"~usi\")\n",
    "    + standard_background_rotatex_nojust\n",
    ")"
   ],
   "outputs": [],
   "metadata": {}
  },
  {
   "cell_type": "markdown",
   "source": [
    "## 5.3. Counts within two weeks of observed delivery time "
   ],
   "metadata": {}
  },
  {
   "cell_type": "markdown",
   "source": [
    "This is only observed for about 75% of the treatment group, and for the control students, 100 could not be matched bc they're missing a school. I handle the missingness as follows:\n",
    "\n",
    "- For the 25% of tx group students missing a delivery date, I assume delivery date was 7 days after referral\n",
    "- I match the control group students with a school to the tx group student from their same school with the nearest referral date (even if that tx student's delivery date was imputed to 7)-- this is flexible\n",
    "- For the control group students missing a school (so cannot match with a tx student), I impute them to a 7 day delivery date"
   ],
   "metadata": {}
  },
  {
   "cell_type": "code",
   "execution_count": null,
   "source": [
    "attendance_codeobserved = attendance_timevary_toconstruct.copy()\n",
    "\n",
    "## convert date to string bc of weirdness with nan/nat\n",
    "attendance_codeobserved[\n",
    "    \"final_delivery_date_str\"\n",
    "] = attendance_codeobserved.final_delivery_date.dt.date.astype(str)\n",
    "attendance_codeobserved[\n",
    "    \"final_enrolled_plus7days_str\"\n",
    "] = attendance_codeobserved.final_enrolled_plus7days.astype(str)"
   ],
   "outputs": [],
   "metadata": {}
  },
  {
   "cell_type": "code",
   "execution_count": null,
   "source": [
    "## create var with above logic\n",
    "attendance_codeobserved[\"final_delivery_date_observed_str\"] = np.where(\n",
    "    attendance_codeobserved.final_delivery_date_str.isin([\"nan\", \"NaT\"]),\n",
    "    attendance_codeobserved.final_enrolled_plus7days_str,\n",
    "    attendance_codeobserved.final_delivery_date_str,\n",
    ")\n",
    "\n",
    "attendance_codeobserved[\"final_delivery_date_observed\"] = pd.to_datetime(\n",
    "    attendance_codeobserved.final_delivery_date_observed_str\n",
    ")"
   ],
   "outputs": [],
   "metadata": {}
  },
  {
   "cell_type": "code",
   "execution_count": null,
   "source": [
    "## find counts and differences\n",
    "observed_delivery_results = construct_wideformat_absencecounts(\n",
    "    attendance_codeobserved,\n",
    "    \"final_delivery_date_observed\",\n",
    "    14,\n",
    "    \"observeddelivery\",\n",
    "    date_cols,\n",
    ")\n",
    "\n",
    "## merge with other outcomes\n",
    "attendance_wbothshort = pd.merge(\n",
    "    attendance_winitialshort, observed_delivery_results, on=\"usi\", how=\"left\"\n",
    ")"
   ],
   "outputs": [],
   "metadata": {}
  },
  {
   "cell_type": "code",
   "execution_count": null,
   "source": [
    "attendance_wbothshort[\"treatment_descriptive\"] = np.where(\n",
    "    attendance_wbothshort.is_treatment == True, \"Treatment\", \"Control\"\n",
    ")\n",
    "unex_observed = (\n",
    "    ggplot(\n",
    "        attendance_wbothshort,\n",
    "        aes(x=\"diff_unexcused_observeddelivery\", fill=\"factor(treatment_descriptive)\"),\n",
    "    )\n",
    "    + geom_histogram(bins=10, color=\"black\")\n",
    "    + standard_background\n",
    "    + facet_wrap(\"~treatment_descriptive\")\n",
    "    + scale_fill_manual(values=(\"#444444\", \"#2B4888\"))\n",
    "    + labs(fill=\"\")\n",
    "    + guides(legend=False)\n",
    "    + theme(legend_position=(0.8, 0.7))\n",
    "    + scale_x_continuous(breaks=np.arange(0, 9, 1))\n",
    "    + xlab(\n",
    "        \"Additional unexcused absences:\\nstart date: observed delivery date\\nend date: two calendar weeks after that\"\n",
    "    )\n",
    ")\n",
    "\n",
    "\n",
    "both_observed = (\n",
    "    ggplot(\n",
    "        attendance_wbothshort,\n",
    "        aes(\n",
    "            x=\"diff_excusedorunexcused_observeddelivery\",\n",
    "            fill=\"factor(treatment_descriptive)\",\n",
    "        ),\n",
    "    )\n",
    "    + geom_histogram(bins=10, color=\"black\")\n",
    "    + standard_background\n",
    "    + facet_wrap(\"~treatment_descriptive\")\n",
    "    + scale_fill_manual(values=(\"#444444\", \"#2B4888\"))\n",
    "    + labs(fill=\"\")\n",
    "    + guides(legend=False)\n",
    "    + theme(legend_position=(0.8, 0.7))\n",
    "    + scale_x_continuous(breaks=np.arange(0, 9, 1))\n",
    "    + xlab(\n",
    "        \"Additional excused AND unexcused absences:\\nstart date: observed delivery date\\nend date: two calendar weeks after that\"\n",
    "    )\n",
    ")\n",
    "\n",
    "ggsave(unex_observed, OUTPUT_DIR / \"unex_observed.pdf\", width=12, height=8)\n",
    "\n",
    "ggsave(both_observed, OUTPUT_DIR / \"both_observed.pdf\", width=12, height=8)"
   ],
   "outputs": [],
   "metadata": {}
  },
  {
   "cell_type": "markdown",
   "source": [
    "### Store"
   ],
   "metadata": {}
  },
  {
   "cell_type": "code",
   "execution_count": null,
   "source": [
    "## write to pickle\n",
    "pd.to_pickle(\n",
    "    attendance_wbothshort,\n",
    "    DATA_DIR / \"attendance_readyforAB.pkl\",\n",
    "    protocol=PICKLE_PROTOCOL,\n",
    ")"
   ],
   "outputs": [],
   "metadata": {}
  },
  {
   "cell_type": "code",
   "execution_count": null,
   "source": [
    "## read in student attributes data\n",
    "student_attributes_withcat_withtx = pd.read_pickle(\n",
    "    DATA_DIR / \"student_attributes_withcat_withtx.pkl\"\n",
    ")\n",
    "attribute_cols = [\n",
    "    col for col in student_attributes_withcat_withtx.columns if col != \"is_treatment\"\n",
    "]\n",
    "student_attributes_tomerge = student_attributes_withcat_withtx[attribute_cols]"
   ],
   "outputs": [],
   "metadata": {}
  },
  {
   "cell_type": "code",
   "execution_count": null,
   "source": [
    "## add student attributes back\n",
    "attendance_wbothshort_wattributes = pd.merge(\n",
    "    attendance_wbothshort,\n",
    "    student_attributes_tomerge[student_attributes_tomerge.usi.isin(usis_ref_and_treat)],\n",
    "    on=\"usi\",\n",
    "    how=\"left\",\n",
    ").drop_duplicates(subset=[\"usi\"])"
   ],
   "outputs": [],
   "metadata": {}
  },
  {
   "cell_type": "code",
   "execution_count": null,
   "source": [
    "# There are some doubled columns. We remove these columns if they are all equal\n",
    "remove_cols = []\n",
    "for col in attendance_wbothshort_wattributes:\n",
    "    if col.endswith(\"_x\"):\n",
    "        if (\n",
    "            attendance_wbothshort_wattributes[col]\n",
    "            == attendance_wbothshort_wattributes[f\"{col[:-2]}_y\"]\n",
    "        ).all():\n",
    "            attendance_wbothshort_wattributes[\n",
    "                col[:-2]\n",
    "            ] = attendance_wbothshort_wattributes[col]\n",
    "            remove_cols.append(col)\n",
    "\n",
    "remove_cols += [f\"{col[:-2]}_y\" for col in remove_cols]\n",
    "attendance_wbothshort_wattributes.drop(columns=remove_cols, inplace=True)\n",
    "\n",
    "# Then we save the data\n",
    "attendance_wbothshort_wattributes.to_csv(\n",
    "    DATA_DIR / \"attendance_readyforregressions.csv\"\n",
    ")"
   ],
   "outputs": [],
   "metadata": {}
  },
  {
   "cell_type": "code",
   "execution_count": null,
   "source": [],
   "outputs": [],
   "metadata": {}
  }
 ],
 "metadata": {
  "interpreter": {
   "hash": "f810fb408179879954c0045dc47f9e7c9aa0477d9c8145b4c678eb0585172ed7"
  },
  "kernelspec": {
   "name": "python3",
   "display_name": "Python 3.8.6 64-bit ('.venv': poetry)"
  },
  "language_info": {
   "codemirror_mode": {
    "name": "ipython",
    "version": 3
   },
   "file_extension": ".py",
   "mimetype": "text/x-python",
   "name": "python",
   "nbconvert_exporter": "python",
   "pygments_lexer": "ipython3",
   "version": "3.8.6"
  }
 },
 "nbformat": 4,
 "nbformat_minor": 2
}
