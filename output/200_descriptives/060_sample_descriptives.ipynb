{
 "cells": [
  {
   "cell_type": "markdown",
   "id": "83e781af",
   "metadata": {
    "papermill": {
     "duration": 0.029368,
     "end_time": "2021-10-07T01:05:23.720036",
     "exception": false,
     "start_time": "2021-10-07T01:05:23.690668",
     "status": "completed"
    },
    "tags": []
   },
   "source": [
    "# Calculate descriptives regarding who's in the sample/balance"
   ]
  },
  {
   "cell_type": "code",
   "execution_count": 1,
   "id": "5b0c698a",
   "metadata": {
    "execution": {
     "iopub.execute_input": "2021-10-07T01:05:23.783925Z",
     "iopub.status.busy": "2021-10-07T01:05:23.783184Z",
     "iopub.status.idle": "2021-10-07T01:05:25.509178Z",
     "shell.execute_reply": "2021-10-07T01:05:25.509650Z"
    },
    "papermill": {
     "duration": 1.762331,
     "end_time": "2021-10-07T01:05:25.510039",
     "exception": false,
     "start_time": "2021-10-07T01:05:23.747708",
     "status": "completed"
    },
    "tags": []
   },
   "outputs": [],
   "source": [
    "import warnings\n",
    "\n",
    "import numpy as np\n",
    "import pandas as pd\n",
    "from plotnine import *\n",
    "\n",
    "from suso.utils import PICKLE_PROTOCOL, here\n",
    "\n",
    "warnings.filterwarnings(\"ignore\")"
   ]
  },
  {
   "cell_type": "code",
   "execution_count": 2,
   "id": "2dbb6dc4",
   "metadata": {
    "execution": {
     "iopub.execute_input": "2021-10-07T01:05:25.562484Z",
     "iopub.status.busy": "2021-10-07T01:05:25.560843Z",
     "iopub.status.idle": "2021-10-07T01:05:25.567260Z",
     "shell.execute_reply": "2021-10-07T01:05:25.567968Z"
    },
    "papermill": {
     "duration": 0.03496,
     "end_time": "2021-10-07T01:05:25.568240",
     "exception": false,
     "start_time": "2021-10-07T01:05:25.533280",
     "status": "completed"
    },
    "tags": []
   },
   "outputs": [],
   "source": [
    "DATA_DIR = here(\"data\")\n",
    "OUTPUT_DIR = here(\"output\")"
   ]
  },
  {
   "cell_type": "markdown",
   "id": "fdc0a051",
   "metadata": {
    "papermill": {
     "duration": 0.024669,
     "end_time": "2021-10-07T01:05:25.617281",
     "exception": false,
     "start_time": "2021-10-07T01:05:25.592612",
     "status": "completed"
    },
    "tags": []
   },
   "source": [
    "# Step 0: define postgres functions\n",
    "\n",
    "For now, just copied postgres functions from other script before making into a module"
   ]
  },
  {
   "cell_type": "code",
   "execution_count": 3,
   "id": "ed828d43",
   "metadata": {
    "execution": {
     "iopub.execute_input": "2021-10-07T01:05:25.676982Z",
     "iopub.status.busy": "2021-10-07T01:05:25.676140Z",
     "iopub.status.idle": "2021-10-07T01:05:25.679123Z",
     "shell.execute_reply": "2021-10-07T01:05:25.678219Z"
    },
    "papermill": {
     "duration": 0.038608,
     "end_time": "2021-10-07T01:05:25.679500",
     "exception": false,
     "start_time": "2021-10-07T01:05:25.640892",
     "status": "completed"
    },
    "tags": []
   },
   "outputs": [],
   "source": [
    "def data_startofyear_outcomes(data: pd.DataFrame) -> pd.DataFrame:\n",
    "    \"\"\"\n",
    "    Get the first entry for each studenty by day\n",
    "    \"\"\"\n",
    "    return data.sort_values(by=[\"usi\", \"AttendanceDate\"]).drop_duplicates(\n",
    "        [\"usi\"], keep=\"first\"\n",
    "    )\n",
    "\n",
    "\n",
    "def data_endofyear_outcomes(data: pd.DataFrame) -> pd.DataFrame:\n",
    "    \"\"\"\n",
    "    Get the last entry for each studenty by day\n",
    "    \"\"\"\n",
    "    return data.sort_values(by=[\"usi\", \"AttendanceDate\"]).drop_duplicates(\n",
    "        [\"usi\"], keep=\"last\"\n",
    "    )\n",
    "\n",
    "\n",
    "## plotting themes\n",
    "standard_background_rotatex = theme(\n",
    "    panel_background=element_blank(),\n",
    "    panel_grid_major_y=element_blank(),\n",
    "    axis_text_x=element_text(color=\"black\", angle=90, hjust=1, size=12),\n",
    "    axis_text_y=element_text(color=\"black\", size=12),\n",
    "    legend_text=element_text(color=\"black\", size=10),\n",
    "    legend_title=element_text(color=\"black\", size=12),\n",
    "    axis_title=element_text(size=12),\n",
    "    strip_text_x=element_text(size=12),\n",
    "    legend_background=element_blank(),\n",
    "    legend_key=element_blank(),\n",
    "    panel_grid_major=element_blank(),\n",
    "    panel_grid_minor=element_blank(),\n",
    "    axis_ticks=element_blank(),\n",
    ")\n",
    "\n",
    "facet_background = theme(\n",
    "    panel_background=element_blank(),\n",
    "    panel_grid_major_y=element_blank(),\n",
    "    axis_text_x=element_blank(),\n",
    "    axis_text_y=element_text(color=\"black\", size=6),\n",
    "    legend_text=element_text(color=\"black\", size=10),\n",
    "    legend_title=element_text(color=\"black\", size=12),\n",
    "    axis_title=element_text(size=6),\n",
    "    strip_text_x=element_text(size=6),\n",
    "    legend_background=element_blank(),\n",
    "    legend_key=element_blank(),\n",
    "    panel_grid_major=element_blank(),\n",
    "    panel_grid_minor=element_blank(),\n",
    "    axis_ticks=element_blank(),\n",
    ")"
   ]
  },
  {
   "cell_type": "markdown",
   "id": "24fc7a1f",
   "metadata": {
    "papermill": {
     "duration": 0.023684,
     "end_time": "2021-10-07T01:05:25.727815",
     "exception": false,
     "start_time": "2021-10-07T01:05:25.704131",
     "status": "completed"
    },
    "tags": []
   },
   "source": [
    "# 1: Descriptives "
   ]
  },
  {
   "cell_type": "markdown",
   "id": "7c1d4f4a",
   "metadata": {
    "papermill": {
     "duration": 0.026188,
     "end_time": "2021-10-07T01:05:25.778429",
     "exception": false,
     "start_time": "2021-10-07T01:05:25.752241",
     "status": "completed"
    },
    "tags": []
   },
   "source": [
    "Run the helper script to generate student attributes: 6helper_summarize_studentattributes.sql"
   ]
  },
  {
   "cell_type": "markdown",
   "id": "951c76b7",
   "metadata": {
    "papermill": {
     "duration": 0.030642,
     "end_time": "2021-10-07T01:05:25.833284",
     "exception": false,
     "start_time": "2021-10-07T01:05:25.802642",
     "status": "completed"
    },
    "tags": []
   },
   "source": [
    "## 1.1: Who's in the sample?\n",
    "\n"
   ]
  },
  {
   "cell_type": "code",
   "execution_count": 4,
   "id": "34b1175e",
   "metadata": {
    "execution": {
     "iopub.execute_input": "2021-10-07T01:05:25.915667Z",
     "iopub.status.busy": "2021-10-07T01:05:25.914907Z",
     "iopub.status.idle": "2021-10-07T01:05:40.999016Z",
     "shell.execute_reply": "2021-10-07T01:05:40.999620Z"
    },
    "papermill": {
     "duration": 15.126746,
     "end_time": "2021-10-07T01:05:40.999828",
     "exception": false,
     "start_time": "2021-10-07T01:05:25.873082",
     "status": "completed"
    },
    "tags": []
   },
   "outputs": [],
   "source": [
    "## read in student attributes and merge\n",
    "student_attributes_public = data_startofyear_outcomes(\n",
    "    pd.read_parquet(\n",
    "        DATA_DIR / \"SY1718_DCPS_Attendance_Data_cleaned.parquet\",\n",
    "        columns=[\n",
    "            \"usi\",\n",
    "            \"AttendanceDate\",\n",
    "            \"gender\",\n",
    "            \"race\",\n",
    "            \"Enr_SchoolID\",\n",
    "            \"Enr_SchoolName\",\n",
    "            \"SEDSSPEDLEvel\",\n",
    "            \"enroll_date\",\n",
    "            \"fixed_withdrawal_date\",\n",
    "            \"LEPIndicator\",\n",
    "            \"FarmsStatusSISdesc\",\n",
    "            \"School_CEP_Status\",\n",
    "            \"Economically_Disadvantaged\",\n",
    "            \"HomelessIndicatorOSSE\",\n",
    "            \"OverageIndicator\",\n",
    "            \"AtRiskIndicator\",\n",
    "        ],\n",
    "    )\n",
    ").drop(columns=[\"AttendanceDate\"])\n",
    "\n",
    "student_attributes_charter = data_startofyear_outcomes(\n",
    "    pd.read_parquet(\n",
    "        DATA_DIR / \"SY1718_Charter_Sector_Attendance_cleaned.parquet\",\n",
    "        columns=[\n",
    "            \"usi\",\n",
    "            \"AttendanceDate\",\n",
    "            \"gender\",\n",
    "            \"race\",\n",
    "            \"Enr_SchoolID\",\n",
    "            \"Enr_SchoolName\",\n",
    "            \"SEDSSPEDLEvel\",\n",
    "            \"enroll_date\",\n",
    "            \"fixed_withdrawal_date\",\n",
    "            \"LEPIndicator\",\n",
    "            \"FarmsStatusSISdesc\",\n",
    "            \"School_CEP_Status\",\n",
    "            \"Economically_Disadvantaged\",\n",
    "            \"HomelessIndicatorOSSE\",\n",
    "            \"OverageIndicator\",\n",
    "            \"AtRiskIndicator\",\n",
    "        ],\n",
    "    )\n",
    ").drop(columns=[\"AttendanceDate\"])"
   ]
  },
  {
   "cell_type": "code",
   "execution_count": 5,
   "id": "565d3ee0",
   "metadata": {
    "execution": {
     "iopub.execute_input": "2021-10-07T01:05:41.053451Z",
     "iopub.status.busy": "2021-10-07T01:05:41.052766Z",
     "iopub.status.idle": "2021-10-07T01:05:41.121239Z",
     "shell.execute_reply": "2021-10-07T01:05:41.121939Z"
    },
    "papermill": {
     "duration": 0.097007,
     "end_time": "2021-10-07T01:05:41.122215",
     "exception": false,
     "start_time": "2021-10-07T01:05:41.025208",
     "status": "completed"
    },
    "tags": []
   },
   "outputs": [],
   "source": [
    "student_attributes_all = pd.concat(\n",
    "    [student_attributes_public, student_attributes_charter]\n",
    ").drop_duplicates()"
   ]
  },
  {
   "cell_type": "markdown",
   "id": "32b4be4c",
   "metadata": {
    "papermill": {
     "duration": 0.021764,
     "end_time": "2021-10-07T01:05:41.165488",
     "exception": false,
     "start_time": "2021-10-07T01:05:41.143724",
     "status": "completed"
    },
    "tags": []
   },
   "source": [
    "### 1.1.1 Create indicator for which students individually in sample or not"
   ]
  },
  {
   "cell_type": "markdown",
   "id": "5f875cf4",
   "metadata": {
    "papermill": {
     "duration": 0.020539,
     "end_time": "2021-10-07T01:05:41.208152",
     "exception": false,
     "start_time": "2021-10-07T01:05:41.187613",
     "status": "completed"
    },
    "tags": []
   },
   "source": [
    "Defining in sample as referred even if no valid treatment status"
   ]
  },
  {
   "cell_type": "code",
   "execution_count": 6,
   "id": "1d8d2ebc",
   "metadata": {
    "execution": {
     "iopub.execute_input": "2021-10-07T01:05:41.254190Z",
     "iopub.status.busy": "2021-10-07T01:05:41.253556Z",
     "iopub.status.idle": "2021-10-07T01:05:41.277248Z",
     "shell.execute_reply": "2021-10-07T01:05:41.277701Z"
    },
    "papermill": {
     "duration": 0.049818,
     "end_time": "2021-10-07T01:05:41.277893",
     "exception": false,
     "start_time": "2021-10-07T01:05:41.228075",
     "status": "completed"
    },
    "tags": []
   },
   "outputs": [],
   "source": [
    "## read in lookup table\n",
    "lookup_suso_attendance = pd.read_pickle(DATA_DIR / \"suso_osse_lookup.pkl\")\n",
    "df_suso = pd.read_csv(DATA_DIR / \"df_suso_merged.csv\")\n",
    "\n",
    "## suso ids of those with valid treatment status\n",
    "susoids_ref_and_treat = list(\n",
    "    set(lookup_suso_attendance.suso_id).intersection(\n",
    "        set(df_suso.student_id[df_suso.is_treatment.notnull()])\n",
    "    )\n",
    ")\n",
    "susoids_ref_or_treat = list(\n",
    "    set(lookup_suso_attendance.suso_id).intersection(set(df_suso.student_id))\n",
    ")\n",
    "\n",
    "usis_ref_and_treat = lookup_suso_attendance.usi[\n",
    "    lookup_suso_attendance.suso_id.isin(susoids_ref_and_treat)\n",
    "]\n",
    "usis_ref_or_treat = lookup_suso_attendance.usi[\n",
    "    lookup_suso_attendance.suso_id.isin(susoids_ref_or_treat)\n",
    "]"
   ]
  },
  {
   "cell_type": "code",
   "execution_count": 7,
   "id": "3a898f17",
   "metadata": {
    "execution": {
     "iopub.execute_input": "2021-10-07T01:05:41.325392Z",
     "iopub.status.busy": "2021-10-07T01:05:41.324762Z",
     "iopub.status.idle": "2021-10-07T01:05:41.329166Z",
     "shell.execute_reply": "2021-10-07T01:05:41.329736Z"
    },
    "papermill": {
     "duration": 0.031071,
     "end_time": "2021-10-07T01:05:41.329929",
     "exception": false,
     "start_time": "2021-10-07T01:05:41.298858",
     "status": "completed"
    },
    "tags": []
   },
   "outputs": [],
   "source": [
    "## create flags for in suso or not\n",
    "student_attributes_all[\"in_sample\"] = np.where(\n",
    "    student_attributes_all.usi.isin(usis_ref_or_treat), 1, 0\n",
    ")"
   ]
  },
  {
   "cell_type": "markdown",
   "id": "4b9b3bca",
   "metadata": {
    "papermill": {
     "duration": 0.019981,
     "end_time": "2021-10-07T01:05:41.370259",
     "exception": false,
     "start_time": "2021-10-07T01:05:41.350278",
     "status": "completed"
    },
    "tags": []
   },
   "source": [
    "### 1.1.2 Create indicator for which students are in schools that are present in the sample \n",
    "### (conservative measure of which schools are eligible for SUSO)"
   ]
  },
  {
   "cell_type": "code",
   "execution_count": 8,
   "id": "8b165dac",
   "metadata": {
    "execution": {
     "iopub.execute_input": "2021-10-07T01:05:41.409748Z",
     "iopub.status.busy": "2021-10-07T01:05:41.409200Z",
     "iopub.status.idle": "2021-10-07T01:05:41.418626Z",
     "shell.execute_reply": "2021-10-07T01:05:41.419071Z"
    },
    "papermill": {
     "duration": 0.030772,
     "end_time": "2021-10-07T01:05:41.419234",
     "exception": false,
     "start_time": "2021-10-07T01:05:41.388462",
     "status": "completed"
    },
    "tags": []
   },
   "outputs": [
    {
     "name": "stdout",
     "output_type": "stream",
     "text": [
      "95 schools, out of \n",
      "234 schools total have students in the sample\n"
     ]
    }
   ],
   "source": [
    "schools_wsuso_students = student_attributes_all.Enr_SchoolName[\n",
    "    student_attributes_all.usi.isin(usis_ref_or_treat)\n",
    "].tolist()\n",
    "print(str(len(set(schools_wsuso_students))) + \" schools, out of \")\n",
    "print(\n",
    "    str(len(student_attributes_all.Enr_SchoolName.unique()))\n",
    "    + \" schools total have students in the sample\"\n",
    ")"
   ]
  },
  {
   "cell_type": "code",
   "execution_count": 9,
   "id": "01d259c8",
   "metadata": {
    "execution": {
     "iopub.execute_input": "2021-10-07T01:05:41.463287Z",
     "iopub.status.busy": "2021-10-07T01:05:41.462572Z",
     "iopub.status.idle": "2021-10-07T01:05:41.465096Z",
     "shell.execute_reply": "2021-10-07T01:05:41.465526Z"
    },
    "papermill": {
     "duration": 0.028224,
     "end_time": "2021-10-07T01:05:41.465743",
     "exception": false,
     "start_time": "2021-10-07T01:05:41.437519",
     "status": "completed"
    },
    "tags": []
   },
   "outputs": [],
   "source": [
    "student_attributes_all[\"in_sample_school\"] = np.where(\n",
    "    student_attributes_all.Enr_SchoolName.isin(schools_wsuso_students), 1, 0\n",
    ")"
   ]
  },
  {
   "cell_type": "code",
   "execution_count": 10,
   "id": "c370146f",
   "metadata": {
    "execution": {
     "iopub.execute_input": "2021-10-07T01:05:41.511110Z",
     "iopub.status.busy": "2021-10-07T01:05:41.510426Z",
     "iopub.status.idle": "2021-10-07T01:05:41.539352Z",
     "shell.execute_reply": "2021-10-07T01:05:41.539896Z"
    },
    "papermill": {
     "duration": 0.053709,
     "end_time": "2021-10-07T01:05:41.540102",
     "exception": false,
     "start_time": "2021-10-07T01:05:41.486393",
     "status": "completed"
    },
    "tags": []
   },
   "outputs": [],
   "source": [
    "student_attributes_all[\"sample_and_schoolstatus\"] = np.where(\n",
    "    (student_attributes_all.in_sample == 1)\n",
    "    & (student_attributes_all.in_sample_school == 1),\n",
    "    \"In sample and\\nin SUSO-eligible school\",\n",
    "    np.where(\n",
    "        (student_attributes_all.in_sample == 0)\n",
    "        & (student_attributes_all.in_sample_school == 1),\n",
    "        \"Not in sample but\\nin SUSO-eligible school\",\n",
    "        \"Not in sample and not\\nin SUSO-eligible school\",\n",
    "    ),\n",
    ")"
   ]
  },
  {
   "cell_type": "markdown",
   "id": "994516c8",
   "metadata": {
    "papermill": {
     "duration": 0.021806,
     "end_time": "2021-10-07T01:05:41.584051",
     "exception": false,
     "start_time": "2021-10-07T01:05:41.562245",
     "status": "completed"
    },
    "tags": []
   },
   "source": [
    "### 1.1.3: Clean student attributes"
   ]
  },
  {
   "cell_type": "code",
   "execution_count": 11,
   "id": "d8d079ac",
   "metadata": {
    "execution": {
     "iopub.execute_input": "2021-10-07T01:05:41.658314Z",
     "iopub.status.busy": "2021-10-07T01:05:41.655527Z",
     "iopub.status.idle": "2021-10-07T01:05:41.665888Z",
     "shell.execute_reply": "2021-10-07T01:05:41.666268Z"
    },
    "papermill": {
     "duration": 0.061933,
     "end_time": "2021-10-07T01:05:41.666496",
     "exception": false,
     "start_time": "2021-10-07T01:05:41.604563",
     "status": "completed"
    },
    "tags": []
   },
   "outputs": [],
   "source": [
    "## code races into broader cats using dictionary\n",
    "race_remap_dictionary = {\n",
    "    \"B\": \"Black\",\n",
    "    \"BL\": \"Black\",\n",
    "    \"HI\": \"Hispanic\",\n",
    "    \"H\": \"Hispanic\",\n",
    "    \"WH\": \"White\",\n",
    "    \"W\": \"White\",\n",
    "}\n",
    "student_attributes_all[\"race_nows\"] = student_attributes_all.race.str.strip()\n",
    "student_attributes_all[\n",
    "    \"race_broadercat_init\"\n",
    "] = student_attributes_all.race_nows.replace(race_remap_dictionary, inplace=False)\n",
    "student_attributes_all[\"race_broadercat\"] = np.where(\n",
    "    ~student_attributes_all.race_broadercat_init.isin([\"White\", \"Black\", \"Hispanic\"]),\n",
    "    \"Other\",\n",
    "    student_attributes_all.race_broadercat_init,\n",
    ")"
   ]
  },
  {
   "cell_type": "code",
   "execution_count": 12,
   "id": "84e600c7",
   "metadata": {
    "execution": {
     "iopub.execute_input": "2021-10-07T01:05:41.710169Z",
     "iopub.status.busy": "2021-10-07T01:05:41.709406Z",
     "iopub.status.idle": "2021-10-07T01:05:41.752535Z",
     "shell.execute_reply": "2021-10-07T01:05:41.753007Z"
    },
    "papermill": {
     "duration": 0.067764,
     "end_time": "2021-10-07T01:05:41.753204",
     "exception": false,
     "start_time": "2021-10-07T01:05:41.685440",
     "status": "completed"
    },
    "tags": []
   },
   "outputs": [],
   "source": [
    "## iterate over attributes, find\n",
    "## mean, and plot comparisons between suso\n",
    "## and not suso\n",
    "\n",
    "student_attributes_toexamine = [\n",
    "    \"LEPIndicator\",\n",
    "    \"FarmsStatusSISdesc\",\n",
    "    \"School_CEP_Status\",\n",
    "    \"Economically_Disadvantaged\",\n",
    "    \"HomelessIndicatorOSSE\",\n",
    "    \"OverageIndicator\",\n",
    "    \"AtRiskIndicator\",\n",
    "    \"gender\",\n",
    "    \"race_broadercat\",\n",
    "]\n",
    "\n",
    "student_attributes_categorical = pd.get_dummies(\n",
    "    student_attributes_all[student_attributes_toexamine]\n",
    ")\n",
    "student_attributes_categorical_names = student_attributes_categorical.columns.tolist()"
   ]
  },
  {
   "cell_type": "code",
   "execution_count": 13,
   "id": "a030c21d",
   "metadata": {
    "execution": {
     "iopub.execute_input": "2021-10-07T01:05:41.800583Z",
     "iopub.status.busy": "2021-10-07T01:05:41.799879Z",
     "iopub.status.idle": "2021-10-07T01:05:41.815110Z",
     "shell.execute_reply": "2021-10-07T01:05:41.815588Z"
    },
    "papermill": {
     "duration": 0.04148,
     "end_time": "2021-10-07T01:05:41.815786",
     "exception": false,
     "start_time": "2021-10-07T01:05:41.774306",
     "status": "completed"
    },
    "tags": []
   },
   "outputs": [],
   "source": [
    "## Dummies doesn't create a new column when there's just a True/False value\n",
    "## So we will explicitly create it\n",
    "student_attributes_categorical.columns = [\n",
    "    name if name not in student_attributes_toexamine else f\"{name}_True\"\n",
    "    for name in student_attributes_categorical_names\n",
    "]\n",
    "\n",
    "## merge back dummies with original\n",
    "student_attributes_withcat = pd.concat(\n",
    "    [student_attributes_categorical, student_attributes_all], axis=1\n",
    ")\n",
    "\n",
    "## within-suso comparison\n",
    "for_summary_morecat = student_attributes_categorical_names + [\"sample_and_schoolstatus\"]"
   ]
  },
  {
   "cell_type": "markdown",
   "id": "199fb9c0",
   "metadata": {
    "papermill": {
     "duration": 0.021939,
     "end_time": "2021-10-07T01:05:41.859266",
     "exception": false,
     "start_time": "2021-10-07T01:05:41.837327",
     "status": "completed"
    },
    "tags": []
   },
   "source": [
    "# 2: Find mean of student attributes for students in suso schools but not sample, in suso schools + in sample, or not in suso schools"
   ]
  },
  {
   "cell_type": "markdown",
   "id": "4906c89e",
   "metadata": {
    "papermill": {
     "duration": 0.019498,
     "end_time": "2021-10-07T01:05:41.899275",
     "exception": false,
     "start_time": "2021-10-07T01:05:41.879777",
     "status": "completed"
    },
    "tags": []
   },
   "source": [
    "## 2.1 Calculate"
   ]
  },
  {
   "cell_type": "code",
   "execution_count": 14,
   "id": "27e6c94e",
   "metadata": {
    "execution": {
     "iopub.execute_input": "2021-10-07T01:05:41.944042Z",
     "iopub.status.busy": "2021-10-07T01:05:41.943303Z",
     "iopub.status.idle": "2021-10-07T01:05:41.994316Z",
     "shell.execute_reply": "2021-10-07T01:05:41.994827Z"
    },
    "papermill": {
     "duration": 0.076504,
     "end_time": "2021-10-07T01:05:41.995033",
     "exception": false,
     "start_time": "2021-10-07T01:05:41.918529",
     "status": "completed"
    },
    "tags": []
   },
   "outputs": [],
   "source": [
    "mean_whetherinsuso_morecat = (\n",
    "    student_attributes_withcat[for_summary_morecat]\n",
    "    .groupby(\"sample_and_schoolstatus\")\n",
    "    .mean()\n",
    "    .T.reset_index()\n",
    ")"
   ]
  },
  {
   "cell_type": "code",
   "execution_count": 15,
   "id": "b80c67bd",
   "metadata": {
    "execution": {
     "iopub.execute_input": "2021-10-07T01:05:42.044734Z",
     "iopub.status.busy": "2021-10-07T01:05:42.043959Z",
     "iopub.status.idle": "2021-10-07T01:05:42.046906Z",
     "shell.execute_reply": "2021-10-07T01:05:42.046432Z"
    },
    "papermill": {
     "duration": 0.029414,
     "end_time": "2021-10-07T01:05:42.047076",
     "exception": false,
     "start_time": "2021-10-07T01:05:42.017662",
     "status": "completed"
    },
    "tags": []
   },
   "outputs": [],
   "source": [
    "newcolnames = [\n",
    "    \"attribute_name\" if col == \"index\" else col for col in mean_whetherinsuso_morecat\n",
    "]"
   ]
  },
  {
   "cell_type": "code",
   "execution_count": 16,
   "id": "9ef0ccb4",
   "metadata": {
    "execution": {
     "iopub.execute_input": "2021-10-07T01:05:42.090680Z",
     "iopub.status.busy": "2021-10-07T01:05:42.090128Z",
     "iopub.status.idle": "2021-10-07T01:05:42.091997Z",
     "shell.execute_reply": "2021-10-07T01:05:42.092391Z"
    },
    "papermill": {
     "duration": 0.02464,
     "end_time": "2021-10-07T01:05:42.092609",
     "exception": false,
     "start_time": "2021-10-07T01:05:42.067969",
     "status": "completed"
    },
    "tags": []
   },
   "outputs": [],
   "source": [
    "mean_whetherinsuso_morecat.columns = newcolnames"
   ]
  },
  {
   "cell_type": "code",
   "execution_count": 17,
   "id": "39ccef03",
   "metadata": {
    "execution": {
     "iopub.execute_input": "2021-10-07T01:05:42.135652Z",
     "iopub.status.busy": "2021-10-07T01:05:42.135071Z",
     "iopub.status.idle": "2021-10-07T01:05:42.136859Z",
     "shell.execute_reply": "2021-10-07T01:05:42.137253Z"
    },
    "papermill": {
     "duration": 0.026333,
     "end_time": "2021-10-07T01:05:42.137485",
     "exception": false,
     "start_time": "2021-10-07T01:05:42.111152",
     "status": "completed"
    },
    "tags": []
   },
   "outputs": [],
   "source": [
    "mean_whetherinsuso_clean_morecat = mean_whetherinsuso_morecat.loc[\n",
    "    ~mean_whetherinsuso_morecat.attribute_name.str.contains(\"Missing\")\n",
    "].copy()\n",
    "mean_whetherinsuso_clean_long_morecat = pd.melt(\n",
    "    mean_whetherinsuso_clean_morecat, id_vars=\"attribute_name\"\n",
    ")"
   ]
  },
  {
   "cell_type": "code",
   "execution_count": 18,
   "id": "a98b8ddb",
   "metadata": {
    "execution": {
     "iopub.execute_input": "2021-10-07T01:05:42.187980Z",
     "iopub.status.busy": "2021-10-07T01:05:42.187319Z",
     "iopub.status.idle": "2021-10-07T01:05:42.189333Z",
     "shell.execute_reply": "2021-10-07T01:05:42.189778Z"
    },
    "papermill": {
     "duration": 0.031754,
     "end_time": "2021-10-07T01:05:42.189971",
     "exception": false,
     "start_time": "2021-10-07T01:05:42.158217",
     "status": "completed"
    },
    "tags": []
   },
   "outputs": [],
   "source": [
    "## clean up attribute name\n",
    "mean_whetherinsuso_clean_long_morecat[\"attribute_name_clean\"] = (\n",
    "    mean_whetherinsuso_clean_long_morecat.attribute_name.str.replace(\"OSSE\", \"\")\n",
    "    .str.replace(\"race\\\\_broadercat\\\\_\", \"\")\n",
    "    .str.replace(\"gender\\\\_\", \"\")\n",
    "    .str.replace(\"True\", \"Yes\")\n",
    "    .str.replace(\"False\", \"No\")\n",
    ")"
   ]
  },
  {
   "cell_type": "code",
   "execution_count": 19,
   "id": "92536566",
   "metadata": {
    "execution": {
     "iopub.execute_input": "2021-10-07T01:05:42.236551Z",
     "iopub.status.busy": "2021-10-07T01:05:42.235974Z",
     "iopub.status.idle": "2021-10-07T01:05:42.237868Z",
     "shell.execute_reply": "2021-10-07T01:05:42.238290Z"
    },
    "papermill": {
     "duration": 0.026948,
     "end_time": "2021-10-07T01:05:42.238483",
     "exception": false,
     "start_time": "2021-10-07T01:05:42.211535",
     "status": "completed"
    },
    "tags": []
   },
   "outputs": [],
   "source": [
    "dem_vars = [\n",
    "    \"F\",\n",
    "    \"M\",\n",
    "    \"Black\",\n",
    "    \"White\",\n",
    "    \"Hispanic\",\n",
    "    \"Other\",\n",
    "    \"OverageIndicator_True\",\n",
    "    \"OverageIndicator_False\",\n",
    "    \"LEPIndicator_False\",\n",
    "    \"LEPIndicator_True\",\n",
    "]\n",
    "other_vars = [\n",
    "    var\n",
    "    for var in mean_whetherinsuso_clean_long_morecat.attribute_name_clean.unique()\n",
    "    if var not in dem_vars\n",
    "]\n",
    "all_vars = dem_vars + other_vars\n",
    "whichgroups = mean_whetherinsuso_clean_long_morecat.variable.unique()\n",
    "whichgroups_order = [\n",
    "    \"In sample and\\nin SUSO-eligible school\",\n",
    "    \"Not in sample but\\nin SUSO-eligible school\",\n",
    "    \"Not in sample and not\\nin SUSO-eligible school\",\n",
    "]"
   ]
  },
  {
   "cell_type": "code",
   "execution_count": 20,
   "id": "6250af29",
   "metadata": {
    "execution": {
     "iopub.execute_input": "2021-10-07T01:05:42.281053Z",
     "iopub.status.busy": "2021-10-07T01:05:42.280414Z",
     "iopub.status.idle": "2021-10-07T01:05:42.282152Z",
     "shell.execute_reply": "2021-10-07T01:05:42.282525Z"
    },
    "papermill": {
     "duration": 0.025677,
     "end_time": "2021-10-07T01:05:42.282688",
     "exception": false,
     "start_time": "2021-10-07T01:05:42.257011",
     "status": "completed"
    },
    "tags": []
   },
   "outputs": [],
   "source": [
    "## order levels of category\n",
    "mean_whetherinsuso_clean_long_morecat[\"attributes_ordered\"] = pd.Categorical(\n",
    "    mean_whetherinsuso_clean_long_morecat.attribute_name_clean,\n",
    "    categories=all_vars,\n",
    "    ordered=True,\n",
    ")\n",
    "mean_whetherinsuso_clean_long_morecat[\"whichgroup_ordered\"] = pd.Categorical(\n",
    "    mean_whetherinsuso_clean_long_morecat.variable,\n",
    "    categories=whichgroups_order,\n",
    "    ordered=True,\n",
    ")"
   ]
  },
  {
   "cell_type": "markdown",
   "id": "b0b02ccd",
   "metadata": {
    "papermill": {
     "duration": 0.020545,
     "end_time": "2021-10-07T01:05:42.321759",
     "exception": false,
     "start_time": "2021-10-07T01:05:42.301214",
     "status": "completed"
    },
    "tags": []
   },
   "source": [
    "## 2.2: plot"
   ]
  },
  {
   "cell_type": "code",
   "execution_count": 21,
   "id": "5733737e",
   "metadata": {
    "execution": {
     "iopub.execute_input": "2021-10-07T01:05:42.507369Z",
     "iopub.status.busy": "2021-10-07T01:05:42.441488Z",
     "iopub.status.idle": "2021-10-07T01:05:42.984721Z",
     "shell.execute_reply": "2021-10-07T01:05:42.985092Z"
    },
    "papermill": {
     "duration": 0.642981,
     "end_time": "2021-10-07T01:05:42.985257",
     "exception": false,
     "start_time": "2021-10-07T01:05:42.342276",
     "status": "completed"
    },
    "tags": []
   },
   "outputs": [],
   "source": [
    "att_studycat = (\n",
    "    ggplot(\n",
    "        mean_whetherinsuso_clean_long_morecat[\n",
    "            mean_whetherinsuso_clean_long_morecat.attributes_ordered.isin(dem_vars)\n",
    "        ],\n",
    "        aes(x=\"factor(attributes_ordered)\", y=\"value\", fill=\"whichgroup_ordered\"),\n",
    "    )\n",
    "    + geom_bar(stat=\"identity\", position=\"dodge\", alpha=0.8)\n",
    "    + coord_flip()\n",
    "    + ylab(\"Percentage of students\\nin category\")\n",
    "    + xlab(\"Attribute\")\n",
    "    + standard_background_rotatex\n",
    "    + scale_fill_manual(values=(\"firebrick\", \"springgreen\", \"gray\"))\n",
    "    + theme(legend_position=(0.75, 0.7))\n",
    "    + labs(fill=\"Category\")\n",
    ")\n",
    "\n",
    "ggsave(att_studycat, OUTPUT_DIR / \"attributes_studycat.pdf\", width=12, height=8)\n",
    "\n",
    "moreatt_studycat = (\n",
    "    ggplot(\n",
    "        mean_whetherinsuso_clean_long_morecat[\n",
    "            mean_whetherinsuso_clean_long_morecat.attributes_ordered.isin(other_vars)\n",
    "        ],\n",
    "        aes(x=\"factor(attributes_ordered)\", y=\"value\", fill=\"whichgroup_ordered\"),\n",
    "    )\n",
    "    + geom_bar(stat=\"identity\", position=\"dodge\", alpha=0.8)\n",
    "    + coord_flip()\n",
    "    + ylab(\"Percentage of students\\nin category\")\n",
    "    + xlab(\"Attribute\")\n",
    "    + standard_background_rotatex\n",
    "    + scale_fill_manual(values=(\"firebrick\", \"springgreen\", \"gray\"))\n",
    "    + theme(legend_position=(0.75, 1), legend_text=element_text(size=8))\n",
    "    + labs(fill=\"Category\")\n",
    ")\n",
    "\n",
    "ggsave(\n",
    "    moreatt_studycat,\n",
    "    OUTPUT_DIR / \"moreattributes_studycat.pdf\",\n",
    "    width=12,\n",
    "    height=8,\n",
    ")"
   ]
  },
  {
   "cell_type": "markdown",
   "id": "a53bc97a",
   "metadata": {
    "papermill": {
     "duration": 0.022855,
     "end_time": "2021-10-07T01:05:43.028477",
     "exception": false,
     "start_time": "2021-10-07T01:05:43.005622",
     "status": "completed"
    },
    "tags": []
   },
   "source": [
    "# 3: Check balance between the treatment and control group"
   ]
  },
  {
   "cell_type": "markdown",
   "id": "376d4c41",
   "metadata": {
    "papermill": {
     "duration": 0.019149,
     "end_time": "2021-10-07T01:05:43.067720",
     "exception": false,
     "start_time": "2021-10-07T01:05:43.048571",
     "status": "completed"
    },
    "tags": []
   },
   "source": [
    "### Balance by school"
   ]
  },
  {
   "cell_type": "markdown",
   "id": "12f8a460",
   "metadata": {
    "papermill": {
     "duration": 0.038393,
     "end_time": "2021-10-07T01:05:43.124195",
     "exception": false,
     "start_time": "2021-10-07T01:05:43.085802",
     "status": "completed"
    },
    "tags": []
   },
   "source": [
    "#### Engagement analytic sample"
   ]
  },
  {
   "cell_type": "code",
   "execution_count": 22,
   "id": "c37b8b92",
   "metadata": {
    "execution": {
     "iopub.execute_input": "2021-10-07T01:05:43.173429Z",
     "iopub.status.busy": "2021-10-07T01:05:43.172770Z",
     "iopub.status.idle": "2021-10-07T01:05:47.054333Z",
     "shell.execute_reply": "2021-10-07T01:05:47.054784Z"
    },
    "papermill": {
     "duration": 3.911451,
     "end_time": "2021-10-07T01:05:47.055060",
     "exception": false,
     "start_time": "2021-10-07T01:05:43.143609",
     "status": "completed"
    },
    "tags": []
   },
   "outputs": [],
   "source": [
    "## full data\n",
    "balance_fullsample = pd.crosstab(\n",
    "    df_suso.school_name, df_suso.is_treatment\n",
    ").reset_index()\n",
    "balance_fullsample_long = balance_fullsample.melt(id_vars=[\"school_name\"])\n",
    "balance_fullsample_long[\"group\"] = np.where(\n",
    "    balance_fullsample_long.is_treatment == False, \"Control\", \"Treatment\"\n",
    ")\n",
    "bal_byschool = (\n",
    "    ggplot(\n",
    "        balance_fullsample_long, aes(x=\"factor(group)\", y=\"value\", fill=\"factor(group)\")\n",
    "    )\n",
    "    + geom_bar(stat=\"identity\", position=\"dodge\", alpha=0.5)\n",
    "    + facet_background\n",
    "    + scale_y_continuous(breaks=(0, 25, 50))\n",
    "    + xlab(\"\")\n",
    "    + labs(fill=\"\")\n",
    "    + theme(legend_position=\"bottom\")\n",
    "    + scale_fill_manual(values=(\"#444444\", \"#2B4888\"))\n",
    "    + facet_wrap(\"~school_name\")\n",
    ")\n",
    "\n",
    "ggsave(bal_byschool, OUTPUT_DIR / \"bal_byschool.pdf\", device=\"pdf\", width=12, height=8)"
   ]
  },
  {
   "cell_type": "markdown",
   "id": "8e4d2850",
   "metadata": {
    "papermill": {
     "duration": 0.021889,
     "end_time": "2021-10-07T01:05:47.099656",
     "exception": false,
     "start_time": "2021-10-07T01:05:47.077767",
     "status": "completed"
    },
    "tags": []
   },
   "source": [
    "#### Attendance analytic sample"
   ]
  },
  {
   "cell_type": "code",
   "execution_count": 23,
   "id": "3209d402",
   "metadata": {
    "execution": {
     "iopub.execute_input": "2021-10-07T01:05:47.151651Z",
     "iopub.status.busy": "2021-10-07T01:05:47.150701Z",
     "iopub.status.idle": "2021-10-07T01:05:47.384660Z",
     "shell.execute_reply": "2021-10-07T01:05:47.385144Z"
    },
    "papermill": {
     "duration": 0.264541,
     "end_time": "2021-10-07T01:05:47.385348",
     "exception": false,
     "start_time": "2021-10-07T01:05:47.120807",
     "status": "completed"
    },
    "tags": []
   },
   "outputs": [],
   "source": [
    "attendance_both_clean = pd.read_parquet(DATA_DIR / \"attendance_both_clean.parquet\")\n",
    "attendance_endofyear_sy1718 = data_endofyear_outcomes(data=attendance_both_clean)\n",
    "\n",
    "# The student attributes (which is anchored to the beginning of year) also has an\n",
    "# enrolled school. Since all other attributes are BOY, we keep that one\n",
    "attendance_endofyear_sy1718.drop(columns=[\"Enr_SchoolName\"], inplace=True)\n",
    "\n",
    "\n",
    "## merge with student attributes and subset\n",
    "## each to the usi's for which we know\n",
    "## treatment status (so not just referred)\n",
    "attendance_endofyear_sy1718_withattributes = pd.merge(\n",
    "    attendance_endofyear_sy1718[\n",
    "        attendance_endofyear_sy1718.usi.isin(usis_ref_and_treat)\n",
    "    ],\n",
    "    student_attributes_all,\n",
    "    on=\"usi\",\n",
    "    how=\"left\",\n",
    ").drop_duplicates(subset=[\"usi\"])\n",
    "\n",
    "\n",
    "## merge with tre\n",
    "attendance_eoy_wsusoid = pd.merge(\n",
    "    attendance_endofyear_sy1718_withattributes,\n",
    "    lookup_suso_attendance[[\"suso_id\", \"name_dob\", \"usi\", \"type_of_match\"]],\n",
    "    on=\"usi\",\n",
    "    how=\"left\",\n",
    ")\n",
    "df_suso_tomerge = df_suso[\n",
    "    [\n",
    "        \"is_treatment\",\n",
    "        \"status\",\n",
    "        \"status_datetime\",\n",
    "        \"student_id\",\n",
    "        \"site_id\",\n",
    "        \"site_name\",\n",
    "        \"referral_source\",\n",
    "        \"school_name\",\n",
    "    ]\n",
    "].copy()\n",
    "attendance_eoy_wsuso = pd.merge(\n",
    "    attendance_eoy_wsusoid,\n",
    "    df_suso_tomerge,\n",
    "    left_on=\"suso_id\",\n",
    "    right_on=\"student_id\",\n",
    "    how=\"left\",\n",
    ").drop_duplicates(subset=\"suso_id\", keep=\"first\")\n",
    "\n",
    "attendance_eoy_wsuso.to_pickle(\n",
    "    DATA_DIR / \"attendance_eoy_wsuso.pkl\", protocol=PICKLE_PROTOCOL\n",
    ")"
   ]
  },
  {
   "cell_type": "code",
   "execution_count": 24,
   "id": "713ecec0",
   "metadata": {
    "execution": {
     "iopub.execute_input": "2021-10-07T01:05:47.438114Z",
     "iopub.status.busy": "2021-10-07T01:05:47.437458Z",
     "iopub.status.idle": "2021-10-07T01:05:50.936582Z",
     "shell.execute_reply": "2021-10-07T01:05:50.937002Z"
    },
    "papermill": {
     "duration": 3.528424,
     "end_time": "2021-10-07T01:05:50.937185",
     "exception": false,
     "start_time": "2021-10-07T01:05:47.408761",
     "status": "completed"
    },
    "tags": []
   },
   "outputs": [],
   "source": [
    "## summarize attendance analytic sample\n",
    "attendance_eoy_wsuso = pd.read_pickle(DATA_DIR / \"attendance_eoy_wsuso.pkl\")\n",
    "balance_attendancesample = pd.crosstab(\n",
    "    attendance_eoy_wsuso.school_name, attendance_eoy_wsuso.is_treatment\n",
    ").reset_index()\n",
    "balance_attendancesample_long = balance_attendancesample.melt(id_vars=[\"school_name\"])\n",
    "balance_attendancesample_long[\"group\"] = np.where(\n",
    "    balance_attendancesample_long.is_treatment == False, \"Control\", \"Treatment\"\n",
    ")\n",
    "balance_attendancesample_long.head()\n",
    "\n",
    "att_balbyschool = (\n",
    "    ggplot(\n",
    "        balance_attendancesample_long,\n",
    "        aes(x=\"factor(group)\", y=\"value\", fill=\"factor(group)\"),\n",
    "    )\n",
    "    + geom_bar(stat=\"identity\", position=\"dodge\", alpha=0.5)\n",
    "    + facet_background\n",
    "    + scale_y_continuous(breaks=(0, 25, 50))\n",
    "    + xlab(\"\")\n",
    "    + labs(fill=\"\")\n",
    "    + theme(legend_position=\"bottom\")\n",
    "    + scale_fill_manual(values=(\"#444444\", \"#2B4888\"))\n",
    "    + facet_wrap(\"~school_name\")\n",
    ")\n",
    "\n",
    "ggsave(att_balbyschool, OUTPUT_DIR / \"attbal_byschool.pdf\", width=12, height=8)"
   ]
  },
  {
   "cell_type": "code",
   "execution_count": 25,
   "id": "009b27fd",
   "metadata": {
    "execution": {
     "iopub.execute_input": "2021-10-07T01:05:51.134187Z",
     "iopub.status.busy": "2021-10-07T01:05:51.087716Z",
     "iopub.status.idle": "2021-10-07T01:05:51.238983Z",
     "shell.execute_reply": "2021-10-07T01:05:51.239413Z"
    },
    "papermill": {
     "duration": 0.280936,
     "end_time": "2021-10-07T01:05:51.239598",
     "exception": false,
     "start_time": "2021-10-07T01:05:50.958662",
     "status": "completed"
    },
    "tags": []
   },
   "outputs": [],
   "source": [
    "balance_attendancesample.columns = [\"school_name\", \"Control\", \"Treatment\"]\n",
    "balance_attendancesample[\"total\"] = (\n",
    "    balance_attendancesample[\"Control\"] + balance_attendancesample[\"Treatment\"]\n",
    ")\n",
    "balance_attendancesample[\"prop_treat\"] = (\n",
    "    balance_attendancesample.Treatment / balance_attendancesample.total\n",
    ")\n",
    "balance_attendancesample[\"prop_control\"] = (\n",
    "    balance_attendancesample.Control / balance_attendancesample.total\n",
    ")\n",
    "balance_attendancesample[\"prop_treat_minus_control\"] = (\n",
    "    balance_attendancesample.prop_treat - balance_attendancesample.prop_control\n",
    ")\n",
    "\n",
    "\n",
    "balance_school_scatter = (\n",
    "    ggplot(balance_attendancesample, aes(x=\"total\", y=\"prop_treat_minus_control\"))\n",
    "    + geom_point()\n",
    "    + standard_background_rotatex\n",
    "    + xlab(\"Total students randomized from school\")\n",
    "    + ylab(\"Proportion in treatment group minus\\nproportion in control group\")\n",
    "    + geom_hline(yintercept=0, linetype=\"dashed\", color=\"red\")\n",
    ")\n",
    "\n",
    "ggsave(\n",
    "    balance_school_scatter,\n",
    "    OUTPUT_DIR / \"balance_school_scatter.pdf\",\n",
    "    width=12,\n",
    "    height=8,\n",
    ")"
   ]
  },
  {
   "cell_type": "markdown",
   "id": "09479bd2",
   "metadata": {
    "papermill": {
     "duration": 0.022991,
     "end_time": "2021-10-07T01:05:51.285412",
     "exception": false,
     "start_time": "2021-10-07T01:05:51.262421",
     "status": "completed"
    },
    "tags": []
   },
   "source": [
    "### Balance by demographic attributes"
   ]
  },
  {
   "cell_type": "code",
   "execution_count": 26,
   "id": "cdc2239b",
   "metadata": {
    "execution": {
     "iopub.execute_input": "2021-10-07T01:05:51.338368Z",
     "iopub.status.busy": "2021-10-07T01:05:51.337728Z",
     "iopub.status.idle": "2021-10-07T01:05:51.351220Z",
     "shell.execute_reply": "2021-10-07T01:05:51.351763Z"
    },
    "papermill": {
     "duration": 0.043555,
     "end_time": "2021-10-07T01:05:51.352013",
     "exception": false,
     "start_time": "2021-10-07T01:05:51.308458",
     "status": "completed"
    },
    "tags": []
   },
   "outputs": [],
   "source": [
    "## merge in treatment status indicator\n",
    "for_merge = student_attributes_categorical_names + [\"usi\"]\n",
    "student_attributes_withcat_withtx = pd.merge(\n",
    "    student_attributes_withcat[for_merge],\n",
    "    attendance_eoy_wsuso[[\"usi\", \"is_treatment\"]],\n",
    "    on=\"usi\",\n",
    "    how=\"inner\",\n",
    ")"
   ]
  },
  {
   "cell_type": "code",
   "execution_count": 27,
   "id": "a936b845",
   "metadata": {
    "execution": {
     "iopub.execute_input": "2021-10-07T01:05:51.603533Z",
     "iopub.status.busy": "2021-10-07T01:05:51.457989Z",
     "iopub.status.idle": "2021-10-07T01:05:51.718665Z",
     "shell.execute_reply": "2021-10-07T01:05:51.719051Z"
    },
    "papermill": {
     "duration": 0.343157,
     "end_time": "2021-10-07T01:05:51.719279",
     "exception": false,
     "start_time": "2021-10-07T01:05:51.376122",
     "status": "completed"
    },
    "tags": []
   },
   "outputs": [],
   "source": [
    "vars_compare = [\n",
    "    var\n",
    "    for var in student_attributes_withcat_withtx.columns\n",
    "    if \"id\" not in var and \"usi\" not in var\n",
    "]\n",
    "mean_txstatus = (\n",
    "    student_attributes_withcat_withtx[vars_compare]\n",
    "    .groupby(\"is_treatment\")\n",
    "    .mean()\n",
    "    .T.reset_index()\n",
    ")\n",
    "mean_txstatus.columns = [\"attribute\", \"Control\", \"Treatment\"]\n",
    "mean_txstatus[\"txprop_minus_controlprop\"] = (\n",
    "    mean_txstatus.Treatment - mean_txstatus.Control\n",
    ")\n",
    "mean_txstatus_cleaned = pd.merge(\n",
    "    mean_txstatus,\n",
    "    mean_whetherinsuso_clean_long_morecat[\n",
    "        [\"attribute_name\", \"attributes_ordered\"]\n",
    "    ].drop_duplicates(),\n",
    "    right_on=\"attribute_name\",\n",
    "    left_on=\"attribute\",\n",
    "    how=\"inner\",\n",
    ")\n",
    "\n",
    "## merge clean attributes\n",
    "\n",
    "\n",
    "## plot by attribute\n",
    "bal_dem = (\n",
    "    ggplot(\n",
    "        mean_txstatus_cleaned,\n",
    "        aes(x=\"factor(attributes_ordered)\", y=\"txprop_minus_controlprop\"),\n",
    "    )\n",
    "    + geom_bar(stat=\"identity\", fill=\"yellow\", alpha=0.5, color=\"black\")\n",
    "    + xlab(\"Attribute\")\n",
    "    + ylab(\n",
    "        \"Treatment proportion\\nminus control group proportion\\n(positive = treatment group higher)\"\n",
    "    )\n",
    "    + standard_background_rotatex\n",
    "    + coord_flip()\n",
    ")\n",
    "\n",
    "ggsave(bal_dem, OUTPUT_DIR / \"bal_dem.pdf\", width=12, height=8)"
   ]
  },
  {
   "cell_type": "markdown",
   "id": "05b73dd9",
   "metadata": {
    "papermill": {
     "duration": 0.02146,
     "end_time": "2021-10-07T01:05:51.760371",
     "exception": false,
     "start_time": "2021-10-07T01:05:51.738911",
     "status": "completed"
    },
    "tags": []
   },
   "source": [
    "# 3. Write files used in next script\n",
    "\n"
   ]
  },
  {
   "cell_type": "code",
   "execution_count": 28,
   "id": "a651f336",
   "metadata": {
    "execution": {
     "iopub.execute_input": "2021-10-07T01:05:51.804283Z",
     "iopub.status.busy": "2021-10-07T01:05:51.803589Z",
     "iopub.status.idle": "2021-10-07T01:05:51.807711Z",
     "shell.execute_reply": "2021-10-07T01:05:51.808144Z"
    },
    "papermill": {
     "duration": 0.027062,
     "end_time": "2021-10-07T01:05:51.808319",
     "exception": false,
     "start_time": "2021-10-07T01:05:51.781257",
     "status": "completed"
    },
    "tags": []
   },
   "outputs": [],
   "source": [
    "attendance_eoy_wsuso.to_pickle(\n",
    "    DATA_DIR / \"attendance_eoy_wsuso.pkl\", protocol=PICKLE_PROTOCOL\n",
    ")\n",
    "student_attributes_withcat_withtx.to_pickle(\n",
    "    DATA_DIR / \"student_attributes_withcat_withtx.pkl\", protocol=PICKLE_PROTOCOL\n",
    ")"
   ]
  }
 ],
 "metadata": {
  "interpreter": {
   "hash": "f810fb408179879954c0045dc47f9e7c9aa0477d9c8145b4c678eb0585172ed7"
  },
  "kernelspec": {
   "display_name": "Python 3.8.6 64-bit ('.venv': poetry)",
   "name": "python3"
  },
  "language_info": {
   "codemirror_mode": {
    "name": "ipython",
    "version": 3
   },
   "file_extension": ".py",
   "mimetype": "text/x-python",
   "name": "python",
   "nbconvert_exporter": "python",
   "pygments_lexer": "ipython3",
   "version": "3.8.6"
  },
  "papermill": {
   "default_parameters": {},
   "duration": 30.565605,
   "end_time": "2021-10-07T01:05:52.867477",
   "environment_variables": {},
   "exception": null,
   "input_path": "src/notebooks/200_descriptives/060_sample_descriptives.ipynb",
   "output_path": "output/200_descriptives/060_sample_descriptives.ipynb",
   "parameters": {},
   "start_time": "2021-10-07T01:05:22.301872",
   "version": "2.3.3"
  }
 },
 "nbformat": 4,
 "nbformat_minor": 5
}