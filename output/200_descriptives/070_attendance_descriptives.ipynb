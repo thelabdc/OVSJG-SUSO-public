{
 "cells": [
  {
   "cell_type": "markdown",
   "id": "d0a8c4c7",
   "metadata": {
    "papermill": {
     "duration": 0.044322,
     "end_time": "2021-10-07T01:10:45.085389",
     "exception": false,
     "start_time": "2021-10-07T01:10:45.041067",
     "status": "completed"
    },
    "tags": []
   },
   "source": [
    "# Descriptives: attendance outcomes\n",
    "\n",
    "Involves constructing the short-duration attendance outcomes"
   ]
  },
  {
   "cell_type": "code",
   "execution_count": 1,
   "id": "ad5321d7",
   "metadata": {
    "execution": {
     "iopub.execute_input": "2021-10-07T01:10:45.168595Z",
     "iopub.status.busy": "2021-10-07T01:10:45.167925Z",
     "iopub.status.idle": "2021-10-07T01:10:46.636729Z",
     "shell.execute_reply": "2021-10-07T01:10:46.637176Z"
    },
    "papermill": {
     "duration": 1.512243,
     "end_time": "2021-10-07T01:10:46.637460",
     "exception": false,
     "start_time": "2021-10-07T01:10:45.125217",
     "status": "completed"
    },
    "tags": []
   },
   "outputs": [],
   "source": [
    "import warnings\n",
    "from datetime import timedelta\n",
    "\n",
    "import numpy as np\n",
    "import pandas as pd\n",
    "from plotnine import *\n",
    "\n",
    "from suso.plotting_themes import standard_background, standard_background_rotatex_nojust\n",
    "from suso.utils import PICKLE_PROTOCOL, here\n",
    "\n",
    "warnings.filterwarnings(\"ignore\")"
   ]
  },
  {
   "cell_type": "code",
   "execution_count": 2,
   "id": "aa2f4fff",
   "metadata": {
    "execution": {
     "iopub.execute_input": "2021-10-07T01:10:46.708144Z",
     "iopub.status.busy": "2021-10-07T01:10:46.707162Z",
     "iopub.status.idle": "2021-10-07T01:10:46.709545Z",
     "shell.execute_reply": "2021-10-07T01:10:46.710106Z"
    },
    "papermill": {
     "duration": 0.040727,
     "end_time": "2021-10-07T01:10:46.710307",
     "exception": false,
     "start_time": "2021-10-07T01:10:46.669580",
     "status": "completed"
    },
    "tags": []
   },
   "outputs": [],
   "source": [
    "DATA_DIR = here(\"data\")\n",
    "OUTPUT_DIR = here(\"output\")"
   ]
  },
  {
   "cell_type": "markdown",
   "id": "320eff7e",
   "metadata": {
    "papermill": {
     "duration": 0.032333,
     "end_time": "2021-10-07T01:10:46.779391",
     "exception": false,
     "start_time": "2021-10-07T01:10:46.747058",
     "status": "completed"
    },
    "tags": []
   },
   "source": [
    "# 1. Read in data"
   ]
  },
  {
   "cell_type": "code",
   "execution_count": 3,
   "id": "e80836a6",
   "metadata": {
    "execution": {
     "iopub.execute_input": "2021-10-07T01:10:46.850402Z",
     "iopub.status.busy": "2021-10-07T01:10:46.849766Z",
     "iopub.status.idle": "2021-10-07T01:10:46.870920Z",
     "shell.execute_reply": "2021-10-07T01:10:46.871362Z"
    },
    "papermill": {
     "duration": 0.059872,
     "end_time": "2021-10-07T01:10:46.871549",
     "exception": false,
     "start_time": "2021-10-07T01:10:46.811677",
     "status": "completed"
    },
    "tags": []
   },
   "outputs": [],
   "source": [
    "attendance_eoy_wsuso = pd.read_pickle(DATA_DIR / \"attendance_eoy_wsuso.pkl\")\n",
    "df_suso = pd.read_csv(DATA_DIR / \"df_suso_merged.csv\")"
   ]
  },
  {
   "cell_type": "markdown",
   "id": "ff06973e",
   "metadata": {
    "papermill": {
     "duration": 0.029734,
     "end_time": "2021-10-07T01:10:46.934759",
     "exception": false,
     "start_time": "2021-10-07T01:10:46.905025",
     "status": "completed"
    },
    "tags": []
   },
   "source": [
    "# 2: Summarise end of year attendance outcomes descriptively\n",
    "\n",
    "- Construct\n",
    "- Find descriptives"
   ]
  },
  {
   "cell_type": "code",
   "execution_count": 4,
   "id": "b70e532d",
   "metadata": {
    "execution": {
     "iopub.execute_input": "2021-10-07T01:10:47.115309Z",
     "iopub.status.busy": "2021-10-07T01:10:47.067123Z",
     "iopub.status.idle": "2021-10-07T01:10:47.318774Z",
     "shell.execute_reply": "2021-10-07T01:10:47.319210Z"
    },
    "papermill": {
     "duration": 0.35475,
     "end_time": "2021-10-07T01:10:47.319384",
     "exception": false,
     "start_time": "2021-10-07T01:10:46.964634",
     "status": "completed"
    },
    "tags": []
   },
   "outputs": [
    {
     "data": {
      "image/png": "[encoded data removed]",
      "text/plain": [
       "<Figure size 640x480 with 1 Axes>"
      ]
     },
     "metadata": {},
     "output_type": "display_data"
    },
    {
     "data": {
      "text/plain": [
       "<ggplot: (335228191)>"
      ]
     },
     "execution_count": 4,
     "metadata": {},
     "output_type": "execute_result"
    }
   ],
   "source": [
    "absence_meanbytreat = attendance_eoy_wsuso.groupby(\"is_treatment\")[\n",
    "    \"truant_indicator\", \"chronicabsent_indicator\"\n",
    "].mean()\n",
    "absence_meanbytreat[\"treatment\"] = absence_meanbytreat.index\n",
    "absence_meanbytreat[\"treatment_descriptive\"] = np.where(\n",
    "    absence_meanbytreat.treatment == True, \"Treatment\", \"Control\"\n",
    ")\n",
    "\n",
    "absence_meanbytreat_long = pd.melt(\n",
    "    absence_meanbytreat, id_vars=[\"treatment\", \"treatment_descriptive\"]\n",
    ")\n",
    "absence_meanbytreat_long[\"variable_descriptive\"] = np.where(\n",
    "    absence_meanbytreat_long.variable == \"truant_indicator\",\n",
    "    \"Truancy rate\",\n",
    "    \"Chronic absenteeism rate\",\n",
    ")\n",
    "absence_meanbytreat_long[\"value_rounded\"] = round(absence_meanbytreat_long.value, 3)\n",
    "\n",
    "yearend_rates = (\n",
    "    ggplot(\n",
    "        absence_meanbytreat_long,\n",
    "        aes(\n",
    "            x=\"factor(variable_descriptive)\",\n",
    "            y=\"value\",\n",
    "            fill=\"treatment_descriptive\",\n",
    "            group=\"factor(treatment_descriptive)\",\n",
    "        ),\n",
    "    )\n",
    "    + geom_bar(position=\"dodge\", stat=\"identity\")\n",
    "    + scale_fill_manual(values=(\"#444444\", \"#2B4888\"))\n",
    "    + geom_label(\n",
    "        aes(x=\"factor(variable_descriptive)\", y=\"value\", label=\"value_rounded\"),\n",
    "        position=position_dodge(width=1),\n",
    "        fill=\"white\",\n",
    "    )\n",
    "    + standard_background\n",
    "    + labs(fill=\"\")\n",
    "    + xlab(\"\")\n",
    "    + scale_fill_manual(values=(\"#444444\", \"#2B4888\"))\n",
    "    + ylab(\"Proportion of students\")\n",
    "    + theme(legend_position=\"bottom\")\n",
    ")\n",
    "\n",
    "yearend_rates"
   ]
  },
  {
   "cell_type": "code",
   "execution_count": 5,
   "id": "0297ee90",
   "metadata": {
    "execution": {
     "iopub.execute_input": "2021-10-07T01:10:47.565782Z",
     "iopub.status.busy": "2021-10-07T01:10:47.480934Z",
     "iopub.status.idle": "2021-10-07T01:10:47.671746Z",
     "shell.execute_reply": "2021-10-07T01:10:47.672177Z"
    },
    "papermill": {
     "duration": 0.322046,
     "end_time": "2021-10-07T01:10:47.672357",
     "exception": false,
     "start_time": "2021-10-07T01:10:47.350311",
     "status": "completed"
    },
    "tags": []
   },
   "outputs": [],
   "source": [
    "ggsave(yearend_rates, OUTPUT_DIR / \"yearend_rates.pdf\", width=12, height=8)"
   ]
  },
  {
   "cell_type": "markdown",
   "id": "daf8df69",
   "metadata": {
    "papermill": {
     "duration": 0.034982,
     "end_time": "2021-10-07T01:10:47.741302",
     "exception": false,
     "start_time": "2021-10-07T01:10:47.706320",
     "status": "completed"
    },
    "tags": []
   },
   "source": [
    "# 3: Constructing the different short duration attendance outcomes"
   ]
  },
  {
   "cell_type": "markdown",
   "id": "0821f8a1",
   "metadata": {
    "papermill": {
     "duration": 0.030955,
     "end_time": "2021-10-07T01:10:47.805462",
     "exception": false,
     "start_time": "2021-10-07T01:10:47.774507",
     "status": "completed"
    },
    "tags": []
   },
   "source": [
    "Two short duration attendance outcomes:\n",
    "\n",
    "- \"Observed delivery date\": \n",
    "    - Tx group: delivery date if observed; 7 days post referral if missing (25% of sample)\n",
    "    - Control group: find tx group member in their school with nearest referral date (before or after; so just minimize distance); assign them the delivery date of that minimum-distance treatment group members\n",
    "    \n",
    "- \"Median delivery date\":\n",
    "    - For both groups, assign them sample median length of delivery (7 days post referral)\n",
    "\n",
    "\n",
    "What counts as a delivery date? Two mailing statuses (relatively liberal; more conservative measure would only use USPS indicated delivered:\n",
    "\n",
    "1. status == \"USPS Indicated Delivered\"\n",
    "2. status == \"Arrived at Recipient PO\""
   ]
  },
  {
   "cell_type": "markdown",
   "id": "4a8cbd86",
   "metadata": {
    "papermill": {
     "duration": 0.036895,
     "end_time": "2021-10-07T01:10:47.874739",
     "exception": false,
     "start_time": "2021-10-07T01:10:47.837844",
     "status": "completed"
    },
    "tags": []
   },
   "source": [
    "## 3.1: Find date to start clock for observed delivery date "
   ]
  },
  {
   "cell_type": "markdown",
   "id": "f0f786b3",
   "metadata": {
    "papermill": {
     "duration": 0.035375,
     "end_time": "2021-10-07T01:10:47.947570",
     "exception": false,
     "start_time": "2021-10-07T01:10:47.912195",
     "status": "completed"
    },
    "tags": []
   },
   "source": [
    "### 3.1.1 Load data on students, mailings, and referral date\n",
    "\n",
    "- Mailings has multiple rows to correspond with different updates to the mailing status\n",
    "- Job connects each mailing to a student id\n",
    "- Students has their treatment status and whether they had valid info to be randomized\n",
    "- df_suso (from ETO data/original data cleaning file) has information on referral date "
   ]
  },
  {
   "cell_type": "code",
   "execution_count": 6,
   "id": "4d9106b0",
   "metadata": {
    "execution": {
     "iopub.execute_input": "2021-10-07T01:10:48.024749Z",
     "iopub.status.busy": "2021-10-07T01:10:48.023884Z",
     "iopub.status.idle": "2021-10-07T01:10:48.116777Z",
     "shell.execute_reply": "2021-10-07T01:10:48.117481Z"
    },
    "papermill": {
     "duration": 0.138168,
     "end_time": "2021-10-07T01:10:48.117732",
     "exception": false,
     "start_time": "2021-10-07T01:10:47.979564",
     "status": "completed"
    },
    "tags": []
   },
   "outputs": [],
   "source": [
    "## get original enrolled date, school,\n",
    "## record status and id from students\n",
    "students = pd.read_csv(DATA_DIR / \"students.csv\")\n",
    "students_topair = students.loc[\n",
    "    students.id != 1, [\"id\", \"school\", \"enrolled_date\", \"is_good_record\"]\n",
    "]\n",
    "randomizer = pd.read_csv(DATA_DIR / \"randomizer.csv\")\n",
    "\n",
    "## left join randomizer to students\n",
    "students_topair_withtx = pd.merge(\n",
    "    students_topair, randomizer, left_on=\"id\", right_on=\"student_id\", how=\"left\"\n",
    ")\n",
    "students_topair_withtx_validrecords = students_topair_withtx.loc[\n",
    "    students_topair_withtx.is_good_record == True\n",
    "].copy()\n",
    "\n",
    "## merge in referral date\n",
    "refdate_tomerge = df_suso[[\"student_id\", \"referral_date\"]]\n",
    "students_topair_withtx_withrefdate = pd.merge(\n",
    "    students_topair_withtx_validrecords, refdate_tomerge, on=\"student_id\", how=\"left\"\n",
    ")\n",
    "\n",
    "\n",
    "## merge in delivery date for tx group students\n",
    "mailings = pd.read_csv(DATA_DIR / \"mailings.csv\")\n",
    "\n",
    "## deduplicate as according to original script\n",
    "mailings_deduped = mailings.sort_values([\"job_id\", \"status_datetime\"]).drop_duplicates(\n",
    "    \"job_id\", keep=\"last\"\n",
    ")\n",
    "jobs_deduped = (\n",
    "    pd.read_csv(DATA_DIR / \"jobs.csv\")\n",
    "    .sort_values(by=[\"student_id\", \"created_at\"])\n",
    "    .drop_duplicates(\"student_id\", keep=\"last\")\n",
    ")"
   ]
  },
  {
   "cell_type": "code",
   "execution_count": 7,
   "id": "cd091866",
   "metadata": {
    "execution": {
     "iopub.execute_input": "2021-10-07T01:10:48.203392Z",
     "iopub.status.busy": "2021-10-07T01:10:48.202691Z",
     "iopub.status.idle": "2021-10-07T01:10:48.208493Z",
     "shell.execute_reply": "2021-10-07T01:10:48.207956Z"
    },
    "papermill": {
     "duration": 0.048149,
     "end_time": "2021-10-07T01:10:48.208691",
     "exception": false,
     "start_time": "2021-10-07T01:10:48.160542",
     "status": "completed"
    },
    "tags": []
   },
   "outputs": [],
   "source": [
    "mailings_deduped_withstudentid = pd.merge(\n",
    "    mailings_deduped[[\"job_id\", \"status\", \"status_datetime\"]],\n",
    "    jobs_deduped[[\"id\", \"student_id\"]],\n",
    "    left_on=\"job_id\",\n",
    "    right_on=\"id\",\n",
    "    how=\"inner\",\n",
    ")\n",
    "\n",
    "## subset to two values indicating delivery status (restricting it to USPS only leaves about 300 students)\n",
    "mailings_onlydelivery = mailings_deduped_withstudentid.loc[\n",
    "    (\n",
    "        (mailings_deduped_withstudentid.status == \"USPS Indicated Delivered\")\n",
    "        | (mailings_deduped_withstudentid.status == \"Arrived at Recipient PO\")\n",
    "    )\n",
    "    & (mailings_deduped_withstudentid.student_id.notnull()),\n",
    "    [\"student_id\", \"status_datetime\", \"status\"],\n",
    "].copy()"
   ]
  },
  {
   "cell_type": "markdown",
   "id": "3ab01093",
   "metadata": {
    "papermill": {
     "duration": 0.033631,
     "end_time": "2021-10-07T01:10:48.276624",
     "exception": false,
     "start_time": "2021-10-07T01:10:48.242993",
     "status": "completed"
    },
    "tags": []
   },
   "source": [
    "### 3.1.2 Merge information on delivery back with treatment status to check missingness for tx group students\n",
    "\n"
   ]
  },
  {
   "cell_type": "code",
   "execution_count": 8,
   "id": "ec76f2c8",
   "metadata": {
    "execution": {
     "iopub.execute_input": "2021-10-07T01:10:48.383008Z",
     "iopub.status.busy": "2021-10-07T01:10:48.382340Z",
     "iopub.status.idle": "2021-10-07T01:10:48.389818Z",
     "shell.execute_reply": "2021-10-07T01:10:48.390277Z"
    },
    "papermill": {
     "duration": 0.055308,
     "end_time": "2021-10-07T01:10:48.390505",
     "exception": false,
     "start_time": "2021-10-07T01:10:48.335197",
     "status": "completed"
    },
    "tags": []
   },
   "outputs": [
    {
     "name": "stdout",
     "output_type": "stream",
     "text": [
      "163 students out of 683 treatment group members are missing a delivery date, or 23.865300146412885 percent of the sample\n"
     ]
    }
   ],
   "source": [
    "## merge the date onto the treatment status\n",
    "allstudents_withdelivery = pd.merge(\n",
    "    students_topair_withtx_withrefdate,\n",
    "    mailings_onlydelivery,\n",
    "    on=\"student_id\",\n",
    "    how=\"left\",\n",
    ")\n",
    "\n",
    "allstudents_withdelivery.head()\n",
    "\n",
    "print(\n",
    "    str(\n",
    "        allstudents_withdelivery.loc[\n",
    "            (allstudents_withdelivery.is_treatment == True)\n",
    "            & (allstudents_withdelivery.status_datetime.isnull())\n",
    "        ].shape[0]\n",
    "    )\n",
    "    + \" students out of \"\n",
    "    + str(\n",
    "        allstudents_withdelivery.loc[\n",
    "            (allstudents_withdelivery.is_treatment == True)\n",
    "        ].shape[0]\n",
    "    )\n",
    "    + \" treatment group members are missing a delivery date, or \"\n",
    "    + str(\n",
    "        (\n",
    "            allstudents_withdelivery.loc[\n",
    "                (allstudents_withdelivery.is_treatment == True)\n",
    "                & (allstudents_withdelivery.status_datetime.isnull())\n",
    "            ].shape[0]\n",
    "            / allstudents_withdelivery.loc[\n",
    "                (allstudents_withdelivery.is_treatment == True)\n",
    "            ].shape[0]\n",
    "        )\n",
    "        * 100\n",
    "    )\n",
    "    + \" percent of the sample\"\n",
    ")"
   ]
  },
  {
   "cell_type": "markdown",
   "id": "e3624554",
   "metadata": {
    "papermill": {
     "duration": 0.036817,
     "end_time": "2021-10-07T01:10:48.463708",
     "exception": false,
     "start_time": "2021-10-07T01:10:48.426891",
     "status": "completed"
    },
    "tags": []
   },
   "source": [
    "### 3.1.3 Impute median delivery time for treatment students missing a delivery date and add flag for whether obs. versus imputed\n",
    "\n",
    "- Purpose of flag is to later do sensitivity checks with the results"
   ]
  },
  {
   "cell_type": "code",
   "execution_count": 9,
   "id": "31cd6e5b",
   "metadata": {
    "execution": {
     "iopub.execute_input": "2021-10-07T01:10:48.539457Z",
     "iopub.status.busy": "2021-10-07T01:10:48.538792Z",
     "iopub.status.idle": "2021-10-07T01:10:48.540482Z",
     "shell.execute_reply": "2021-10-07T01:10:48.540953Z"
    },
    "papermill": {
     "duration": 0.043266,
     "end_time": "2021-10-07T01:10:48.541126",
     "exception": false,
     "start_time": "2021-10-07T01:10:48.497860",
     "status": "completed"
    },
    "tags": []
   },
   "outputs": [],
   "source": [
    "## first, convert to datetime and\n",
    "## get proper date of referral or eligibility\n",
    "allstudents_withdelivery[\"referral_date_dt\"] = pd.to_datetime(\n",
    "    allstudents_withdelivery.referral_date\n",
    ")\n",
    "allstudents_withdelivery[\"enrolled_date_dt\"] = pd.to_datetime(\n",
    "    allstudents_withdelivery.enrolled_date\n",
    ")\n",
    "allstudents_withdelivery[\"delivery_date_dt\"] = pd.to_datetime(\n",
    "    allstudents_withdelivery.status_datetime\n",
    ")\n",
    "\n",
    "## see whether date of referral = date of enrolled\n",
    "allstudents_withdelivery[\"referral_same_enrolled\"] = np.where(\n",
    "    allstudents_withdelivery.referral_date_dt\n",
    "    == allstudents_withdelivery.enrolled_date_dt,\n",
    "    1,\n",
    "    0,\n",
    ")\n",
    "\n",
    "## looked at students that have a different \"referral date\" than\n",
    "## enrolled date-- most have the same (and enrolled means enrolled in suso\n",
    "## rather than engaged by the cbo)\n",
    "## for ones that differ, it's because they're missing a value\n",
    "## for the referral date variable\n",
    "\n",
    "## for rest of script, use enrolled_date as the\n",
    "## date of referral"
   ]
  },
  {
   "cell_type": "code",
   "execution_count": 10,
   "id": "7a630354",
   "metadata": {
    "execution": {
     "iopub.execute_input": "2021-10-07T01:10:48.610467Z",
     "iopub.status.busy": "2021-10-07T01:10:48.609720Z",
     "iopub.status.idle": "2021-10-07T01:10:48.617368Z",
     "shell.execute_reply": "2021-10-07T01:10:48.617797Z"
    },
    "papermill": {
     "duration": 0.045824,
     "end_time": "2021-10-07T01:10:48.618056",
     "exception": false,
     "start_time": "2021-10-07T01:10:48.572232",
     "status": "completed"
    },
    "tags": []
   },
   "outputs": [
    {
     "name": "stdout",
     "output_type": "stream",
     "text": [
      "The median delivery time is: 7 days 10:20:54\n"
     ]
    }
   ],
   "source": [
    "allstudents_withdelivery[\"time_to_delivery\"] = (\n",
    "    allstudents_withdelivery.delivery_date_dt\n",
    "    - allstudents_withdelivery.enrolled_date_dt\n",
    ")\n",
    "\n",
    "median_delivery = allstudents_withdelivery[\"time_to_delivery\"].describe()[\"50%\"]\n",
    "print(\"The median delivery time is: \" + str(median_delivery))\n",
    "\n",
    "\n",
    "## create indicator for which missing\n",
    "allstudents_withdelivery[\"delivery_date_imputation_indicator\"] = np.where(\n",
    "    (allstudents_withdelivery.delivery_date_dt.isnull())\n",
    "    & (allstudents_withdelivery.is_treatment == True),\n",
    "    \"treatment_imputed\",\n",
    "    np.where(\n",
    "        (allstudents_withdelivery.delivery_date_dt.notnull())\n",
    "        & (allstudents_withdelivery.is_treatment == True),\n",
    "        \"treatment_observed\",\n",
    "        \"control\",\n",
    "    ),\n",
    ")"
   ]
  },
  {
   "cell_type": "code",
   "execution_count": 11,
   "id": "18450ddc",
   "metadata": {
    "execution": {
     "iopub.execute_input": "2021-10-07T01:10:48.689954Z",
     "iopub.status.busy": "2021-10-07T01:10:48.689400Z",
     "iopub.status.idle": "2021-10-07T01:10:48.691476Z",
     "shell.execute_reply": "2021-10-07T01:10:48.691883Z"
    },
    "papermill": {
     "duration": 0.038257,
     "end_time": "2021-10-07T01:10:48.692056",
     "exception": false,
     "start_time": "2021-10-07T01:10:48.653799",
     "status": "completed"
    },
    "tags": []
   },
   "outputs": [],
   "source": [
    "## for treatment observations missing a delivery date,\n",
    "## add median time\n",
    "allstudents_withdelivery[\"delivery_date_imputed\"] = np.where(\n",
    "    allstudents_withdelivery.delivery_date_imputation_indicator == \"treatment_imputed\",\n",
    "    allstudents_withdelivery.enrolled_date_dt + median_delivery,\n",
    "    allstudents_withdelivery.delivery_date_dt,\n",
    ")"
   ]
  },
  {
   "cell_type": "code",
   "execution_count": 12,
   "id": "15939eef",
   "metadata": {
    "execution": {
     "iopub.execute_input": "2021-10-07T01:10:48.764023Z",
     "iopub.status.busy": "2021-10-07T01:10:48.763398Z",
     "iopub.status.idle": "2021-10-07T01:10:48.765135Z",
     "shell.execute_reply": "2021-10-07T01:10:48.765515Z"
    },
    "papermill": {
     "duration": 0.04043,
     "end_time": "2021-10-07T01:10:48.765699",
     "exception": false,
     "start_time": "2021-10-07T01:10:48.725269",
     "status": "completed"
    },
    "tags": []
   },
   "outputs": [],
   "source": [
    "## clean the school string\n",
    "## to remove the (k-8) etc\n",
    "## because that causes issues\n",
    "## later with string matching\n",
    "allstudents_withdelivery[\n",
    "    \"school_cleaned\"\n",
    "] = allstudents_withdelivery.school.str.replace(\"\\\\(.*\\\\)$\", \"\")"
   ]
  },
  {
   "cell_type": "code",
   "execution_count": 13,
   "id": "930b5407",
   "metadata": {
    "execution": {
     "iopub.execute_input": "2021-10-07T01:10:48.834753Z",
     "iopub.status.busy": "2021-10-07T01:10:48.834125Z",
     "iopub.status.idle": "2021-10-07T01:10:48.837060Z",
     "shell.execute_reply": "2021-10-07T01:10:48.837550Z"
    },
    "papermill": {
     "duration": 0.040681,
     "end_time": "2021-10-07T01:10:48.837712",
     "exception": false,
     "start_time": "2021-10-07T01:10:48.797031",
     "status": "completed"
    },
    "tags": []
   },
   "outputs": [
    {
     "name": "stdout",
     "output_type": "stream",
     "text": [
      "There are 652 control students to match with 683 tx students in order to assign delivery dates\n"
     ]
    }
   ],
   "source": [
    "## separate groups\n",
    "txstudents = allstudents_withdelivery.loc[\n",
    "    allstudents_withdelivery.is_treatment == True\n",
    "].copy()\n",
    "controlstudents = allstudents_withdelivery.loc[\n",
    "    allstudents_withdelivery.is_treatment == False\n",
    "].copy()\n",
    "\n",
    "## summarize\n",
    "print(\n",
    "    \"There are \"\n",
    "    + str(len(controlstudents.student_id.unique()))\n",
    "    + \" control students to match with \"\n",
    "    + str(len(txstudents.student_id.unique()))\n",
    "    + \" tx students in order to assign delivery dates\"\n",
    ")"
   ]
  },
  {
   "cell_type": "markdown",
   "id": "cb3c32af",
   "metadata": {
    "papermill": {
     "duration": 0.032751,
     "end_time": "2021-10-07T01:10:48.902006",
     "exception": false,
     "start_time": "2021-10-07T01:10:48.869255",
     "status": "completed"
    },
    "tags": []
   },
   "source": [
    "### 3.1.4 assign control group students to treatment group student in their school with closest referral/eligibility date"
   ]
  },
  {
   "cell_type": "code",
   "execution_count": 14,
   "id": "d92ef730",
   "metadata": {
    "execution": {
     "iopub.execute_input": "2021-10-07T01:10:48.986030Z",
     "iopub.status.busy": "2021-10-07T01:10:48.985189Z",
     "iopub.status.idle": "2021-10-07T01:10:48.987654Z",
     "shell.execute_reply": "2021-10-07T01:10:48.988100Z"
    },
    "papermill": {
     "duration": 0.049462,
     "end_time": "2021-10-07T01:10:48.988283",
     "exception": false,
     "start_time": "2021-10-07T01:10:48.938821",
     "status": "completed"
    },
    "tags": []
   },
   "outputs": [
    {
     "name": "stdout",
     "output_type": "stream",
     "text": [
      "For this version of outcome variable, 103 control students cant be matched to tx student bc they're missing a school in the SUSO data (so can't be matched within a school)\n",
      "Later, might be able to look at OSSE data to find a school for these students\n"
     ]
    }
   ],
   "source": [
    "## get control students who are missing a school\n",
    "controlstudents_noschool_cantmatch = controlstudents.loc[\n",
    "    (controlstudents.school.isnull()) | (controlstudents.school == \"n.n\")\n",
    "].shape[0]\n",
    "print(\n",
    "    \"For this version of outcome variable, \"\n",
    "    + str(controlstudents_noschool_cantmatch)\n",
    "    + \" control students cant be matched to tx student bc they're missing a school in the SUSO data (so can't be matched within a school)\"\n",
    ")\n",
    "print(\"Later, might be able to look at OSSE data to find a school for these students\")"
   ]
  },
  {
   "cell_type": "code",
   "execution_count": 15,
   "id": "f4ff606b",
   "metadata": {
    "execution": {
     "iopub.execute_input": "2021-10-07T01:10:49.069316Z",
     "iopub.status.busy": "2021-10-07T01:10:49.068567Z",
     "iopub.status.idle": "2021-10-07T01:10:49.073824Z",
     "shell.execute_reply": "2021-10-07T01:10:49.074415Z"
    },
    "papermill": {
     "duration": 0.049934,
     "end_time": "2021-10-07T01:10:49.074599",
     "exception": false,
     "start_time": "2021-10-07T01:10:49.024665",
     "status": "completed"
    },
    "tags": []
   },
   "outputs": [
    {
     "name": "stdout",
     "output_type": "stream",
     "text": [
      "After removing control group students missing a school, there are\n",
      "549 control students to match with 683 tx students in order to assign delivery dates\n",
      "-----------------------------------------------------------------------\n",
      "Of those 549 control group students, 549 are in schools with at least 1 tx group student\n"
     ]
    }
   ],
   "source": [
    "## subset to control students with ANY school\n",
    "controlstudents_wschool = controlstudents.loc[\n",
    "    (controlstudents.school.notnull()) & (controlstudents.school != \"n.n\")\n",
    "]\n",
    "\n",
    "##\n",
    "print(\"After removing control group students missing a school, there are\")\n",
    "print(\n",
    "    str(len(controlstudents_wschool.student_id.unique()))\n",
    "    + \" control students to match with \"\n",
    "    + str(len(txstudents.student_id.unique()))\n",
    "    + \" tx students in order to assign delivery dates\"\n",
    ")\n",
    "\n",
    "## make sure that for those students, there are some\n",
    "## tx group students with their school\n",
    "print(\"-----------------------------------------------------------------------\")\n",
    "print(\n",
    "    \"Of those \"\n",
    "    + str(len(controlstudents_wschool.student_id.unique()))\n",
    "    + \" control group students, \"\n",
    "    + str(\n",
    "        controlstudents_wschool[\n",
    "            controlstudents_wschool.school.isin(txstudents.school)\n",
    "        ].shape[0]\n",
    "    )\n",
    "    + \" are in schools with at least 1 tx group student\"\n",
    ")"
   ]
  },
  {
   "cell_type": "markdown",
   "id": "c71eabb9",
   "metadata": {
    "papermill": {
     "duration": 0.032603,
     "end_time": "2021-10-07T01:10:49.143269",
     "exception": false,
     "start_time": "2021-10-07T01:10:49.110666",
     "status": "completed"
    },
    "tags": []
   },
   "source": [
    "### 3.1.5 define function to do matching for the purposes of assigning control group students a delivery date\n",
    "\n",
    "Function takes in:\n",
    "\n",
    "- A particular control student\n",
    "- Pool of tx students they could be matched with (use matching in the loose sense; not 1 to 1 but instead just assigning control students delivery date of the tx student in their school with the nearest referral date)\n",
    "\n",
    "What it does:\n",
    "\n",
    "- Subsets pool of treatment group students to those in the focal control student's school \n",
    "- Finds the referral dates for those treatment group students \n",
    "- Finds the referral date for the focal control group student\n",
    "- Finds the treatment student referral date closest to the focal control student's referral date \n",
    "- Subsets to treatment students with that nearest referral date-- it might be multiple since multiple students can be referred on the same day\n",
    "- Looks at the delivery date for those treatment students and finds two dates (using a version of the delivery date variable that contains the 75% observed delivery dates; 25% imputed to 7 days delivery dates)\n",
    "\n",
    "    - Minimum delivery date\n",
    "    - Maximum delivery date\n",
    "    \n",
    "Application: then apply using two pools of treatment group students\n",
    "\n",
    "    - For main results: treatment students are in pool regardless of whether their delivery date was observed or imputed to be 7 days post-referral\n",
    "    - For potential robustness later (don't currently use): treatment students are only in pool if we observe their delivery date\n",
    "    \n",
    "For now: code students to their minimum delivery date that comes from matching them with a student "
   ]
  },
  {
   "cell_type": "code",
   "execution_count": 16,
   "id": "3689d770",
   "metadata": {
    "execution": {
     "iopub.execute_input": "2021-10-07T01:10:49.214612Z",
     "iopub.status.busy": "2021-10-07T01:10:49.213973Z",
     "iopub.status.idle": "2021-10-07T01:10:49.215853Z",
     "shell.execute_reply": "2021-10-07T01:10:49.216302Z"
    },
    "papermill": {
     "duration": 0.041154,
     "end_time": "2021-10-07T01:10:49.216482",
     "exception": false,
     "start_time": "2021-10-07T01:10:49.175328",
     "status": "completed"
    },
    "tags": []
   },
   "outputs": [],
   "source": [
    "def find_inschool_matches(control_student, all_treatment_students):\n",
    "\n",
    "    ## construct pool as tx students at same school as control\n",
    "    controlschool = control_student.school_cleaned\n",
    "    txpool = all_treatment_students[\n",
    "        all_treatment_students.school_cleaned.str.match(controlschool) == True\n",
    "    ].copy()\n",
    "\n",
    "    ## for tx pool, create list of dates\n",
    "    dates_tosearch_in = txpool.enrolled_date_dt.tolist()\n",
    "\n",
    "    ## for control, get date\n",
    "    date_tosearch = control_student.enrolled_date_dt\n",
    "\n",
    "    ## nearest enrollment date\n",
    "    nearest = min(dates_tosearch_in, key=lambda x: abs(x - date_tosearch))\n",
    "\n",
    "    ## find the delivery info for that date\n",
    "    ## and return in a dataframe with other info\n",
    "    txpool_thatdate = txpool.loc[(txpool.enrolled_date_dt.isin([nearest]))]\n",
    "\n",
    "    ## create dataframe with max and min\n",
    "    summarize_matches = pd.DataFrame(\n",
    "        {\n",
    "            \"student_id\": control_student.student_id,\n",
    "            \"enrolled_date\": control_student.enrolled_date_dt,\n",
    "            \"nearest_enrolled_tx\": [nearest],\n",
    "            \"min_delivery_date\": np.min(txpool_thatdate.delivery_date_imputed),\n",
    "            \"max_delivery_date\": np.max(txpool_thatdate.delivery_date_imputed),\n",
    "        }\n",
    "    )\n",
    "\n",
    "    ## return\n",
    "    return summarize_matches"
   ]
  },
  {
   "cell_type": "markdown",
   "id": "af91e181",
   "metadata": {
    "papermill": {
     "duration": 0.032436,
     "end_time": "2021-10-07T01:10:49.285946",
     "exception": false,
     "start_time": "2021-10-07T01:10:49.253510",
     "status": "completed"
    },
    "tags": []
   },
   "source": [
    "#### 3.1.5.1 Matching when we allow controls to be matched to treatment with imputed delivery date"
   ]
  },
  {
   "cell_type": "code",
   "execution_count": 17,
   "id": "ddb7a4f0",
   "metadata": {
    "execution": {
     "iopub.execute_input": "2021-10-07T01:10:49.357795Z",
     "iopub.status.busy": "2021-10-07T01:10:49.357222Z",
     "iopub.status.idle": "2021-10-07T01:10:51.757382Z",
     "shell.execute_reply": "2021-10-07T01:10:51.756794Z"
    },
    "papermill": {
     "duration": 2.439058,
     "end_time": "2021-10-07T01:10:51.757584",
     "exception": false,
     "start_time": "2021-10-07T01:10:49.318526",
     "status": "completed"
    },
    "tags": []
   },
   "outputs": [],
   "source": [
    "## loop through control students (did loop rather than\n",
    "## row-wise apply to allow for try except logic)\n",
    "all_matches = []\n",
    "for i in range(0, controlstudents_wschool.shape[0]):\n",
    "\n",
    "    control_student = controlstudents_wschool.iloc[i]\n",
    "    try:\n",
    "        matches_forcontrol = find_inschool_matches(control_student, txstudents)\n",
    "        all_matches.append(matches_forcontrol)\n",
    "    except:\n",
    "        pass"
   ]
  },
  {
   "cell_type": "code",
   "execution_count": 18,
   "id": "f2403659",
   "metadata": {
    "execution": {
     "iopub.execute_input": "2021-10-07T01:10:51.869503Z",
     "iopub.status.busy": "2021-10-07T01:10:51.868626Z",
     "iopub.status.idle": "2021-10-07T01:10:51.960731Z",
     "shell.execute_reply": "2021-10-07T01:10:51.961468Z"
    },
    "papermill": {
     "duration": 0.158548,
     "end_time": "2021-10-07T01:10:51.961782",
     "exception": false,
     "start_time": "2021-10-07T01:10:51.803234",
     "status": "completed"
    },
    "tags": []
   },
   "outputs": [],
   "source": [
    "all_matches_df = pd.concat(all_matches)\n",
    "\n",
    "## write to pickle\n",
    "all_matches_df.to_pickle(\n",
    "    DATA_DIR / \"controlgroup_findingdeliverydate.pkl\", protocol=PICKLE_PROTOCOL\n",
    ")"
   ]
  },
  {
   "cell_type": "code",
   "execution_count": 19,
   "id": "32f2ae80",
   "metadata": {
    "execution": {
     "iopub.execute_input": "2021-10-07T01:10:52.053785Z",
     "iopub.status.busy": "2021-10-07T01:10:52.053067Z",
     "iopub.status.idle": "2021-10-07T01:10:52.055752Z",
     "shell.execute_reply": "2021-10-07T01:10:52.056232Z"
    },
    "papermill": {
     "duration": 0.052483,
     "end_time": "2021-10-07T01:10:52.056426",
     "exception": false,
     "start_time": "2021-10-07T01:10:52.003943",
     "status": "completed"
    },
    "tags": []
   },
   "outputs": [
    {
     "name": "stdout",
     "output_type": "stream",
     "text": [
      "Out of 549 control group students, matched delivery date for the following when we allow observed or imputed delivery: 549\n"
     ]
    }
   ],
   "source": [
    "print(\n",
    "    \"Out of \"\n",
    "    + str(len(controlstudents_wschool.student_id.unique()))\n",
    "    + \" control group students,\"\n",
    "    + \" matched delivery date for the following when we allow observed or imputed delivery: \"\n",
    "    + str(all_matches_df.shape[0])\n",
    ")"
   ]
  },
  {
   "cell_type": "markdown",
   "id": "25e75cfe",
   "metadata": {
    "papermill": {
     "duration": 0.039376,
     "end_time": "2021-10-07T01:10:52.136819",
     "exception": false,
     "start_time": "2021-10-07T01:10:52.097443",
     "status": "completed"
    },
    "tags": []
   },
   "source": [
    "#### 3.1.5.2 Matching when we restrict matches to treatment w/ observed delivery date"
   ]
  },
  {
   "cell_type": "code",
   "execution_count": 20,
   "id": "3ed41563",
   "metadata": {
    "execution": {
     "iopub.execute_input": "2021-10-07T01:10:52.230531Z",
     "iopub.status.busy": "2021-10-07T01:10:52.229714Z",
     "iopub.status.idle": "2021-10-07T01:10:52.231958Z",
     "shell.execute_reply": "2021-10-07T01:10:52.232463Z"
    },
    "papermill": {
     "duration": 0.054766,
     "end_time": "2021-10-07T01:10:52.232668",
     "exception": false,
     "start_time": "2021-10-07T01:10:52.177902",
     "status": "completed"
    },
    "tags": []
   },
   "outputs": [],
   "source": [
    "txstudents_observed = txstudents.loc[\n",
    "    txstudents.delivery_date_imputation_indicator == \"treatment_observed\"\n",
    "].copy()"
   ]
  },
  {
   "cell_type": "code",
   "execution_count": 21,
   "id": "40af7b78",
   "metadata": {
    "execution": {
     "iopub.execute_input": "2021-10-07T01:10:52.695049Z",
     "iopub.status.busy": "2021-10-07T01:10:52.435814Z",
     "iopub.status.idle": "2021-10-07T01:10:54.755363Z",
     "shell.execute_reply": "2021-10-07T01:10:54.755854Z"
    },
    "papermill": {
     "duration": 2.482379,
     "end_time": "2021-10-07T01:10:54.756025",
     "exception": false,
     "start_time": "2021-10-07T01:10:52.273646",
     "status": "completed"
    },
    "tags": []
   },
   "outputs": [],
   "source": [
    "all_matches_observed = []\n",
    "for i in range(0, controlstudents_wschool.shape[0]):\n",
    "\n",
    "    control_student = controlstudents_wschool.iloc[i]\n",
    "    try:\n",
    "        matches_forcontrol_observed = find_inschool_matches(\n",
    "            control_student, txstudents_observed\n",
    "        )\n",
    "        all_matches_observed.append(matches_forcontrol_observed)\n",
    "    except:\n",
    "        pass"
   ]
  },
  {
   "cell_type": "code",
   "execution_count": 22,
   "id": "8d46d52f",
   "metadata": {
    "execution": {
     "iopub.execute_input": "2021-10-07T01:10:54.858189Z",
     "iopub.status.busy": "2021-10-07T01:10:54.857380Z",
     "iopub.status.idle": "2021-10-07T01:10:54.916903Z",
     "shell.execute_reply": "2021-10-07T01:10:54.917415Z"
    },
    "papermill": {
     "duration": 0.125779,
     "end_time": "2021-10-07T01:10:54.917617",
     "exception": false,
     "start_time": "2021-10-07T01:10:54.791838",
     "status": "completed"
    },
    "tags": []
   },
   "outputs": [
    {
     "name": "stdout",
     "output_type": "stream",
     "text": [
      "Out of 549 control group students, matched delivery date for the following when we only allow observed delivery: 543\n"
     ]
    }
   ],
   "source": [
    "all_matches_df_observed = pd.concat(all_matches_observed)\n",
    "\n",
    "print(\n",
    "    \"Out of \"\n",
    "    + str(len(controlstudents_wschool.student_id.unique()))\n",
    "    + \" control group students,\"\n",
    "    + \" matched delivery date for the following when we only allow observed delivery: \"\n",
    "    + str(all_matches_df_observed.shape[0])\n",
    ")\n",
    "\n",
    "## left join the two\n",
    "new_colnames = [\n",
    "    col + \"_onlymatchwobserved\" if \"delivery\" in col else col\n",
    "    for col in all_matches_df_observed.columns\n",
    "]\n",
    "all_matches_df_observed.columns = new_colnames\n",
    "\n",
    "all_matches_impute_or_observed = pd.merge(\n",
    "    all_matches_df,\n",
    "    all_matches_df_observed[\n",
    "        [\n",
    "            \"student_id\",\n",
    "            \"min_delivery_date_onlymatchwobserved\",\n",
    "            \"max_delivery_date_onlymatchwobserved\",\n",
    "        ]\n",
    "    ],\n",
    "    on=\"student_id\",\n",
    "    how=\"left\",\n",
    ")\n",
    "\n",
    "## for now, code final delivery date to the average of min and max delivery date\n",
    "## when allowing pairing with treatment students regardless of whether they're delivery date\n",
    "## is observed (75% of students) or imputed\n",
    "all_matches_impute_or_observed[\n",
    "    \"final_delivery_date\"\n",
    "] = all_matches_impute_or_observed.min_delivery_date + (\n",
    "    (\n",
    "        all_matches_impute_or_observed.max_delivery_date\n",
    "        - all_matches_impute_or_observed.min_delivery_date\n",
    "    )\n",
    "    / 2\n",
    ")"
   ]
  },
  {
   "cell_type": "markdown",
   "id": "fb8bac9f",
   "metadata": {
    "papermill": {
     "duration": 0.038355,
     "end_time": "2021-10-07T01:10:54.992088",
     "exception": false,
     "start_time": "2021-10-07T01:10:54.953733",
     "status": "completed"
    },
    "tags": []
   },
   "source": [
    "#### 3.1.6 Add back other two groups\n",
    "\n",
    "- Students from control group not matched bc missing school (NA for all values)\n",
    "- Treatment group students (NA for min and max; observed delivery date)"
   ]
  },
  {
   "cell_type": "markdown",
   "id": "09c5acf6",
   "metadata": {
    "papermill": {
     "duration": 0.034122,
     "end_time": "2021-10-07T01:10:55.063033",
     "exception": false,
     "start_time": "2021-10-07T01:10:55.028911",
     "status": "completed"
    },
    "tags": []
   },
   "source": [
    "##### Control students missing a school in suso data (so cant be matched within a school)"
   ]
  },
  {
   "cell_type": "code",
   "execution_count": 23,
   "id": "25449249",
   "metadata": {
    "execution": {
     "iopub.execute_input": "2021-10-07T01:10:55.146741Z",
     "iopub.status.busy": "2021-10-07T01:10:55.146113Z",
     "iopub.status.idle": "2021-10-07T01:10:55.147948Z",
     "shell.execute_reply": "2021-10-07T01:10:55.148378Z"
    },
    "papermill": {
     "duration": 0.046144,
     "end_time": "2021-10-07T01:10:55.148558",
     "exception": false,
     "start_time": "2021-10-07T01:10:55.102414",
     "status": "completed"
    },
    "tags": []
   },
   "outputs": [],
   "source": [
    "empty_df = pd.DataFrame(\n",
    "    {\n",
    "        \"nearest_enrolled_tx\": [np.nan],\n",
    "        \"min_delivery_date\": [np.nan],\n",
    "        \"max_delivery_date\": [np.nan],\n",
    "        \"min_delivery_date_onlymatchwobserved\": [np.nan],\n",
    "        \"max_delivery_date_onlymatchwobserved\": [np.nan],\n",
    "        \"final_delivery_date\": [np.nan],\n",
    "    }\n",
    ")"
   ]
  },
  {
   "cell_type": "code",
   "execution_count": 24,
   "id": "f01bf549",
   "metadata": {
    "execution": {
     "iopub.execute_input": "2021-10-07T01:10:55.225682Z",
     "iopub.status.busy": "2021-10-07T01:10:55.224950Z",
     "iopub.status.idle": "2021-10-07T01:10:55.226860Z",
     "shell.execute_reply": "2021-10-07T01:10:55.227258Z"
    },
    "papermill": {
     "duration": 0.04297,
     "end_time": "2021-10-07T01:10:55.227528",
     "exception": false,
     "start_time": "2021-10-07T01:10:55.184558",
     "status": "completed"
    },
    "tags": []
   },
   "outputs": [],
   "source": [
    "controlstudents_noschool_toadd = controlstudents.loc[\n",
    "    (controlstudents.school.isnull()) | (controlstudents.school == \"n.n\"),\n",
    "    [\"student_id\", \"enrolled_date\"],\n",
    "]\n",
    "controlstudents_noschool_toadd_wcols = pd.concat(\n",
    "    [controlstudents_noschool_toadd, empty_df]\n",
    ")"
   ]
  },
  {
   "cell_type": "markdown",
   "id": "19038256",
   "metadata": {
    "papermill": {
     "duration": 0.039164,
     "end_time": "2021-10-07T01:10:55.303669",
     "exception": false,
     "start_time": "2021-10-07T01:10:55.264505",
     "status": "completed"
    },
    "tags": []
   },
   "source": [
    "##### Treatment students"
   ]
  },
  {
   "cell_type": "code",
   "execution_count": 25,
   "id": "ae37fdf3",
   "metadata": {
    "execution": {
     "iopub.execute_input": "2021-10-07T01:10:55.392625Z",
     "iopub.status.busy": "2021-10-07T01:10:55.391840Z",
     "iopub.status.idle": "2021-10-07T01:10:55.394024Z",
     "shell.execute_reply": "2021-10-07T01:10:55.394557Z"
    },
    "papermill": {
     "duration": 0.050049,
     "end_time": "2021-10-07T01:10:55.394813",
     "exception": false,
     "start_time": "2021-10-07T01:10:55.344764",
     "status": "completed"
    },
    "tags": []
   },
   "outputs": [],
   "source": [
    "empty_df_tx = pd.DataFrame(\n",
    "    {\n",
    "        \"nearest_enrolled_tx\": [np.nan],\n",
    "        \"min_delivery_date\": [np.nan],\n",
    "        \"max_delivery_date\": [np.nan],\n",
    "        \"min_delivery_date_onlymatchwobserved\": [np.nan],\n",
    "        \"max_delivery_date_onlymatchwobserved\": [np.nan],\n",
    "    }\n",
    ")"
   ]
  },
  {
   "cell_type": "code",
   "execution_count": 26,
   "id": "c0454f0b",
   "metadata": {
    "execution": {
     "iopub.execute_input": "2021-10-07T01:10:55.479883Z",
     "iopub.status.busy": "2021-10-07T01:10:55.479089Z",
     "iopub.status.idle": "2021-10-07T01:10:55.480881Z",
     "shell.execute_reply": "2021-10-07T01:10:55.481272Z"
    },
    "papermill": {
     "duration": 0.046128,
     "end_time": "2021-10-07T01:10:55.481442",
     "exception": false,
     "start_time": "2021-10-07T01:10:55.435314",
     "status": "completed"
    },
    "tags": []
   },
   "outputs": [],
   "source": [
    "txstudents_toadd = txstudents[[\"student_id\", \"enrolled_date\", \"delivery_date_imputed\"]]"
   ]
  },
  {
   "cell_type": "code",
   "execution_count": 27,
   "id": "44848831",
   "metadata": {
    "execution": {
     "iopub.execute_input": "2021-10-07T01:10:55.682709Z",
     "iopub.status.busy": "2021-10-07T01:10:55.681658Z",
     "iopub.status.idle": "2021-10-07T01:10:55.686379Z",
     "shell.execute_reply": "2021-10-07T01:10:55.685214Z"
    },
    "papermill": {
     "duration": 0.146713,
     "end_time": "2021-10-07T01:10:55.686724",
     "exception": false,
     "start_time": "2021-10-07T01:10:55.540011",
     "status": "completed"
    },
    "tags": []
   },
   "outputs": [],
   "source": [
    "txstudents_toadd.columns = [\n",
    "    \"final_delivery_date\" if col == \"delivery_date_imputed\" else col\n",
    "    for col in txstudents_toadd.columns\n",
    "]\n",
    "txstudents_toadd_wcols = pd.concat([txstudents_toadd, empty_df_tx])"
   ]
  },
  {
   "cell_type": "code",
   "execution_count": 28,
   "id": "e461cbb2",
   "metadata": {
    "execution": {
     "iopub.execute_input": "2021-10-07T01:10:55.834874Z",
     "iopub.status.busy": "2021-10-07T01:10:55.833380Z",
     "iopub.status.idle": "2021-10-07T01:10:55.842414Z",
     "shell.execute_reply": "2021-10-07T01:10:55.841728Z"
    },
    "papermill": {
     "duration": 0.091,
     "end_time": "2021-10-07T01:10:55.842645",
     "exception": false,
     "start_time": "2021-10-07T01:10:55.751645",
     "status": "completed"
    },
    "tags": []
   },
   "outputs": [],
   "source": [
    "allstudents_withdeliverydate = pd.concat(\n",
    "    [\n",
    "        txstudents_toadd_wcols,\n",
    "        controlstudents_noschool_toadd_wcols,\n",
    "        all_matches_impute_or_observed,\n",
    "    ],\n",
    "    axis=0,\n",
    ")\n",
    "allstudents_withdeliverydate = allstudents_withdeliverydate[\n",
    "    allstudents_withdeliverydate.student_id.notnull()\n",
    "]"
   ]
  },
  {
   "cell_type": "markdown",
   "id": "00c47ec4",
   "metadata": {
    "papermill": {
     "duration": 0.047513,
     "end_time": "2021-10-07T01:10:55.956336",
     "exception": false,
     "start_time": "2021-10-07T01:10:55.908823",
     "status": "completed"
    },
    "tags": []
   },
   "source": [
    "## 3.2. Find date to start clock for 7 days post-referral date"
   ]
  },
  {
   "cell_type": "code",
   "execution_count": 29,
   "id": "abda9898",
   "metadata": {
    "execution": {
     "iopub.execute_input": "2021-10-07T01:10:56.062885Z",
     "iopub.status.busy": "2021-10-07T01:10:56.061556Z",
     "iopub.status.idle": "2021-10-07T01:10:56.064837Z",
     "shell.execute_reply": "2021-10-07T01:10:56.064330Z"
    },
    "papermill": {
     "duration": 0.060542,
     "end_time": "2021-10-07T01:10:56.065027",
     "exception": false,
     "start_time": "2021-10-07T01:10:56.004485",
     "status": "completed"
    },
    "tags": []
   },
   "outputs": [],
   "source": [
    "allstudents_withdeliverydate[\"enrolled_date_dt\"] = pd.to_datetime(\n",
    "    allstudents_withdeliverydate.enrolled_date\n",
    ")"
   ]
  },
  {
   "cell_type": "code",
   "execution_count": 30,
   "id": "e6981cdd",
   "metadata": {
    "execution": {
     "iopub.execute_input": "2021-10-07T01:10:56.254869Z",
     "iopub.status.busy": "2021-10-07T01:10:56.252333Z",
     "iopub.status.idle": "2021-10-07T01:10:56.257749Z",
     "shell.execute_reply": "2021-10-07T01:10:56.259992Z"
    },
    "papermill": {
     "duration": 0.142468,
     "end_time": "2021-10-07T01:10:56.260746",
     "exception": false,
     "start_time": "2021-10-07T01:10:56.118278",
     "status": "completed"
    },
    "tags": []
   },
   "outputs": [],
   "source": [
    "allstudents_withdeliverydate[\n",
    "    \"final_enrolled_plus7days\"\n",
    "] = allstudents_withdeliverydate.enrolled_date_dt + timedelta(days=7)"
   ]
  },
  {
   "cell_type": "code",
   "execution_count": 31,
   "id": "876b5925",
   "metadata": {
    "execution": {
     "iopub.execute_input": "2021-10-07T01:10:56.400950Z",
     "iopub.status.busy": "2021-10-07T01:10:56.400223Z",
     "iopub.status.idle": "2021-10-07T01:10:56.779895Z",
     "shell.execute_reply": "2021-10-07T01:10:56.780330Z"
    },
    "papermill": {
     "duration": 0.446665,
     "end_time": "2021-10-07T01:10:56.780512",
     "exception": false,
     "start_time": "2021-10-07T01:10:56.333847",
     "status": "completed"
    },
    "tags": []
   },
   "outputs": [
    {
     "data": {
      "image/png": "[encoded data removed]",
      "text/plain": [
       "<Figure size 640x480 with 1 Axes>"
      ]
     },
     "metadata": {},
     "output_type": "display_data"
    },
    {
     "data": {
      "text/plain": [
       "<ggplot: (335767257)>"
      ]
     },
     "execution_count": 31,
     "metadata": {},
     "output_type": "execute_result"
    }
   ],
   "source": [
    "(\n",
    "    ggplot(allstudents_withdeliverydate, aes(x=\"enrolled_date_dt\"))\n",
    "    + geom_histogram(bins=30, color=\"black\", fill=\"firebrick\", alpha=0.8)\n",
    "    + standard_background\n",
    "    + theme(axis_text_x=element_text(angle=90))\n",
    "    + ylab(\"Count of students referred\")\n",
    "    + xlab(\"Referral date\")\n",
    ")"
   ]
  },
  {
   "cell_type": "markdown",
   "id": "2cc6e686",
   "metadata": {
    "papermill": {
     "duration": 0.042098,
     "end_time": "2021-10-07T01:10:56.859665",
     "exception": false,
     "start_time": "2021-10-07T01:10:56.817567",
     "status": "completed"
    },
    "tags": []
   },
   "source": [
    "# 4. Descriptives on absences at time of referral"
   ]
  },
  {
   "cell_type": "markdown",
   "id": "6f71c799",
   "metadata": {
    "papermill": {
     "duration": 0.039978,
     "end_time": "2021-10-07T01:10:56.941391",
     "exception": false,
     "start_time": "2021-10-07T01:10:56.901413",
     "status": "completed"
    },
    "tags": []
   },
   "source": [
    "### 4.1 Pull all time-varying attendance outcomes from larger data"
   ]
  },
  {
   "cell_type": "code",
   "execution_count": 32,
   "id": "8b162cb3",
   "metadata": {
    "execution": {
     "iopub.execute_input": "2021-10-07T01:10:57.029643Z",
     "iopub.status.busy": "2021-10-07T01:10:57.028465Z",
     "iopub.status.idle": "2021-10-07T01:10:57.258861Z",
     "shell.execute_reply": "2021-10-07T01:10:57.259488Z"
    },
    "papermill": {
     "duration": 0.279851,
     "end_time": "2021-10-07T01:10:57.259866",
     "exception": false,
     "start_time": "2021-10-07T01:10:56.980015",
     "status": "completed"
    },
    "tags": []
   },
   "outputs": [],
   "source": [
    "## load cleaned attendance data\n",
    "attendance_both_clean = pd.read_parquet(DATA_DIR / \"attendance_both_clean.parquet\")\n",
    "\n",
    "## load lookup table\n",
    "lookup_suso_attendance = pd.read_pickle(DATA_DIR / \"suso_osse_lookup.pkl\")\n",
    "\n",
    "## different ID's (described in previous script)\n",
    "susoids_ref_and_treat = list(\n",
    "    set(lookup_suso_attendance.suso_id).intersection(\n",
    "        set(df_suso.student_id[df_suso.is_treatment.notnull()])\n",
    "    )\n",
    ")\n",
    "susoids_ref_or_treat = list(\n",
    "    set(lookup_suso_attendance.suso_id).intersection(set(df_suso.student_id))\n",
    ")\n",
    "\n",
    "usis_ref_and_treat = lookup_suso_attendance.usi[\n",
    "    lookup_suso_attendance.suso_id.isin(susoids_ref_and_treat)\n",
    "]\n",
    "usis_ref_or_treat = lookup_suso_attendance.usi[\n",
    "    lookup_suso_attendance.suso_id.isin(susoids_ref_or_treat)\n",
    "]\n",
    "\n",
    "## subset to time varying outcomes\n",
    "attendance_timevary = pd.merge(\n",
    "    attendance_both_clean[\n",
    "        [\n",
    "            \"AttendanceDate\",\n",
    "            \"Attendance_Status_Desc\",\n",
    "            \"Weekday_Name\",\n",
    "            \"total_excusedorunexcused\",\n",
    "            \"total_schooldays\",\n",
    "            \"total_unexcused\",\n",
    "            \"usi\",\n",
    "        ]\n",
    "    ],\n",
    "    lookup_suso_attendance[[\"suso_id\", \"usi\", \"type_of_match\"]],\n",
    "    on=\"usi\",\n",
    "    how=\"left\",\n",
    ")"
   ]
  },
  {
   "cell_type": "markdown",
   "id": "665d1f93",
   "metadata": {
    "papermill": {
     "duration": 0.046323,
     "end_time": "2021-10-07T01:10:57.351259",
     "exception": false,
     "start_time": "2021-10-07T01:10:57.304936",
     "status": "completed"
    },
    "tags": []
   },
   "source": [
    "### 4.2 Merge with delivery date info on the basis of suso id"
   ]
  },
  {
   "cell_type": "code",
   "execution_count": 33,
   "id": "92d00caf",
   "metadata": {
    "execution": {
     "iopub.execute_input": "2021-10-07T01:10:57.443503Z",
     "iopub.status.busy": "2021-10-07T01:10:57.442539Z",
     "iopub.status.idle": "2021-10-07T01:10:57.748004Z",
     "shell.execute_reply": "2021-10-07T01:10:57.748611Z"
    },
    "papermill": {
     "duration": 0.354647,
     "end_time": "2021-10-07T01:10:57.748826",
     "exception": false,
     "start_time": "2021-10-07T01:10:57.394179",
     "status": "completed"
    },
    "tags": []
   },
   "outputs": [],
   "source": [
    "## subset to those we have treatment info for and merge\n",
    "attendance_timevary_withdeliv = pd.merge(\n",
    "    attendance_timevary[attendance_timevary.suso_id.isin(susoids_ref_and_treat)],\n",
    "    allstudents_withdeliverydate[\n",
    "        allstudents_withdeliverydate.student_id.isin(susoids_ref_and_treat)\n",
    "    ],\n",
    "    left_on=\"suso_id\",\n",
    "    right_on=\"student_id\",\n",
    "    how=\"left\",\n",
    ")\n",
    "\n",
    "## merge in treatment status\n",
    "othervars_tomerge = attendance_eoy_wsuso[\n",
    "    [\n",
    "        \"usi\",\n",
    "        \"school_name\",\n",
    "        \"is_treatment\",\n",
    "        \"chronicabsent_indicator\",\n",
    "        \"truant_indicator\",\n",
    "    ]\n",
    "].copy()\n",
    "\n",
    "attendance_timevary_toconstruct = pd.merge(\n",
    "    attendance_timevary_withdeliv, othervars_tomerge, on=\"usi\", how=\"left\"\n",
    ")"
   ]
  },
  {
   "cell_type": "code",
   "execution_count": 34,
   "id": "75ff4afe",
   "metadata": {
    "execution": {
     "iopub.execute_input": "2021-10-07T01:10:57.853055Z",
     "iopub.status.busy": "2021-10-07T01:10:57.852369Z",
     "iopub.status.idle": "2021-10-07T01:10:57.871755Z",
     "shell.execute_reply": "2021-10-07T01:10:57.873804Z"
    },
    "papermill": {
     "duration": 0.080081,
     "end_time": "2021-10-07T01:10:57.874238",
     "exception": false,
     "start_time": "2021-10-07T01:10:57.794157",
     "status": "completed"
    },
    "tags": []
   },
   "outputs": [],
   "source": [
    "attendance_timevary_toconstruct[\"attendance_date_dt\"] = pd.to_datetime(\n",
    "    attendance_timevary_toconstruct.AttendanceDate\n",
    ")"
   ]
  },
  {
   "cell_type": "code",
   "execution_count": 35,
   "id": "96d727fa",
   "metadata": {
    "execution": {
     "iopub.execute_input": "2021-10-07T01:10:57.976727Z",
     "iopub.status.busy": "2021-10-07T01:10:57.975936Z",
     "iopub.status.idle": "2021-10-07T01:10:58.059291Z",
     "shell.execute_reply": "2021-10-07T01:10:58.059812Z"
    },
    "papermill": {
     "duration": 0.132106,
     "end_time": "2021-10-07T01:10:58.060052",
     "exception": false,
     "start_time": "2021-10-07T01:10:57.927946",
     "status": "completed"
    },
    "tags": []
   },
   "outputs": [],
   "source": [
    "### Subset to absence count when referred\n",
    "attendance_atenroll_subset = attendance_timevary_toconstruct.loc[\n",
    "    attendance_timevary_toconstruct.enrolled_date_dt\n",
    "    == attendance_timevary_toconstruct.attendance_date_dt\n",
    "].copy()"
   ]
  },
  {
   "cell_type": "code",
   "execution_count": 36,
   "id": "76736416",
   "metadata": {
    "execution": {
     "iopub.execute_input": "2021-10-07T01:10:58.172185Z",
     "iopub.status.busy": "2021-10-07T01:10:58.161725Z",
     "iopub.status.idle": "2021-10-07T01:10:58.593613Z",
     "shell.execute_reply": "2021-10-07T01:10:58.592986Z"
    },
    "papermill": {
     "duration": 0.48899,
     "end_time": "2021-10-07T01:10:58.593928",
     "exception": false,
     "start_time": "2021-10-07T01:10:58.104938",
     "status": "completed"
    },
    "tags": []
   },
   "outputs": [
    {
     "data": {
      "image/png": "[encoded data removed]",
      "text/plain": [
       "<Figure size 640x480 with 1 Axes>"
      ]
     },
     "metadata": {},
     "output_type": "display_data"
    },
    {
     "data": {
      "text/plain": [
       "<ggplot: (335772832)>"
      ]
     },
     "execution_count": 36,
     "metadata": {},
     "output_type": "execute_result"
    }
   ],
   "source": [
    "### plot the unexcused absences at enrollment count\n",
    "(\n",
    "    ggplot(attendance_atenroll_subset, aes(x=\"total_unexcused\"))\n",
    "    + geom_histogram(fill=\"gray\", color=\"black\")\n",
    "    + xlab(\"Count of unexcused absences at time of referral\")\n",
    "    + ylab(\"Count of students\")\n",
    "    + scale_x_continuous(breaks=(0, 5, 10, 15, 20, 25, 30, 35))\n",
    "    + standard_background\n",
    ")"
   ]
  },
  {
   "cell_type": "code",
   "execution_count": 37,
   "id": "cda19fad",
   "metadata": {
    "execution": {
     "iopub.execute_input": "2021-10-07T01:10:58.691431Z",
     "iopub.status.busy": "2021-10-07T01:10:58.682046Z",
     "iopub.status.idle": "2021-10-07T01:10:58.960525Z",
     "shell.execute_reply": "2021-10-07T01:10:58.960955Z"
    },
    "papermill": {
     "duration": 0.330842,
     "end_time": "2021-10-07T01:10:58.961134",
     "exception": false,
     "start_time": "2021-10-07T01:10:58.630292",
     "status": "completed"
    },
    "tags": []
   },
   "outputs": [
    {
     "data": {
      "image/png": "[encoded data removed]",
      "text/plain": [
       "<Figure size 640x480 with 1 Axes>"
      ]
     },
     "metadata": {},
     "output_type": "display_data"
    },
    {
     "data": {
      "text/plain": [
       "<ggplot: (335774172)>"
      ]
     },
     "execution_count": 37,
     "metadata": {},
     "output_type": "execute_result"
    }
   ],
   "source": [
    "(\n",
    "    ggplot(attendance_atenroll_subset, aes(x=\"enrolled_date_dt\", y=\"total_unexcused\"))\n",
    "    + geom_point(alpha=0.3)\n",
    "    + ylab(\"Count of unexcused absences\\nat time of referral\")\n",
    "    + xlab(\"Referral Date\")\n",
    "    + standard_background_rotatex_nojust\n",
    ")"
   ]
  },
  {
   "cell_type": "markdown",
   "id": "a2096424",
   "metadata": {
    "papermill": {
     "duration": 0.044421,
     "end_time": "2021-10-07T01:10:59.048327",
     "exception": false,
     "start_time": "2021-10-07T01:10:59.003906",
     "status": "completed"
    },
    "tags": []
   },
   "source": [
    "# 5. Construct absences that accrue during 2 calendar weeks beginning with the different clocks computed in section 3"
   ]
  },
  {
   "cell_type": "markdown",
   "id": "c8058570",
   "metadata": {
    "papermill": {
     "duration": 0.038107,
     "end_time": "2021-10-07T01:10:59.130170",
     "exception": false,
     "start_time": "2021-10-07T01:10:59.092063",
     "status": "completed"
    },
    "tags": []
   },
   "source": [
    "## 5.1 Function\n",
    "\n",
    "\n",
    "Takes in:\n",
    "\n",
    "- data: pd.DataFrmae\n",
    "- start_date_varname: Name of the variable that starts the clock (e.g., median versus observed delivery)\n",
    "- time_increment: how many days we want to add to that start date-- passed to timedelta which adds that duration and rounds to nearest day\n",
    "- clock_name: string that helps us subset to the correct variables by using the suffix that indicates which clock corresponds to which var\n",
    "- date_cols: columns that give us information about referral and delivery dates\n",
    "\n",
    "Returns:\n",
    "\n",
    "- Dataframe with three differences in that time interval: unexcused abs., excused or unexcused abs., school attendance days"
   ]
  },
  {
   "cell_type": "code",
   "execution_count": 38,
   "id": "506b5c1c",
   "metadata": {
    "execution": {
     "iopub.execute_input": "2021-10-07T01:10:59.292134Z",
     "iopub.status.busy": "2021-10-07T01:10:59.291260Z",
     "iopub.status.idle": "2021-10-07T01:10:59.293405Z",
     "shell.execute_reply": "2021-10-07T01:10:59.293922Z"
    },
    "papermill": {
     "duration": 0.124519,
     "end_time": "2021-10-07T01:10:59.294132",
     "exception": false,
     "start_time": "2021-10-07T01:10:59.169613",
     "status": "completed"
    },
    "tags": []
   },
   "outputs": [],
   "source": [
    "def construct_wideformat_absencecounts(\n",
    "    data, start_date_varname, time_increment, clock_name, date_cols\n",
    "):\n",
    "\n",
    "    data[\"end_\" + clock_name] = data[start_date_varname] + timedelta(\n",
    "        days=time_increment\n",
    "    )\n",
    "\n",
    "    ## absences and school days at start\n",
    "    cols_topull = [\n",
    "        \"usi\",\n",
    "        \"suso_id\",\n",
    "        \"AttendanceDate\",\n",
    "        \"total_excusedorunexcused\",\n",
    "        \"total_schooldays\",\n",
    "        \"total_unexcused\",\n",
    "    ]\n",
    "    absence_count_start = data.loc[\n",
    "        data[start_date_varname] == attendance_timevary_toconstruct[\"AttendanceDate\"],\n",
    "        cols_topull,\n",
    "    ]\n",
    "    cols_toshield = [\"usi\", \"suso_id\"] + date_cols\n",
    "    absence_count_start.columns = [\n",
    "        col + \"_start\" + clock_name if col not in cols_toshield else col\n",
    "        for col in absence_count_start.columns\n",
    "    ]\n",
    "\n",
    "    ## absences and school days at end\n",
    "    absence_count_end = data.loc[\n",
    "        data[\"end_\" + clock_name] == data[\"AttendanceDate\"],\n",
    "        [\n",
    "            \"usi\",\n",
    "            \"AttendanceDate\",\n",
    "            \"total_excusedorunexcused\",\n",
    "            \"total_schooldays\",\n",
    "            \"total_unexcused\",\n",
    "        ],\n",
    "    ]\n",
    "    absence_count_end.columns = [\n",
    "        col + \"_end\" + clock_name if col not in [\"usi\"] else col\n",
    "        for col in absence_count_end.columns\n",
    "    ]\n",
    "\n",
    "    ## putting them together\n",
    "    static_cols = [\"usi\"] + date_cols\n",
    "    all_usis = pd.merge(\n",
    "        data[static_cols].drop_duplicates(), absence_count_start, on=\"usi\", how=\"left\"\n",
    "    )\n",
    "\n",
    "    absence_diff = pd.merge(all_usis, absence_count_end, on=\"usi\", how=\"left\")\n",
    "\n",
    "    ## calculate differences\n",
    "    absence_diff[\"diff_excusedorunexcused_\" + clock_name] = (\n",
    "        absence_diff[\"total_excusedorunexcused_end\" + clock_name]\n",
    "        - absence_diff[\"total_excusedorunexcused_start\" + clock_name]\n",
    "    )\n",
    "    absence_diff[\"diff_unexcused_\" + clock_name] = (\n",
    "        absence_diff[\"total_unexcused_end\" + clock_name]\n",
    "        - absence_diff[\"total_unexcused_start\" + clock_name]\n",
    "    )\n",
    "    absence_diff[\"diff_schooldays_\" + clock_name] = (\n",
    "        absence_diff[\"total_schooldays_end\" + clock_name]\n",
    "        - absence_diff[\"total_schooldays_start\" + clock_name]\n",
    "    )\n",
    "\n",
    "    return absence_diff"
   ]
  },
  {
   "cell_type": "markdown",
   "id": "420cc342",
   "metadata": {
    "papermill": {
     "duration": 0.044978,
     "end_time": "2021-10-07T01:10:59.389774",
     "exception": false,
     "start_time": "2021-10-07T01:10:59.344796",
     "status": "completed"
    },
    "tags": []
   },
   "source": [
    "## 5.2: counts starting at median delivery date clock"
   ]
  },
  {
   "cell_type": "code",
   "execution_count": 39,
   "id": "4637a505",
   "metadata": {
    "execution": {
     "iopub.execute_input": "2021-10-07T01:10:59.474011Z",
     "iopub.status.busy": "2021-10-07T01:10:59.473269Z",
     "iopub.status.idle": "2021-10-07T01:10:59.475738Z",
     "shell.execute_reply": "2021-10-07T01:10:59.476245Z"
    },
    "papermill": {
     "duration": 0.045806,
     "end_time": "2021-10-07T01:10:59.476421",
     "exception": false,
     "start_time": "2021-10-07T01:10:59.430615",
     "status": "completed"
    },
    "tags": []
   },
   "outputs": [
    {
     "data": {
      "text/plain": [
       "['enrolled_date',\n",
       " 'final_delivery_date',\n",
       " 'nearest_enrolled_tx',\n",
       " 'min_delivery_date',\n",
       " 'max_delivery_date',\n",
       " 'min_delivery_date_onlymatchwobserved',\n",
       " 'max_delivery_date_onlymatchwobserved',\n",
       " 'enrolled_date_dt',\n",
       " 'final_enrolled_plus7days']"
      ]
     },
     "execution_count": 39,
     "metadata": {},
     "output_type": "execute_result"
    }
   ],
   "source": [
    "date_cols = [\n",
    "    col\n",
    "    for col in attendance_timevary_toconstruct.columns\n",
    "    if \"delivery\" in col or \"enrolled\" in col\n",
    "]\n",
    "date_cols"
   ]
  },
  {
   "cell_type": "code",
   "execution_count": 40,
   "id": "4b394120",
   "metadata": {
    "execution": {
     "iopub.execute_input": "2021-10-07T01:10:59.564474Z",
     "iopub.status.busy": "2021-10-07T01:10:59.563908Z",
     "iopub.status.idle": "2021-10-07T01:10:59.782241Z",
     "shell.execute_reply": "2021-10-07T01:10:59.782808Z"
    },
    "papermill": {
     "duration": 0.264529,
     "end_time": "2021-10-07T01:10:59.783010",
     "exception": false,
     "start_time": "2021-10-07T01:10:59.518481",
     "status": "completed"
    },
    "tags": []
   },
   "outputs": [],
   "source": [
    "median_delivery_results = construct_wideformat_absencecounts(\n",
    "    attendance_timevary_toconstruct,\n",
    "    \"final_enrolled_plus7days\",\n",
    "    14,\n",
    "    \"mediandelivery\",\n",
    "    date_cols,\n",
    ")"
   ]
  },
  {
   "cell_type": "code",
   "execution_count": 41,
   "id": "bdb409c7",
   "metadata": {
    "execution": {
     "iopub.execute_input": "2021-10-07T01:10:59.892216Z",
     "iopub.status.busy": "2021-10-07T01:10:59.891304Z",
     "iopub.status.idle": "2021-10-07T01:10:59.902890Z",
     "shell.execute_reply": "2021-10-07T01:10:59.903472Z"
    },
    "papermill": {
     "duration": 0.072085,
     "end_time": "2021-10-07T01:10:59.903678",
     "exception": false,
     "start_time": "2021-10-07T01:10:59.831593",
     "status": "completed"
    },
    "tags": []
   },
   "outputs": [],
   "source": [
    "## left join with treatment status indicator and visualize results\n",
    "cols_tojoin = [\n",
    "    col\n",
    "    for col in attendance_eoy_wsuso.columns\n",
    "    if col not in \"enroll_date\" and col not in \"suso_id\"\n",
    "]  # remove SCHOOL enrollment date column\n",
    "## to avoid confusion w/ suso enrollment date\n",
    "\n",
    "attendance_winitialshort = pd.merge(\n",
    "    attendance_eoy_wsuso[cols_tojoin], median_delivery_results, on=\"usi\", how=\"inner\"\n",
    ")"
   ]
  },
  {
   "cell_type": "code",
   "execution_count": 42,
   "id": "34c2cfbd",
   "metadata": {
    "execution": {
     "iopub.execute_input": "2021-10-07T01:11:00.003588Z",
     "iopub.status.busy": "2021-10-07T01:11:00.002822Z",
     "iopub.status.idle": "2021-10-07T01:11:01.118792Z",
     "shell.execute_reply": "2021-10-07T01:11:01.119237Z"
    },
    "papermill": {
     "duration": 1.169568,
     "end_time": "2021-10-07T01:11:01.119421",
     "exception": false,
     "start_time": "2021-10-07T01:10:59.949853",
     "status": "completed"
    },
    "tags": []
   },
   "outputs": [],
   "source": [
    "pd.options.display.float_format = \"{:.2f}\".format\n",
    "\n",
    "## plot differences in unexcused by group\n",
    "attendance_winitialshort[\"treatment_descriptive\"] = np.where(\n",
    "    attendance_winitialshort.is_treatment == True, \"Treatment\", \"Control\"\n",
    ")\n",
    "unex_itt = (\n",
    "    ggplot(\n",
    "        attendance_winitialshort,\n",
    "        aes(x=\"diff_unexcused_mediandelivery\", fill=\"factor(treatment_descriptive)\"),\n",
    "    )\n",
    "    + geom_histogram(bins=10, color=\"black\")\n",
    "    + standard_background\n",
    "    + facet_wrap(\"~treatment_descriptive\")\n",
    "    + scale_fill_manual(values=(\"#444444\", \"#2B4888\"))\n",
    "    + labs(fill=\"\")\n",
    "    + guides(fill=False)\n",
    "    + theme(legend_position=(0.8, 0.7))\n",
    "    + scale_x_continuous(breaks=np.arange(0, 9, 1))\n",
    "    + xlab(\n",
    "        \"Additional unexcused absences:\\nstart date: one calendar week post-referral\\nend date: two calendar weeks after that\"\n",
    "    )\n",
    ")\n",
    "\n",
    "\n",
    "both_itt = (\n",
    "    ggplot(\n",
    "        attendance_winitialshort,\n",
    "        aes(\n",
    "            x=\"diff_excusedorunexcused_mediandelivery\",\n",
    "            fill=\"factor(treatment_descriptive)\",\n",
    "        ),\n",
    "    )\n",
    "    + geom_histogram(bins=10, color=\"black\")\n",
    "    + standard_background\n",
    "    + facet_wrap(\"~treatment_descriptive\")\n",
    "    + scale_fill_manual(values=(\"#444444\", \"#2B4888\"))\n",
    "    + labs(fill=\"\")\n",
    "    + guides(fill=False)\n",
    "    + theme(legend_position=(0.8, 0.7))\n",
    "    + scale_x_continuous(breaks=np.arange(0, 9, 1))\n",
    "    + xlab(\n",
    "        \"Additional excused AND unexcused absences:\\nstart date: one calendar week post-referral\\nend date: two calendar weeks after that\"\n",
    "    )\n",
    ")\n",
    "\n",
    "ggsave(unex_itt, OUTPUT_DIR / \"unex_itt.pdf\", width=12, height=8)\n",
    "\n",
    "ggsave(both_itt, OUTPUT_DIR / \"both_itt.pdf\", width=12, height=8)"
   ]
  },
  {
   "cell_type": "markdown",
   "id": "41aa946c",
   "metadata": {
    "papermill": {
     "duration": 0.052268,
     "end_time": "2021-10-07T01:11:01.217500",
     "exception": false,
     "start_time": "2021-10-07T01:11:01.165232",
     "status": "completed"
    },
    "tags": []
   },
   "source": [
    "#### 5.2.1  diagnosing students who are missing data  on these short-term attendance outcomes"
   ]
  },
  {
   "cell_type": "code",
   "execution_count": 43,
   "id": "d798af6b",
   "metadata": {
    "execution": {
     "iopub.execute_input": "2021-10-07T01:11:01.335111Z",
     "iopub.status.busy": "2021-10-07T01:11:01.334302Z",
     "iopub.status.idle": "2021-10-07T01:11:01.346405Z",
     "shell.execute_reply": "2021-10-07T01:11:01.347061Z"
    },
    "papermill": {
     "duration": 0.074896,
     "end_time": "2021-10-07T01:11:01.347308",
     "exception": false,
     "start_time": "2021-10-07T01:11:01.272412",
     "status": "completed"
    },
    "tags": []
   },
   "outputs": [
    {
     "name": "stdout",
     "output_type": "stream",
     "text": [
      "There are 9 students missing these short-term attendance outcomes\n"
     ]
    }
   ],
   "source": [
    "## 9 students missing time-varying outcome\n",
    "## see that most of them were erroneously\n",
    "## marked as enrolled in suso in august\n",
    "students_missing_timevary = attendance_winitialshort.loc[\n",
    "    attendance_winitialshort.diff_unexcused_mediandelivery.isnull()\n",
    "].copy()\n",
    "students_missing_timevary[\n",
    "    [\n",
    "        \"usi\",\n",
    "        \"is_treatment\",\n",
    "        \"total_unexcused_startmediandelivery\",\n",
    "        \"total_unexcused_endmediandelivery\",\n",
    "        \"final_enrolled_plus7days\",\n",
    "    ]\n",
    "    + date_cols\n",
    "]\n",
    "\n",
    "print(\n",
    "    \"There are \"\n",
    "    + str(students_missing_timevary.shape[0])\n",
    "    + \" students missing these short-term attendance outcomes\"\n",
    ")\n",
    "\n",
    "## for the usis in original data, plot\n",
    "## attendance dates\n",
    "students_missing_timevary_dates = attendance_timevary_toconstruct.loc[\n",
    "    attendance_timevary_toconstruct.usi.isin(students_missing_timevary.usi),\n",
    "    [\"AttendanceDate\", \"enrolled_date_dt\", \"usi\", \"final_enrolled_plus7days\"],\n",
    "]\n",
    "\n",
    "## for each, subset to 1 week before and 3 weeks after for better graph\n",
    "students_missing_timevary_dates_smallerwindow = students_missing_timevary_dates[\n",
    "    (\n",
    "        students_missing_timevary_dates.AttendanceDate\n",
    "        >= students_missing_timevary_dates.final_enrolled_plus7days - timedelta(days=14)\n",
    "    )\n",
    "    & (\n",
    "        students_missing_timevary_dates.AttendanceDate\n",
    "        <= students_missing_timevary_dates.final_enrolled_plus7days + timedelta(days=21)\n",
    "    )\n",
    "].copy()\n",
    "\n",
    "\n",
    "students_missing_timevary_dates_smallerwindow[\n",
    "    \"twoweeks_later\"\n",
    "] = students_missing_timevary_dates_smallerwindow.final_enrolled_plus7days + timedelta(\n",
    "    days=14\n",
    ")"
   ]
  },
  {
   "cell_type": "code",
   "execution_count": 44,
   "id": "22d75148",
   "metadata": {
    "execution": {
     "iopub.execute_input": "2021-10-07T01:11:01.513772Z",
     "iopub.status.busy": "2021-10-07T01:11:01.509198Z",
     "iopub.status.idle": "2021-10-07T01:11:04.569557Z",
     "shell.execute_reply": "2021-10-07T01:11:04.570194Z"
    },
    "papermill": {
     "duration": 3.170021,
     "end_time": "2021-10-07T01:11:04.570587",
     "exception": false,
     "start_time": "2021-10-07T01:11:01.400566",
     "status": "completed"
    },
    "tags": []
   },
   "outputs": [],
   "source": [
    "%%capture\n",
    "\n",
    "(\n",
    "    ggplot(students_missing_timevary_dates_smallerwindow, aes(x=\"AttendanceDate\"))\n",
    "    + geom_histogram(bins=40, fill=\"gray\", alpha=0.5, color=\"black\")\n",
    "    + geom_vline(aes(xintercept=\"final_enrolled_plus7days\"), color=\"red\")\n",
    "    + geom_vline(aes(xintercept=\"twoweeks_later\"), color=\"red\")\n",
    "    + facet_wrap(\"~usi\")\n",
    "    + standard_background_rotatex_nojust\n",
    ")"
   ]
  },
  {
   "cell_type": "markdown",
   "id": "c4e92b1d",
   "metadata": {
    "papermill": {
     "duration": 0.05924,
     "end_time": "2021-10-07T01:11:04.696195",
     "exception": false,
     "start_time": "2021-10-07T01:11:04.636955",
     "status": "completed"
    },
    "tags": []
   },
   "source": [
    "## 5.3. Counts within two weeks of observed delivery time "
   ]
  },
  {
   "cell_type": "markdown",
   "id": "f1e889bf",
   "metadata": {
    "papermill": {
     "duration": 0.060409,
     "end_time": "2021-10-07T01:11:04.805290",
     "exception": false,
     "start_time": "2021-10-07T01:11:04.744881",
     "status": "completed"
    },
    "tags": []
   },
   "source": [
    "This is only observed for about 75% of the treatment group, and for the control students, 100 could not be matched bc they're missing a school. I handle the missingness as follows:\n",
    "\n",
    "- For the 25% of tx group students missing a delivery date, I assume delivery date was 7 days after referral\n",
    "- I match the control group students with a school to the tx group student from their same school with the nearest referral date (even if that tx student's delivery date was imputed to 7)-- this is flexible\n",
    "- For the control group students missing a school (so cannot match with a tx student), I impute them to a 7 day delivery date"
   ]
  },
  {
   "cell_type": "code",
   "execution_count": 45,
   "id": "3e5ff087",
   "metadata": {
    "execution": {
     "iopub.execute_input": "2021-10-07T01:11:04.908127Z",
     "iopub.status.busy": "2021-10-07T01:11:04.907172Z",
     "iopub.status.idle": "2021-10-07T01:11:07.657569Z",
     "shell.execute_reply": "2021-10-07T01:11:07.658051Z"
    },
    "papermill": {
     "duration": 2.802655,
     "end_time": "2021-10-07T01:11:07.658265",
     "exception": false,
     "start_time": "2021-10-07T01:11:04.855610",
     "status": "completed"
    },
    "tags": []
   },
   "outputs": [],
   "source": [
    "attendance_codeobserved = attendance_timevary_toconstruct.copy()\n",
    "\n",
    "## convert date to string bc of weirdness with nan/nat\n",
    "attendance_codeobserved[\n",
    "    \"final_delivery_date_str\"\n",
    "] = attendance_codeobserved.final_delivery_date.dt.date.astype(str)\n",
    "attendance_codeobserved[\n",
    "    \"final_enrolled_plus7days_str\"\n",
    "] = attendance_codeobserved.final_enrolled_plus7days.astype(str)"
   ]
  },
  {
   "cell_type": "code",
   "execution_count": 46,
   "id": "76175e74",
   "metadata": {
    "execution": {
     "iopub.execute_input": "2021-10-07T01:11:07.768642Z",
     "iopub.status.busy": "2021-10-07T01:11:07.767934Z",
     "iopub.status.idle": "2021-10-07T01:11:07.830259Z",
     "shell.execute_reply": "2021-10-07T01:11:07.830738Z"
    },
    "papermill": {
     "duration": 0.127412,
     "end_time": "2021-10-07T01:11:07.830933",
     "exception": false,
     "start_time": "2021-10-07T01:11:07.703521",
     "status": "completed"
    },
    "tags": []
   },
   "outputs": [],
   "source": [
    "## create var with above logic\n",
    "attendance_codeobserved[\"final_delivery_date_observed_str\"] = np.where(\n",
    "    attendance_codeobserved.final_delivery_date_str.isin([\"nan\", \"NaT\"]),\n",
    "    attendance_codeobserved.final_enrolled_plus7days_str,\n",
    "    attendance_codeobserved.final_delivery_date_str,\n",
    ")\n",
    "\n",
    "attendance_codeobserved[\"final_delivery_date_observed\"] = pd.to_datetime(\n",
    "    attendance_codeobserved.final_delivery_date_observed_str\n",
    ")"
   ]
  },
  {
   "cell_type": "code",
   "execution_count": 47,
   "id": "7be94f2d",
   "metadata": {
    "execution": {
     "iopub.execute_input": "2021-10-07T01:11:07.926154Z",
     "iopub.status.busy": "2021-10-07T01:11:07.925452Z",
     "iopub.status.idle": "2021-10-07T01:11:08.201478Z",
     "shell.execute_reply": "2021-10-07T01:11:08.201964Z"
    },
    "papermill": {
     "duration": 0.325406,
     "end_time": "2021-10-07T01:11:08.202158",
     "exception": false,
     "start_time": "2021-10-07T01:11:07.876752",
     "status": "completed"
    },
    "tags": []
   },
   "outputs": [],
   "source": [
    "## find counts and differences\n",
    "observed_delivery_results = construct_wideformat_absencecounts(\n",
    "    attendance_codeobserved,\n",
    "    \"final_delivery_date_observed\",\n",
    "    14,\n",
    "    \"observeddelivery\",\n",
    "    date_cols,\n",
    ")\n",
    "\n",
    "## merge with other outcomes\n",
    "attendance_wbothshort = pd.merge(\n",
    "    attendance_winitialshort, observed_delivery_results, on=\"usi\", how=\"left\"\n",
    ")"
   ]
  },
  {
   "cell_type": "code",
   "execution_count": 48,
   "id": "a30339e4",
   "metadata": {
    "execution": {
     "iopub.execute_input": "2021-10-07T01:11:08.334184Z",
     "iopub.status.busy": "2021-10-07T01:11:08.333533Z",
     "iopub.status.idle": "2021-10-07T01:11:09.607603Z",
     "shell.execute_reply": "2021-10-07T01:11:09.608124Z"
    },
    "papermill": {
     "duration": 1.360122,
     "end_time": "2021-10-07T01:11:09.608369",
     "exception": false,
     "start_time": "2021-10-07T01:11:08.248247",
     "status": "completed"
    },
    "tags": []
   },
   "outputs": [],
   "source": [
    "attendance_wbothshort[\"treatment_descriptive\"] = np.where(\n",
    "    attendance_wbothshort.is_treatment == True, \"Treatment\", \"Control\"\n",
    ")\n",
    "unex_observed = (\n",
    "    ggplot(\n",
    "        attendance_wbothshort,\n",
    "        aes(x=\"diff_unexcused_observeddelivery\", fill=\"factor(treatment_descriptive)\"),\n",
    "    )\n",
    "    + geom_histogram(bins=10, color=\"black\")\n",
    "    + standard_background\n",
    "    + facet_wrap(\"~treatment_descriptive\")\n",
    "    + scale_fill_manual(values=(\"#444444\", \"#2B4888\"))\n",
    "    + labs(fill=\"\")\n",
    "    + guides(legend=False)\n",
    "    + theme(legend_position=(0.8, 0.7))\n",
    "    + scale_x_continuous(breaks=np.arange(0, 9, 1))\n",
    "    + xlab(\n",
    "        \"Additional unexcused absences:\\nstart date: observed delivery date\\nend date: two calendar weeks after that\"\n",
    "    )\n",
    ")\n",
    "\n",
    "\n",
    "both_observed = (\n",
    "    ggplot(\n",
    "        attendance_wbothshort,\n",
    "        aes(\n",
    "            x=\"diff_excusedorunexcused_observeddelivery\",\n",
    "            fill=\"factor(treatment_descriptive)\",\n",
    "        ),\n",
    "    )\n",
    "    + geom_histogram(bins=10, color=\"black\")\n",
    "    + standard_background\n",
    "    + facet_wrap(\"~treatment_descriptive\")\n",
    "    + scale_fill_manual(values=(\"#444444\", \"#2B4888\"))\n",
    "    + labs(fill=\"\")\n",
    "    + guides(legend=False)\n",
    "    + theme(legend_position=(0.8, 0.7))\n",
    "    + scale_x_continuous(breaks=np.arange(0, 9, 1))\n",
    "    + xlab(\n",
    "        \"Additional excused AND unexcused absences:\\nstart date: observed delivery date\\nend date: two calendar weeks after that\"\n",
    "    )\n",
    ")\n",
    "\n",
    "ggsave(unex_observed, OUTPUT_DIR / \"unex_observed.pdf\", width=12, height=8)\n",
    "\n",
    "ggsave(both_observed, OUTPUT_DIR / \"both_observed.pdf\", width=12, height=8)"
   ]
  },
  {
   "cell_type": "markdown",
   "id": "6502c614",
   "metadata": {
    "papermill": {
     "duration": 0.051398,
     "end_time": "2021-10-07T01:11:09.708830",
     "exception": false,
     "start_time": "2021-10-07T01:11:09.657432",
     "status": "completed"
    },
    "tags": []
   },
   "source": [
    "### Store"
   ]
  },
  {
   "cell_type": "code",
   "execution_count": 49,
   "id": "bbdb1c0b",
   "metadata": {
    "execution": {
     "iopub.execute_input": "2021-10-07T01:11:09.822451Z",
     "iopub.status.busy": "2021-10-07T01:11:09.821608Z",
     "iopub.status.idle": "2021-10-07T01:11:09.827787Z",
     "shell.execute_reply": "2021-10-07T01:11:09.828315Z"
    },
    "papermill": {
     "duration": 0.069353,
     "end_time": "2021-10-07T01:11:09.828549",
     "exception": false,
     "start_time": "2021-10-07T01:11:09.759196",
     "status": "completed"
    },
    "tags": []
   },
   "outputs": [],
   "source": [
    "## write to pickle\n",
    "pd.to_pickle(\n",
    "    attendance_wbothshort,\n",
    "    DATA_DIR / \"attendance_readyforAB.pkl\",\n",
    "    protocol=PICKLE_PROTOCOL,\n",
    ")"
   ]
  },
  {
   "cell_type": "code",
   "execution_count": 50,
   "id": "dbeac880",
   "metadata": {
    "execution": {
     "iopub.execute_input": "2021-10-07T01:11:09.928393Z",
     "iopub.status.busy": "2021-10-07T01:11:09.926815Z",
     "iopub.status.idle": "2021-10-07T01:11:09.930276Z",
     "shell.execute_reply": "2021-10-07T01:11:09.930707Z"
    },
    "papermill": {
     "duration": 0.053749,
     "end_time": "2021-10-07T01:11:09.930948",
     "exception": false,
     "start_time": "2021-10-07T01:11:09.877199",
     "status": "completed"
    },
    "tags": []
   },
   "outputs": [],
   "source": [
    "## read in student attributes data\n",
    "student_attributes_withcat_withtx = pd.read_pickle(\n",
    "    DATA_DIR / \"student_attributes_withcat_withtx.pkl\"\n",
    ")\n",
    "attribute_cols = [\n",
    "    col for col in student_attributes_withcat_withtx.columns if col != \"is_treatment\"\n",
    "]\n",
    "student_attributes_tomerge = student_attributes_withcat_withtx[attribute_cols]"
   ]
  },
  {
   "cell_type": "code",
   "execution_count": 51,
   "id": "c03747fc",
   "metadata": {
    "execution": {
     "iopub.execute_input": "2021-10-07T01:11:10.021729Z",
     "iopub.status.busy": "2021-10-07T01:11:10.020990Z",
     "iopub.status.idle": "2021-10-07T01:11:10.036890Z",
     "shell.execute_reply": "2021-10-07T01:11:10.037395Z"
    },
    "papermill": {
     "duration": 0.063452,
     "end_time": "2021-10-07T01:11:10.037580",
     "exception": false,
     "start_time": "2021-10-07T01:11:09.974128",
     "status": "completed"
    },
    "tags": []
   },
   "outputs": [],
   "source": [
    "## add student attributes back\n",
    "attendance_wbothshort_wattributes = pd.merge(\n",
    "    attendance_wbothshort,\n",
    "    student_attributes_tomerge[student_attributes_tomerge.usi.isin(usis_ref_and_treat)],\n",
    "    on=\"usi\",\n",
    "    how=\"left\",\n",
    ").drop_duplicates(subset=[\"usi\"])"
   ]
  },
  {
   "cell_type": "code",
   "execution_count": 52,
   "id": "0013b49c",
   "metadata": {
    "execution": {
     "iopub.execute_input": "2021-10-07T01:11:10.134056Z",
     "iopub.status.busy": "2021-10-07T01:11:10.133354Z",
     "iopub.status.idle": "2021-10-07T01:11:10.215862Z",
     "shell.execute_reply": "2021-10-07T01:11:10.216323Z"
    },
    "papermill": {
     "duration": 0.135353,
     "end_time": "2021-10-07T01:11:10.216512",
     "exception": false,
     "start_time": "2021-10-07T01:11:10.081159",
     "status": "completed"
    },
    "tags": []
   },
   "outputs": [],
   "source": [
    "# There are some doubled columns. We remove these columns if they are all equal\n",
    "remove_cols = []\n",
    "for col in attendance_wbothshort_wattributes:\n",
    "    if col.endswith(\"_x\"):\n",
    "        if (\n",
    "            attendance_wbothshort_wattributes[col]\n",
    "            == attendance_wbothshort_wattributes[f\"{col[:-2]}_y\"]\n",
    "        ).all():\n",
    "            attendance_wbothshort_wattributes[\n",
    "                col[:-2]\n",
    "            ] = attendance_wbothshort_wattributes[col]\n",
    "            remove_cols.append(col)\n",
    "\n",
    "remove_cols += [f\"{col[:-2]}_y\" for col in remove_cols]\n",
    "attendance_wbothshort_wattributes.drop(columns=remove_cols, inplace=True)\n",
    "\n",
    "# Then we save the data\n",
    "attendance_wbothshort_wattributes.to_csv(\n",
    "    DATA_DIR / \"attendance_readyforregressions.csv\"\n",
    ")"
   ]
  },
  {
   "cell_type": "code",
   "execution_count": null,
   "id": "d6b659c1",
   "metadata": {
    "papermill": {
     "duration": 0.044142,
     "end_time": "2021-10-07T01:11:10.305761",
     "exception": false,
     "start_time": "2021-10-07T01:11:10.261619",
     "status": "completed"
    },
    "tags": []
   },
   "outputs": [],
   "source": []
  }
 ],
 "metadata": {
  "interpreter": {
   "hash": "f810fb408179879954c0045dc47f9e7c9aa0477d9c8145b4c678eb0585172ed7"
  },
  "kernelspec": {
   "display_name": "Python 3.8.6 64-bit ('.venv': poetry)",
   "name": "python3"
  },
  "language_info": {
   "codemirror_mode": {
    "name": "ipython",
    "version": 3
   },
   "file_extension": ".py",
   "mimetype": "text/x-python",
   "name": "python",
   "nbconvert_exporter": "python",
   "pygments_lexer": "ipython3",
   "version": "3.8.6"
  },
  "papermill": {
   "default_parameters": {},
   "duration": 27.355537,
   "end_time": "2021-10-07T01:11:10.971170",
   "environment_variables": {},
   "exception": null,
   "input_path": "src/notebooks/200_descriptives/070_attendance_descriptives.ipynb",
   "output_path": "output/200_descriptives/070_attendance_descriptives.ipynb",
   "parameters": {},
   "start_time": "2021-10-07T01:10:43.615633",
   "version": "2.3.3"
  }
 },
 "nbformat": 4,
 "nbformat_minor": 5
}