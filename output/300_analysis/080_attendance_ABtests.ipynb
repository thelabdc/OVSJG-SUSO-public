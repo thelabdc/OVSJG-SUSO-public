{
 "cells": [
  {
   "cell_type": "code",
   "execution_count": 1,
   "id": "97401418",
   "metadata": {
    "execution": {
     "iopub.execute_input": "2021-10-07T01:11:14.074014Z",
     "iopub.status.busy": "2021-10-07T01:11:14.072927Z",
     "iopub.status.idle": "2021-10-07T01:11:15.703270Z",
     "shell.execute_reply": "2021-10-07T01:11:15.703780Z"
    },
    "papermill": {
     "duration": 1.670029,
     "end_time": "2021-10-07T01:11:15.704065",
     "exception": false,
     "start_time": "2021-10-07T01:11:14.034036",
     "status": "completed"
    },
    "tags": []
   },
   "outputs": [],
   "source": [
    "import warnings\n",
    "\n",
    "import numpy as np\n",
    "import pandas as pd\n",
    "\n",
    "## graphing\n",
    "from plotnine import *\n",
    "\n",
    "from suso import abtesting\n",
    "from suso.plotting_themes import standard_background\n",
    "from suso.utils import here\n",
    "\n",
    "warnings.filterwarnings(\"ignore\")"
   ]
  },
  {
   "cell_type": "code",
   "execution_count": 2,
   "id": "fc7005dc",
   "metadata": {
    "execution": {
     "iopub.execute_input": "2021-10-07T01:11:15.760014Z",
     "iopub.status.busy": "2021-10-07T01:11:15.759168Z",
     "iopub.status.idle": "2021-10-07T01:11:15.761647Z",
     "shell.execute_reply": "2021-10-07T01:11:15.762281Z"
    },
    "papermill": {
     "duration": 0.032274,
     "end_time": "2021-10-07T01:11:15.762507",
     "exception": false,
     "start_time": "2021-10-07T01:11:15.730233",
     "status": "completed"
    },
    "tags": []
   },
   "outputs": [],
   "source": [
    "DATA_DIR = here(\"data\")\n",
    "OUTPUT_DIR = here(\"output\")"
   ]
  },
  {
   "cell_type": "code",
   "execution_count": 3,
   "id": "3d3b5c42",
   "metadata": {
    "execution": {
     "iopub.execute_input": "2021-10-07T01:11:15.812624Z",
     "iopub.status.busy": "2021-10-07T01:11:15.811960Z",
     "iopub.status.idle": "2021-10-07T01:11:15.814032Z",
     "shell.execute_reply": "2021-10-07T01:11:15.814560Z"
    },
    "papermill": {
     "duration": 0.030035,
     "end_time": "2021-10-07T01:11:15.814806",
     "exception": false,
     "start_time": "2021-10-07T01:11:15.784771",
     "status": "completed"
    },
    "tags": []
   },
   "outputs": [],
   "source": [
    "def create_plot_ofcertainty(\n",
    "    probs_alldraws,\n",
    "    single_draw_value,\n",
    "    scale_y,\n",
    "    direction,\n",
    "    outcome,\n",
    "    adjust_x=-0.05,\n",
    "    treatment_color=\"#2B4888\",\n",
    "    control_color=\"#444444\",\n",
    "):\n",
    "    prob_df = pd.DataFrame({\"certainty\": probs_alldraws})\n",
    "    plot = (\n",
    "        ggplot(prob_df, aes(x=\"certainty\"))\n",
    "        + geom_density(fill=\"white\", color=treatment_color)\n",
    "        + standard_background\n",
    "        + ylab(\"Density of draws\")\n",
    "        + scale_fill_gradient(low=\"white\", high=\"gray\")\n",
    "        + scale_x_continuous(breaks=np.arange(0, 1, 0.1))\n",
    "        + annotate(\n",
    "            \"text\",\n",
    "            x=single_draw_value + adjust_x,\n",
    "            y=(scale_y / 4) * 3.8,\n",
    "            label=\"Observed degree\\nof certainty:\\n{}\".format(\n",
    "                round(single_draw_value, 3)\n",
    "            ),\n",
    "        )\n",
    "        + xlab(\n",
    "            \"Degree of certainty that treatment students\\nhad {direction} {outcome} than control students\".format(\n",
    "                direction=direction, outcome=outcome\n",
    "            )\n",
    "        )\n",
    "    )\n",
    "    return plot"
   ]
  },
  {
   "cell_type": "markdown",
   "id": "d3237e06",
   "metadata": {
    "papermill": {
     "duration": 0.021167,
     "end_time": "2021-10-07T01:11:15.856783",
     "exception": false,
     "start_time": "2021-10-07T01:11:15.835616",
     "status": "completed"
    },
    "tags": []
   },
   "source": [
    "# 1. Load data"
   ]
  },
  {
   "cell_type": "code",
   "execution_count": 4,
   "id": "846a9a64",
   "metadata": {
    "execution": {
     "iopub.execute_input": "2021-10-07T01:11:15.905122Z",
     "iopub.status.busy": "2021-10-07T01:11:15.903024Z",
     "iopub.status.idle": "2021-10-07T01:11:15.910038Z",
     "shell.execute_reply": "2021-10-07T01:11:15.910684Z"
    },
    "papermill": {
     "duration": 0.034092,
     "end_time": "2021-10-07T01:11:15.910913",
     "exception": false,
     "start_time": "2021-10-07T01:11:15.876821",
     "status": "completed"
    },
    "tags": []
   },
   "outputs": [],
   "source": [
    "attendance_analytic = pd.read_pickle(DATA_DIR / \"attendance_readyforAB.pkl\")\n",
    "attendance_analytic.head()\n",
    "\n",
    "treat_data = attendance_analytic[attendance_analytic.is_treatment == True].copy()\n",
    "control_data = attendance_analytic[attendance_analytic.is_treatment == False].copy()"
   ]
  },
  {
   "cell_type": "markdown",
   "id": "0947a7f3",
   "metadata": {
    "papermill": {
     "duration": 0.020235,
     "end_time": "2021-10-07T01:11:15.951240",
     "exception": false,
     "start_time": "2021-10-07T01:11:15.931005",
     "status": "completed"
    },
    "tags": []
   },
   "source": [
    "# 2. A/B testing of binary year-end attendance outcomes"
   ]
  },
  {
   "cell_type": "markdown",
   "id": "9a940ba9",
   "metadata": {
    "papermill": {
     "duration": 0.020384,
     "end_time": "2021-10-07T01:11:15.992421",
     "exception": false,
     "start_time": "2021-10-07T01:11:15.972037",
     "status": "completed"
    },
    "tags": []
   },
   "source": [
    "## 2.1 Truancy"
   ]
  },
  {
   "cell_type": "markdown",
   "id": "248fa022",
   "metadata": {
    "papermill": {
     "duration": 0.021691,
     "end_time": "2021-10-07T01:11:16.035591",
     "exception": false,
     "start_time": "2021-10-07T01:11:16.013900",
     "status": "completed"
    },
    "tags": []
   },
   "source": [
    "### 2.1.1 One draw version"
   ]
  },
  {
   "cell_type": "code",
   "execution_count": 5,
   "id": "87aad27b",
   "metadata": {
    "execution": {
     "iopub.execute_input": "2021-10-07T01:11:16.082813Z",
     "iopub.status.busy": "2021-10-07T01:11:16.082119Z",
     "iopub.status.idle": "2021-10-07T01:11:16.084031Z",
     "shell.execute_reply": "2021-10-07T01:11:16.084466Z"
    },
    "papermill": {
     "duration": 0.027753,
     "end_time": "2021-10-07T01:11:16.084640",
     "exception": false,
     "start_time": "2021-10-07T01:11:16.056887",
     "status": "completed"
    },
    "tags": []
   },
   "outputs": [],
   "source": [
    "outcome_varname = \"truant_indicator\""
   ]
  },
  {
   "cell_type": "code",
   "execution_count": 6,
   "id": "2fd21d1a",
   "metadata": {
    "execution": {
     "iopub.execute_input": "2021-10-07T01:11:16.134625Z",
     "iopub.status.busy": "2021-10-07T01:11:16.133863Z",
     "iopub.status.idle": "2021-10-07T01:11:16.136464Z",
     "shell.execute_reply": "2021-10-07T01:11:16.136895Z"
    },
    "papermill": {
     "duration": 0.032086,
     "end_time": "2021-10-07T01:11:16.137074",
     "exception": false,
     "start_time": "2021-10-07T01:11:16.104988",
     "status": "completed"
    },
    "tags": []
   },
   "outputs": [
    {
     "name": "stdout",
     "output_type": "stream",
     "text": [
      "Count truant in treatment group 294\n",
      "Percent truant in treatment group 48.595041322314046\n",
      "Count truant in control group 302\n",
      "Percent truant in control group 50.92748735244519\n",
      "--------------------------------\n",
      "A/B test single draw prob. that treatment group had LOWER rate than control group: 0.7900483866563637\n"
     ]
    }
   ],
   "source": [
    "successes_treatment = treat_data.usi[treat_data[outcome_varname] == 1].nunique()\n",
    "failures_treatment = treat_data.usi[treat_data[outcome_varname] == 0].nunique()\n",
    "successes_control = control_data.usi[control_data[outcome_varname] == 1].nunique()\n",
    "failures_control = control_data.usi[control_data[outcome_varname] == 0].nunique()\n",
    "\n",
    "truancy_prob_txgreaterthancontrol = abtesting.degree_of_certainty(\n",
    "    successes_control, failures_control, successes_treatment, failures_treatment\n",
    ")\n",
    "truancy_prob_txlessthancontrol = 1 - truancy_prob_txgreaterthancontrol\n",
    "\n",
    "outcome = \"truant\"\n",
    "direction = \"LOWER\"\n",
    "print(f\"Count {outcome} in treatment group {successes_treatment}\")\n",
    "print(\n",
    "    f\"Percent {outcome} in treatment group {successes_treatment / (successes_treatment + failures_treatment) * 100}\"\n",
    ")\n",
    "print(f\"Count {outcome} in control group {successes_control}\")\n",
    "print(\n",
    "    \"Percent {} in control group \".format(outcome)\n",
    "    + str(successes_control / (successes_control + failures_control) * 100)\n",
    ")\n",
    "print(\"--------------------------------\")\n",
    "print(\n",
    "    f\"A/B test single draw prob. that treatment group had {direction} rate than control group: {truancy_prob_txlessthancontrol}\"\n",
    ")"
   ]
  },
  {
   "cell_type": "code",
   "execution_count": 7,
   "id": "a91f779b",
   "metadata": {
    "execution": {
     "iopub.execute_input": "2021-10-07T01:11:16.185240Z",
     "iopub.status.busy": "2021-10-07T01:11:16.184607Z",
     "iopub.status.idle": "2021-10-07T01:11:16.853006Z",
     "shell.execute_reply": "2021-10-07T01:11:16.853722Z"
    },
    "papermill": {
     "duration": 0.695468,
     "end_time": "2021-10-07T01:11:16.853991",
     "exception": false,
     "start_time": "2021-10-07T01:11:16.158523",
     "status": "completed"
    },
    "tags": []
   },
   "outputs": [],
   "source": [
    "num_treatment = successes_treatment + failures_treatment\n",
    "num_control = successes_control + failures_control\n",
    "base_rate = successes_control / num_control\n",
    "treatment_rate = successes_treatment / num_treatment\n",
    "\n",
    "(\n",
    "    truancy_prob_txlessthancontrol_perc,\n",
    "    truancy_prob_txlessthancontrol_alldraws,\n",
    "    truancy_posterior,\n",
    ") = abtesting.degree_of_certainty_draws_forwriteup(\n",
    "    base_rate=base_rate,\n",
    "    treatment_rate=treatment_rate,\n",
    "    successes_control=successes_control,\n",
    "    successes_treatment=successes_treatment,\n",
    "    failures_control=failures_control,\n",
    "    failures_treatment=failures_treatment,\n",
    "    num_control=num_control,\n",
    "    num_treatment=num_treatment,\n",
    "    num_draws=10000,\n",
    "    tx_greater=False,\n",
    ")"
   ]
  },
  {
   "cell_type": "code",
   "execution_count": 8,
   "id": "b2f1fb22",
   "metadata": {
    "execution": {
     "iopub.execute_input": "2021-10-07T01:11:16.945111Z",
     "iopub.status.busy": "2021-10-07T01:11:16.943449Z",
     "iopub.status.idle": "2021-10-07T01:11:20.166861Z",
     "shell.execute_reply": "2021-10-07T01:11:20.167497Z"
    },
    "papermill": {
     "duration": 3.288994,
     "end_time": "2021-10-07T01:11:20.167781",
     "exception": false,
     "start_time": "2021-10-07T01:11:16.878787",
     "status": "completed"
    },
    "tags": []
   },
   "outputs": [],
   "source": [
    "certainty_truancy = create_plot_ofcertainty(\n",
    "    probs_alldraws=truancy_prob_txlessthancontrol_alldraws,\n",
    "    single_draw_value=truancy_prob_txlessthancontrol,\n",
    "    scale_y=2,\n",
    "    direction=\"lower\",\n",
    "    outcome=\"year-end truancy\",\n",
    ")\n",
    "ggsave(\n",
    "    certainty_truancy,\n",
    "    OUTPUT_DIR / \"certainty_truancy.pdf\",\n",
    "    width=12,\n",
    "    height=8,\n",
    ")"
   ]
  },
  {
   "cell_type": "markdown",
   "id": "947b8d15",
   "metadata": {
    "papermill": {
     "duration": 0.026267,
     "end_time": "2021-10-07T01:11:20.220754",
     "exception": false,
     "start_time": "2021-10-07T01:11:20.194487",
     "status": "completed"
    },
    "tags": []
   },
   "source": [
    "## 2.2 Chronic absenteeism"
   ]
  },
  {
   "cell_type": "markdown",
   "id": "b161ce13",
   "metadata": {
    "papermill": {
     "duration": 0.028064,
     "end_time": "2021-10-07T01:11:20.275350",
     "exception": false,
     "start_time": "2021-10-07T01:11:20.247286",
     "status": "completed"
    },
    "tags": []
   },
   "source": [
    "### 2.2.1 One draw version"
   ]
  },
  {
   "cell_type": "code",
   "execution_count": 9,
   "id": "507ff236",
   "metadata": {
    "execution": {
     "iopub.execute_input": "2021-10-07T01:11:20.329683Z",
     "iopub.status.busy": "2021-10-07T01:11:20.328833Z",
     "iopub.status.idle": "2021-10-07T01:11:20.330890Z",
     "shell.execute_reply": "2021-10-07T01:11:20.331387Z"
    },
    "papermill": {
     "duration": 0.030075,
     "end_time": "2021-10-07T01:11:20.331625",
     "exception": false,
     "start_time": "2021-10-07T01:11:20.301550",
     "status": "completed"
    },
    "tags": []
   },
   "outputs": [],
   "source": [
    "outcome_varname = \"chronicabsent_indicator\""
   ]
  },
  {
   "cell_type": "code",
   "execution_count": 10,
   "id": "6518d9eb",
   "metadata": {
    "execution": {
     "iopub.execute_input": "2021-10-07T01:11:20.384777Z",
     "iopub.status.busy": "2021-10-07T01:11:20.383801Z",
     "iopub.status.idle": "2021-10-07T01:11:20.388079Z",
     "shell.execute_reply": "2021-10-07T01:11:20.388531Z"
    },
    "papermill": {
     "duration": 0.034286,
     "end_time": "2021-10-07T01:11:20.388714",
     "exception": false,
     "start_time": "2021-10-07T01:11:20.354428",
     "status": "completed"
    },
    "tags": []
   },
   "outputs": [
    {
     "name": "stdout",
     "output_type": "stream",
     "text": [
      "Count chronically absent in treatment group 255\n",
      "Percent chronically absent in treatment group 42.14876033057851\n",
      "Count chronically absent in control group 240\n",
      "Percent chronically absent in control group 40.472175379426645\n",
      "--------------------------------\n",
      "A/B test single draw prob. that treatment group had LOWER rate than control group: 0.2780830594767396\n"
     ]
    }
   ],
   "source": [
    "successes_treatment = len(treat_data.usi[treat_data[outcome_varname] == 1].unique())\n",
    "failures_treatment = len(treat_data.usi[treat_data[outcome_varname] == 0].unique())\n",
    "successes_control = len(control_data.usi[control_data[outcome_varname] == 1].unique())\n",
    "failures_control = len(control_data.usi[control_data[outcome_varname] == 0].unique())\n",
    "\n",
    "ca_prob_txgreaterthancontrol = abtesting.degree_of_certainty(\n",
    "    successes_control, failures_control, successes_treatment, failures_treatment\n",
    ")\n",
    "\n",
    "outcome = \"chronically absent\"\n",
    "direction = \"LOWER\"\n",
    "print(\"Count {} in treatment group \".format(outcome) + str(successes_treatment))\n",
    "print(\n",
    "    \"Percent {} in treatment group \".format(outcome)\n",
    "    + str(successes_treatment / (successes_treatment + failures_treatment) * 100)\n",
    ")\n",
    "print(\"Count {} in control group \".format(outcome) + str(successes_control))\n",
    "print(\n",
    "    \"Percent {} in control group \".format(outcome)\n",
    "    + str(successes_control / (successes_control + failures_control) * 100)\n",
    ")\n",
    "print(\"--------------------------------\")\n",
    "print(\n",
    "    \"A/B test single draw prob. that treatment group had {} rate than control group: \".format(\n",
    "        direction\n",
    "    )\n",
    "    + str(1 - ca_prob_txgreaterthancontrol)\n",
    ")"
   ]
  },
  {
   "cell_type": "markdown",
   "id": "39d2f071",
   "metadata": {
    "papermill": {
     "duration": 0.021741,
     "end_time": "2021-10-07T01:11:20.431526",
     "exception": false,
     "start_time": "2021-10-07T01:11:20.409785",
     "status": "completed"
    },
    "tags": []
   },
   "source": [
    "### 2.2.2 Many draw version"
   ]
  },
  {
   "cell_type": "code",
   "execution_count": 11,
   "id": "0630e4b2",
   "metadata": {
    "execution": {
     "iopub.execute_input": "2021-10-07T01:11:20.476878Z",
     "iopub.status.busy": "2021-10-07T01:11:20.476310Z",
     "iopub.status.idle": "2021-10-07T01:11:21.142719Z",
     "shell.execute_reply": "2021-10-07T01:11:21.143252Z"
    },
    "papermill": {
     "duration": 0.690933,
     "end_time": "2021-10-07T01:11:21.143516",
     "exception": false,
     "start_time": "2021-10-07T01:11:20.452583",
     "status": "completed"
    },
    "tags": []
   },
   "outputs": [],
   "source": [
    "num_treatment = successes_treatment + failures_treatment\n",
    "num_control = successes_control + failures_control\n",
    "base_rate = successes_control / num_control\n",
    "treatment_rate = successes_treatment / num_treatment\n",
    "\n",
    "(\n",
    "    ca_prob_txlessthancontrol_perc,\n",
    "    ca_prob_txlessthancontrol_alldraws,\n",
    "    ca_posterior,\n",
    ") = abtesting.degree_of_certainty_draws_forwriteup(\n",
    "    base_rate=base_rate,\n",
    "    treatment_rate=treatment_rate,\n",
    "    successes_control=successes_control,\n",
    "    successes_treatment=successes_treatment,\n",
    "    failures_control=failures_control,\n",
    "    failures_treatment=failures_treatment,\n",
    "    num_control=num_control,\n",
    "    num_treatment=num_treatment,\n",
    "    num_draws=10000,\n",
    "    tx_greater=False,\n",
    ")"
   ]
  },
  {
   "cell_type": "code",
   "execution_count": 12,
   "id": "0c710bec",
   "metadata": {
    "execution": {
     "iopub.execute_input": "2021-10-07T01:11:21.203330Z",
     "iopub.status.busy": "2021-10-07T01:11:21.195015Z",
     "iopub.status.idle": "2021-10-07T01:11:21.205299Z",
     "shell.execute_reply": "2021-10-07T01:11:21.205739Z"
    },
    "papermill": {
     "duration": 0.040594,
     "end_time": "2021-10-07T01:11:21.205983",
     "exception": false,
     "start_time": "2021-10-07T01:11:21.165389",
     "status": "completed"
    },
    "tags": []
   },
   "outputs": [],
   "source": [
    "certainty_ca = create_plot_ofcertainty(\n",
    "    probs_alldraws=ca_prob_txlessthancontrol_alldraws,\n",
    "    single_draw_value=(1 - ca_prob_txgreaterthancontrol),\n",
    "    scale_y=2,\n",
    "    direction=\"lower\",\n",
    "    outcome=\"year-end chronic absenteeism\",\n",
    ")"
   ]
  },
  {
   "cell_type": "markdown",
   "id": "e12e23b7",
   "metadata": {
    "papermill": {
     "duration": 0.020843,
     "end_time": "2021-10-07T01:11:21.248600",
     "exception": false,
     "start_time": "2021-10-07T01:11:21.227757",
     "status": "completed"
    },
    "tags": []
   },
   "source": [
    "# 3. A/B testing: count outcomes \n",
    "\n",
    "Repeat same process for count outcomes"
   ]
  },
  {
   "cell_type": "markdown",
   "id": "7c412e11",
   "metadata": {
    "papermill": {
     "duration": 0.020254,
     "end_time": "2021-10-07T01:11:21.287808",
     "exception": false,
     "start_time": "2021-10-07T01:11:21.267554",
     "status": "completed"
    },
    "tags": []
   },
   "source": [
    "## 3.1 unexcused in two week period: median delivery date"
   ]
  },
  {
   "cell_type": "markdown",
   "id": "7af2cc86",
   "metadata": {
    "papermill": {
     "duration": 0.018666,
     "end_time": "2021-10-07T01:11:21.326467",
     "exception": false,
     "start_time": "2021-10-07T01:11:21.307801",
     "status": "completed"
    },
    "tags": []
   },
   "source": [
    "### 3.1.1: single draws"
   ]
  },
  {
   "cell_type": "code",
   "execution_count": 13,
   "id": "f1bac13c",
   "metadata": {
    "execution": {
     "iopub.execute_input": "2021-10-07T01:11:21.371830Z",
     "iopub.status.busy": "2021-10-07T01:11:21.371165Z",
     "iopub.status.idle": "2021-10-07T01:11:21.373498Z",
     "shell.execute_reply": "2021-10-07T01:11:21.373950Z"
    },
    "papermill": {
     "duration": 0.028936,
     "end_time": "2021-10-07T01:11:21.374108",
     "exception": false,
     "start_time": "2021-10-07T01:11:21.345172",
     "status": "completed"
    },
    "tags": []
   },
   "outputs": [
    {
     "name": "stdout",
     "output_type": "stream",
     "text": [
      "Count of unexcused absences in two weeks after letter (median delivery day) in treatment group 245.0\n",
      "Rate of unexcused absences in two weeks after letter (median delivery day) in treatment group 0.04888268156424581\n",
      "Count of unexcused absences in two weeks after letter (median delivery day) in control group 303.0\n",
      "Rate of unexcused absences in two weeks after letter (median delivery day) in control group 0.06047904191616767\n",
      "--------------------------------\n",
      "A/B test single draw prob. that treatment group had lower count than control group: 0.9927751595539442\n"
     ]
    }
   ],
   "source": [
    "##\n",
    "outcome_varname = \"diff_unexcused_mediandelivery\"\n",
    "exposure_varname = \"diff_schooldays_mediandelivery\"\n",
    "events_treatment = np.sum(treat_data[outcome_varname])\n",
    "exposure_treatment = np.sum(treat_data[exposure_varname])\n",
    "events_control = np.sum(control_data[outcome_varname])\n",
    "exposure_control = np.sum(control_data[exposure_varname])\n",
    "\n",
    "\n",
    "## single draw test\n",
    "unex_mediandelivery_prob_txgreaterthancontrol = abtesting.degree_of_certainty_counts(\n",
    "    events_control=events_control,\n",
    "    exposure_control=exposure_control,\n",
    "    events_tx=events_treatment,\n",
    "    exposure_tx=exposure_treatment,\n",
    ")\n",
    "\n",
    "unex_mediandelivery_prob_txlessthancontrol = (\n",
    "    1 - unex_mediandelivery_prob_txgreaterthancontrol\n",
    ")\n",
    "\n",
    "outcome = \"of unexcused absences in two weeks after letter (median delivery day)\"\n",
    "direction = \"lower\"\n",
    "print(\"Count {} in treatment group \".format(outcome) + str(events_treatment))\n",
    "print(\n",
    "    \"Rate {} in treatment group \".format(outcome)\n",
    "    + str(events_treatment / (exposure_treatment))\n",
    ")\n",
    "print(\"Count {} in control group \".format(outcome) + str(events_control))\n",
    "print(\n",
    "    \"Rate {} in control group \".format(outcome)\n",
    "    + str(events_control / (exposure_control))\n",
    ")\n",
    "print(\"--------------------------------\")\n",
    "print(\n",
    "    \"A/B test single draw prob. that treatment group had {} count than control group: \".format(\n",
    "        direction\n",
    "    )\n",
    "    + str(unex_mediandelivery_prob_txlessthancontrol)\n",
    ")"
   ]
  },
  {
   "cell_type": "markdown",
   "id": "2025e97c",
   "metadata": {
    "papermill": {
     "duration": 0.020453,
     "end_time": "2021-10-07T01:11:21.413975",
     "exception": false,
     "start_time": "2021-10-07T01:11:21.393522",
     "status": "completed"
    },
    "tags": []
   },
   "source": [
    "### 3.1.2 multiple draws"
   ]
  },
  {
   "cell_type": "code",
   "execution_count": 14,
   "id": "15d09d2f",
   "metadata": {
    "execution": {
     "iopub.execute_input": "2021-10-07T01:11:21.457444Z",
     "iopub.status.busy": "2021-10-07T01:11:21.456885Z",
     "iopub.status.idle": "2021-10-07T01:11:21.944218Z",
     "shell.execute_reply": "2021-10-07T01:11:21.944608Z"
    },
    "papermill": {
     "duration": 0.510715,
     "end_time": "2021-10-07T01:11:21.944781",
     "exception": false,
     "start_time": "2021-10-07T01:11:21.434066",
     "status": "completed"
    },
    "tags": []
   },
   "outputs": [],
   "source": [
    "(\n",
    "    unex_mediandelivery_perc,\n",
    "    unex_mediandelivery_alldraws,\n",
    "    unex_mediandelivery_posterior,\n",
    ") = abtesting.degree_of_certainty_count_draws_forwriteup(\n",
    "    control_events=events_control,\n",
    "    treatment_events=events_treatment,\n",
    "    control_exposure=exposure_control,\n",
    "    treatment_exposure=exposure_treatment,\n",
    "    num_draws=10000,\n",
    "    tx_greater=False,\n",
    ")"
   ]
  },
  {
   "cell_type": "code",
   "execution_count": 15,
   "id": "bd8fc901",
   "metadata": {
    "execution": {
     "iopub.execute_input": "2021-10-07T01:11:21.988903Z",
     "iopub.status.busy": "2021-10-07T01:11:21.988265Z",
     "iopub.status.idle": "2021-10-07T01:11:21.990637Z",
     "shell.execute_reply": "2021-10-07T01:11:21.991017Z"
    },
    "papermill": {
     "duration": 0.027324,
     "end_time": "2021-10-07T01:11:21.991179",
     "exception": false,
     "start_time": "2021-10-07T01:11:21.963855",
     "status": "completed"
    },
    "tags": []
   },
   "outputs": [
    {
     "data": {
      "text/plain": [
       "array([0.999986  , 0.99838651, 0.99859219, ..., 0.9879524 , 0.99901596,\n",
       "       0.98883458])"
      ]
     },
     "execution_count": 15,
     "metadata": {},
     "output_type": "execute_result"
    }
   ],
   "source": [
    "unex_mediandelivery_alldraws"
   ]
  },
  {
   "cell_type": "code",
   "execution_count": 16,
   "id": "ae56d995",
   "metadata": {
    "execution": {
     "iopub.execute_input": "2021-10-07T01:11:22.058197Z",
     "iopub.status.busy": "2021-10-07T01:11:22.056868Z",
     "iopub.status.idle": "2021-10-07T01:11:24.984491Z",
     "shell.execute_reply": "2021-10-07T01:11:24.985074Z"
    },
    "papermill": {
     "duration": 2.974133,
     "end_time": "2021-10-07T01:11:24.985278",
     "exception": false,
     "start_time": "2021-10-07T01:11:22.011145",
     "status": "completed"
    },
    "tags": []
   },
   "outputs": [],
   "source": [
    "certainty_unex_itt = create_plot_ofcertainty(\n",
    "    probs_alldraws=unex_mediandelivery_alldraws,\n",
    "    single_draw_value=unex_mediandelivery_prob_txlessthancontrol,\n",
    "    scale_y=40,\n",
    "    direction=\"lower\",\n",
    "    outcome=\"count of unexcused absencesover two weeks\\n(assume 7 day delivery timeline)\\n\",\n",
    "    adjust_x=-0.15,\n",
    ")\n",
    "\n",
    "ggsave(\n",
    "    certainty_unex_itt,\n",
    "    OUTPUT_DIR / \"certainty_unex_itt.pdf\",\n",
    "    width=12,\n",
    "    height=8,\n",
    ")"
   ]
  },
  {
   "cell_type": "markdown",
   "id": "b0d23afd",
   "metadata": {
    "papermill": {
     "duration": 0.0249,
     "end_time": "2021-10-07T01:11:25.039778",
     "exception": false,
     "start_time": "2021-10-07T01:11:25.014878",
     "status": "completed"
    },
    "tags": []
   },
   "source": [
    "## 3.2 unexcused in two week period: observed delivery"
   ]
  },
  {
   "cell_type": "code",
   "execution_count": 17,
   "id": "0524e87e",
   "metadata": {
    "execution": {
     "iopub.execute_input": "2021-10-07T01:11:25.092593Z",
     "iopub.status.busy": "2021-10-07T01:11:25.091856Z",
     "iopub.status.idle": "2021-10-07T01:11:25.094593Z",
     "shell.execute_reply": "2021-10-07T01:11:25.095022Z"
    },
    "papermill": {
     "duration": 0.032641,
     "end_time": "2021-10-07T01:11:25.095207",
     "exception": false,
     "start_time": "2021-10-07T01:11:25.062566",
     "status": "completed"
    },
    "tags": []
   },
   "outputs": [
    {
     "name": "stdout",
     "output_type": "stream",
     "text": [
      "Count of unexcused absences in two weeks after letter (observed delivery day) in treatment group 252.0\n",
      "Exposure of unexcused absences in two weeks after letter (observed delivery day) in treatment group 5011.0\n",
      "Rate of unexcused absences in two weeks after letter (observed delivery day) in treatment group 0.05028936340051886\n",
      "Count of unexcused absences in two weeks after letter (observed delivery day) in control group 318.0\n",
      "Exposure of unexcused absences in two weeks after letter (observed delivery day) in control group 5093.0\n",
      "Rate of unexcused absences in two weeks after letter (observed delivery day) in control group 0.062438641272334575\n",
      "--------------------------------\n",
      "A/B test single draw prob. that treatment group had lower count than control group: 0.994404041775581\n"
     ]
    }
   ],
   "source": [
    "outcome_varname = \"diff_unexcused_observeddelivery\"\n",
    "exposure_varname = \"diff_schooldays_observeddelivery\"\n",
    "events_treatment = np.sum(treat_data[outcome_varname])\n",
    "exposure_treatment = np.sum(treat_data[exposure_varname])\n",
    "events_control = np.sum(control_data[outcome_varname])\n",
    "exposure_control = np.sum(control_data[exposure_varname])\n",
    "\n",
    "\n",
    "## single draw test\n",
    "unex_obsdelivery_prob_txgreaterthancontrol = abtesting.degree_of_certainty_counts(\n",
    "    events_control=events_control,\n",
    "    exposure_control=exposure_control,\n",
    "    events_tx=events_treatment,\n",
    "    exposure_tx=exposure_treatment,\n",
    ")\n",
    "\n",
    "unex_obsdelivery_prob_txlessthancontrol = 1 - unex_obsdelivery_prob_txgreaterthancontrol\n",
    "\n",
    "outcome = \"of unexcused absences in two weeks after letter (observed delivery day)\"\n",
    "direction = \"lower\"\n",
    "print(\"Count {} in treatment group \".format(outcome) + str(events_treatment))\n",
    "print(\"Exposure {} in treatment group \".format(outcome) + str(exposure_treatment))\n",
    "print(\n",
    "    \"Rate {} in treatment group \".format(outcome)\n",
    "    + str(events_treatment / (exposure_treatment))\n",
    ")\n",
    "print(\"Count {} in control group \".format(outcome) + str(events_control))\n",
    "print(\"Exposure {} in control group \".format(outcome) + str(exposure_control))\n",
    "print(\n",
    "    \"Rate {} in control group \".format(outcome)\n",
    "    + str(events_control / (exposure_control))\n",
    ")\n",
    "print(\"--------------------------------\")\n",
    "print(\n",
    "    \"A/B test single draw prob. that treatment group had {} count than control group: \".format(\n",
    "        direction\n",
    "    )\n",
    "    + str(unex_obsdelivery_prob_txlessthancontrol)\n",
    ")"
   ]
  },
  {
   "cell_type": "code",
   "execution_count": 18,
   "id": "254a03da",
   "metadata": {
    "execution": {
     "iopub.execute_input": "2021-10-07T01:11:25.146283Z",
     "iopub.status.busy": "2021-10-07T01:11:25.145539Z",
     "iopub.status.idle": "2021-10-07T01:11:28.304691Z",
     "shell.execute_reply": "2021-10-07T01:11:28.305066Z"
    },
    "papermill": {
     "duration": 3.187269,
     "end_time": "2021-10-07T01:11:28.305230",
     "exception": false,
     "start_time": "2021-10-07T01:11:25.117961",
     "status": "completed"
    },
    "tags": []
   },
   "outputs": [],
   "source": [
    "(\n",
    "    unex_obsdelivery_perc,\n",
    "    unex_obsdelivery_alldraws,\n",
    "    unex_obsdelivery_posterior,\n",
    ") = abtesting.degree_of_certainty_count_draws_forwriteup(\n",
    "    control_events=events_control,\n",
    "    treatment_events=events_treatment,\n",
    "    control_exposure=exposure_control,\n",
    "    treatment_exposure=exposure_treatment,\n",
    "    num_draws=10000,\n",
    "    tx_greater=False,\n",
    ")\n",
    "\n",
    "certainty_unex_observed = create_plot_ofcertainty(\n",
    "    probs_alldraws=unex_obsdelivery_alldraws,\n",
    "    single_draw_value=unex_obsdelivery_prob_txlessthancontrol,\n",
    "    scale_y=20,\n",
    "    direction=\"lower\",\n",
    "    outcome=\"count of unexcused absences over two weeks\\n(using observed delivery date)\\n\",\n",
    "    adjust_x=-0.15,\n",
    ")\n",
    "\n",
    "ggsave(\n",
    "    certainty_unex_observed,\n",
    "    OUTPUT_DIR / \"certainty_unex_observed.pdf\",\n",
    "    width=12,\n",
    "    height=8,\n",
    ")"
   ]
  },
  {
   "cell_type": "markdown",
   "id": "44415c65",
   "metadata": {
    "papermill": {
     "duration": 0.020201,
     "end_time": "2021-10-07T01:11:28.345311",
     "exception": false,
     "start_time": "2021-10-07T01:11:28.325110",
     "status": "completed"
    },
    "tags": []
   },
   "source": [
    "## 3.3 unexcused and excused in two-week period: median delivery date\n"
   ]
  },
  {
   "cell_type": "code",
   "execution_count": 19,
   "id": "3ffdbfbb",
   "metadata": {
    "execution": {
     "iopub.execute_input": "2021-10-07T01:11:28.395781Z",
     "iopub.status.busy": "2021-10-07T01:11:28.395033Z",
     "iopub.status.idle": "2021-10-07T01:11:28.398377Z",
     "shell.execute_reply": "2021-10-07T01:11:28.398896Z"
    },
    "papermill": {
     "duration": 0.033983,
     "end_time": "2021-10-07T01:11:28.399081",
     "exception": false,
     "start_time": "2021-10-07T01:11:28.365098",
     "status": "completed"
    },
    "tags": []
   },
   "outputs": [
    {
     "name": "stdout",
     "output_type": "stream",
     "text": [
      "Count of unexcused absences in two weeks after letter (observed delivery day) in treatment group 503.0\n",
      "Rate of unexcused absences in two weeks after letter (observed delivery day) in treatment group 0.10035913806863528\n",
      "Count of unexcused absences in two weeks after letter (observed delivery day) in control group 520.0\n",
      "Rate of unexcused absences in two weeks after letter (observed delivery day) in control group 0.10379241516966067\n",
      "--------------------------------\n",
      "A/B test single draw prob. that treatment group had lower count than control group: 0.693951139330429\n"
     ]
    }
   ],
   "source": [
    "outcome_varname = \"diff_excusedorunexcused_mediandelivery\"\n",
    "exposure_varname = \"diff_schooldays_mediandelivery\"\n",
    "events_treatment = np.sum(treat_data[outcome_varname])\n",
    "exposure_treatment = np.sum(treat_data[exposure_varname])\n",
    "events_control = np.sum(control_data[outcome_varname])\n",
    "exposure_control = np.sum(control_data[exposure_varname])\n",
    "\n",
    "\n",
    "## single draw test\n",
    "unexandex_mediandelivery_prob_txgreaterthancontrol = (\n",
    "    abtesting.degree_of_certainty_counts(\n",
    "        events_control=events_control,\n",
    "        exposure_control=exposure_control,\n",
    "        events_tx=events_treatment,\n",
    "        exposure_tx=exposure_treatment,\n",
    "    )\n",
    ")\n",
    "\n",
    "unexandex_mediandelivery_prob_txlessthancontrol = (\n",
    "    1 - unexandex_mediandelivery_prob_txgreaterthancontrol\n",
    ")\n",
    "\n",
    "outcome = \"of unexcused absences in two weeks after letter (observed delivery day)\"\n",
    "direction = \"lower\"\n",
    "print(\"Count {} in treatment group \".format(outcome) + str(events_treatment))\n",
    "print(\n",
    "    \"Rate {} in treatment group \".format(outcome)\n",
    "    + str(events_treatment / (exposure_treatment))\n",
    ")\n",
    "print(\"Count {} in control group \".format(outcome) + str(events_control))\n",
    "print(\n",
    "    \"Rate {} in control group \".format(outcome)\n",
    "    + str(events_control / (exposure_control))\n",
    ")\n",
    "print(\"--------------------------------\")\n",
    "print(\n",
    "    \"A/B test single draw prob. that treatment group had {} count than control group: \".format(\n",
    "        direction\n",
    "    )\n",
    "    + str(unexandex_mediandelivery_prob_txlessthancontrol)\n",
    ")"
   ]
  },
  {
   "cell_type": "code",
   "execution_count": 20,
   "id": "b0ecb84f",
   "metadata": {
    "execution": {
     "iopub.execute_input": "2021-10-07T01:11:28.448562Z",
     "iopub.status.busy": "2021-10-07T01:11:28.447961Z",
     "iopub.status.idle": "2021-10-07T01:11:28.989442Z",
     "shell.execute_reply": "2021-10-07T01:11:28.990191Z"
    },
    "papermill": {
     "duration": 0.568059,
     "end_time": "2021-10-07T01:11:28.990459",
     "exception": false,
     "start_time": "2021-10-07T01:11:28.422400",
     "status": "completed"
    },
    "tags": []
   },
   "outputs": [],
   "source": [
    "(\n",
    "    unexandex_mediandelivery_perc,\n",
    "    unexandex_mediandelivery_alldraws,\n",
    "    unexandex_mediandelivery_posterior,\n",
    ") = abtesting.degree_of_certainty_count_draws_forwriteup(\n",
    "    control_events=events_control,\n",
    "    treatment_events=events_treatment,\n",
    "    control_exposure=exposure_control,\n",
    "    treatment_exposure=exposure_treatment,\n",
    "    num_draws=10000,\n",
    "    tx_greater=False,\n",
    ")"
   ]
  },
  {
   "cell_type": "code",
   "execution_count": 21,
   "id": "12a082fb",
   "metadata": {
    "execution": {
     "iopub.execute_input": "2021-10-07T01:11:29.043894Z",
     "iopub.status.busy": "2021-10-07T01:11:29.043246Z",
     "iopub.status.idle": "2021-10-07T01:11:31.843840Z",
     "shell.execute_reply": "2021-10-07T01:11:31.844279Z"
    },
    "papermill": {
     "duration": 2.832109,
     "end_time": "2021-10-07T01:11:31.844517",
     "exception": false,
     "start_time": "2021-10-07T01:11:29.012408",
     "status": "completed"
    },
    "tags": []
   },
   "outputs": [],
   "source": [
    "certainty_both_itt = create_plot_ofcertainty(\n",
    "    probs_alldraws=unexandex_mediandelivery_alldraws,\n",
    "    single_draw_value=unexandex_mediandelivery_prob_txlessthancontrol,\n",
    "    scale_y=1.5,\n",
    "    direction=\"lower\",\n",
    "    outcome=\"count of unexcused OR excused absences over two weeks\\n(assume 7 day delivery timeline)\\n\",\n",
    "    adjust_x=-0.15,\n",
    ")\n",
    "\n",
    "ggsave(\n",
    "    certainty_both_itt,\n",
    "    OUTPUT_DIR / \"certainty_both_itt.pdf\",\n",
    "    width=12,\n",
    "    height=8,\n",
    ")"
   ]
  },
  {
   "cell_type": "markdown",
   "id": "70ee0b77",
   "metadata": {
    "papermill": {
     "duration": 0.022698,
     "end_time": "2021-10-07T01:11:31.888727",
     "exception": false,
     "start_time": "2021-10-07T01:11:31.866029",
     "status": "completed"
    },
    "tags": []
   },
   "source": [
    "## 3.4 unexcused and excused in two-week period: observed delivery"
   ]
  },
  {
   "cell_type": "code",
   "execution_count": 22,
   "id": "4d3cf297",
   "metadata": {
    "execution": {
     "iopub.execute_input": "2021-10-07T01:11:31.942538Z",
     "iopub.status.busy": "2021-10-07T01:11:31.941809Z",
     "iopub.status.idle": "2021-10-07T01:11:31.945425Z",
     "shell.execute_reply": "2021-10-07T01:11:31.945880Z"
    },
    "papermill": {
     "duration": 0.034678,
     "end_time": "2021-10-07T01:11:31.946128",
     "exception": false,
     "start_time": "2021-10-07T01:11:31.911450",
     "status": "completed"
    },
    "tags": []
   },
   "outputs": [
    {
     "name": "stdout",
     "output_type": "stream",
     "text": [
      "Count of unexcused absences in two weeks after letter (observed delivery day) in treatment group 522.0\n",
      "Exposure of unexcused absences in two weeks after letter (observed delivery day) in treatment group 5011.0\n",
      "Rate of unexcused absences in two weeks after letter (observed delivery day) in treatment group 0.10417082418678907\n",
      "Count of unexcused absences in two weeks after letter (observed delivery day) in control group 524.0\n",
      "Exposure of unexcused absences in two weeks after letter (observed delivery day) in control group 5093.0\n",
      "Rate of unexcused absences in two weeks after letter (observed delivery day) in control group 0.1028863145493815\n",
      "--------------------------------\n",
      "A/B test single draw prob. that treatment group had lower count than control group: 0.4085241066284664\n"
     ]
    }
   ],
   "source": [
    "outcome_varname = \"diff_excusedorunexcused_observeddelivery\"\n",
    "exposure_varname = \"diff_schooldays_observeddelivery\"\n",
    "events_treatment = np.sum(treat_data[outcome_varname])\n",
    "exposure_treatment = np.sum(treat_data[exposure_varname])\n",
    "events_control = np.sum(control_data[outcome_varname])\n",
    "exposure_control = np.sum(control_data[exposure_varname])\n",
    "\n",
    "\n",
    "## single draw test\n",
    "unexandex_obsdelivery_prob_txgreaterthancontrol = abtesting.degree_of_certainty_counts(\n",
    "    events_control=events_control,\n",
    "    exposure_control=exposure_control,\n",
    "    events_tx=events_treatment,\n",
    "    exposure_tx=exposure_treatment,\n",
    ")\n",
    "\n",
    "unexandex_obsdelivery_prob_txlessthancontrol = (\n",
    "    1 - unexandex_obsdelivery_prob_txgreaterthancontrol\n",
    ")\n",
    "\n",
    "outcome = \"of unexcused absences in two weeks after letter (observed delivery day)\"\n",
    "direction = \"lower\"\n",
    "print(\"Count {} in treatment group \".format(outcome) + str(events_treatment))\n",
    "print(\"Exposure {} in treatment group \".format(outcome) + str(exposure_treatment))\n",
    "print(\n",
    "    \"Rate {} in treatment group \".format(outcome)\n",
    "    + str(events_treatment / (exposure_treatment))\n",
    ")\n",
    "print(\"Count {} in control group \".format(outcome) + str(events_control))\n",
    "print(\"Exposure {} in control group \".format(outcome) + str(exposure_control))\n",
    "print(\n",
    "    \"Rate {} in control group \".format(outcome)\n",
    "    + str(events_control / (exposure_control))\n",
    ")\n",
    "print(\"--------------------------------\")\n",
    "print(\n",
    "    \"A/B test single draw prob. that treatment group had {} count than control group: \".format(\n",
    "        direction\n",
    "    )\n",
    "    + str(unexandex_obsdelivery_prob_txlessthancontrol)\n",
    ")"
   ]
  },
  {
   "cell_type": "code",
   "execution_count": 23,
   "id": "6c6e875f",
   "metadata": {
    "execution": {
     "iopub.execute_input": "2021-10-07T01:11:31.995699Z",
     "iopub.status.busy": "2021-10-07T01:11:31.994985Z",
     "iopub.status.idle": "2021-10-07T01:11:32.560620Z",
     "shell.execute_reply": "2021-10-07T01:11:32.561185Z"
    },
    "papermill": {
     "duration": 0.593396,
     "end_time": "2021-10-07T01:11:32.561415",
     "exception": false,
     "start_time": "2021-10-07T01:11:31.968019",
     "status": "completed"
    },
    "tags": []
   },
   "outputs": [],
   "source": [
    "(\n",
    "    unexandex_obsdelivery_perc,\n",
    "    unexandex_obsdelivery_alldraws,\n",
    "    unexandex_obsdelivery_posterior,\n",
    ") = abtesting.degree_of_certainty_count_draws_forwriteup(\n",
    "    control_events=events_control,\n",
    "    treatment_events=events_treatment,\n",
    "    control_exposure=exposure_control,\n",
    "    treatment_exposure=exposure_treatment,\n",
    "    num_draws=10000,\n",
    "    tx_greater=False,\n",
    ")"
   ]
  },
  {
   "cell_type": "code",
   "execution_count": 24,
   "id": "83186e89",
   "metadata": {
    "execution": {
     "iopub.execute_input": "2021-10-07T01:11:32.634832Z",
     "iopub.status.busy": "2021-10-07T01:11:32.633765Z",
     "iopub.status.idle": "2021-10-07T01:11:35.387649Z",
     "shell.execute_reply": "2021-10-07T01:11:35.388019Z"
    },
    "papermill": {
     "duration": 2.806036,
     "end_time": "2021-10-07T01:11:35.388182",
     "exception": false,
     "start_time": "2021-10-07T01:11:32.582146",
     "status": "completed"
    },
    "tags": []
   },
   "outputs": [],
   "source": [
    "certainty_both_obs = create_plot_ofcertainty(\n",
    "    probs_alldraws=unexandex_mediandelivery_alldraws,\n",
    "    single_draw_value=unexandex_mediandelivery_prob_txlessthancontrol,\n",
    "    scale_y=1.5,\n",
    "    direction=\"lower\",\n",
    "    outcome=\"count of unexcused OR excused absences over two weeks\\n(using observed delivery date)\\n\",\n",
    "    adjust_x=-0.15,\n",
    ")\n",
    "\n",
    "ggsave(\n",
    "    certainty_both_obs,\n",
    "    OUTPUT_DIR / \"certainty_both_obs.pdf\",\n",
    "    width=12,\n",
    "    height=8,\n",
    ")"
   ]
  },
  {
   "cell_type": "markdown",
   "id": "bd69a402",
   "metadata": {
    "papermill": {
     "duration": 0.024277,
     "end_time": "2021-10-07T01:11:35.436194",
     "exception": false,
     "start_time": "2021-10-07T01:11:35.411917",
     "status": "completed"
    },
    "tags": []
   },
   "source": [
    "# 4. Engagement in 14 days (rerunning here to standardize)"
   ]
  },
  {
   "cell_type": "code",
   "execution_count": 25,
   "id": "29a101b6",
   "metadata": {
    "execution": {
     "iopub.execute_input": "2021-10-07T01:11:35.488025Z",
     "iopub.status.busy": "2021-10-07T01:11:35.487452Z",
     "iopub.status.idle": "2021-10-07T01:11:35.526348Z",
     "shell.execute_reply": "2021-10-07T01:11:35.526927Z"
    },
    "papermill": {
     "duration": 0.066824,
     "end_time": "2021-10-07T01:11:35.527110",
     "exception": false,
     "start_time": "2021-10-07T01:11:35.460286",
     "status": "completed"
    },
    "tags": []
   },
   "outputs": [],
   "source": [
    "%%capture\n",
    "\n",
    "engage_df = pd.read_csv(DATA_DIR / \"engage_forAB.csv\")\n",
    "engage_df[\"engaged_binary\"] = np.where(engage_df.engaged_14days == False, 0, 1)\n",
    "treat_data = engage_df.loc[engage_df.is_treatment == True].copy()\n",
    "control_data = engage_df.loc[engage_df.is_treatment == False].copy()\n",
    "outcome_varname = \"engaged_binary\"\n",
    "engage_df.head()"
   ]
  },
  {
   "cell_type": "code",
   "execution_count": 26,
   "id": "c374f1f3",
   "metadata": {
    "execution": {
     "iopub.execute_input": "2021-10-07T01:11:35.583503Z",
     "iopub.status.busy": "2021-10-07T01:11:35.582682Z",
     "iopub.status.idle": "2021-10-07T01:11:35.585181Z",
     "shell.execute_reply": "2021-10-07T01:11:35.585614Z"
    },
    "papermill": {
     "duration": 0.035425,
     "end_time": "2021-10-07T01:11:35.585793",
     "exception": false,
     "start_time": "2021-10-07T01:11:35.550368",
     "status": "completed"
    },
    "tags": []
   },
   "outputs": [
    {
     "name": "stdout",
     "output_type": "stream",
     "text": [
      "Count engaged in treatment group 38\n",
      "Percent engaged in treatment group 5.855161787365177\n",
      "Count engaged in control group 48\n",
      "Percent engaged in control group 7.68\n",
      "--------------------------------\n",
      "A/B test single draw prob. that treatment group had LOWER rate than control group: 0.09801971018619943\n"
     ]
    }
   ],
   "source": [
    "successes_treatment = len(\n",
    "    treat_data.student_id[treat_data[outcome_varname] == 1].unique()\n",
    ")\n",
    "failures_treatment = len(\n",
    "    treat_data.student_id[treat_data[outcome_varname] == 0].unique()\n",
    ")\n",
    "successes_control = len(\n",
    "    control_data.student_id[control_data[outcome_varname] == 1].unique()\n",
    ")\n",
    "failures_control = len(\n",
    "    control_data.student_id[control_data[outcome_varname] == 0].unique()\n",
    ")\n",
    "\n",
    "engaged_prob_txgreaterthancontrol = abtesting.degree_of_certainty(\n",
    "    successes_control, failures_control, successes_treatment, failures_treatment\n",
    ")\n",
    "engaged_prob_txlessthancontrol = 1 - truancy_prob_txgreaterthancontrol\n",
    "\n",
    "outcome = \"engaged\"\n",
    "direction = \"LOWER\"\n",
    "print(\"Count {} in treatment group \".format(outcome) + str(successes_treatment))\n",
    "print(\n",
    "    \"Percent {} in treatment group \".format(outcome)\n",
    "    + str(successes_treatment / (successes_treatment + failures_treatment) * 100)\n",
    ")\n",
    "print(\"Count {} in control group \".format(outcome) + str(successes_control))\n",
    "print(\n",
    "    \"Percent {} in control group \".format(outcome)\n",
    "    + str(successes_control / (successes_control + failures_control) * 100)\n",
    ")\n",
    "print(\"--------------------------------\")\n",
    "print(\n",
    "    \"A/B test single draw prob. that treatment group had {} rate than control group: \".format(\n",
    "        direction\n",
    "    )\n",
    "    + str(engaged_prob_txgreaterthancontrol)\n",
    ")"
   ]
  },
  {
   "cell_type": "code",
   "execution_count": 27,
   "id": "a0ceed09",
   "metadata": {
    "execution": {
     "iopub.execute_input": "2021-10-07T01:11:35.639265Z",
     "iopub.status.busy": "2021-10-07T01:11:35.638701Z",
     "iopub.status.idle": "2021-10-07T01:11:39.025943Z",
     "shell.execute_reply": "2021-10-07T01:11:39.026350Z"
    },
    "papermill": {
     "duration": 3.415728,
     "end_time": "2021-10-07T01:11:39.026523",
     "exception": false,
     "start_time": "2021-10-07T01:11:35.610795",
     "status": "completed"
    },
    "tags": []
   },
   "outputs": [],
   "source": [
    "## many draw version\n",
    "num_treatment = successes_treatment + failures_treatment\n",
    "num_control = successes_control + failures_control\n",
    "base_rate = successes_control / num_control\n",
    "treatment_rate = successes_treatment / num_treatment\n",
    "\n",
    "(\n",
    "    engaged_prob_txlessthancontrol_perc,\n",
    "    engaged_prob_txlessthancontrol_alldraws,\n",
    "    engaged_posterior,\n",
    ") = abtesting.degree_of_certainty_draws_forwriteup(\n",
    "    base_rate=base_rate,\n",
    "    treatment_rate=treatment_rate,\n",
    "    successes_control=successes_control,\n",
    "    successes_treatment=successes_treatment,\n",
    "    failures_control=failures_control,\n",
    "    failures_treatment=failures_treatment,\n",
    "    num_control=num_control,\n",
    "    num_treatment=num_treatment,\n",
    "    num_draws=10000,\n",
    "    tx_greater=False,\n",
    ")\n",
    "\n",
    "certainty_engaged = create_plot_ofcertainty(\n",
    "    probs_alldraws=engaged_prob_txlessthancontrol_alldraws,\n",
    "    single_draw_value=engaged_prob_txlessthancontrol,\n",
    "    scale_y=1.5,\n",
    "    direction=\"lower\",\n",
    "    outcome=\"engagement rate\",\n",
    "    adjust_x=-0.15,\n",
    ")\n",
    "\n",
    "certainty_engaged\n",
    "\n",
    "ggsave(\n",
    "    certainty_engaged,\n",
    "    OUTPUT_DIR / \"certainty_engaged.pdf\",\n",
    "    width=12,\n",
    "    height=8,\n",
    ")"
   ]
  },
  {
   "cell_type": "markdown",
   "id": "8aa382ec",
   "metadata": {
    "papermill": {
     "duration": 0.02467,
     "end_time": "2021-10-07T01:11:39.075796",
     "exception": false,
     "start_time": "2021-10-07T01:11:39.051126",
     "status": "completed"
    },
    "tags": []
   },
   "source": [
    "# 4. Export posteriors to plot in R"
   ]
  },
  {
   "cell_type": "code",
   "execution_count": 28,
   "id": "048e64e7",
   "metadata": {
    "execution": {
     "iopub.execute_input": "2021-10-07T01:11:39.125407Z",
     "iopub.status.busy": "2021-10-07T01:11:39.124683Z",
     "iopub.status.idle": "2021-10-07T01:11:39.126712Z",
     "shell.execute_reply": "2021-10-07T01:11:39.127099Z"
    },
    "papermill": {
     "duration": 0.028527,
     "end_time": "2021-10-07T01:11:39.127266",
     "exception": false,
     "start_time": "2021-10-07T01:11:39.098739",
     "status": "completed"
    },
    "tags": []
   },
   "outputs": [],
   "source": [
    "## create df with all posteriors\n",
    "posterior_arrays = [\n",
    "    truancy_posterior,\n",
    "    ca_posterior,\n",
    "    unex_obsdelivery_posterior,\n",
    "    unex_mediandelivery_posterior,\n",
    "    unexandex_obsdelivery_posterior,\n",
    "    unexandex_mediandelivery_posterior,\n",
    "    engaged_posterior,\n",
    "]"
   ]
  },
  {
   "cell_type": "code",
   "execution_count": 29,
   "id": "3514c4d7",
   "metadata": {
    "execution": {
     "iopub.execute_input": "2021-10-07T01:11:39.181009Z",
     "iopub.status.busy": "2021-10-07T01:11:39.180293Z",
     "iopub.status.idle": "2021-10-07T01:11:39.189215Z",
     "shell.execute_reply": "2021-10-07T01:11:39.189656Z"
    },
    "papermill": {
     "duration": 0.037808,
     "end_time": "2021-10-07T01:11:39.189892",
     "exception": false,
     "start_time": "2021-10-07T01:11:39.152084",
     "status": "completed"
    },
    "tags": []
   },
   "outputs": [
    {
     "data": {
      "text/html": [
       "<div>\n",
       "<style scoped>\n",
       "    .dataframe tbody tr th:only-of-type {\n",
       "        vertical-align: middle;\n",
       "    }\n",
       "\n",
       "    .dataframe tbody tr th {\n",
       "        vertical-align: top;\n",
       "    }\n",
       "\n",
       "    .dataframe thead th {\n",
       "        text-align: right;\n",
       "    }\n",
       "</style>\n",
       "<table border=\"1\" class=\"dataframe\">\n",
       "  <thead>\n",
       "    <tr style=\"text-align: right;\">\n",
       "      <th></th>\n",
       "      <th>truancy</th>\n",
       "      <th>ca</th>\n",
       "      <th>unex_obs</th>\n",
       "      <th>unex_median</th>\n",
       "      <th>unexandex_obs</th>\n",
       "      <th>unexandex_median</th>\n",
       "      <th>engagement</th>\n",
       "    </tr>\n",
       "  </thead>\n",
       "  <tbody>\n",
       "    <tr>\n",
       "      <th>0</th>\n",
       "      <td>-0.195448</td>\n",
       "      <td>-0.134666</td>\n",
       "      <td>-0.435855</td>\n",
       "      <td>-0.413925</td>\n",
       "      <td>-0.318055</td>\n",
       "      <td>-0.431035</td>\n",
       "      <td>-0.109575</td>\n",
       "    </tr>\n",
       "    <tr>\n",
       "      <th>1</th>\n",
       "      <td>-0.181748</td>\n",
       "      <td>-0.133224</td>\n",
       "      <td>-0.423348</td>\n",
       "      <td>-0.413063</td>\n",
       "      <td>-0.302915</td>\n",
       "      <td>-0.383864</td>\n",
       "      <td>-0.097568</td>\n",
       "    </tr>\n",
       "    <tr>\n",
       "      <th>2</th>\n",
       "      <td>-0.180047</td>\n",
       "      <td>-0.125408</td>\n",
       "      <td>-0.401599</td>\n",
       "      <td>-0.394315</td>\n",
       "      <td>-0.299215</td>\n",
       "      <td>-0.365054</td>\n",
       "      <td>-0.095430</td>\n",
       "    </tr>\n",
       "    <tr>\n",
       "      <th>3</th>\n",
       "      <td>-0.177654</td>\n",
       "      <td>-0.125007</td>\n",
       "      <td>-0.398299</td>\n",
       "      <td>-0.392198</td>\n",
       "      <td>-0.261834</td>\n",
       "      <td>-0.353687</td>\n",
       "      <td>-0.089629</td>\n",
       "    </tr>\n",
       "    <tr>\n",
       "      <th>4</th>\n",
       "      <td>-0.168538</td>\n",
       "      <td>-0.122768</td>\n",
       "      <td>-0.398067</td>\n",
       "      <td>-0.391808</td>\n",
       "      <td>-0.257685</td>\n",
       "      <td>-0.342976</td>\n",
       "      <td>-0.088669</td>\n",
       "    </tr>\n",
       "  </tbody>\n",
       "</table>\n",
       "</div>"
      ],
      "text/plain": [
       "    truancy        ca  unex_obs  unex_median  unexandex_obs  unexandex_median  \\\n",
       "0 -0.195448 -0.134666 -0.435855    -0.413925      -0.318055         -0.431035   \n",
       "1 -0.181748 -0.133224 -0.423348    -0.413063      -0.302915         -0.383864   \n",
       "2 -0.180047 -0.125408 -0.401599    -0.394315      -0.299215         -0.365054   \n",
       "3 -0.177654 -0.125007 -0.398299    -0.392198      -0.261834         -0.353687   \n",
       "4 -0.168538 -0.122768 -0.398067    -0.391808      -0.257685         -0.342976   \n",
       "\n",
       "   engagement  \n",
       "0   -0.109575  \n",
       "1   -0.097568  \n",
       "2   -0.095430  \n",
       "3   -0.089629  \n",
       "4   -0.088669  "
      ]
     },
     "execution_count": 29,
     "metadata": {},
     "output_type": "execute_result"
    }
   ],
   "source": [
    "posterior_array_df_list = [pd.DataFrame(x) for x in posterior_arrays]\n",
    "posterior_array_df = pd.concat(posterior_array_df_list, axis=1)\n",
    "posterior_array_df.columns = [\n",
    "    \"truancy\",\n",
    "    \"ca\",\n",
    "    \"unex_obs\",\n",
    "    \"unex_median\",\n",
    "    \"unexandex_obs\",\n",
    "    \"unexandex_median\",\n",
    "    \"engagement\",\n",
    "]\n",
    "posterior_array_df.head()"
   ]
  },
  {
   "cell_type": "code",
   "execution_count": 30,
   "id": "3942279a",
   "metadata": {
    "execution": {
     "iopub.execute_input": "2021-10-07T01:11:39.241668Z",
     "iopub.status.busy": "2021-10-07T01:11:39.241020Z",
     "iopub.status.idle": "2021-10-07T01:11:39.341129Z",
     "shell.execute_reply": "2021-10-07T01:11:39.341591Z"
    },
    "papermill": {
     "duration": 0.126498,
     "end_time": "2021-10-07T01:11:39.341850",
     "exception": false,
     "start_time": "2021-10-07T01:11:39.215352",
     "status": "completed"
    },
    "tags": []
   },
   "outputs": [],
   "source": [
    "posterior_array_df.to_csv(\n",
    "    DATA_DIR / \"attendanceandengageoutcomes_posteriors_toplot.csv\", index=False\n",
    ")"
   ]
  },
  {
   "cell_type": "code",
   "execution_count": null,
   "id": "31bd58ff",
   "metadata": {
    "papermill": {
     "duration": 0.025246,
     "end_time": "2021-10-07T01:11:39.390855",
     "exception": false,
     "start_time": "2021-10-07T01:11:39.365609",
     "status": "completed"
    },
    "tags": []
   },
   "outputs": [],
   "source": []
  }
 ],
 "metadata": {
  "kernelspec": {
   "display_name": "Python 3 (ipykernel)",
   "language": "python",
   "name": "python3"
  },
  "language_info": {
   "codemirror_mode": {
    "name": "ipython",
    "version": 3
   },
   "file_extension": ".py",
   "mimetype": "text/x-python",
   "name": "python",
   "nbconvert_exporter": "python",
   "pygments_lexer": "ipython3",
   "version": "3.8.6"
  },
  "papermill": {
   "default_parameters": {},
   "duration": 27.320138,
   "end_time": "2021-10-07T01:11:39.834855",
   "environment_variables": {},
   "exception": null,
   "input_path": "src/notebooks/300_analysis/080_attendance_ABtests.ipynb",
   "output_path": "output/300_analysis/080_attendance_ABtests.ipynb",
   "parameters": {},
   "start_time": "2021-10-07T01:11:12.514717",
   "version": "2.3.3"
  }
 },
 "nbformat": 4,
 "nbformat_minor": 5
}