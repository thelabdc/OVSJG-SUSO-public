{
 "cells": [
  {
   "cell_type": "code",
   "execution_count": 1,
   "id": "c16a74dc",
   "metadata": {
    "execution": {
     "iopub.execute_input": "2021-10-07T00:56:42.429960Z",
     "iopub.status.busy": "2021-10-07T00:56:42.429216Z",
     "iopub.status.idle": "2021-10-07T00:56:42.828924Z",
     "shell.execute_reply": "2021-10-07T00:56:42.829458Z"
    },
    "papermill": {
     "duration": 0.419675,
     "end_time": "2021-10-07T00:56:42.829723",
     "exception": false,
     "start_time": "2021-10-07T00:56:42.410048",
     "status": "completed"
    },
    "tags": []
   },
   "outputs": [],
   "source": [
    "from pathlib import Path\n",
    "from typing import List, Optional, Union\n",
    "\n",
    "import pandas as pd\n",
    "\n",
    "from suso.utils import here"
   ]
  },
  {
   "cell_type": "code",
   "execution_count": 2,
   "id": "877daab7",
   "metadata": {
    "execution": {
     "iopub.execute_input": "2021-10-07T00:56:42.853991Z",
     "iopub.status.busy": "2021-10-07T00:56:42.853185Z",
     "iopub.status.idle": "2021-10-07T00:56:42.855356Z",
     "shell.execute_reply": "2021-10-07T00:56:42.855895Z"
    },
    "papermill": {
     "duration": 0.018941,
     "end_time": "2021-10-07T00:56:42.856091",
     "exception": false,
     "start_time": "2021-10-07T00:56:42.837150",
     "status": "completed"
    },
    "tags": []
   },
   "outputs": [],
   "source": [
    "DATA_DIR = here(\"data\")"
   ]
  },
  {
   "cell_type": "code",
   "execution_count": 3,
   "id": "ac88db7e",
   "metadata": {
    "execution": {
     "iopub.execute_input": "2021-10-07T00:56:42.874493Z",
     "iopub.status.busy": "2021-10-07T00:56:42.873798Z",
     "iopub.status.idle": "2021-10-07T00:56:42.876455Z",
     "shell.execute_reply": "2021-10-07T00:56:42.875893Z"
    },
    "papermill": {
     "duration": 0.014266,
     "end_time": "2021-10-07T00:56:42.876621",
     "exception": false,
     "start_time": "2021-10-07T00:56:42.862355",
     "status": "completed"
    },
    "tags": []
   },
   "outputs": [],
   "source": [
    "lookup_df = pd.read_pickle(DATA_DIR / \"suso_osse_lookup.pkl\")"
   ]
  },
  {
   "cell_type": "code",
   "execution_count": 4,
   "id": "c0cbdd37",
   "metadata": {
    "execution": {
     "iopub.execute_input": "2021-10-07T00:56:42.904329Z",
     "iopub.status.busy": "2021-10-07T00:56:42.903475Z",
     "iopub.status.idle": "2021-10-07T00:56:42.905926Z",
     "shell.execute_reply": "2021-10-07T00:56:42.905484Z"
    },
    "papermill": {
     "duration": 0.023386,
     "end_time": "2021-10-07T00:56:42.906091",
     "exception": false,
     "start_time": "2021-10-07T00:56:42.882705",
     "status": "completed"
    },
    "tags": []
   },
   "outputs": [],
   "source": [
    "def attendance_outcomes(\n",
    "    path: Union[List[Path], Path],\n",
    "    unexcused_names: List[str],\n",
    "    excused_names: List[str],\n",
    "    present_names: Optional[List[str]] = None,\n",
    "    non_school_day_names: Optional[List[str]] = None,\n",
    ") -> pd.DataFrame:\n",
    "\n",
    "    if isinstance(path, Path):\n",
    "        df = pd.read_parquet(\n",
    "            path,\n",
    "            columns=[\n",
    "                \"usi\",\n",
    "                \"AttendanceDate\",\n",
    "                \"StudentLocalID\",\n",
    "                \"Attendance_Status_Desc\",\n",
    "                \"Weekday_Name\",\n",
    "                \"Enr_SchoolName\",\n",
    "            ],\n",
    "        )\n",
    "    else:\n",
    "        df = pd.concat(\n",
    "            [\n",
    "                pd.read_parquet(\n",
    "                    pth,\n",
    "                    columns=[\n",
    "                        \"usi\",\n",
    "                        \"AttendanceDate\",\n",
    "                        \"StudentLocalID\",\n",
    "                        \"Attendance_Status_Desc\",\n",
    "                        \"Weekday_Name\",\n",
    "                        \"Enr_SchoolName\",\n",
    "                    ],\n",
    "                )\n",
    "                for pth in path\n",
    "            ]\n",
    "        )\n",
    "\n",
    "    print(\"The attendance status codes:\")\n",
    "    print(df[\"Attendance_Status_Desc\"].value_counts(dropna=False))\n",
    "\n",
    "    df[\"is_unexcused\"] = df[\"Attendance_Status_Desc\"].isin(unexcused_names)\n",
    "    df[\"is_excusedorunexcused\"] = df[\"Attendance_Status_Desc\"].isin(\n",
    "        unexcused_names + excused_names\n",
    "    )\n",
    "    if present_names:\n",
    "        df[\"is_schooldays\"] = df[\"Attendance_Status_Desc\"].isin(\n",
    "            unexcused_names + excused_names + present_names\n",
    "        )\n",
    "    else:\n",
    "        df[\"is_schooldays\"] = ~df[\"Attendance_Status_Desc\"].isin(non_school_day_names)\n",
    "\n",
    "    df = df.sort_values(by=[\"usi\", \"AttendanceDate\"])\n",
    "\n",
    "    cum_df = df.groupby(\"usi\")[\n",
    "        [\"is_unexcused\", \"is_excusedorunexcused\", \"is_schooldays\"]\n",
    "    ].cumsum()\n",
    "    cum_df.rename(\n",
    "        columns={col: f\"total_{col[3:]}\" for col in cum_df.columns}, inplace=True\n",
    "    )\n",
    "\n",
    "    df = pd.concat([df, cum_df], axis=1)\n",
    "\n",
    "    df[\"truant_indicator\"] = (df[\"total_unexcused\"] >= 10).astype(int)\n",
    "    df[\"chronicabsent_ratio\"] = df[\"total_excusedorunexcused\"] / df[\"total_schooldays\"]\n",
    "    df[\"chronicabsent_indicator\"] = (df[\"chronicabsent_ratio\"] >= 0.1).astype(int)\n",
    "\n",
    "    df = df.drop_duplicates()\n",
    "\n",
    "    df = df[df[\"usi\"].isin(lookup_df[\"usi\"])].copy()\n",
    "\n",
    "    return df"
   ]
  },
  {
   "cell_type": "code",
   "execution_count": 5,
   "id": "8342feb5",
   "metadata": {
    "execution": {
     "iopub.execute_input": "2021-10-07T00:56:42.924931Z",
     "iopub.status.busy": "2021-10-07T00:56:42.924018Z",
     "iopub.status.idle": "2021-10-07T00:57:06.179372Z",
     "shell.execute_reply": "2021-10-07T00:57:06.180390Z"
    },
    "papermill": {
     "duration": 23.267449,
     "end_time": "2021-10-07T00:57:06.180816",
     "exception": false,
     "start_time": "2021-10-07T00:56:42.913367",
     "status": "completed"
    },
    "tags": []
   },
   "outputs": [
    {
     "name": "stdout",
     "output_type": "stream",
     "text": [
      "The attendance status codes:\n",
      "Present Full                 6581135\n",
      "Non-School Day               4810100\n",
      "Absent Fully Unexcused        372919\n",
      "Absent Excused Suspension     231405\n",
      "Name: Attendance_Status_Desc, dtype: int64"
     ]
    },
    {
     "name": "stdout",
     "output_type": "stream",
     "text": [
      "\n"
     ]
    }
   ],
   "source": [
    "dcps_1718 = attendance_outcomes(\n",
    "    DATA_DIR / \"SY1718_DCPS_Attendance_Data_cleaned.parquet\",\n",
    "    unexcused_names=[\"Absent Fully Unexcused\"],\n",
    "    excused_names=[\"Absent Excused Suspension\"],\n",
    "    present_names=[\"Present Full\"],\n",
    ")\n",
    "\n",
    "dcps_1718.to_parquet(DATA_DIR / \"dcps_sy1718_attendanceoutcomes_suso.parquet\")"
   ]
  },
  {
   "cell_type": "code",
   "execution_count": 6,
   "id": "78f1aa5e",
   "metadata": {
    "execution": {
     "iopub.execute_input": "2021-10-07T00:57:06.213873Z",
     "iopub.status.busy": "2021-10-07T00:57:06.212836Z",
     "iopub.status.idle": "2021-10-07T00:57:24.932335Z",
     "shell.execute_reply": "2021-10-07T00:57:24.932802Z"
    },
    "papermill": {
     "duration": 18.738959,
     "end_time": "2021-10-07T00:57:24.932992",
     "exception": false,
     "start_time": "2021-10-07T00:57:06.194033",
     "status": "completed"
    },
    "tags": []
   },
   "outputs": [
    {
     "name": "stdout",
     "output_type": "stream",
     "text": [
      "The attendance status codes:\n",
      "Present Full                    5280224\n",
      "Non-School Day                  4355220\n",
      "Present Partial Unexcused        443820\n",
      "Absent Fully Excused             324395\n",
      "Absent Fully Unexcused           312470\n",
      "Present Partial Excused           72559\n",
      "Not Submitted                     12258\n",
      "Absent Partial Unexcused          10009\n",
      "Absent Partial Excused             8458\n",
      "Present Partial                    1102\n",
      "Absent - Adult Ed No Session         13\n",
      "Unknown                              11\n",
      "Not Available                         1\n",
      "Name: Attendance_Status_Desc, dtype: int64\n"
     ]
    }
   ],
   "source": [
    "charter_1718 = attendance_outcomes(\n",
    "    DATA_DIR / \"SY1718_Charter_Sector_Attendance_cleaned.parquet\",\n",
    "    unexcused_names=[\"Absent Fully Unexcused\", \"Absent Partial Unexcused\"],\n",
    "    excused_names=[\"Absent Fully Excused\", \"Absent Partial Excused\"],\n",
    "    non_school_day_names=[\"Non-School Day\"],\n",
    ")\n",
    "\n",
    "charter_1718.to_parquet(DATA_DIR / \"charter_sy1718_attendanceoutcomes_suso.parquet\")"
   ]
  },
  {
   "cell_type": "code",
   "execution_count": 7,
   "id": "60bd7d6c",
   "metadata": {
    "execution": {
     "iopub.execute_input": "2021-10-07T00:57:24.960759Z",
     "iopub.status.busy": "2021-10-07T00:57:24.960062Z",
     "iopub.status.idle": "2021-10-07T00:57:47.851505Z",
     "shell.execute_reply": "2021-10-07T00:57:47.851975Z"
    },
    "papermill": {
     "duration": 22.906808,
     "end_time": "2021-10-07T00:57:47.852233",
     "exception": false,
     "start_time": "2021-10-07T00:57:24.945425",
     "status": "completed"
    },
    "tags": []
   },
   "outputs": [
    {
     "name": "stdout",
     "output_type": "stream",
     "text": [
      "The attendance status codes:\n",
      "Present Full              6709148\n",
      "Non-School Day            4774355\n",
      "Absent Fully Unexcused     399373\n",
      "Absent Fully Excused       244320\n",
      "Name: Attendance_Status_Desc, dtype: int64\n"
     ]
    }
   ],
   "source": [
    "dcps_1617 = attendance_outcomes(\n",
    "    DATA_DIR / \"redacted_SY1617_DCPS_Sector_Attendance.parquet\",\n",
    "    unexcused_names=[\"Absent Fully Unexcused\"],\n",
    "    excused_names=[\"Absent Excused Suspension\", \"Absent Fully Excused\"],\n",
    "    non_school_day_names=[\"Non-School Day\"],\n",
    ")\n",
    "\n",
    "dcps_1617.to_parquet(DATA_DIR / \"dcps_sy1617_attendanceoutcomes_suso.parquet\")"
   ]
  },
  {
   "cell_type": "code",
   "execution_count": 8,
   "id": "cf677188",
   "metadata": {
    "execution": {
     "iopub.execute_input": "2021-10-07T00:57:47.873411Z",
     "iopub.status.busy": "2021-10-07T00:57:47.872621Z",
     "iopub.status.idle": "2021-10-07T00:58:05.829375Z",
     "shell.execute_reply": "2021-10-07T00:58:05.829901Z"
    },
    "papermill": {
     "duration": 17.970244,
     "end_time": "2021-10-07T00:58:05.830087",
     "exception": false,
     "start_time": "2021-10-07T00:57:47.859843",
     "status": "completed"
    },
    "tags": []
   },
   "outputs": [
    {
     "name": "stdout",
     "output_type": "stream",
     "text": [
      "The attendance status codes:\n",
      "Present Full                         5177923\n",
      "Non-School Day                       4098827\n",
      "Present Partial Unexcused             409734\n",
      "Absent Fully Excused                  282251\n",
      "Absent Fully Unexcused                279474\n",
      "Present Partial Excused                73261\n",
      "Not Submitted                          15371\n",
      "Absent Partial Unexcused               10332\n",
      "Absent - Out of School Suspension       8354\n",
      "Absent Partial Excused                  7899\n",
      "Present - In School Suspension          1448\n",
      "Absent - Adult Ed No Session             510\n",
      "Absent Excused Suspension                  5\n",
      "Not Available                              3\n",
      "Name: Attendance_Status_Desc, dtype: int64\n"
     ]
    }
   ],
   "source": [
    "charter_1617 = attendance_outcomes(\n",
    "    DATA_DIR / \"redacted_SY1617_Charter_Sector_Attendance.parquet\",\n",
    "    unexcused_names=[\"Absent Fully Unexcused\", \"Absent Partial Unexcused\"],\n",
    "    excused_names=[\n",
    "        \"Absent Fully Excused\",\n",
    "        \"Absent Partial Excused\",\n",
    "        \"Absent - Out of School Suspension\",\n",
    "    ],\n",
    "    non_school_day_names=[\"Non-School Day\"],\n",
    ")\n",
    "charter_1617.to_parquet(DATA_DIR / \"charter_sy1617_attendanceoutcomes_suso.parquet\")"
   ]
  },
  {
   "cell_type": "code",
   "execution_count": 9,
   "id": "dc51b0aa",
   "metadata": {
    "execution": {
     "iopub.execute_input": "2021-10-07T00:58:05.851473Z",
     "iopub.status.busy": "2021-10-07T00:58:05.850644Z",
     "iopub.status.idle": "2021-10-07T00:58:53.108070Z",
     "shell.execute_reply": "2021-10-07T00:58:53.107501Z"
    },
    "papermill": {
     "duration": 47.270302,
     "end_time": "2021-10-07T00:58:53.108260",
     "exception": false,
     "start_time": "2021-10-07T00:58:05.837958",
     "status": "completed"
    },
    "tags": []
   },
   "outputs": [
    {
     "name": "stdout",
     "output_type": "stream",
     "text": [
      "The attendance status codes:\n",
      "Present Full                    11861359\n",
      "Non-School Day                   9165320\n",
      "Absent Fully Unexcused            685389\n",
      "Present Partial Unexcused         443820\n",
      "Absent Fully Excused              324395\n",
      "Absent Excused Suspension         231405\n",
      "Present Partial Excused            72559\n",
      "Not Submitted                      12258\n",
      "Absent Partial Unexcused           10009\n",
      "Absent Partial Excused              8458\n",
      "Present Partial                     1102\n",
      "Absent - Adult Ed No Session          13\n",
      "Unknown                               11\n",
      "Not Available                          1\n",
      "Name: Attendance_Status_Desc, dtype: int64\n"
     ]
    }
   ],
   "source": [
    "attendance_both_clean = attendance_outcomes(\n",
    "    [\n",
    "        DATA_DIR / \"SY1718_DCPS_Attendance_Data_cleaned.parquet\",\n",
    "        DATA_DIR / \"SY1718_Charter_Sector_Attendance_cleaned.parquet\",\n",
    "    ],\n",
    "    unexcused_names=[\"Absent Fully Unexcused\", \"Absent Partial Unexcused\"],\n",
    "    excused_names=[\n",
    "        \"Absent Excused Suspension\",\n",
    "        \"Absent Partial Excused\",\n",
    "        \"Absent Fully Excused\",\n",
    "    ],\n",
    "    non_school_day_names=[\"Non-School Day\"],\n",
    ")\n",
    "attendance_both_clean.to_parquet(DATA_DIR / \"attendance_both_clean.parquet\")"
   ]
  },
  {
   "cell_type": "code",
   "execution_count": null,
   "id": "36354b43",
   "metadata": {
    "papermill": {
     "duration": 0.009929,
     "end_time": "2021-10-07T00:58:53.127954",
     "exception": false,
     "start_time": "2021-10-07T00:58:53.118025",
     "status": "completed"
    },
    "tags": []
   },
   "outputs": [],
   "source": []
  }
 ],
 "metadata": {
  "kernelspec": {
   "display_name": "Python 3 (ipykernel)",
   "language": "python",
   "name": "python3"
  },
  "language_info": {
   "codemirror_mode": {
    "name": "ipython",
    "version": 3
   },
   "file_extension": ".py",
   "mimetype": "text/x-python",
   "name": "python",
   "nbconvert_exporter": "python",
   "pygments_lexer": "ipython3",
   "version": "3.8.6"
  },
  "papermill": {
   "default_parameters": {},
   "duration": 133.54585,
   "end_time": "2021-10-07T00:58:53.976099",
   "environment_variables": {},
   "exception": null,
   "input_path": "src/notebooks/100_pull_and_clean_data/030_attendance_cleaning.ipynb",
   "output_path": "output/100_pull_and_clean_data/030_attendance_cleaning.ipynb",
   "parameters": {},
   "start_time": "2021-10-07T00:56:40.430249",
   "version": "2.3.3"
  }
 },
 "nbformat": 4,
 "nbformat_minor": 5
}