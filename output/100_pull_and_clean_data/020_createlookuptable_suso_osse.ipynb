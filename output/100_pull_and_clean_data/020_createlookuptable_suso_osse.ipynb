{
 "cells": [
  {
   "cell_type": "markdown",
   "id": "96b408cd",
   "metadata": {
    "papermill": {
     "duration": 0.059089,
     "end_time": "2021-10-07T00:56:07.880629",
     "exception": false,
     "start_time": "2021-10-07T00:56:07.821540",
     "status": "completed"
    },
    "tags": []
   },
   "source": [
    "# Create lookup table between SUSO and OSSE\n",
    "\n",
    "Takes in: \n",
    "\n",
    "- Data on SUSO participants\n",
    "- OSSE student attributes to use for matching\n",
    "\n",
    "What it does: exact and fuzzy matching on the basis of name, DOB, and school attended\n",
    "\n",
    "Outputs: lookup table to get usi's (OSSE identifiers) for students in SUSO sample"
   ]
  },
  {
   "cell_type": "code",
   "execution_count": 1,
   "id": "391d4224",
   "metadata": {
    "execution": {
     "iopub.execute_input": "2021-10-07T00:56:07.994534Z",
     "iopub.status.busy": "2021-10-07T00:56:07.993381Z",
     "iopub.status.idle": "2021-10-07T00:56:14.674825Z",
     "shell.execute_reply": "2021-10-07T00:56:14.675322Z"
    },
    "papermill": {
     "duration": 6.723863,
     "end_time": "2021-10-07T00:56:14.675628",
     "exception": false,
     "start_time": "2021-10-07T00:56:07.951765",
     "status": "completed"
    },
    "tags": []
   },
   "outputs": [],
   "source": [
    "import re\n",
    "from pathlib import Path\n",
    "\n",
    "import numpy as np\n",
    "import pandas as pd\n",
    "import recordlinkage\n",
    "from IPython.core.interactiveshell import InteractiveShell\n",
    "\n",
    "from suso.utils import PICKLE_PROTOCOL, here\n",
    "\n",
    "InteractiveShell.ast_node_interactivity = \"all\""
   ]
  },
  {
   "cell_type": "code",
   "execution_count": 2,
   "id": "9796c499",
   "metadata": {
    "execution": {
     "iopub.execute_input": "2021-10-07T00:56:14.744406Z",
     "iopub.status.busy": "2021-10-07T00:56:14.743503Z",
     "iopub.status.idle": "2021-10-07T00:56:14.746696Z",
     "shell.execute_reply": "2021-10-07T00:56:14.747738Z"
    },
    "papermill": {
     "duration": 0.037001,
     "end_time": "2021-10-07T00:56:14.748098",
     "exception": false,
     "start_time": "2021-10-07T00:56:14.711097",
     "status": "completed"
    },
    "tags": []
   },
   "outputs": [],
   "source": [
    "DATA_DIR = here(\"data\")"
   ]
  },
  {
   "cell_type": "markdown",
   "id": "fb04c41e",
   "metadata": {
    "papermill": {
     "duration": 0.03319,
     "end_time": "2021-10-07T00:56:14.809993",
     "exception": false,
     "start_time": "2021-10-07T00:56:14.776803",
     "status": "completed"
    },
    "tags": []
   },
   "source": [
    "# 1: Load data\n",
    "\n"
   ]
  },
  {
   "cell_type": "markdown",
   "id": "e4ef43aa",
   "metadata": {
    "papermill": {
     "duration": 0.034396,
     "end_time": "2021-10-07T00:56:14.869199",
     "exception": false,
     "start_time": "2021-10-07T00:56:14.834803",
     "status": "completed"
    },
    "tags": []
   },
   "source": [
    "## 1.1 Load SUSO outreach data"
   ]
  },
  {
   "cell_type": "code",
   "execution_count": 3,
   "id": "ba1e27b1",
   "metadata": {
    "execution": {
     "iopub.execute_input": "2021-10-07T00:56:14.930513Z",
     "iopub.status.busy": "2021-10-07T00:56:14.929963Z",
     "iopub.status.idle": "2021-10-07T00:56:14.959338Z",
     "shell.execute_reply": "2021-10-07T00:56:14.960022Z"
    },
    "papermill": {
     "duration": 0.058343,
     "end_time": "2021-10-07T00:56:14.960217",
     "exception": false,
     "start_time": "2021-10-07T00:56:14.901874",
     "status": "completed"
    },
    "tags": []
   },
   "outputs": [],
   "source": [
    "df = pd.read_csv(DATA_DIR / \"data_for_analysis.csv\")\n",
    "bounced = pd.read_csv(DATA_DIR / \"returned_letters.csv\")\n",
    "bounced = bounced.drop_duplicates(\"CLID\", keep=\"first\")"
   ]
  },
  {
   "cell_type": "code",
   "execution_count": 4,
   "id": "3a9eca21",
   "metadata": {
    "execution": {
     "iopub.execute_input": "2021-10-07T00:56:15.026742Z",
     "iopub.status.busy": "2021-10-07T00:56:15.026067Z",
     "iopub.status.idle": "2021-10-07T00:56:15.130541Z",
     "shell.execute_reply": "2021-10-07T00:56:15.130058Z"
    },
    "papermill": {
     "duration": 0.143891,
     "end_time": "2021-10-07T00:56:15.130755",
     "exception": false,
     "start_time": "2021-10-07T00:56:14.986864",
     "status": "completed"
    },
    "tags": []
   },
   "outputs": [],
   "source": [
    "suso = pd.read_csv(DATA_DIR / \"suso_participants.csv\")\n",
    "suso[\"in_suso\"] = True"
   ]
  },
  {
   "cell_type": "code",
   "execution_count": 5,
   "id": "b9cae419",
   "metadata": {
    "execution": {
     "iopub.execute_input": "2021-10-07T00:56:15.207686Z",
     "iopub.status.busy": "2021-10-07T00:56:15.206167Z",
     "iopub.status.idle": "2021-10-07T00:56:15.274659Z",
     "shell.execute_reply": "2021-10-07T00:56:15.275112Z"
    },
    "papermill": {
     "duration": 0.1093,
     "end_time": "2021-10-07T00:56:15.275299",
     "exception": false,
     "start_time": "2021-10-07T00:56:15.165999",
     "status": "completed"
    },
    "tags": []
   },
   "outputs": [],
   "source": [
    "df_suso = df.merge(\n",
    "    suso[[\"CLID\", \"DateEngaged\", \"DateNotEngaged\", \"in_suso\", \"DateOfBirthNew\"]],\n",
    "    how=\"left\",\n",
    "    on=\"CLID\",\n",
    ")\n",
    "\n",
    "df_suso.to_csv(DATA_DIR / \"df_suso_merged.csv\")"
   ]
  },
  {
   "cell_type": "markdown",
   "id": "a06cbf2d",
   "metadata": {
    "papermill": {
     "duration": 0.026043,
     "end_time": "2021-10-07T00:56:15.334236",
     "exception": false,
     "start_time": "2021-10-07T00:56:15.308193",
     "status": "completed"
    },
    "tags": []
   },
   "source": [
    "## 1.3 Load credentials and pull student identifiers from OSSE database"
   ]
  },
  {
   "cell_type": "code",
   "execution_count": 6,
   "id": "5cea9bca",
   "metadata": {
    "execution": {
     "iopub.execute_input": "2021-10-07T00:56:15.406169Z",
     "iopub.status.busy": "2021-10-07T00:56:15.405352Z",
     "iopub.status.idle": "2021-10-07T00:56:15.407327Z",
     "shell.execute_reply": "2021-10-07T00:56:15.407787Z"
    },
    "papermill": {
     "duration": 0.040659,
     "end_time": "2021-10-07T00:56:15.408000",
     "exception": false,
     "start_time": "2021-10-07T00:56:15.367341",
     "status": "completed"
    },
    "tags": []
   },
   "outputs": [],
   "source": [
    "def read_attendance_data(path: Path) -> pd.DataFrame:\n",
    "    return (\n",
    "        pd.read_parquet(\n",
    "            path,\n",
    "            columns=[\n",
    "                \"usi\",\n",
    "                \"firstname\",\n",
    "                \"lastname\",\n",
    "                \"StudentLocalID\",\n",
    "                \"dateofbirth\",\n",
    "                \"GradeLevel\",\n",
    "                \"gender\",\n",
    "                \"race\",\n",
    "                \"Enr_SchoolID\",\n",
    "                \"Enr_SchoolName\",\n",
    "                \"AttendanceDate\",\n",
    "            ],\n",
    "        )\n",
    "        .sort_values(by=[\"usi\", \"AttendanceDate\"])\n",
    "        .drop_duplicates(\"usi\", keep=\"first\")\n",
    "        .drop(columns=\"AttendanceDate\")\n",
    "    )"
   ]
  },
  {
   "cell_type": "code",
   "execution_count": 7,
   "id": "1070ee00",
   "metadata": {
    "execution": {
     "iopub.execute_input": "2021-10-07T00:56:15.474924Z",
     "iopub.status.busy": "2021-10-07T00:56:15.474186Z",
     "iopub.status.idle": "2021-10-07T00:56:24.672291Z",
     "shell.execute_reply": "2021-10-07T00:56:24.672809Z"
    },
    "papermill": {
     "duration": 9.238695,
     "end_time": "2021-10-07T00:56:24.673112",
     "exception": false,
     "start_time": "2021-10-07T00:56:15.434417",
     "status": "completed"
    },
    "tags": []
   },
   "outputs": [],
   "source": [
    "entities_public = read_attendance_data(\n",
    "    DATA_DIR / \"SY1718_DCPS_Attendance_Data_cleaned.parquet\"\n",
    ")\n",
    "entities_public.to_pickle(DATA_DIR / \"entities_public.pkl\", protocol=PICKLE_PROTOCOL)"
   ]
  },
  {
   "cell_type": "code",
   "execution_count": 8,
   "id": "bf211ce5",
   "metadata": {
    "execution": {
     "iopub.execute_input": "2021-10-07T00:56:24.750551Z",
     "iopub.status.busy": "2021-10-07T00:56:24.749489Z",
     "iopub.status.idle": "2021-10-07T00:56:33.472303Z",
     "shell.execute_reply": "2021-10-07T00:56:33.471744Z"
    },
    "papermill": {
     "duration": 8.760429,
     "end_time": "2021-10-07T00:56:33.472486",
     "exception": false,
     "start_time": "2021-10-07T00:56:24.712057",
     "status": "completed"
    },
    "tags": []
   },
   "outputs": [],
   "source": [
    "entities_charter = read_attendance_data(\n",
    "    DATA_DIR / \"SY1718_Charter_Sector_Attendance_cleaned.parquet\"\n",
    ")\n",
    "entities_charter.to_pickle(DATA_DIR / \"entities_charter.pkl\", protocol=PICKLE_PROTOCOL)"
   ]
  },
  {
   "cell_type": "code",
   "execution_count": 9,
   "id": "694d744a",
   "metadata": {
    "execution": {
     "iopub.execute_input": "2021-10-07T00:56:33.542040Z",
     "iopub.status.busy": "2021-10-07T00:56:33.539221Z",
     "iopub.status.idle": "2021-10-07T00:56:33.617555Z",
     "shell.execute_reply": "2021-10-07T00:56:33.618065Z"
    },
    "papermill": {
     "duration": 0.1116,
     "end_time": "2021-10-07T00:56:33.618382",
     "exception": false,
     "start_time": "2021-10-07T00:56:33.506782",
     "status": "completed"
    },
    "tags": []
   },
   "outputs": [],
   "source": [
    "## merge charter and public school into one df\n",
    "entities = pd.concat([entities_public, entities_charter])\n",
    "entities.to_pickle(DATA_DIR / \"entities_charterpublic.pkl\", protocol=PICKLE_PROTOCOL)"
   ]
  },
  {
   "cell_type": "code",
   "execution_count": 10,
   "id": "6dcf8a42",
   "metadata": {
    "execution": {
     "iopub.execute_input": "2021-10-07T00:56:33.686730Z",
     "iopub.status.busy": "2021-10-07T00:56:33.685515Z",
     "iopub.status.idle": "2021-10-07T00:56:33.692370Z",
     "shell.execute_reply": "2021-10-07T00:56:33.693113Z"
    },
    "papermill": {
     "duration": 0.039131,
     "end_time": "2021-10-07T00:56:33.693429",
     "exception": false,
     "start_time": "2021-10-07T00:56:33.654298",
     "status": "completed"
    },
    "tags": []
   },
   "outputs": [
    {
     "name": "stdout",
     "output_type": "stream",
     "text": [
      "Total number of rows is: 82781\n",
      "Number of unique student identifiers is: 81701\n"
     ]
    }
   ],
   "source": [
    "## dx\n",
    "print(\"Total number of rows is: \" + str(entities.shape[0]))\n",
    "print(\"Number of unique student identifiers is: \" + str(len(entities.usi.unique())))"
   ]
  },
  {
   "cell_type": "markdown",
   "id": "3334a09c",
   "metadata": {
    "papermill": {
     "duration": 0.031645,
     "end_time": "2021-10-07T00:56:33.754532",
     "exception": false,
     "start_time": "2021-10-07T00:56:33.722887",
     "status": "completed"
    },
    "tags": []
   },
   "source": [
    "# 2: identify exact matches using name and DOB"
   ]
  },
  {
   "cell_type": "code",
   "execution_count": 11,
   "id": "8c0161f9",
   "metadata": {
    "execution": {
     "iopub.execute_input": "2021-10-07T00:56:33.816301Z",
     "iopub.status.busy": "2021-10-07T00:56:33.815605Z",
     "iopub.status.idle": "2021-10-07T00:56:33.817682Z",
     "shell.execute_reply": "2021-10-07T00:56:33.818207Z"
    },
    "papermill": {
     "duration": 0.039879,
     "end_time": "2021-10-07T00:56:33.818394",
     "exception": false,
     "start_time": "2021-10-07T00:56:33.778515",
     "status": "completed"
    },
    "tags": []
   },
   "outputs": [],
   "source": [
    "osse_matchcols = [\n",
    "    \"firstname\",\n",
    "    \"lastname\",\n",
    "    \"dateofbirth\",\n",
    "    \"GradeLevel\",\n",
    "    \"Enr_SchoolName\",\n",
    "]\n",
    "suso_matchcols = [\n",
    "    \"FName\",\n",
    "    \"FamilyNames\",\n",
    "    \"LName\",\n",
    "    \"guardian_firstname\",\n",
    "    \"guardian_lastname\",\n",
    "    \"school_name\",\n",
    "    \"DateOfBirthNew\",\n",
    "    \"grade\",\n",
    "]"
   ]
  },
  {
   "cell_type": "code",
   "execution_count": 12,
   "id": "87926e0f",
   "metadata": {
    "execution": {
     "iopub.execute_input": "2021-10-07T00:56:33.884249Z",
     "iopub.status.busy": "2021-10-07T00:56:33.883501Z",
     "iopub.status.idle": "2021-10-07T00:56:33.907875Z",
     "shell.execute_reply": "2021-10-07T00:56:33.908440Z"
    },
    "papermill": {
     "duration": 0.056139,
     "end_time": "2021-10-07T00:56:33.908634",
     "exception": false,
     "start_time": "2021-10-07T00:56:33.852495",
     "status": "completed"
    },
    "tags": []
   },
   "outputs": [],
   "source": [
    "%%capture\n",
    "\n",
    "df_suso[suso_matchcols].head()"
   ]
  },
  {
   "cell_type": "code",
   "execution_count": 13,
   "id": "d797989b",
   "metadata": {
    "execution": {
     "iopub.execute_input": "2021-10-07T00:56:33.976680Z",
     "iopub.status.busy": "2021-10-07T00:56:33.976016Z",
     "iopub.status.idle": "2021-10-07T00:56:34.008073Z",
     "shell.execute_reply": "2021-10-07T00:56:34.008666Z"
    },
    "papermill": {
     "duration": 0.071963,
     "end_time": "2021-10-07T00:56:34.008868",
     "exception": false,
     "start_time": "2021-10-07T00:56:33.936905",
     "status": "completed"
    },
    "tags": []
   },
   "outputs": [],
   "source": [
    "%%capture\n",
    "\n",
    "entities[osse_matchcols].head()"
   ]
  },
  {
   "cell_type": "markdown",
   "id": "8e193b9b",
   "metadata": {
    "papermill": {
     "duration": 0.032425,
     "end_time": "2021-10-07T00:56:34.071690",
     "exception": false,
     "start_time": "2021-10-07T00:56:34.039265",
     "status": "completed"
    },
    "tags": []
   },
   "source": [
    "##  2.1: convert names and birth date to same format in each dataset"
   ]
  },
  {
   "cell_type": "code",
   "execution_count": 14,
   "id": "c31492e1",
   "metadata": {
    "execution": {
     "iopub.execute_input": "2021-10-07T00:56:34.142216Z",
     "iopub.status.busy": "2021-10-07T00:56:34.141042Z",
     "iopub.status.idle": "2021-10-07T00:56:34.143560Z",
     "shell.execute_reply": "2021-10-07T00:56:34.144319Z"
    },
    "papermill": {
     "duration": 0.041276,
     "end_time": "2021-10-07T00:56:34.144655",
     "exception": false,
     "start_time": "2021-10-07T00:56:34.103379",
     "status": "completed"
    },
    "tags": []
   },
   "outputs": [],
   "source": [
    "## capitalize names in suso and remove whitespace\n",
    "df_suso[\"studentfirstname_suso\"] = df_suso.FName.str.upper().str.strip()\n",
    "df_suso[\"studentlastname_suso\"] = df_suso.LName.str.upper().str.strip()"
   ]
  },
  {
   "cell_type": "code",
   "execution_count": 15,
   "id": "7068760b",
   "metadata": {
    "execution": {
     "iopub.execute_input": "2021-10-07T00:56:34.256194Z",
     "iopub.status.busy": "2021-10-07T00:56:34.219191Z",
     "iopub.status.idle": "2021-10-07T00:56:34.257920Z",
     "shell.execute_reply": "2021-10-07T00:56:34.258355Z"
    },
    "papermill": {
     "duration": 0.085879,
     "end_time": "2021-10-07T00:56:34.258523",
     "exception": false,
     "start_time": "2021-10-07T00:56:34.172644",
     "status": "completed"
    },
    "tags": []
   },
   "outputs": [],
   "source": [
    "## remove whitespace from osse names\n",
    "entities[\"studentfirstname_osse\"] = entities.firstname.str.strip()\n",
    "entities[\"studentlastname_osse\"] = entities.lastname.str.strip()"
   ]
  },
  {
   "cell_type": "code",
   "execution_count": 16,
   "id": "c6f8ebcb",
   "metadata": {
    "execution": {
     "iopub.execute_input": "2021-10-07T00:56:34.402948Z",
     "iopub.status.busy": "2021-10-07T00:56:34.365734Z",
     "iopub.status.idle": "2021-10-07T00:56:34.417282Z",
     "shell.execute_reply": "2021-10-07T00:56:34.416871Z"
    },
    "papermill": {
     "duration": 0.135375,
     "end_time": "2021-10-07T00:56:34.417429",
     "exception": false,
     "start_time": "2021-10-07T00:56:34.282054",
     "status": "completed"
    },
    "tags": []
   },
   "outputs": [],
   "source": [
    "## dob as datetime in each\n",
    "df_suso[\"dob_suso\"] = pd.to_datetime(df_suso.DateOfBirthNew)\n",
    "entities[\"dob_osse\"] = pd.to_datetime(entities.dateofbirth)"
   ]
  },
  {
   "cell_type": "code",
   "execution_count": 17,
   "id": "bb494dcd",
   "metadata": {
    "execution": {
     "iopub.execute_input": "2021-10-07T00:56:34.497280Z",
     "iopub.status.busy": "2021-10-07T00:56:34.496230Z",
     "iopub.status.idle": "2021-10-07T00:56:34.498660Z",
     "shell.execute_reply": "2021-10-07T00:56:34.499579Z"
    },
    "papermill": {
     "duration": 0.054038,
     "end_time": "2021-10-07T00:56:34.499991",
     "exception": false,
     "start_time": "2021-10-07T00:56:34.445953",
     "status": "completed"
    },
    "tags": []
   },
   "outputs": [],
   "source": [
    "## create single identifier\n",
    "df_suso[\"name_dob\"] = (\n",
    "    df_suso.studentfirstname_suso\n",
    "    + \"_\"\n",
    "    + df_suso.studentlastname_suso\n",
    "    + \"_\"\n",
    "    + df_suso.dob_suso.astype(str)\n",
    ")"
   ]
  },
  {
   "cell_type": "code",
   "execution_count": 18,
   "id": "313f6cd0",
   "metadata": {
    "execution": {
     "iopub.execute_input": "2021-10-07T00:56:34.569436Z",
     "iopub.status.busy": "2021-10-07T00:56:34.568619Z",
     "iopub.status.idle": "2021-10-07T00:56:35.239041Z",
     "shell.execute_reply": "2021-10-07T00:56:35.239872Z"
    },
    "papermill": {
     "duration": 0.712181,
     "end_time": "2021-10-07T00:56:35.240288",
     "exception": false,
     "start_time": "2021-10-07T00:56:34.528107",
     "status": "completed"
    },
    "tags": []
   },
   "outputs": [],
   "source": [
    "entities[\"name_dob\"] = (\n",
    "    entities.studentfirstname_osse\n",
    "    + \"_\"\n",
    "    + entities.studentlastname_osse\n",
    "    + \"_\"\n",
    "    + entities.dob_osse.astype(str)\n",
    ")"
   ]
  },
  {
   "cell_type": "markdown",
   "id": "e9dc839e",
   "metadata": {
    "papermill": {
     "duration": 0.033801,
     "end_time": "2021-10-07T00:56:35.305759",
     "exception": false,
     "start_time": "2021-10-07T00:56:35.271958",
     "status": "completed"
    },
    "tags": []
   },
   "source": [
    "##  2.2: look for exact matches"
   ]
  },
  {
   "cell_type": "code",
   "execution_count": 19,
   "id": "8f39838f",
   "metadata": {
    "execution": {
     "iopub.execute_input": "2021-10-07T00:56:35.389677Z",
     "iopub.status.busy": "2021-10-07T00:56:35.388349Z",
     "iopub.status.idle": "2021-10-07T00:56:35.391066Z",
     "shell.execute_reply": "2021-10-07T00:56:35.391801Z"
    },
    "papermill": {
     "duration": 0.058575,
     "end_time": "2021-10-07T00:56:35.392131",
     "exception": false,
     "start_time": "2021-10-07T00:56:35.333556",
     "status": "completed"
    },
    "tags": []
   },
   "outputs": [],
   "source": [
    "unique_suso_namedob = set(df_suso.name_dob)\n",
    "unique_osse_namedob = set(entities.name_dob)"
   ]
  },
  {
   "cell_type": "code",
   "execution_count": 20,
   "id": "3317c6b7",
   "metadata": {
    "execution": {
     "iopub.execute_input": "2021-10-07T00:56:35.459661Z",
     "iopub.status.busy": "2021-10-07T00:56:35.458965Z",
     "iopub.status.idle": "2021-10-07T00:56:35.460541Z",
     "shell.execute_reply": "2021-10-07T00:56:35.461094Z"
    },
    "papermill": {
     "duration": 0.037409,
     "end_time": "2021-10-07T00:56:35.461249",
     "exception": false,
     "start_time": "2021-10-07T00:56:35.423840",
     "status": "completed"
    },
    "tags": []
   },
   "outputs": [],
   "source": [
    "exact_match = unique_suso_namedob.intersection(unique_osse_namedob)"
   ]
  },
  {
   "cell_type": "code",
   "execution_count": 21,
   "id": "1a8b155f",
   "metadata": {
    "execution": {
     "iopub.execute_input": "2021-10-07T00:56:35.521804Z",
     "iopub.status.busy": "2021-10-07T00:56:35.521079Z",
     "iopub.status.idle": "2021-10-07T00:56:35.523663Z",
     "shell.execute_reply": "2021-10-07T00:56:35.524126Z"
    },
    "papermill": {
     "duration": 0.038843,
     "end_time": "2021-10-07T00:56:35.524302",
     "exception": false,
     "start_time": "2021-10-07T00:56:35.485459",
     "status": "completed"
    },
    "tags": []
   },
   "outputs": [
    {
     "name": "stdout",
     "output_type": "stream",
     "text": [
      "Able to merge 1161 students with exact name and DOB match\n",
      "This represents 81.39999999999999 percent of the SUSO sample\n"
     ]
    }
   ],
   "source": [
    "## Update\n",
    "print(\n",
    "    \"Able to merge \" + str(len(exact_match)) + \" students with exact name and DOB match\"\n",
    ")\n",
    "print(\n",
    "    \"This represents \"\n",
    "    + str(round(len(exact_match) / len(unique_suso_namedob), 3) * 100)\n",
    "    + \" percent of the SUSO sample\"\n",
    ")"
   ]
  },
  {
   "cell_type": "markdown",
   "id": "d23e4857",
   "metadata": {
    "papermill": {
     "duration": 0.023347,
     "end_time": "2021-10-07T00:56:35.578635",
     "exception": false,
     "start_time": "2021-10-07T00:56:35.555288",
     "status": "completed"
    },
    "tags": []
   },
   "source": [
    "##  2.3: construct lookup table with those exact matches and then subset to unmatched students"
   ]
  },
  {
   "cell_type": "code",
   "execution_count": 22,
   "id": "edc24d2d",
   "metadata": {
    "execution": {
     "iopub.execute_input": "2021-10-07T00:56:35.647703Z",
     "iopub.status.busy": "2021-10-07T00:56:35.646392Z",
     "iopub.status.idle": "2021-10-07T00:56:35.719600Z",
     "shell.execute_reply": "2021-10-07T00:56:35.720164Z"
    },
    "papermill": {
     "duration": 0.110448,
     "end_time": "2021-10-07T00:56:35.720369",
     "exception": false,
     "start_time": "2021-10-07T00:56:35.609921",
     "status": "completed"
    },
    "tags": []
   },
   "outputs": [],
   "source": [
    "%%capture\n",
    "\n",
    "matched_suso = df_suso.copy()\n",
    "matched_suso[\"suso_id\"] = matched_suso.student_id\n",
    "matched_suso_tomerge = matched_suso[[\"suso_id\", \"name_dob\"]]\n",
    "matched_suso_tomerge.head()\n",
    "suso_lookup_exactmatch = pd.merge(\n",
    "    matched_suso_tomerge,\n",
    "    entities[[\"usi\", \"name_dob\"]].drop_duplicates(),\n",
    "    on=\"name_dob\",\n",
    "    how=\"inner\",\n",
    ")"
   ]
  },
  {
   "cell_type": "code",
   "execution_count": 23,
   "id": "f7076495",
   "metadata": {
    "execution": {
     "iopub.execute_input": "2021-10-07T00:56:35.792789Z",
     "iopub.status.busy": "2021-10-07T00:56:35.791711Z",
     "iopub.status.idle": "2021-10-07T00:56:35.832865Z",
     "shell.execute_reply": "2021-10-07T00:56:35.833370Z"
    },
    "papermill": {
     "duration": 0.076651,
     "end_time": "2021-10-07T00:56:35.833619",
     "exception": false,
     "start_time": "2021-10-07T00:56:35.756968",
     "status": "completed"
    },
    "tags": []
   },
   "outputs": [],
   "source": [
    "## subset to students with no exact match\n",
    "suso_noexactmatch = (\n",
    "    matched_suso.loc[~matched_suso.suso_id.isin(suso_lookup_exactmatch.suso_id)]\n",
    "    .copy()\n",
    "    .reset_index()\n",
    ")\n",
    "\n",
    "\n",
    "osse_noexactmatch = (\n",
    "    entities.loc[~entities.usi.isin(suso_lookup_exactmatch.usi)].copy().reset_index()\n",
    ")"
   ]
  },
  {
   "cell_type": "markdown",
   "id": "8364ad51",
   "metadata": {
    "papermill": {
     "duration": 0.036746,
     "end_time": "2021-10-07T00:56:35.908392",
     "exception": false,
     "start_time": "2021-10-07T00:56:35.871646",
     "status": "completed"
    },
    "tags": []
   },
   "source": [
    "##  2.4: use fuzzy string matching to try to match next round"
   ]
  },
  {
   "cell_type": "markdown",
   "id": "bc4647e9",
   "metadata": {
    "papermill": {
     "duration": 0.032507,
     "end_time": "2021-10-07T00:56:35.966967",
     "exception": false,
     "start_time": "2021-10-07T00:56:35.934460",
     "status": "completed"
    },
    "tags": []
   },
   "source": [
    "### Convert school names to similar format to have another fuzzy matching variable"
   ]
  },
  {
   "cell_type": "code",
   "execution_count": 24,
   "id": "83810ba6",
   "metadata": {
    "execution": {
     "iopub.execute_input": "2021-10-07T00:56:36.035148Z",
     "iopub.status.busy": "2021-10-07T00:56:36.034189Z",
     "iopub.status.idle": "2021-10-07T00:56:36.036923Z",
     "shell.execute_reply": "2021-10-07T00:56:36.037615Z"
    },
    "papermill": {
     "duration": 0.035725,
     "end_time": "2021-10-07T00:56:36.037895",
     "exception": false,
     "start_time": "2021-10-07T00:56:36.002170",
     "status": "completed"
    },
    "tags": []
   },
   "outputs": [],
   "source": [
    "## source: https://stackoverflow.com/questions/6116978/how-to-replace-multiple-substrings-of-a-string\n",
    "def multiple_replace(string, rep_dict):\n",
    "    pattern = re.compile(\n",
    "        \"|\".join([re.escape(k) for k in sorted(rep_dict, key=len, reverse=True)]),\n",
    "        flags=re.DOTALL,\n",
    "    )\n",
    "    return pattern.sub(lambda x: rep_dict[x.group(0)], string)"
   ]
  },
  {
   "cell_type": "code",
   "execution_count": 25,
   "id": "a68a32f4",
   "metadata": {
    "execution": {
     "iopub.execute_input": "2021-10-07T00:56:36.107190Z",
     "iopub.status.busy": "2021-10-07T00:56:36.106535Z",
     "iopub.status.idle": "2021-10-07T00:56:36.108286Z",
     "shell.execute_reply": "2021-10-07T00:56:36.108744Z"
    },
    "papermill": {
     "duration": 0.038798,
     "end_time": "2021-10-07T00:56:36.108913",
     "exception": false,
     "start_time": "2021-10-07T00:56:36.070115",
     "status": "completed"
    },
    "tags": []
   },
   "outputs": [],
   "source": [
    "school_replace_dict = {\n",
    "    \"Elementary School\": \"ES\",\n",
    "    \"Education Campus\": \"EC\",\n",
    "    \"Middle School\": \"MS\",\n",
    "    \"High School\": \"HS\",\n",
    "}"
   ]
  },
  {
   "cell_type": "code",
   "execution_count": 26,
   "id": "b5c19fdf",
   "metadata": {
    "execution": {
     "iopub.execute_input": "2021-10-07T00:56:36.212840Z",
     "iopub.status.busy": "2021-10-07T00:56:36.172367Z",
     "iopub.status.idle": "2021-10-07T00:56:37.025899Z",
     "shell.execute_reply": "2021-10-07T00:56:37.026299Z"
    },
    "papermill": {
     "duration": 0.892464,
     "end_time": "2021-10-07T00:56:37.026468",
     "exception": false,
     "start_time": "2021-10-07T00:56:36.134004",
     "status": "completed"
    },
    "tags": []
   },
   "outputs": [],
   "source": [
    "## convert school name to similar format\n",
    "osse_noexactmatch[\"schoolname_tomerge_1\"] = osse_noexactmatch.Enr_SchoolName.astype(\n",
    "    str\n",
    ").apply(multiple_replace, rep_dict=school_replace_dict)\n",
    "osse_noexactmatch[\n",
    "    \"schoolname_tomerge_osse\"\n",
    "] = osse_noexactmatch.schoolname_tomerge_1.str.upper()"
   ]
  },
  {
   "cell_type": "code",
   "execution_count": 27,
   "id": "93e4e1b9",
   "metadata": {
    "execution": {
     "iopub.execute_input": "2021-10-07T00:56:37.093638Z",
     "iopub.status.busy": "2021-10-07T00:56:37.092547Z",
     "iopub.status.idle": "2021-10-07T00:56:37.095097Z",
     "shell.execute_reply": "2021-10-07T00:56:37.095767Z"
    },
    "papermill": {
     "duration": 0.038131,
     "end_time": "2021-10-07T00:56:37.096041",
     "exception": false,
     "start_time": "2021-10-07T00:56:37.057910",
     "status": "completed"
    },
    "tags": []
   },
   "outputs": [],
   "source": [
    "suso_noexactmatch[\"schoolname_tomerge_suso\"] = suso_noexactmatch.school_name.str.upper()"
   ]
  },
  {
   "cell_type": "markdown",
   "id": "0190dd88",
   "metadata": {
    "papermill": {
     "duration": 0.03012,
     "end_time": "2021-10-07T00:56:37.153127",
     "exception": false,
     "start_time": "2021-10-07T00:56:37.123007",
     "status": "completed"
    },
    "tags": []
   },
   "source": [
    "### Use fuzzy string matching on student and school name to match"
   ]
  },
  {
   "cell_type": "markdown",
   "id": "37339063",
   "metadata": {
    "papermill": {
     "duration": 0.032534,
     "end_time": "2021-10-07T00:56:37.212832",
     "exception": false,
     "start_time": "2021-10-07T00:56:37.180298",
     "status": "completed"
    },
    "tags": []
   },
   "source": [
    "#### Create matched pairs"
   ]
  },
  {
   "cell_type": "code",
   "execution_count": 28,
   "id": "9d636c71",
   "metadata": {
    "execution": {
     "iopub.execute_input": "2021-10-07T00:56:37.282642Z",
     "iopub.status.busy": "2021-10-07T00:56:37.281982Z",
     "iopub.status.idle": "2021-10-07T00:56:37.284315Z",
     "shell.execute_reply": "2021-10-07T00:56:37.285048Z"
    },
    "papermill": {
     "duration": 0.044449,
     "end_time": "2021-10-07T00:56:37.285370",
     "exception": false,
     "start_time": "2021-10-07T00:56:37.240921",
     "status": "completed"
    },
    "tags": []
   },
   "outputs": [],
   "source": [
    "def fm_createpairs(data_1, data_2, blocking_variable, matching_dictionary):\n",
    "\n",
    "    ## first initialize an indexer\n",
    "    indexer = recordlinkage.Index()\n",
    "    indexer.block(blocking_variable)\n",
    "\n",
    "    ## then, feed the indexer the two datasets (both must have the blocking variable)\n",
    "    candidate_links = indexer.index(data_1, data_2)\n",
    "\n",
    "    ## then, start comparison\n",
    "    c = recordlinkage.Compare()\n",
    "\n",
    "    ## iterate through variables to do matching on\n",
    "    for key, value in matching_dictionary.items():\n",
    "        c.string(value[0], value[1], method=value[2], threshold=value[3])\n",
    "\n",
    "    ## use those variables to create feature vectors\n",
    "    feature_vectors = c.compute(candidate_links, data_1, data_2)\n",
    "\n",
    "    ## now, uses unsupervised clustering algorithm to create matches\n",
    "    ## could generalize function to include other algorithms\n",
    "    ecm = recordlinkage.ECMClassifier()\n",
    "    predicted_matches_ecm = list(ecm.fit_predict(feature_vectors))\n",
    "    return predicted_matches_ecm"
   ]
  },
  {
   "cell_type": "code",
   "execution_count": 29,
   "id": "a1b3da35",
   "metadata": {
    "execution": {
     "iopub.execute_input": "2021-10-07T00:56:37.362500Z",
     "iopub.status.busy": "2021-10-07T00:56:37.361814Z",
     "iopub.status.idle": "2021-10-07T00:56:37.363841Z",
     "shell.execute_reply": "2021-10-07T00:56:37.364280Z"
    },
    "papermill": {
     "duration": 0.042319,
     "end_time": "2021-10-07T00:56:37.364458",
     "exception": false,
     "start_time": "2021-10-07T00:56:37.322139",
     "status": "completed"
    },
    "tags": []
   },
   "outputs": [],
   "source": [
    "## create common key\n",
    "suso_noexactmatch[\"dob\"] = suso_noexactmatch.dob_suso\n",
    "osse_noexactmatch[\"dob\"] = osse_noexactmatch.dob_osse"
   ]
  },
  {
   "cell_type": "code",
   "execution_count": 30,
   "id": "0b4ce530",
   "metadata": {
    "execution": {
     "iopub.execute_input": "2021-10-07T00:56:37.430881Z",
     "iopub.status.busy": "2021-10-07T00:56:37.430187Z",
     "iopub.status.idle": "2021-10-07T00:56:37.591072Z",
     "shell.execute_reply": "2021-10-07T00:56:37.591682Z"
    },
    "papermill": {
     "duration": 0.199479,
     "end_time": "2021-10-07T00:56:37.591924",
     "exception": false,
     "start_time": "2021-10-07T00:56:37.392445",
     "status": "completed"
    },
    "tags": []
   },
   "outputs": [],
   "source": [
    "## apply function\n",
    "matching_dictionary = {\n",
    "    \"first_var\": [\"studentfirstname_suso\", \"studentfirstname_osse\", \"jarowinkler\", 0.8],\n",
    "    \"second_var\": [\"studentlastname_suso\", \"studentlastname_osse\", \"jarowinkler\", 0.8],\n",
    "    \"third_var\": [\n",
    "        \"schoolname_tomerge_suso\",\n",
    "        \"schoolname_tomerge_osse\",\n",
    "        \"jarowinkler\",\n",
    "        0.8,\n",
    "    ],\n",
    "}\n",
    "matched_pairs = fm_createpairs(\n",
    "    suso_noexactmatch, osse_noexactmatch, \"dob\", matching_dictionary\n",
    ")"
   ]
  },
  {
   "cell_type": "markdown",
   "id": "e39391cc",
   "metadata": {
    "papermill": {
     "duration": 0.034979,
     "end_time": "2021-10-07T00:56:37.655355",
     "exception": false,
     "start_time": "2021-10-07T00:56:37.620376",
     "status": "completed"
    },
    "tags": []
   },
   "source": [
    "#### Retrieve matched pairs"
   ]
  },
  {
   "cell_type": "code",
   "execution_count": 31,
   "id": "1e363a69",
   "metadata": {
    "execution": {
     "iopub.execute_input": "2021-10-07T00:56:37.725019Z",
     "iopub.status.busy": "2021-10-07T00:56:37.724376Z",
     "iopub.status.idle": "2021-10-07T00:56:37.726433Z",
     "shell.execute_reply": "2021-10-07T00:56:37.726873Z"
    },
    "papermill": {
     "duration": 0.043074,
     "end_time": "2021-10-07T00:56:37.727055",
     "exception": false,
     "start_time": "2021-10-07T00:56:37.683981",
     "status": "completed"
    },
    "tags": []
   },
   "outputs": [],
   "source": [
    "suso_indices = [x[0] for x in matched_pairs]\n",
    "osse_indices = [x[1] for x in matched_pairs]"
   ]
  },
  {
   "cell_type": "code",
   "execution_count": 32,
   "id": "607b24a3",
   "metadata": {
    "execution": {
     "iopub.execute_input": "2021-10-07T00:56:37.794716Z",
     "iopub.status.busy": "2021-10-07T00:56:37.793865Z",
     "iopub.status.idle": "2021-10-07T00:56:37.795890Z",
     "shell.execute_reply": "2021-10-07T00:56:37.796478Z"
    },
    "papermill": {
     "duration": 0.035447,
     "end_time": "2021-10-07T00:56:37.796709",
     "exception": false,
     "start_time": "2021-10-07T00:56:37.761262",
     "status": "completed"
    },
    "tags": []
   },
   "outputs": [],
   "source": [
    "suso_osse_matchdf = pd.DataFrame(\n",
    "    {\"suso_indices\": suso_indices, \"osse_indices\": osse_indices}\n",
    ").sort_values(by=\"suso_indices\")"
   ]
  },
  {
   "cell_type": "code",
   "execution_count": 33,
   "id": "a6d5d304",
   "metadata": {
    "execution": {
     "iopub.execute_input": "2021-10-07T00:56:37.866936Z",
     "iopub.status.busy": "2021-10-07T00:56:37.866283Z",
     "iopub.status.idle": "2021-10-07T00:56:37.870126Z",
     "shell.execute_reply": "2021-10-07T00:56:37.870576Z"
    },
    "papermill": {
     "duration": 0.04333,
     "end_time": "2021-10-07T00:56:37.870769",
     "exception": false,
     "start_time": "2021-10-07T00:56:37.827439",
     "status": "completed"
    },
    "tags": []
   },
   "outputs": [],
   "source": [
    "suso_noexactmatch[\"suso_indices\"] = suso_noexactmatch.index\n",
    "osse_noexactmatch[\"osse_indices\"] = osse_noexactmatch.index"
   ]
  },
  {
   "cell_type": "code",
   "execution_count": 34,
   "id": "dba1a700",
   "metadata": {
    "execution": {
     "iopub.execute_input": "2021-10-07T00:56:37.934414Z",
     "iopub.status.busy": "2021-10-07T00:56:37.933786Z",
     "iopub.status.idle": "2021-10-07T00:56:37.935964Z",
     "shell.execute_reply": "2021-10-07T00:56:37.936652Z"
    },
    "papermill": {
     "duration": 0.032639,
     "end_time": "2021-10-07T00:56:37.936951",
     "exception": false,
     "start_time": "2021-10-07T00:56:37.904312",
     "status": "completed"
    },
    "tags": []
   },
   "outputs": [],
   "source": [
    "## merge cols\n",
    "suso_mergecols = [\n",
    "    \"suso_indices\",\n",
    "    \"suso_id\",\n",
    "    \"studentfirstname_suso\",\n",
    "    \"studentlastname_suso\",\n",
    "    \"schoolname_tomerge_suso\",\n",
    "    \"dob_suso\",\n",
    "    \"name_dob\",\n",
    "]\n",
    "osse_mergecols = [\n",
    "    \"osse_indices\",\n",
    "    \"usi\",\n",
    "    \"StudentLocalID\",\n",
    "    \"studentfirstname_osse\",\n",
    "    \"studentlastname_osse\",\n",
    "    \"schoolname_tomerge_osse\",\n",
    "    \"dob_osse\",\n",
    "]"
   ]
  },
  {
   "cell_type": "code",
   "execution_count": 35,
   "id": "94a65e66",
   "metadata": {
    "execution": {
     "iopub.execute_input": "2021-10-07T00:56:38.003843Z",
     "iopub.status.busy": "2021-10-07T00:56:37.999827Z",
     "iopub.status.idle": "2021-10-07T00:56:38.030419Z",
     "shell.execute_reply": "2021-10-07T00:56:38.030921Z"
    },
    "papermill": {
     "duration": 0.065784,
     "end_time": "2021-10-07T00:56:38.031123",
     "exception": false,
     "start_time": "2021-10-07T00:56:37.965339",
     "status": "completed"
    },
    "tags": []
   },
   "outputs": [],
   "source": [
    "## merge relevant records\n",
    "suso_osse_matchdf_withsusoid = suso_osse_matchdf.merge(\n",
    "    suso_noexactmatch[suso_mergecols], how=\"left\", on=\"suso_indices\"\n",
    ")\n",
    "suso_osse_matchdf_withboth = suso_osse_matchdf_withsusoid.merge(\n",
    "    osse_noexactmatch[osse_mergecols], how=\"left\", on=\"osse_indices\"\n",
    ")"
   ]
  },
  {
   "cell_type": "code",
   "execution_count": 36,
   "id": "a0a7a654",
   "metadata": {
    "execution": {
     "iopub.execute_input": "2021-10-07T00:56:38.113482Z",
     "iopub.status.busy": "2021-10-07T00:56:38.112763Z",
     "iopub.status.idle": "2021-10-07T00:56:38.115427Z",
     "shell.execute_reply": "2021-10-07T00:56:38.115864Z"
    },
    "papermill": {
     "duration": 0.045913,
     "end_time": "2021-10-07T00:56:38.116045",
     "exception": false,
     "start_time": "2021-10-07T00:56:38.070132",
     "status": "completed"
    },
    "tags": []
   },
   "outputs": [],
   "source": [
    "## for duplicate ids (multiple matches in OSSE, take first match (highestprob))\n",
    "suso_ossematchdf_withboth_dedup = suso_osse_matchdf_withboth.drop_duplicates(\n",
    "    subset=[\"suso_id\"], keep=\"first\"\n",
    ")"
   ]
  },
  {
   "cell_type": "code",
   "execution_count": 37,
   "id": "75091974",
   "metadata": {
    "execution": {
     "iopub.execute_input": "2021-10-07T00:56:38.224793Z",
     "iopub.status.busy": "2021-10-07T00:56:38.220837Z",
     "iopub.status.idle": "2021-10-07T00:56:38.228293Z",
     "shell.execute_reply": "2021-10-07T00:56:38.228760Z"
    },
    "papermill": {
     "duration": 0.052587,
     "end_time": "2021-10-07T00:56:38.228953",
     "exception": false,
     "start_time": "2021-10-07T00:56:38.176366",
     "status": "completed"
    },
    "tags": []
   },
   "outputs": [],
   "source": [
    "## write to data to manually inspect\n",
    "suso_ossematchdf_withboth_dedup.to_csv(\n",
    "    DATA_DIR / \"suso_osse_fuzzymatches.csv\", index=False\n",
    ")"
   ]
  },
  {
   "cell_type": "markdown",
   "id": "e4e767a0",
   "metadata": {
    "papermill": {
     "duration": 0.031563,
     "end_time": "2021-10-07T00:56:38.296178",
     "exception": false,
     "start_time": "2021-10-07T00:56:38.264615",
     "status": "completed"
    },
    "tags": []
   },
   "source": [
    "## 2.5 Visually inspect random sample and then subset to final vars"
   ]
  },
  {
   "cell_type": "code",
   "execution_count": 38,
   "id": "62575f88",
   "metadata": {
    "execution": {
     "iopub.execute_input": "2021-10-07T00:56:38.377729Z",
     "iopub.status.busy": "2021-10-07T00:56:38.377093Z",
     "iopub.status.idle": "2021-10-07T00:56:38.379164Z",
     "shell.execute_reply": "2021-10-07T00:56:38.379706Z"
    },
    "papermill": {
     "duration": 0.054086,
     "end_time": "2021-10-07T00:56:38.379889",
     "exception": false,
     "start_time": "2021-10-07T00:56:38.325803",
     "status": "completed"
    },
    "tags": []
   },
   "outputs": [],
   "source": [
    "%%capture\n",
    "\n",
    "suso_ossematchdf_withboth_dedup.sample(frac=0.1)"
   ]
  },
  {
   "cell_type": "code",
   "execution_count": 39,
   "id": "2df85b68",
   "metadata": {
    "execution": {
     "iopub.execute_input": "2021-10-07T00:56:38.457512Z",
     "iopub.status.busy": "2021-10-07T00:56:38.456837Z",
     "iopub.status.idle": "2021-10-07T00:56:38.458530Z",
     "shell.execute_reply": "2021-10-07T00:56:38.458922Z"
    },
    "papermill": {
     "duration": 0.043042,
     "end_time": "2021-10-07T00:56:38.459108",
     "exception": false,
     "start_time": "2021-10-07T00:56:38.416066",
     "status": "completed"
    },
    "tags": []
   },
   "outputs": [],
   "source": [
    "%%capture\n",
    "\n",
    "suso_lookup_fuzzymatch = suso_ossematchdf_withboth_dedup[[\"suso_id\", \"name_dob\", \"usi\"]]\n",
    "\n",
    "suso_lookup_fuzzymatch.head()\n",
    "print(\n",
    "    \"Able to merge \"\n",
    "    + str(suso_lookup_fuzzymatch.shape[0])\n",
    "    + \" additional students with exact DOB and fuzzy name/school name match\"\n",
    ")"
   ]
  },
  {
   "cell_type": "markdown",
   "id": "4a507604",
   "metadata": {
    "papermill": {
     "duration": 0.036067,
     "end_time": "2021-10-07T00:56:38.521719",
     "exception": false,
     "start_time": "2021-10-07T00:56:38.485652",
     "status": "completed"
    },
    "tags": []
   },
   "source": [
    "## 2.6  Merge lookup table with pairs from first round"
   ]
  },
  {
   "cell_type": "code",
   "execution_count": 40,
   "id": "64b6eb21",
   "metadata": {
    "execution": {
     "iopub.execute_input": "2021-10-07T00:56:38.588728Z",
     "iopub.status.busy": "2021-10-07T00:56:38.587448Z",
     "iopub.status.idle": "2021-10-07T00:56:38.591591Z",
     "shell.execute_reply": "2021-10-07T00:56:38.592191Z"
    },
    "papermill": {
     "duration": 0.03614,
     "end_time": "2021-10-07T00:56:38.592512",
     "exception": false,
     "start_time": "2021-10-07T00:56:38.556372",
     "status": "completed"
    },
    "tags": []
   },
   "outputs": [
    {
     "name": "stderr",
     "output_type": "stream",
     "text": [
      "/var/folders/_8/wxdcgmrd7b931622mzvpxn6c0000gq/T/ipykernel_96224/4207313620.py:4: SettingWithCopyWarning: \n",
      "A value is trying to be set on a copy of a slice from a DataFrame.\n",
      "Try using .loc[row_indexer,col_indexer] = value instead\n",
      "\n",
      "See the caveats in the documentation: https://pandas.pydata.org/pandas-docs/stable/user_guide/indexing.html#returning-a-view-versus-a-copy\n",
      "  suso_lookup_fuzzymatch[\"type_of_match\"] = \"fuzzy\"\n"
     ]
    }
   ],
   "source": [
    "## before merging, add indicator for whether it was an exact or\n",
    "## fuzzy match\n",
    "suso_lookup_exactmatch[\"type_of_match\"] = \"exact\"\n",
    "suso_lookup_fuzzymatch[\"type_of_match\"] = \"fuzzy\""
   ]
  },
  {
   "cell_type": "code",
   "execution_count": 41,
   "id": "9168092e",
   "metadata": {
    "execution": {
     "iopub.execute_input": "2021-10-07T00:56:38.667033Z",
     "iopub.status.busy": "2021-10-07T00:56:38.666411Z",
     "iopub.status.idle": "2021-10-07T00:56:38.668378Z",
     "shell.execute_reply": "2021-10-07T00:56:38.668825Z"
    },
    "papermill": {
     "duration": 0.043615,
     "end_time": "2021-10-07T00:56:38.669028",
     "exception": false,
     "start_time": "2021-10-07T00:56:38.625413",
     "status": "completed"
    },
    "tags": []
   },
   "outputs": [],
   "source": [
    "suso_exactandfuzzy = pd.concat([suso_lookup_exactmatch, suso_lookup_fuzzymatch])"
   ]
  },
  {
   "cell_type": "code",
   "execution_count": 42,
   "id": "3f190fa5",
   "metadata": {
    "execution": {
     "iopub.execute_input": "2021-10-07T00:56:38.738734Z",
     "iopub.status.busy": "2021-10-07T00:56:38.737446Z",
     "iopub.status.idle": "2021-10-07T00:56:38.744747Z",
     "shell.execute_reply": "2021-10-07T00:56:38.745521Z"
    },
    "papermill": {
     "duration": 0.039872,
     "end_time": "2021-10-07T00:56:38.745979",
     "exception": false,
     "start_time": "2021-10-07T00:56:38.706107",
     "status": "completed"
    },
    "tags": []
   },
   "outputs": [
    {
     "data": {
      "text/plain": [
       "(1198, 4)"
      ]
     },
     "execution_count": 42,
     "metadata": {},
     "output_type": "execute_result"
    }
   ],
   "source": [
    "## restrict to students with valid treatment status (some students were referred to suso but never got assigned treatment)\n",
    "valid_tx_suso = df_suso.student_id[df_suso.is_treatment.notnull()]\n",
    "\n",
    "suso_exactandfuzzy_validtx = suso_exactandfuzzy[\n",
    "    suso_exactandfuzzy.suso_id.isin(valid_tx_suso)\n",
    "].copy()\n",
    "suso_exactandfuzzy_validtx.shape"
   ]
  },
  {
   "cell_type": "code",
   "execution_count": 43,
   "id": "08e3056d",
   "metadata": {
    "execution": {
     "iopub.execute_input": "2021-10-07T00:56:38.822153Z",
     "iopub.status.busy": "2021-10-07T00:56:38.821388Z",
     "iopub.status.idle": "2021-10-07T00:56:38.824241Z",
     "shell.execute_reply": "2021-10-07T00:56:38.824700Z"
    },
    "papermill": {
     "duration": 0.048373,
     "end_time": "2021-10-07T00:56:38.824888",
     "exception": false,
     "start_time": "2021-10-07T00:56:38.776515",
     "status": "completed"
    },
    "tags": []
   },
   "outputs": [
    {
     "name": "stdout",
     "output_type": "stream",
     "text": [
      "Able to merge 1323 referred students after 1) exact match, and 2) fuzzy match with high threshold\n",
      "This represents 92.80000000000001 percent of those referred\n",
      "Able to merge 1198 students w/ valid tx status after 1) exact match, and 2) fuzzy match with high threshold\n",
      "This represents 94.0 percent of those with valid tx status\n"
     ]
    }
   ],
   "source": [
    "print(\n",
    "    \"Able to merge \"\n",
    "    + str(suso_exactandfuzzy.shape[0])\n",
    "    + \" referred students after 1) exact match, and 2) fuzzy match with high threshold\"\n",
    ")\n",
    "print(\n",
    "    \"This represents \"\n",
    "    + str(round(suso_exactandfuzzy.shape[0] / len(unique_suso_namedob), 3) * 100)\n",
    "    + \" percent of those referred\"\n",
    ")\n",
    "\n",
    "print(\n",
    "    \"Able to merge \"\n",
    "    + str(suso_exactandfuzzy_validtx.shape[0])\n",
    "    + \" students w/ valid tx status after 1) exact match, and 2) fuzzy match with high threshold\"\n",
    ")\n",
    "print(\n",
    "    \"This represents \"\n",
    "    + str(round(suso_exactandfuzzy_validtx.shape[0] / len(valid_tx_suso), 3) * 100)\n",
    "    + \" percent of those with valid tx status\"\n",
    ")"
   ]
  },
  {
   "cell_type": "code",
   "execution_count": 44,
   "id": "6c2ca4df",
   "metadata": {
    "execution": {
     "iopub.execute_input": "2021-10-07T00:56:38.902151Z",
     "iopub.status.busy": "2021-10-07T00:56:38.901522Z",
     "iopub.status.idle": "2021-10-07T00:56:38.903752Z",
     "shell.execute_reply": "2021-10-07T00:56:38.904167Z"
    },
    "papermill": {
     "duration": 0.041815,
     "end_time": "2021-10-07T00:56:38.904355",
     "exception": false,
     "start_time": "2021-10-07T00:56:38.862540",
     "status": "completed"
    },
    "tags": []
   },
   "outputs": [],
   "source": [
    "## write those referred to suso\n",
    "suso_exactandfuzzy.to_pickle(\n",
    "    DATA_DIR / \"suso_osse_lookup.pkl\", protocol=PICKLE_PROTOCOL\n",
    ")"
   ]
  }
 ],
 "metadata": {
  "kernelspec": {
   "display_name": "Python 3 (ipykernel)",
   "language": "python",
   "name": "python3"
  },
  "language_info": {
   "codemirror_mode": {
    "name": "ipython",
    "version": 3
   },
   "file_extension": ".py",
   "mimetype": "text/x-python",
   "name": "python",
   "nbconvert_exporter": "python",
   "pygments_lexer": "ipython3",
   "version": "3.8.6"
  },
  "papermill": {
   "default_parameters": {},
   "duration": 33.86081,
   "end_time": "2021-10-07T00:56:39.551820",
   "environment_variables": {},
   "exception": null,
   "input_path": "src/notebooks/100_pull_and_clean_data/020_createlookuptable_suso_osse.ipynb",
   "output_path": "output/100_pull_and_clean_data/020_createlookuptable_suso_osse.ipynb",
   "parameters": {},
   "start_time": "2021-10-07T00:56:05.691010",
   "version": "2.3.3"
  }
 },
 "nbformat": 4,
 "nbformat_minor": 5
}