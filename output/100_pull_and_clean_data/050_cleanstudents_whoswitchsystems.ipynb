{
 "cells": [
  {
   "cell_type": "markdown",
   "id": "25196413",
   "metadata": {
    "papermill": {
     "duration": 0.010006,
     "end_time": "2021-10-07T01:05:19.645574",
     "exception": false,
     "start_time": "2021-10-07T01:05:19.635568",
     "status": "completed"
    },
    "tags": []
   },
   "source": [
    "# More data cleaning for present school year: cleaning up outcomes for students who switch school systems\n",
    "\n",
    "SQL script 3 separately tallies absences with the DCPS and PCS tables, which are too large to easily be combined when they contain all students\n",
    "\n",
    "In turn, there are different types of student migration between schools:\n",
    "\n",
    "1. A student migrates to a school within DCPS or within PCS-- e.g., the student attends one charter school and then switches to another\n",
    "2. A student who migrates between the DCPS system and the PCS system\n",
    "\n",
    "The SQL script handles (1) fine-- attendances are aggregated by ID so switching is not a problem. For students in group (2), the present script identifies those students and makes sure that their absence tally does not restart when they switch between a school system."
   ]
  },
  {
   "cell_type": "code",
   "execution_count": 1,
   "id": "4337067d",
   "metadata": {
    "execution": {
     "iopub.execute_input": "2021-10-07T01:05:19.670923Z",
     "iopub.status.busy": "2021-10-07T01:05:19.670257Z",
     "iopub.status.idle": "2021-10-07T01:05:20.037785Z",
     "shell.execute_reply": "2021-10-07T01:05:20.038235Z"
    },
    "papermill": {
     "duration": 0.385137,
     "end_time": "2021-10-07T01:05:20.038503",
     "exception": false,
     "start_time": "2021-10-07T01:05:19.653366",
     "status": "completed"
    },
    "tags": []
   },
   "outputs": [],
   "source": [
    "from pathlib import Path\n",
    "\n",
    "import numpy as np\n",
    "import pandas as pd\n",
    "from IPython.core.interactiveshell import InteractiveShell\n",
    "\n",
    "from suso.utils import here\n",
    "\n",
    "InteractiveShell.ast_node_interactivity = \"all\"\n",
    "pd.set_option(\"display.max_columns\", None)  # or 1000\n",
    "pd.set_option(\"display.max_rows\", None)  # or 1000\n",
    "pd.set_option(\"display.max_colwidth\", None)"
   ]
  },
  {
   "cell_type": "code",
   "execution_count": 2,
   "id": "c33b448d",
   "metadata": {
    "execution": {
     "iopub.execute_input": "2021-10-07T01:05:20.061529Z",
     "iopub.status.busy": "2021-10-07T01:05:20.060743Z",
     "iopub.status.idle": "2021-10-07T01:05:20.062893Z",
     "shell.execute_reply": "2021-10-07T01:05:20.063448Z"
    },
    "papermill": {
     "duration": 0.016812,
     "end_time": "2021-10-07T01:05:20.063659",
     "exception": false,
     "start_time": "2021-10-07T01:05:20.046847",
     "status": "completed"
    },
    "tags": []
   },
   "outputs": [],
   "source": [
    "DATA_DIR = here(\"data\")"
   ]
  },
  {
   "cell_type": "markdown",
   "id": "c732121f",
   "metadata": {
    "papermill": {
     "duration": 0.008123,
     "end_time": "2021-10-07T01:05:20.080101",
     "exception": false,
     "start_time": "2021-10-07T01:05:20.071978",
     "status": "completed"
    },
    "tags": []
   },
   "source": [
    "# 1: Remaining data cleaning"
   ]
  },
  {
   "cell_type": "markdown",
   "id": "a0c46cd5",
   "metadata": {
    "papermill": {
     "duration": 0.008214,
     "end_time": "2021-10-07T01:05:20.096350",
     "exception": false,
     "start_time": "2021-10-07T01:05:20.088136",
     "status": "completed"
    },
    "tags": []
   },
   "source": [
    "## 1.1: initialize db connection and load SUSO data/attendance outcomes"
   ]
  },
  {
   "cell_type": "code",
   "execution_count": 3,
   "id": "88e80cf4",
   "metadata": {
    "execution": {
     "iopub.execute_input": "2021-10-07T01:05:20.116113Z",
     "iopub.status.busy": "2021-10-07T01:05:20.115313Z",
     "iopub.status.idle": "2021-10-07T01:05:20.210509Z",
     "shell.execute_reply": "2021-10-07T01:05:20.211192Z"
    },
    "papermill": {
     "duration": 0.107065,
     "end_time": "2021-10-07T01:05:20.211411",
     "exception": false,
     "start_time": "2021-10-07T01:05:20.104346",
     "status": "completed"
    },
    "tags": []
   },
   "outputs": [],
   "source": [
    "public_attendance = pd.read_parquet(\n",
    "    DATA_DIR / \"dcps_sy1718_attendanceoutcomes_suso.parquet\"\n",
    ")"
   ]
  },
  {
   "cell_type": "code",
   "execution_count": 4,
   "id": "be4aba52",
   "metadata": {
    "execution": {
     "iopub.execute_input": "2021-10-07T01:05:20.231295Z",
     "iopub.status.busy": "2021-10-07T01:05:20.230637Z",
     "iopub.status.idle": "2021-10-07T01:05:20.251390Z",
     "shell.execute_reply": "2021-10-07T01:05:20.251847Z"
    },
    "papermill": {
     "duration": 0.032939,
     "end_time": "2021-10-07T01:05:20.252045",
     "exception": false,
     "start_time": "2021-10-07T01:05:20.219106",
     "status": "completed"
    },
    "tags": []
   },
   "outputs": [],
   "source": [
    "charter_attendance = pd.read_parquet(\n",
    "    DATA_DIR / \"charter_sy1718_attendanceoutcomes_suso.parquet\"\n",
    ")"
   ]
  },
  {
   "cell_type": "code",
   "execution_count": 5,
   "id": "783e4ffe",
   "metadata": {
    "execution": {
     "iopub.execute_input": "2021-10-07T01:05:20.272953Z",
     "iopub.status.busy": "2021-10-07T01:05:20.272221Z",
     "iopub.status.idle": "2021-10-07T01:05:20.277650Z",
     "shell.execute_reply": "2021-10-07T01:05:20.278539Z"
    },
    "papermill": {
     "duration": 0.017818,
     "end_time": "2021-10-07T01:05:20.278726",
     "exception": false,
     "start_time": "2021-10-07T01:05:20.260908",
     "status": "completed"
    },
    "tags": []
   },
   "outputs": [],
   "source": [
    "## add indicators and write to pickle\n",
    "public_attendance[\"type_school\"] = \"DCPS\"\n",
    "charter_attendance[\"type_school\"] = \"PCS\""
   ]
  },
  {
   "cell_type": "markdown",
   "id": "378cc088",
   "metadata": {
    "papermill": {
     "duration": 0.00788,
     "end_time": "2021-10-07T01:05:20.294053",
     "exception": false,
     "start_time": "2021-10-07T01:05:20.286173",
     "status": "completed"
    },
    "tags": []
   },
   "source": [
    "## 1.2: create lookup table for students who switch between DCPS and charter\n",
    "\n",
    "Because the cumulative sums in SQL were done separately for DCPS and public charter schools (because they use separate attendance codes and due to data size), students who switch between school systems have their absence clocks restarted in the new system (this came up as well in Clarice's analysis)\n",
    "\n",
    "Here, I find those students and write lookup table to reconstruct outcomes "
   ]
  },
  {
   "cell_type": "code",
   "execution_count": 6,
   "id": "15e140cb",
   "metadata": {
    "execution": {
     "iopub.execute_input": "2021-10-07T01:05:20.361904Z",
     "iopub.status.busy": "2021-10-07T01:05:20.361014Z",
     "iopub.status.idle": "2021-10-07T01:05:20.363893Z",
     "shell.execute_reply": "2021-10-07T01:05:20.364298Z"
    },
    "papermill": {
     "duration": 0.062674,
     "end_time": "2021-10-07T01:05:20.364476",
     "exception": false,
     "start_time": "2021-10-07T01:05:20.301802",
     "status": "completed"
    },
    "tags": []
   },
   "outputs": [
    {
     "name": "stdout",
     "output_type": "stream",
     "text": [
      "48 students present in both dcps and pcs over the course of\n",
      "the 2017-2018 school year\n"
     ]
    }
   ],
   "source": [
    "## find students whose usi is present in both public and charter\n",
    "usi_both = set(public_attendance.usi).intersection(set(charter_attendance.usi))\n",
    "print(\n",
    "    str(len(usi_both))\n",
    "    + \" students present in both dcps and pcs over the course of\\nthe 2017-2018 school year\"\n",
    ")"
   ]
  },
  {
   "cell_type": "code",
   "execution_count": 7,
   "id": "3c1fe45b",
   "metadata": {
    "execution": {
     "iopub.execute_input": "2021-10-07T01:05:20.384741Z",
     "iopub.status.busy": "2021-10-07T01:05:20.384009Z",
     "iopub.status.idle": "2021-10-07T01:05:20.460898Z",
     "shell.execute_reply": "2021-10-07T01:05:20.461505Z"
    },
    "papermill": {
     "duration": 0.08924,
     "end_time": "2021-10-07T01:05:20.461729",
     "exception": false,
     "start_time": "2021-10-07T01:05:20.372489",
     "status": "completed"
    },
    "tags": []
   },
   "outputs": [],
   "source": [
    "attendance_both_clean = pd.read_parquet(DATA_DIR / \"attendance_both_clean.parquet\")"
   ]
  },
  {
   "cell_type": "markdown",
   "id": "e62ef0a9",
   "metadata": {
    "papermill": {
     "duration": 0.008756,
     "end_time": "2021-10-07T01:05:20.479278",
     "exception": false,
     "start_time": "2021-10-07T01:05:20.470522",
     "status": "completed"
    },
    "tags": []
   },
   "source": [
    "## 1.4: Sanity checks"
   ]
  },
  {
   "cell_type": "markdown",
   "id": "c8cf1948",
   "metadata": {
    "papermill": {
     "duration": 0.012155,
     "end_time": "2021-10-07T01:05:20.499779",
     "exception": false,
     "start_time": "2021-10-07T01:05:20.487624",
     "status": "completed"
    },
    "tags": []
   },
   "source": [
    "### Sanity check one: how many school days are students observed for?\n",
    "\n",
    "Should ideally be close to 180 for students"
   ]
  },
  {
   "cell_type": "code",
   "execution_count": 8,
   "id": "7aa0355e",
   "metadata": {
    "execution": {
     "iopub.execute_input": "2021-10-07T01:05:20.525478Z",
     "iopub.status.busy": "2021-10-07T01:05:20.524757Z",
     "iopub.status.idle": "2021-10-07T01:05:20.542672Z",
     "shell.execute_reply": "2021-10-07T01:05:20.543242Z"
    },
    "papermill": {
     "duration": 0.034047,
     "end_time": "2021-10-07T01:05:20.543563",
     "exception": false,
     "start_time": "2021-10-07T01:05:20.509516",
     "status": "completed"
    },
    "tags": []
   },
   "outputs": [
    {
     "name": "stdout",
     "output_type": "stream",
     "text": [
      "The mean number of observed school days per student is: 178.41 school days\n",
      "The max number of observed school days per student is: 198 school days\n",
      "The min number of observed school days per student is: 64 school days\n"
     ]
    }
   ],
   "source": [
    "days_perstudent = pd.DataFrame(\n",
    "    attendance_both_clean.groupby(\"usi\").agg({\"total_schooldays\": np.max})\n",
    ").reset_index()\n",
    "print(\n",
    "    \"The mean number of observed school days per student is: \"\n",
    "    + str(round(np.mean(days_perstudent.total_schooldays), 2))\n",
    "    + \" school days\"\n",
    ")\n",
    "print(\n",
    "    \"The max number of observed school days per student is: \"\n",
    "    + str(round(np.max(days_perstudent.total_schooldays), 2))\n",
    "    + \" school days\"\n",
    ")\n",
    "print(\n",
    "    \"The min number of observed school days per student is: \"\n",
    "    + str(round(np.min(days_perstudent.total_schooldays), 2))\n",
    "    + \" school days\"\n",
    ")\n",
    "\n",
    "## see google doc for confirmation that the low count is correct for those\n",
    "## students"
   ]
  },
  {
   "cell_type": "markdown",
   "id": "97ffe246",
   "metadata": {
    "papermill": {
     "duration": 0.009972,
     "end_time": "2021-10-07T01:05:20.566000",
     "exception": false,
     "start_time": "2021-10-07T01:05:20.556028",
     "status": "completed"
    },
    "tags": []
   },
   "source": [
    "### Sanity check two: is the count of unexcused + excused always larger than unexcused only?\n",
    "\n",
    "See below that total unexcused is always either less than or less than/equal to excused"
   ]
  },
  {
   "cell_type": "code",
   "execution_count": 9,
   "id": "d9027b38",
   "metadata": {
    "execution": {
     "iopub.execute_input": "2021-10-07T01:05:20.588957Z",
     "iopub.status.busy": "2021-10-07T01:05:20.588305Z",
     "iopub.status.idle": "2021-10-07T01:05:20.603444Z",
     "shell.execute_reply": "2021-10-07T01:05:20.603883Z"
    },
    "papermill": {
     "duration": 0.028996,
     "end_time": "2021-10-07T01:05:20.604056",
     "exception": false,
     "start_time": "2021-10-07T01:05:20.575060",
     "status": "completed"
    },
    "tags": []
   },
   "outputs": [
    {
     "data": {
      "text/plain": [
       "(array([1]), array([394757]))"
      ]
     },
     "execution_count": 9,
     "metadata": {},
     "output_type": "execute_result"
    }
   ],
   "source": [
    "np.unique(\n",
    "    np.where(\n",
    "        attendance_both_clean.total_unexcused\n",
    "        <= attendance_both_clean.total_excusedorunexcused,\n",
    "        1,\n",
    "        0,\n",
    "    ),\n",
    "    return_counts=True,\n",
    ")"
   ]
  },
  {
   "cell_type": "code",
   "execution_count": null,
   "id": "cfe4e9db",
   "metadata": {
    "papermill": {
     "duration": 0.008762,
     "end_time": "2021-10-07T01:05:20.621521",
     "exception": false,
     "start_time": "2021-10-07T01:05:20.612759",
     "status": "completed"
    },
    "tags": []
   },
   "outputs": [],
   "source": []
  }
 ],
 "metadata": {
  "kernelspec": {
   "display_name": "Python 3 (ipykernel)",
   "language": "python",
   "name": "python3"
  },
  "language_info": {
   "codemirror_mode": {
    "name": "ipython",
    "version": 3
   },
   "file_extension": ".py",
   "mimetype": "text/x-python",
   "name": "python",
   "nbconvert_exporter": "python",
   "pygments_lexer": "ipython3",
   "version": "3.8.6"
  },
  "papermill": {
   "default_parameters": {},
   "duration": 2.761174,
   "end_time": "2021-10-07T01:05:20.843931",
   "environment_variables": {},
   "exception": null,
   "input_path": "src/notebooks/100_pull_and_clean_data/050_cleanstudents_whoswitchsystems.ipynb",
   "output_path": "output/100_pull_and_clean_data/050_cleanstudents_whoswitchsystems.ipynb",
   "parameters": {},
   "start_time": "2021-10-07T01:05:18.082757",
   "version": "2.3.3"
  }
 },
 "nbformat": 4,
 "nbformat_minor": 5
}