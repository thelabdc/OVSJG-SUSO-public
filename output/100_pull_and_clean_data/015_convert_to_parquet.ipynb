{
 "cells": [
  {
   "cell_type": "markdown",
   "id": "bbb1ffda",
   "metadata": {
    "papermill": {
     "duration": 0.007293,
     "end_time": "2021-10-07T00:42:17.015525",
     "exception": false,
     "start_time": "2021-10-07T00:42:17.008232",
     "status": "completed"
    },
    "tags": []
   },
   "source": [
    "## Convert CSVs to Parquet\n",
    "\n",
    "To make working with files locally easier, convert all the files we received from OSSE to a parquet format."
   ]
  },
  {
   "cell_type": "code",
   "execution_count": 1,
   "id": "3c147917",
   "metadata": {
    "execution": {
     "iopub.execute_input": "2021-10-07T00:42:17.044395Z",
     "iopub.status.busy": "2021-10-07T00:42:17.043112Z",
     "iopub.status.idle": "2021-10-07T00:42:19.466692Z",
     "shell.execute_reply": "2021-10-07T00:42:19.467175Z"
    },
    "papermill": {
     "duration": 2.444618,
     "end_time": "2021-10-07T00:42:19.467443",
     "exception": false,
     "start_time": "2021-10-07T00:42:17.022825",
     "status": "completed"
    },
    "tags": []
   },
   "outputs": [],
   "source": [
    "from pathlib import Path\n",
    "\n",
    "import pandas as pd\n",
    "\n",
    "from suso.utils import here"
   ]
  },
  {
   "cell_type": "code",
   "execution_count": 2,
   "id": "e41c0166",
   "metadata": {
    "execution": {
     "iopub.execute_input": "2021-10-07T00:42:19.486277Z",
     "iopub.status.busy": "2021-10-07T00:42:19.484986Z",
     "iopub.status.idle": "2021-10-07T00:42:19.487908Z",
     "shell.execute_reply": "2021-10-07T00:42:19.488658Z"
    },
    "papermill": {
     "duration": 0.015643,
     "end_time": "2021-10-07T00:42:19.488987",
     "exception": false,
     "start_time": "2021-10-07T00:42:19.473344",
     "status": "completed"
    },
    "tags": []
   },
   "outputs": [],
   "source": [
    "DATA_DIR = here(\"data\")"
   ]
  },
  {
   "cell_type": "code",
   "execution_count": 3,
   "id": "6d23531e",
   "metadata": {
    "execution": {
     "iopub.execute_input": "2021-10-07T00:42:19.518287Z",
     "iopub.status.busy": "2021-10-07T00:42:19.517450Z",
     "iopub.status.idle": "2021-10-07T00:42:19.519576Z",
     "shell.execute_reply": "2021-10-07T00:42:19.520041Z"
    },
    "papermill": {
     "duration": 0.020535,
     "end_time": "2021-10-07T00:42:19.520281",
     "exception": false,
     "start_time": "2021-10-07T00:42:19.499746",
     "status": "completed"
    },
    "tags": []
   },
   "outputs": [],
   "source": [
    "def read_attendance_data(path: Path) -> pd.DataFrame:\n",
    "    df = pd.read_csv(path, encoding=\"latin1\")\n",
    "\n",
    "    # Standardize column names\n",
    "    df.rename(\n",
    "        columns={\n",
    "            \"homeless_indicator\": \"HomelessIndicatorOSSE\",\n",
    "            \"at_risk_indicator\": \"AtRiskIndicator\",\n",
    "            \"overage_indicator\": \"OverageIndicator\",\n",
    "            \"Withdrawal_date\": \"fixed_withdrawal_date\",\n",
    "            \"farms\": \"FarmsStatusSISdesc\",\n",
    "            \"local_id\": \"StudentLocalID\",\n",
    "            \"grade\": \"GradeLevel\",\n",
    "            \"race_ethnicity\": \"race\",\n",
    "            \"schoolcode\": \"Enr_SchoolID\",\n",
    "            \"schoolname\": \"Enr_SchoolName\",\n",
    "            \"Attendance StatusCode Description\": \"Attendance_Status_Desc\",\n",
    "            \"school_cep_status\": \"School_CEP_Status\",\n",
    "            \"economically_disadvantaged\": \"Economically_Disadvantaged\",\n",
    "            \"english_learner\": \"LEPIndicator\",\n",
    "        },\n",
    "        inplace=True,\n",
    "    )\n",
    "\n",
    "    # Drop unused columns\n",
    "    for col in [\"SISID\"]:\n",
    "        if col in df.columns:\n",
    "            df.drop(columns=col, inplace=True)\n",
    "\n",
    "    # Convert booleans\n",
    "    for col in [\n",
    "        \"HomelessIndicatorOSSE\",\n",
    "        \"AtRiskIndicator\",\n",
    "        \"OverageIndicator\",\n",
    "        \"LEPIndicator\",\n",
    "        \"Economically_Disadvantaged\",\n",
    "        \"School_CEP_Status\",\n",
    "    ]:\n",
    "        if col in df.columns:\n",
    "            # Some columns only available in one year or the other\n",
    "            df[col] = df[col].fillna(\"NO\")\n",
    "            df[col] = df[col].str.strip().str.upper() == \"YES\"\n",
    "\n",
    "    # Subset to relevant grades\n",
    "    df = df[~df[\"GradeLevel\"].isin([\"09\", \"10\", \"11\", \"12]\"])]\n",
    "\n",
    "    # Convert dates\n",
    "    df[\"AttendanceDate\"] = pd.to_datetime(df[\"AttendanceDate\"])\n",
    "    df[\"enroll_date\"] = pd.to_datetime(df[\"enroll_date\"])\n",
    "    df[\"fixed_withdrawal_date\"] = pd.to_datetime(df[\"fixed_withdrawal_date\"])\n",
    "\n",
    "    # StudentLocalID should be treated as a string due to Charter School ids\n",
    "    df[\"StudentLocalID\"] = df[\"StudentLocalID\"].astype(str)\n",
    "\n",
    "    return df"
   ]
  },
  {
   "cell_type": "code",
   "execution_count": 4,
   "id": "3af61581",
   "metadata": {
    "execution": {
     "iopub.execute_input": "2021-10-07T00:42:19.537956Z",
     "iopub.status.busy": "2021-10-07T00:42:19.536924Z",
     "iopub.status.idle": "2021-10-07T00:45:26.669863Z",
     "shell.execute_reply": "2021-10-07T00:45:26.671873Z"
    },
    "papermill": {
     "duration": 187.148461,
     "end_time": "2021-10-07T00:45:26.674147",
     "exception": false,
     "start_time": "2021-10-07T00:42:19.525686",
     "status": "completed"
    },
    "tags": []
   },
   "outputs": [],
   "source": [
    "df = read_attendance_data(DATA_DIR / \"SY1718_DCPS_Attendance_Data_cleaned.csv.gz\")\n",
    "df.to_parquet(DATA_DIR / \"SY1718_DCPS_Attendance_Data_cleaned.parquet\")"
   ]
  },
  {
   "cell_type": "code",
   "execution_count": 5,
   "id": "ef4ebb09",
   "metadata": {
    "execution": {
     "iopub.execute_input": "2021-10-07T00:45:26.701910Z",
     "iopub.status.busy": "2021-10-07T00:45:26.699668Z",
     "iopub.status.idle": "2021-10-07T00:48:28.443478Z",
     "shell.execute_reply": "2021-10-07T00:48:28.440473Z"
    },
    "papermill": {
     "duration": 181.761578,
     "end_time": "2021-10-07T00:48:28.444366",
     "exception": false,
     "start_time": "2021-10-07T00:45:26.682788",
     "status": "completed"
    },
    "tags": []
   },
   "outputs": [],
   "source": [
    "df = read_attendance_data(DATA_DIR / \"SY1718_Charter_Sector_Attendance_cleaned.csv.gz\")\n",
    "df.to_parquet(DATA_DIR / \"SY1718_Charter_Sector_Attendance_cleaned.parquet\")"
   ]
  },
  {
   "cell_type": "code",
   "execution_count": 6,
   "id": "c1fb12f7",
   "metadata": {
    "execution": {
     "iopub.execute_input": "2021-10-07T00:48:28.483380Z",
     "iopub.status.busy": "2021-10-07T00:48:28.481981Z",
     "iopub.status.idle": "2021-10-07T00:52:40.733642Z",
     "shell.execute_reply": "2021-10-07T00:52:40.734668Z"
    },
    "papermill": {
     "duration": 252.273503,
     "end_time": "2021-10-07T00:52:40.735707",
     "exception": false,
     "start_time": "2021-10-07T00:48:28.462204",
     "status": "completed"
    },
    "tags": []
   },
   "outputs": [
    {
     "name": "stderr",
     "output_type": "stream",
     "text": [
      "/var/folders/_8/wxdcgmrd7b931622mzvpxn6c0000gq/T/ipykernel_89740/1159118871.py:1: DtypeWarning: Columns (15,17,20) have mixed types.Specify dtype option on import or set low_memory=False.\n",
      "  df = read_attendance_data(DATA_DIR / \"redacted_SY1617_DCPS_Sector_Attendance.csv.gz\")\n"
     ]
    }
   ],
   "source": [
    "df = read_attendance_data(DATA_DIR / \"redacted_SY1617_DCPS_Sector_Attendance.csv.gz\")\n",
    "df.to_parquet(DATA_DIR / \"redacted_SY1617_DCPS_Sector_Attendance.parquet\")"
   ]
  },
  {
   "cell_type": "code",
   "execution_count": 7,
   "id": "28cd3993",
   "metadata": {
    "execution": {
     "iopub.execute_input": "2021-10-07T00:52:40.773775Z",
     "iopub.status.busy": "2021-10-07T00:52:40.772773Z",
     "iopub.status.idle": "2021-10-07T00:56:02.915354Z",
     "shell.execute_reply": "2021-10-07T00:56:02.916356Z"
    },
    "papermill": {
     "duration": 202.160393,
     "end_time": "2021-10-07T00:56:02.917060",
     "exception": false,
     "start_time": "2021-10-07T00:52:40.756667",
     "status": "completed"
    },
    "tags": []
   },
   "outputs": [
    {
     "name": "stderr",
     "output_type": "stream",
     "text": [
      "/var/folders/_8/wxdcgmrd7b931622mzvpxn6c0000gq/T/ipykernel_89740/3707154019.py:1: DtypeWarning: Columns (3,19) have mixed types.Specify dtype option on import or set low_memory=False.\n",
      "  df = read_attendance_data(DATA_DIR / \"redacted_SY1617_Charter_Sector_Attendance.csv.gz\")\n"
     ]
    }
   ],
   "source": [
    "df = read_attendance_data(DATA_DIR / \"redacted_SY1617_Charter_Sector_Attendance.csv.gz\")\n",
    "df.to_parquet(DATA_DIR / \"redacted_SY1617_Charter_Sector_Attendance.parquet\")"
   ]
  },
  {
   "cell_type": "code",
   "execution_count": null,
   "id": "b075772f",
   "metadata": {
    "papermill": {
     "duration": 0.009547,
     "end_time": "2021-10-07T00:56:02.939628",
     "exception": false,
     "start_time": "2021-10-07T00:56:02.930081",
     "status": "completed"
    },
    "tags": []
   },
   "outputs": [],
   "source": []
  }
 ],
 "metadata": {
  "kernelspec": {
   "display_name": "Python 3 (ipykernel)",
   "language": "python",
   "name": "python3"
  },
  "language_info": {
   "codemirror_mode": {
    "name": "ipython",
    "version": 3
   },
   "file_extension": ".py",
   "mimetype": "text/x-python",
   "name": "python",
   "nbconvert_exporter": "python",
   "pygments_lexer": "ipython3",
   "version": "3.8.6"
  },
  "papermill": {
   "default_parameters": {},
   "duration": 829.314728,
   "end_time": "2021-10-07T00:56:04.439174",
   "environment_variables": {},
   "exception": null,
   "input_path": "src/notebooks/100_pull_and_clean_data/015_convert_to_parquet.ipynb",
   "output_path": "output/100_pull_and_clean_data/015_convert_to_parquet.ipynb",
   "parameters": {},
   "start_time": "2021-10-07T00:42:15.124446",
   "version": "2.3.3"
  }
 },
 "nbformat": 4,
 "nbformat_minor": 5
}